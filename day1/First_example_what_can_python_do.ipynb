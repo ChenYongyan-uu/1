{
 "cells": [
  {
   "cell_type": "code",
   "execution_count": null,
   "metadata": {},
   "outputs": [],
   "source": [
    "# First import the modules needed to run the Python scripts below\n",
    "# ctrl-enter\n",
    "import dna_counts as my\n",
    "import matplotlib.pyplot as plt\n",
    "%matplotlib inline\n",
    "\n",
    "my.dna_counts(the_file_name = \"DNA_sequences.txt\",your_name = \"Great One\")"
   ]
  },
  {
   "cell_type": "code",
   "execution_count": null,
   "metadata": {},
   "outputs": [],
   "source": [
    "# we want the data in the file \"DNA_sequences.txt\" to be available so we can use it\n",
    "\n",
    "# First we let Python know where the file is.\n",
    "dna_file = open(\"DNA_sequences.txt\",\"r\")"
   ]
  },
  {
   "cell_type": "code",
   "execution_count": null,
   "metadata": {},
   "outputs": [],
   "source": [
    "# Now we need to teel Python to read from the file\n",
    "\n",
    "for line in dna_file: # starts a for loop that exceutes the following commands for each line in dna_file\n",
    "    print(line)       # Print the contencs of variable Line \n",
    "dna_file.close()      # good practice to close the file after using it"
   ]
  },
  {
   "cell_type": "code",
   "execution_count": null,
   "metadata": {},
   "outputs": [],
   "source": [
    "# Python has read all the lines in the file and printed them for us.\n",
    "\n",
    "# However!!!\n",
    "# It has not remembered (stored) the sequences\n",
    "\n",
    "# So we need a something to keep or dna sequences in\n",
    "\n",
    "# Let's add something to the loop\n",
    "dna_file = open(\"DNA_sequences.txt\",\"r\")\n",
    "\n",
    "dna_data = [] # A list to store the sequences, called dna_data\n",
    "for line in dna_file: # starts a for loop that exceutes the following commands for each line in dna_file\n",
    "    print(line)       # Print the contencs of variable Line \n",
    "    dna_data += [line] # adds the content of variable line to the list dna_data\n",
    "    \n",
    "dna_file.close()      \n"
   ]
  },
  {
   "cell_type": "code",
   "execution_count": null,
   "metadata": {},
   "outputs": [],
   "source": [
    "# lets see if Python has remembered/stored the sequences for us\n",
    "\n",
    "print(dna_data)\n"
   ]
  },
  {
   "cell_type": "code",
   "execution_count": null,
   "metadata": {},
   "outputs": [],
   "source": [
    "# as you can see the sequences are now in list dna_data\n",
    "\n",
    "# we see however a few character that do not belong there --> the \\n\n",
    "\n",
    "# \\n is the end line character which we can remove by useing the following command .rstrip()\n",
    "\n",
    "dna_file = open(\"DNA_sequences.txt\",\"r\")\n",
    "\n",
    "dna_data = [] # A list to store the sequences, called dna_data\n",
    "for line in dna_file: # starts a for loop that exceutes the following commands for each line in dna_file\n",
    "    line = line.rstrip() # removes the end line character \"\\n\"\n",
    "    dna_data += [line] # adds the content of variable line to the list dna_data\n",
    "    \n",
    "dna_file.close()      \n",
    "\n",
    "print(dna_data)\n"
   ]
  },
  {
   "cell_type": "code",
   "execution_count": null,
   "metadata": {},
   "outputs": [],
   "source": [
    "# Now we can do something with the stored sequences\n",
    "\n",
    "## count the no of sequences in the file\n",
    "no_of_sequences = len(dna_data)   # get the length of the dna_data list, which is th eno of sequences\n",
    "print(\"There are \" + str(no_of_sequences) + \" in this file\") # print the no. of sequences \n",
    "\n",
    "## get the length of each sequence\n",
    "bp_count = []      ## make a variable to store the counted \n",
    "for xyz in dna_data: # start a loop so the length of each sequence can be deterimined\n",
    "    bp_count += [len(xyz)] ## add the length of the sequence to the bp_count list\n",
    "    \n",
    "print(\"The average length is \" + str(sum(bp_count)/no_of_sequences) + \" basepairs\")\n",
    "print(\"The longest sequence is \" + str(max(bp_count)) + \" basepairs\")\n",
    "print(\"The shortest sequence is \" + str(min(bp_count)) + \" basepairs\")\n"
   ]
  },
  {
   "cell_type": "code",
   "execution_count": null,
   "metadata": {},
   "outputs": [],
   "source": [
    "## we can do more than just print output, let's make a figure of the nucleotide usage of the sequences\n",
    "import matplotlib.pyplot as plt  # import the  module matplotlib\n",
    "\n",
    "nuc_count = []\n",
    "for xyz in dna_data:\n",
    "    nuc = {\"a\":xyz.count(\"a\"),\"t\":xyz.count(\"t\"),\"c\":xyz.count(\"c\"),\"g\":xyz.count(\"g\")}\n",
    "    nuc_count += [nuc]\n",
    "    \n",
    "print(nuc_count)\n",
    "x0 = [1.0,2.0,3.0,4.0]\n",
    "gene0 = nuc_count[0].values()\n",
    "plt.bar( x0,gene0 ,width=.25)\n",
    "\n",
    "x1 = [1.25,2.25,3.25,4.25]\n",
    "gene1 = nuc_count[1].values()\n",
    "plt.bar(x1, gene1,width=.25)\n",
    "\n",
    "x2 = [1.5,2.5,3.5,4.5]\n",
    "gene2 = nuc_count[2].values()\n",
    "plt.bar(x2,gene2,width=.25)\n",
    "\n",
    "plt.xticks(x1 , ('a', 't', 'c', 'g'))\n",
    "\n",
    "plt.ylabel('Nucleotide count')\n",
    "plt.title('Nucleotide per sequence')\n",
    "plt.legend(labels = [\"gene1\",\"gene2\",\"gene3\"],loc='best')\n"
   ]
  },
  {
   "cell_type": "code",
   "execution_count": null,
   "metadata": {},
   "outputs": [],
   "source": [
    "## now we can store our collection of scripts in a function for easy use and re-use.\n",
    "\n",
    "def dna_counts(the_file_name, your_name = \"user\"):\n",
    "    dna_file = open(the_file_name,\"r\")\n",
    "\n",
    "    dna_data = [] \n",
    "    for line in dna_file: \n",
    "        line = line.rstrip() \n",
    "        dna_data += [line]\n",
    "        \n",
    "    dna_file.close()      \n",
    "    \n",
    "    print(\"Hello \" + your_name)\n",
    "    \n",
    "    no_of_sequences = len(dna_data)   \n",
    "    print(\"There are \" + str(no_of_sequences) + \" in this file\")  \n",
    "\n",
    "    bp_count = []      \n",
    "    for xyz in dna_data: \n",
    "        bp_count += [len(xyz)] \n",
    "\n",
    "    print(\"The average length is \" + str(sum(bp_count)/no_of_sequences) + \" basepairs\")\n",
    "    print(\"The longest sequence is \" + str(max(bp_count)) + \" basepairs\")\n",
    "    print(\"The shortest sequence is \" + str(min(bp_count)) + \" basepairs\")    \n",
    "    \n",
    "    import matplotlib.pyplot as plt\n",
    "\n",
    "    nuc_count = []\n",
    "    for xyz in dna_data:\n",
    "        nuc = {\"a\":xyz.count(\"a\"),\"t\":xyz.count(\"t\"),\"c\":xyz.count(\"c\"),\"g\":xyz.count(\"g\")}\n",
    "        nuc_count += [nuc]\n",
    "\n",
    "    print(nuc_count)\n",
    "    x0 = [1.0,2.0,3.0,4.0]\n",
    "    gene0 = nuc_count[0].values()\n",
    "    plt.bar( x0,gene0 ,width=.25)\n",
    "\n",
    "    x1 = [1.25,2.25,3.25,4.25]\n",
    "    gene1 = nuc_count[1].values()\n",
    "    plt.bar(x1, gene1,width=.25)\n",
    "\n",
    "    x2 = [1.5,2.5,3.5,4.5]\n",
    "    gene2 = nuc_count[2].values()\n",
    "    plt.bar(x2,gene2,width=.25)\n",
    "\n",
    "    plt.xticks(x1 , ('a', 't', 'c', 'g'))\n",
    "\n",
    "    plt.ylabel('Nucleotide count')\n",
    "    plt.title('Nucleotide per sequence')\n",
    "    plt.legend(labels = [\"gene1\",\"gene2\",\"gene3\"],loc='best')   \n",
    "        "
   ]
  },
  {
   "cell_type": "code",
   "execution_count": null,
   "metadata": {},
   "outputs": [],
   "source": [
    "dna_counts(\"DNA_sequences.txt\",\"Great One\")"
   ]
  }
 ],
 "metadata": {
  "kernelspec": {
   "display_name": "Python 3",
   "language": "python",
   "name": "python3"
  },
  "language_info": {
   "codemirror_mode": {
    "name": "ipython",
    "version": 3
   },
   "file_extension": ".py",
   "mimetype": "text/x-python",
   "name": "python",
   "nbconvert_exporter": "python",
   "pygments_lexer": "ipython3",
   "version": "3.7.3"
  }
 },
 "nbformat": 4,
 "nbformat_minor": 2
}
