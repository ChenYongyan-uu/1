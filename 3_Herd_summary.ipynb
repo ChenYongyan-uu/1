{
  "nbformat": 4,
  "nbformat_minor": 0,
  "metadata": {
    "colab": {
      "name": "3. Herd summary.ipynb",
      "provenance": [],
      "collapsed_sections": [],
      "authorship_tag": "ABX9TyPVIp3Kh/lg9beuX9bI+Ngh",
      "include_colab_link": true
    },
    "kernelspec": {
      "name": "python3",
      "display_name": "Python 3"
    },
    "language_info": {
      "name": "python"
    }
  },
  "cells": [
    {
      "cell_type": "markdown",
      "metadata": {
        "id": "view-in-github",
        "colab_type": "text"
      },
      "source": [
        "<a href=\"https://colab.research.google.com/github/ChenYongyan-uu/1/blob/master/3_Herd_summary.ipynb\" target=\"_parent\"><img src=\"https://colab.research.google.com/assets/colab-badge.svg\" alt=\"Open In Colab\"/></a>"
      ]
    },
    {
      "cell_type": "markdown",
      "metadata": {
        "id": "up2G8zDbhsEN"
      },
      "source": [
        "# Preparation"
      ]
    },
    {
      "cell_type": "code",
      "metadata": {
        "id": "z_TdENL02G2-",
        "colab": {
          "base_uri": "https://localhost:8080/"
        },
        "outputId": "112a68fa-f980-4197-f984-22e402cfdee7"
      },
      "source": [
        "from google.colab import drive \n",
        "drive.mount('/content/gdrive') "
      ],
      "execution_count": null,
      "outputs": [
        {
          "output_type": "stream",
          "name": "stdout",
          "text": [
            "Mounted at /content/gdrive\n"
          ]
        }
      ]
    },
    {
      "cell_type": "code",
      "source": [
        "!apt-get update"
      ],
      "metadata": {
        "colab": {
          "base_uri": "https://localhost:8080/"
        },
        "id": "b6VU7CcQhcF2",
        "outputId": "68a5cbc8-6377-488e-c9e8-480ed01865f6"
      },
      "execution_count": null,
      "outputs": [
        {
          "output_type": "stream",
          "name": "stdout",
          "text": [
            "\r0% [Working]\r            \rHit:1 http://archive.ubuntu.com/ubuntu bionic InRelease\n",
            "\r0% [Waiting for headers] [Connecting to security.ubuntu.com (91.189.88.142)] [C\r                                                                               \rGet:2 http://archive.ubuntu.com/ubuntu bionic-updates InRelease [88.7 kB]\n",
            "\r                                                                               \rGet:3 http://security.ubuntu.com/ubuntu bionic-security InRelease [88.7 kB]\n",
            "\r                                                                               \rGet:4 http://ppa.launchpad.net/c2d4u.team/c2d4u4.0+/ubuntu bionic InRelease [15.9 kB]\n",
            "\r0% [2 InRelease 47.5 kB/88.7 kB 54%] [3 InRelease 28.6 kB/88.7 kB 32%] [Connect\r0% [1 InRelease gpgv 242 kB] [2 InRelease 47.5 kB/88.7 kB 54%] [3 InRelease 31.\r0% [1 InRelease gpgv 242 kB] [Waiting for headers] [3 InRelease 54.7 kB/88.7 kB\r                                                                               \rHit:5 http://ppa.launchpad.net/cran/libgit2/ubuntu bionic InRelease\n",
            "\r0% [1 InRelease gpgv 242 kB] [Waiting for headers] [3 InRelease 83.7 kB/88.7 kB\r0% [1 InRelease gpgv 242 kB] [Waiting for headers] [Connected to cloud.r-projec\r                                                                               \rGet:6 http://archive.ubuntu.com/ubuntu bionic-backports InRelease [74.6 kB]\n",
            "\r0% [1 InRelease gpgv 242 kB] [6 InRelease 25.8 kB/74.6 kB 35%] [Connected to cl\r0% [1 InRelease gpgv 242 kB] [Waiting for headers] [Waiting for headers] [Waiti\r                                                                               \rGet:7 https://cloud.r-project.org/bin/linux/ubuntu bionic-cran40/ InRelease [3,626 B]\n",
            "\r                                                                               \r0% [1 InRelease gpgv 242 kB] [Waiting for headers] [Waiting for headers]\r                                                                        \rHit:8 http://ppa.launchpad.net/deadsnakes/ppa/ubuntu bionic InRelease\n",
            "Hit:9 http://ppa.launchpad.net/graphics-drivers/ppa/ubuntu bionic InRelease\n",
            "Ign:10 https://developer.download.nvidia.com/compute/cuda/repos/ubuntu1804/x86_64  InRelease\n",
            "Ign:11 https://developer.download.nvidia.com/compute/machine-learning/repos/ubuntu1804/x86_64  InRelease\n",
            "Hit:12 https://developer.download.nvidia.com/compute/cuda/repos/ubuntu1804/x86_64  Release\n",
            "Hit:13 https://developer.download.nvidia.com/compute/machine-learning/repos/ubuntu1804/x86_64  Release\n",
            "Get:14 http://ppa.launchpad.net/c2d4u.team/c2d4u4.0+/ubuntu bionic/main Sources [1,822 kB]\n",
            "Get:15 http://ppa.launchpad.net/c2d4u.team/c2d4u4.0+/ubuntu bionic/main amd64 Packages [934 kB]\n",
            "Get:16 http://archive.ubuntu.com/ubuntu bionic-updates/restricted amd64 Packages [758 kB]\n",
            "Get:17 http://archive.ubuntu.com/ubuntu bionic-updates/main amd64 Packages [2,935 kB]\n",
            "Get:18 http://security.ubuntu.com/ubuntu bionic-security/main amd64 Packages [2,492 kB]\n",
            "Fetched 9,213 kB in 2s (4,391 kB/s)\n",
            "Reading package lists... Done\n"
          ]
        }
      ]
    },
    {
      "cell_type": "code",
      "metadata": {
        "id": "fXmhrWJrSlTa"
      },
      "source": [
        "!apt-get install openjdk-8-jdk-headless -qq > /dev/null\n",
        "!wget -q https://downloads.apache.org/spark/spark-3.2.0/spark-3.2.0-bin-hadoop3.2.tgz\n",
        "!tar xf spark-3.2.0-bin-hadoop3.2.tgz\n",
        "!pip install -q findspark"
      ],
      "execution_count": null,
      "outputs": []
    },
    {
      "cell_type": "code",
      "metadata": {
        "id": "cqsYe1iXSlTa"
      },
      "source": [
        "import os\n",
        "os.environ[\"JAVA_HOME\"] = \"/usr/lib/jvm/java-8-openjdk-amd64\"\n",
        "os.environ[\"SPARK_HOME\"] = \"/content/spark-3.2.0-bin-hadoop3.2\""
      ],
      "execution_count": null,
      "outputs": []
    },
    {
      "cell_type": "code",
      "metadata": {
        "id": "sLgcsWc0QwlT"
      },
      "source": [
        "import findspark\n",
        "findspark.init()\n",
        "from pyspark.sql import SparkSession"
      ],
      "execution_count": null,
      "outputs": []
    },
    {
      "cell_type": "code",
      "metadata": {
        "id": "vTaRa-M0QyMr"
      },
      "source": [
        "spark = SparkSession.builder.master(\"local[*]\").getOrCreate()"
      ],
      "execution_count": null,
      "outputs": []
    },
    {
      "cell_type": "code",
      "metadata": {
        "id": "7jVcbnvoQ40j"
      },
      "source": [
        "from pyspark.sql.types import LongType, StringType, StructField, StructType, BooleanType, ArrayType, IntegerType, DoubleType, FloatType\n",
        "import pyspark\n",
        "from pyspark.sql import functions as F,Window\n",
        "from pyspark.sql.functions import year, col, array, monotonically_increasing_id, to_json, struct, round, datediff,unix_timestamp,udf,avg\n",
        "import json\n",
        "from urllib.request import  urlopen\n",
        "import pyspark.sql.functions as F"
      ],
      "execution_count": null,
      "outputs": []
    },
    {
      "cell_type": "markdown",
      "source": [
        "## Load in fitting result"
      ],
      "metadata": {
        "id": "SRz7gOJeHzvJ"
      }
    },
    {
      "cell_type": "code",
      "metadata": {
        "id": "0_2q2qfbegFc"
      },
      "source": [
        "FittingPerLactationFiltered = spark \\\n",
        "  .read \\\n",
        "  .parquet('/content/gdrive/Shared drives/Bovi-Analytics/Projects/ChenYongYan/Data/Tableau/FittingPerLactationFiltered')"
      ],
      "execution_count": null,
      "outputs": []
    },
    {
      "cell_type": "code",
      "metadata": {
        "colab": {
          "base_uri": "https://localhost:8080/"
        },
        "id": "fOVm-QXRvZV7",
        "outputId": "104bfdc8-4926-4530-a52d-c949767db247"
      },
      "source": [
        "FittingPerLactationFiltered.printSchema()"
      ],
      "execution_count": null,
      "outputs": [
        {
          "output_type": "stream",
          "name": "stdout",
          "text": [
            "root\n",
            " |-- HerdIdentifier: integer (nullable = true)\n",
            " |-- AnimalIdentifier: string (nullable = true)\n",
            " |-- CalvingDate: date (nullable = true)\n",
            " |-- Parity: double (nullable = true)\n",
            " |-- DaysInMilk: double (nullable = true)\n",
            " |-- Points: double (nullable = true)\n",
            " |-- ScaleKg: double (nullable = true)\n",
            " |-- Ramp: double (nullable = true)\n",
            " |-- Offset: double (nullable = true)\n",
            " |-- Decay: double (nullable = true)\n",
            " |-- Persistence: double (nullable = true)\n",
            " |-- StdErrKg: double (nullable = true)\n",
            " |-- M305Kg: double (nullable = true)\n",
            " |-- ParityGroup: string (nullable = true)\n",
            "\n"
          ]
        }
      ]
    },
    {
      "cell_type": "markdown",
      "metadata": {
        "id": "OfrCtewHfJWh"
      },
      "source": [
        "# Herd summary"
      ]
    },
    {
      "cell_type": "markdown",
      "metadata": {
        "id": "MoZfIpAFh5Zs"
      },
      "source": [
        "## CalvingYear"
      ]
    },
    {
      "cell_type": "code",
      "metadata": {
        "id": "oFmKRVWWhwxQ"
      },
      "source": [
        "df1=FittingPerLactationFiltered.withColumn('CalvingYear',year('CalvingDate').cast(IntegerType()))"
      ],
      "execution_count": null,
      "outputs": []
    },
    {
      "cell_type": "code",
      "metadata": {
        "colab": {
          "base_uri": "https://localhost:8080/"
        },
        "id": "sol1vupwiIjA",
        "outputId": "0a3ae0bb-9595-4c01-b6e5-4cce08f00e39"
      },
      "source": [
        "df1.show(2)"
      ],
      "execution_count": null,
      "outputs": [
        {
          "output_type": "stream",
          "name": "stdout",
          "text": [
            "+--------------+----------------+-----------+------+----------+------+-------+----+------+-------+-----------+--------+-------+-----------+-----------+\n",
            "|HerdIdentifier|AnimalIdentifier|CalvingDate|Parity|DaysInMilk|Points|ScaleKg|Ramp|Offset|  Decay|Persistence|StdErrKg| M305Kg|ParityGroup|CalvingYear|\n",
            "+--------------+----------------+-----------+------+----------+------+-------+----+------+-------+-----------+--------+-------+-----------+-----------+\n",
            "|           590|   NL 3233658025| 2008-07-31|   6.0|     377.0|   7.0|  52.76|34.8|   0.0|0.00233|      297.0|     1.9|10644.0|         2+|       2008|\n",
            "|           590|   NL 3514206103| 2006-12-28|   3.0|     476.0|   8.0|  52.58| 8.5|   0.0|0.00219|      316.0|     1.8|11454.0|         2+|       2006|\n",
            "+--------------+----------------+-----------+------+----------+------+-------+----+------+-------+-----------+--------+-------+-----------+-----------+\n",
            "only showing top 2 rows\n",
            "\n"
          ]
        }
      ]
    },
    {
      "cell_type": "code",
      "metadata": {
        "id": "MDkirtvaiPO4"
      },
      "source": [
        "from pyspark.sql.functions import countDistinct, avg\n",
        "\n",
        "df1=df1.groupBy('HerdIdentifier','ParityGroup','CalvingYear').\\\n",
        "  agg(avg('ScaleKg').alias('MeanScaleKg'),\n",
        "  avg('Ramp').alias('MeanRamp'),\n",
        "  avg('Offset').alias('MeanOffset'),\n",
        "  avg('Decay').alias('MeanDecay'),\n",
        "  avg('Persistence').alias('MeanPersistence'),\n",
        "  avg('M305Kg').alias('MeanM305Kg'),\n",
        "  F.expr('percentile(ScaleKg, array(0.5))')[0].alias('MedianScaleKg'),\n",
        "  F.expr('percentile(Ramp,array(0.5))')[0].alias('MedianRamp'),\n",
        "  F.expr('percentile(Offset,array(0.5))')[0].alias('MedianOffset'),\n",
        "  F.expr('percentile(Decay,array(0.5))')[0].alias('MedianDecay'),\n",
        "  F.expr('percentile(Persistence,array(0.5))')[0].alias('MedianPersistence'),\n",
        "  F.expr('percentile(M305Kg,array(0.5))')[0].alias('MedianM305Kg'),\n",
        "  F.count(F.lit(1)).alias(\"NumberOfAnimal\")\n",
        "  )"
      ],
      "execution_count": null,
      "outputs": []
    },
    {
      "cell_type": "code",
      "metadata": {
        "colab": {
          "base_uri": "https://localhost:8080/"
        },
        "id": "fwzZZpIrin9b",
        "outputId": "8668e405-f7ce-4543-e163-245de6b1e52a"
      },
      "source": [
        "df1.count()"
      ],
      "execution_count": null,
      "outputs": [
        {
          "output_type": "execute_result",
          "data": {
            "text/plain": [
              "437741"
            ]
          },
          "metadata": {},
          "execution_count": 33
        }
      ]
    },
    {
      "cell_type": "code",
      "metadata": {
        "id": "vMWsZVmJk5G1"
      },
      "source": [
        "df1.\\\n",
        "  repartition(1).\\\n",
        "  write.\\\n",
        "  parquet(path='/content/gdrive/Shared drives/Bovi-Analytics/Projects/ChenYongYan/Data/Tableau/HerdSummaryIn3Method1203/CalvingYear',mode=\"overwrite\")"
      ],
      "execution_count": null,
      "outputs": []
    },
    {
      "cell_type": "markdown",
      "metadata": {
        "id": "OKG1PUj-rgyw"
      },
      "source": [
        "## EndYear"
      ]
    },
    {
      "cell_type": "code",
      "metadata": {
        "id": "SWeVmSHspazC"
      },
      "source": [
        "FittingPerLactationFiltered=FittingPerLactationFiltered.withColumn('LastDate',F.expr('date_add(CalvingDate,int(DaysInMilk))'))"
      ],
      "execution_count": null,
      "outputs": []
    },
    {
      "cell_type": "code",
      "metadata": {
        "colab": {
          "base_uri": "https://localhost:8080/"
        },
        "id": "P21LYP3KxsJ0",
        "outputId": "d7f010b9-65ae-4247-eadd-4c83f4281dbb"
      },
      "source": [
        "FittingPerLactationFiltered.show(2)"
      ],
      "execution_count": null,
      "outputs": [
        {
          "output_type": "stream",
          "name": "stdout",
          "text": [
            "+--------------+----------------+-----------+------+----------+------+-------+----+------+-------+-----------+--------+-------+-----------+----------+\n",
            "|HerdIdentifier|AnimalIdentifier|CalvingDate|Parity|DaysInMilk|Points|ScaleKg|Ramp|Offset|  Decay|Persistence|StdErrKg| M305Kg|ParityGroup|  LastDate|\n",
            "+--------------+----------------+-----------+------+----------+------+-------+----+------+-------+-----------+--------+-------+-----------+----------+\n",
            "|           590|   NL 3233658025| 2008-07-31|   6.0|     377.0|   7.0|  52.76|34.8|   0.0|0.00233|      297.0|     1.9|10644.0|         2+|2009-08-12|\n",
            "|           590|   NL 3514206103| 2006-12-28|   3.0|     476.0|   8.0|  52.58| 8.5|   0.0|0.00219|      316.0|     1.8|11454.0|         2+|2008-04-17|\n",
            "+--------------+----------------+-----------+------+----------+------+-------+----+------+-------+-----------+--------+-------+-----------+----------+\n",
            "only showing top 2 rows\n",
            "\n"
          ]
        }
      ]
    },
    {
      "cell_type": "code",
      "metadata": {
        "id": "nqKmfFTPsLYJ"
      },
      "source": [
        "df2=FittingPerLactationFiltered.withColumn('EndYear',year('LastDate').cast(IntegerType()))"
      ],
      "execution_count": null,
      "outputs": []
    },
    {
      "cell_type": "code",
      "metadata": {
        "id": "ZvzfTwFLsVx6"
      },
      "source": [
        "from pyspark.sql.functions import countDistinct, avg\n",
        "\n",
        "df2=df2.groupBy('HerdIdentifier','ParityGroup','EndYear').\\\n",
        "  agg(avg('ScaleKg').alias('MeanScaleKg'),\n",
        "  avg('Ramp').alias('MeanRamp'),\n",
        "  avg('Offset').alias('MeanOffset'),\n",
        "  avg('Decay').alias('MeanDecay'),\n",
        "  avg('Persistence').alias('MeanPersistence'),\n",
        "  avg('M305Kg').alias('MeanM305Kg'),\n",
        "  F.expr('percentile(ScaleKg, array(0.5))')[0].alias('MedianScaleKg'),\n",
        "  F.expr('percentile(Ramp,array(0.5))')[0].alias('MedianRamp'),\n",
        "  F.expr('percentile(Offset,array(0.5))')[0].alias('MedianOffset'),\n",
        "  F.expr('percentile(Decay,array(0.5))')[0].alias('MedianDecay'),\n",
        "  F.expr('percentile(Persistence,array(0.5))')[0].alias('MedianPersistence'),\n",
        "  F.expr('percentile(M305Kg,array(0.5))')[0].alias('MedianM305Kg'),\n",
        "  F.count(F.lit(1)).alias(\"NumberOfAnimal\")\n",
        "  )"
      ],
      "execution_count": null,
      "outputs": []
    },
    {
      "cell_type": "code",
      "metadata": {
        "colab": {
          "base_uri": "https://localhost:8080/"
        },
        "id": "7kO2YIOnsoAO",
        "outputId": "aff5c5d4-aeff-4937-a1db-fd166fe274db"
      },
      "source": [
        "df2.count()"
      ],
      "execution_count": null,
      "outputs": [
        {
          "output_type": "execute_result",
          "data": {
            "text/plain": [
              "380309"
            ]
          },
          "metadata": {},
          "execution_count": 16
        }
      ]
    },
    {
      "cell_type": "code",
      "metadata": {
        "id": "kKnXqmXgsoAR"
      },
      "source": [
        "df2.\\\n",
        "  repartition(1).\\\n",
        "  write.\\\n",
        "  parquet(path='/content/gdrive/Shared drives/Bovi-Analytics/Projects/ChenYongYan/Data/Tableau/HerdSummaryIn3Method1203/EndYear',mode=\"overwrite\")"
      ],
      "execution_count": null,
      "outputs": []
    },
    {
      "cell_type": "markdown",
      "metadata": {
        "id": "2Se8Hf3K8jwO"
      },
      "source": [
        "## Weighted mean & median"
      ]
    },
    {
      "cell_type": "markdown",
      "metadata": {
        "id": "GmyRajUIbGc8"
      },
      "source": [
        "### calculate weight\n"
      ]
    },
    {
      "cell_type": "markdown",
      "metadata": {
        "id": "yi0enzI7EMCr"
      },
      "source": [
        "#### load in filtered test-day data"
      ]
    },
    {
      "cell_type": "code",
      "metadata": {
        "id": "EDScM1vfE7Ly"
      },
      "source": [
        "spark_alldata_filtered = spark. \\\n",
        "  read. \\\n",
        "  parquet('/content/gdrive/Shared drives/Bovi-Analytics/Projects/ChenYongYan/Data/spark_alldata_filtered/*') \\"
      ],
      "execution_count": null,
      "outputs": []
    },
    {
      "cell_type": "code",
      "metadata": {
        "id": "Ite8C-6S-oU4",
        "colab": {
          "base_uri": "https://localhost:8080/"
        },
        "outputId": "705a0aeb-3547-4ebd-dbc0-34e9663e11b0"
      },
      "source": [
        "spark_alldata_filtered.show(3)"
      ],
      "execution_count": null,
      "outputs": [
        {
          "output_type": "stream",
          "text": [
            "+----------------+------+-----------+--------------+--------+----------+------------+----------+-----------+-------------+-----------------+--------+----+-----------------+----------------+----------------+-------------+---------+--------------+----------+---------+------------------+---------------+\n",
            "|AnimalIdentifier|Parity|CalvingDate|HerdIdentifier|TestYear| BirthDate|BusinessType|      Date|MilkYieldKg|FatPercentage|ProteinPercentage|     SCC|Urea|LactosePercentage|NumberOfMilkings|StatusProduction|StatusFictive|StatusCow|LactationValue|DaysInMilk|AgeInDays|              FPCM|CalvingInterval|\n",
            "+----------------+------+-----------+--------------+--------+----------+------------+----------+-----------+-------------+-----------------+--------+----+-----------------+----------------+----------------+-------------+---------+--------------+----------+---------+------------------+---------------+\n",
            "|   AT 1796270067|   4.0| 2017-01-01|       9208246|    2017|2011-03-15|         UBN|2017-01-11|       27.1|         3.64|             2.96|111000.0| 0.0|             4.47|             2.0|             1.0|          0.0|      0.0|             0|      10.0|   2129.0|25.388364000000003|           null|\n",
            "|   AT 1796270067|   4.0| 2017-01-01|       9208246|    2017|2011-03-15|         UBN|2017-03-02|       26.9|         3.88|             3.12| 57000.0| 0.0|             4.82|             2.0|             1.0|          0.0|      0.0|            83|      60.0|   2179.0|         26.208132|           null|\n",
            "|   AT 1796270067|   4.0| 2017-01-01|       9208246|    2017|2011-03-15|         UBN|2017-04-07|       22.4|         4.14|             3.38| 28000.0| 0.0|             4.73|             2.0|             1.0|          0.0|      0.0|            78|      96.0|   2215.0|22.848895999999996|           null|\n",
            "+----------------+------+-----------+--------------+--------+----------+------------+----------+-----------+-------------+-----------------+--------+----+-----------------+----------------+----------------+-------------+---------+--------------+----------+---------+------------------+---------------+\n",
            "only showing top 3 rows\n",
            "\n"
          ],
          "name": "stdout"
        }
      ]
    },
    {
      "cell_type": "code",
      "metadata": {
        "id": "6dT2oyVAU_Q7",
        "colab": {
          "base_uri": "https://localhost:8080/"
        },
        "outputId": "dfdce0ab-bbd5-424a-dfa0-2a6b1fd723a9"
      },
      "source": [
        "spark_alldata_filtered.count()"
      ],
      "execution_count": null,
      "outputs": [
        {
          "output_type": "execute_result",
          "data": {
            "text/plain": [
              "130939857"
            ]
          },
          "metadata": {
            "tags": []
          },
          "execution_count": 16
        }
      ]
    },
    {
      "cell_type": "code",
      "metadata": {
        "id": "CYGzLRzzVFEb",
        "colab": {
          "base_uri": "https://localhost:8080/"
        },
        "outputId": "137a0455-a8b0-4af6-8bac-bbc2b5311d29"
      },
      "source": [
        "spark_alldata_filtered.agg(F.countDistinct(\"HerdIdentifier\"),F.countDistinct('AnimalIdentifier')).collect()"
      ],
      "execution_count": null,
      "outputs": [
        {
          "output_type": "execute_result",
          "data": {
            "text/plain": [
              "[Row(count(DISTINCT HerdIdentifier)=17580, count(DISTINCT AnimalIdentifier)=5894719)]"
            ]
          },
          "metadata": {
            "tags": []
          },
          "execution_count": 14
        }
      ]
    },
    {
      "cell_type": "markdown",
      "metadata": {
        "id": "IW7ZjQQtOnkC"
      },
      "source": [
        "#### get final weight"
      ]
    },
    {
      "cell_type": "code",
      "metadata": {
        "id": "WwBYlG3eIi0d"
      },
      "source": [
        "weight=spark_alldata_filtered.groupBy('HerdIdentifier','AnimalIdentifier','CalvingDate','Parity','TestYear').\\\n",
        "  agg(F.count('*').alias('Weight'))"
      ],
      "execution_count": null,
      "outputs": []
    },
    {
      "cell_type": "code",
      "metadata": {
        "id": "3EFbpO9NLDRS",
        "colab": {
          "base_uri": "https://localhost:8080/"
        },
        "outputId": "3353d801-ef76-43c9-dd2a-765bbc1fe721"
      },
      "source": [
        "weight.show(3)"
      ],
      "execution_count": null,
      "outputs": [
        {
          "output_type": "stream",
          "text": [
            "+--------------+----------------+-----------+------+--------+------+\n",
            "|HerdIdentifier|AnimalIdentifier|CalvingDate|Parity|TestYear|weight|\n",
            "+--------------+----------------+-----------+------+--------+------+\n",
            "|       5000959|   CZ 9811962638| 2018-08-06|   4.0|    2018|     3|\n",
            "|        606467|   DE 0947017669| 2012-07-26|   2.0|    2012|     3|\n",
            "|       1316903|   DE 1302028801| 2018-01-07|   5.0|    2018|     3|\n",
            "+--------------+----------------+-----------+------+--------+------+\n",
            "only showing top 3 rows\n",
            "\n"
          ],
          "name": "stdout"
        }
      ]
    },
    {
      "cell_type": "code",
      "metadata": {
        "id": "HPJp51VEQD8q",
        "colab": {
          "base_uri": "https://localhost:8080/"
        },
        "outputId": "a929c97a-3d65-4069-a461-a2f519572777"
      },
      "source": [
        "weight.agg(F.countDistinct(\"HerdIdentifier\"),F.countDistinct('AnimalIdentifier')).collect()"
      ],
      "execution_count": null,
      "outputs": [
        {
          "output_type": "execute_result",
          "data": {
            "text/plain": [
              "[Row(count(HerdIdentifier)=17580, count(AnimalIdentifier)=5894719)]"
            ]
          },
          "metadata": {},
          "execution_count": 24
        }
      ]
    },
    {
      "cell_type": "markdown",
      "metadata": {
        "id": "GpXcDLulN_Hx"
      },
      "source": [
        "### combine weight with FittingResult"
      ]
    },
    {
      "cell_type": "code",
      "metadata": {
        "id": "loD02qbYOFF5"
      },
      "source": [
        "FittingPerLactationFiltered = spark \\\n",
        "  .read \\\n",
        "  .parquet('/content/gdrive/Shared drives/Bovi-Analytics/Projects/ChenYongYan/Data/Tableau/FittingPerLactationFiltered')"
      ],
      "execution_count": null,
      "outputs": []
    },
    {
      "cell_type": "code",
      "metadata": {
        "id": "nG-ptKTSOM-V",
        "colab": {
          "base_uri": "https://localhost:8080/"
        },
        "outputId": "56f78e85-498f-4277-b05e-0a8123c824a7"
      },
      "source": [
        "FittingPerLactationFiltered.show(3)"
      ],
      "execution_count": null,
      "outputs": [
        {
          "output_type": "stream",
          "name": "stdout",
          "text": [
            "+--------------+----------------+-----------+------+----------+------+-------+----+------+-------+-----------+--------+-------+-----------+\n",
            "|HerdIdentifier|AnimalIdentifier|CalvingDate|Parity|DaysInMilk|Points|ScaleKg|Ramp|Offset|  Decay|Persistence|StdErrKg| M305Kg|ParityGroup|\n",
            "+--------------+----------------+-----------+------+----------+------+-------+----+------+-------+-----------+--------+-------+-----------+\n",
            "|           590|   NL 3233658025| 2008-07-31|   6.0|     377.0|   7.0|  52.76|34.8|   0.0|0.00233|      297.0|     1.9|10644.0|         2+|\n",
            "|           590|   NL 3514206103| 2006-12-28|   3.0|     476.0|   8.0|  52.58| 8.5|   0.0|0.00219|      316.0|     1.8|11454.0|         2+|\n",
            "|           590|   NL 4146636720| 2006-09-14|   1.0|     406.0|   6.0|  44.55|30.0|  -0.5|0.00184|      378.0|     1.9| 9759.0|          1|\n",
            "+--------------+----------------+-----------+------+----------+------+-------+----+------+-------+-----------+--------+-------+-----------+\n",
            "only showing top 3 rows\n",
            "\n"
          ]
        }
      ]
    },
    {
      "cell_type": "code",
      "metadata": {
        "id": "YDTNaQKqQ2vz",
        "colab": {
          "base_uri": "https://localhost:8080/"
        },
        "outputId": "f71f3985-7e8b-406e-8186-da8792f98da3"
      },
      "source": [
        "FittingPerLactationFiltered.count()"
      ],
      "execution_count": null,
      "outputs": [
        {
          "output_type": "execute_result",
          "data": {
            "text/plain": [
              "15726779"
            ]
          },
          "metadata": {},
          "execution_count": 22
        }
      ]
    },
    {
      "cell_type": "code",
      "metadata": {
        "colab": {
          "base_uri": "https://localhost:8080/"
        },
        "id": "zFXQwhZIbqRw",
        "outputId": "ec3d3a8f-5c49-4257-8c9a-9a4508fc34bc"
      },
      "source": [
        "FittingPerLactationFiltered.agg(F.countDistinct(\"HerdIdentifier\"),F.countDistinct('AnimalIdentifier')).collect()"
      ],
      "execution_count": null,
      "outputs": [
        {
          "output_type": "execute_result",
          "data": {
            "text/plain": [
              "[Row(count(HerdIdentifier)=17579, count(AnimalIdentifier)=5773825)]"
            ]
          },
          "metadata": {},
          "execution_count": 23
        }
      ]
    },
    {
      "cell_type": "code",
      "metadata": {
        "id": "9i4ARY17O9g6"
      },
      "source": [
        "Weight=weight.join(FittingPerLactationFiltered,['HerdIdentifier','AnimalIdentifier','Parity','CalvingDate'],'inner')"
      ],
      "execution_count": null,
      "outputs": []
    },
    {
      "cell_type": "code",
      "metadata": {
        "colab": {
          "base_uri": "https://localhost:8080/"
        },
        "id": "h-24VUTCcE6I",
        "outputId": "f79f9a8c-fcca-42b5-d986-96549f675ab2"
      },
      "source": [
        "Weight.count()"
      ],
      "execution_count": null,
      "outputs": [
        {
          "output_type": "execute_result",
          "data": {
            "text/plain": [
              "25824630"
            ]
          },
          "metadata": {},
          "execution_count": 27
        }
      ]
    },
    {
      "cell_type": "code",
      "metadata": {
        "colab": {
          "base_uri": "https://localhost:8080/"
        },
        "id": "S2AHroeF8vM_",
        "outputId": "f2d58b7f-4b49-4c6d-dd65-970773e9d5e5"
      },
      "source": [
        "Weight.orderBy('HerdIdentifier','AnimalIdentifier','Parity').show(10)"
      ],
      "execution_count": null,
      "outputs": [
        {
          "output_type": "stream",
          "name": "stdout",
          "text": [
            "+--------------+----------------+------+-----------+--------+------+----------+------+-------+----+------+-------+-----------+--------+-------+-----------+\n",
            "|HerdIdentifier|AnimalIdentifier|Parity|CalvingDate|TestYear|Weight|DaysInMilk|Points|ScaleKg|Ramp|Offset|  Decay|Persistence|StdErrKg| M305Kg|ParityGroup|\n",
            "+--------------+----------------+------+-----------+--------+------+----------+------+-------+----+------+-------+-----------+--------+-------+-----------+\n",
            "|           590|   NL 1838167674|   7.0| 2006-08-04|    2007|     3|     273.0|   3.0|   48.4|22.5|   0.0|0.00281|      247.0|     2.1| 9386.0|         2+|\n",
            "|           590|   NL 2045406648|   6.0| 2006-01-21|    2007|     2|     418.0|   2.0|  48.65|22.5|   0.0| 0.0023|      302.0|     4.6|10121.0|         2+|\n",
            "|           590|   NL 2045406648|   7.0| 2007-05-19|    2008|     6|     494.0|  10.0|  37.64|33.1|   0.0|0.00119|      583.0|     2.6| 9003.0|         2+|\n",
            "|           590|   NL 2045406648|   7.0| 2007-05-19|    2007|     4|     494.0|  10.0|  37.64|33.1|   0.0|0.00119|      583.0|     2.6| 9003.0|         2+|\n",
            "|           590|   NL 2112862834|   7.0| 2006-06-15|    2007|     4|     365.0|   4.0|  57.78|22.5|   0.0|0.00292|      237.0|     2.6|11035.0|         2+|\n",
            "|           590|   NL 2112862834|   8.0| 2007-10-06|    2007|     1|     354.0|   8.0|  47.98|15.9|   0.0|0.00253|      274.0|     3.4| 9809.0|         2+|\n",
            "|           590|   NL 2112862834|   8.0| 2007-10-06|    2008|     7|     354.0|   8.0|  47.98|15.9|   0.0|0.00253|      274.0|     3.4| 9809.0|         2+|\n",
            "|           590|   NL 2112862834|   9.0| 2008-12-19|    2009|     5|     277.0|   5.0|  51.75|23.4|   0.0|0.00371|      187.0|     1.0| 8875.0|         2+|\n",
            "|           590|   NL 2112862834|  10.0| 2010-01-07|    2010|     7|     308.0|   7.0|  54.15|27.2|   0.0|0.00456|      152.0|     2.3| 8253.0|         2+|\n",
            "|           590|   NL 2112862834|  12.0| 2012-10-25|    2013|     4|     229.0|   5.0|  32.74|20.9|   0.0|0.00195|      356.0|     0.6| 7184.0|         2+|\n",
            "+--------------+----------------+------+-----------+--------+------+----------+------+-------+----+------+-------+-----------+--------+-------+-----------+\n",
            "only showing top 10 rows\n",
            "\n"
          ]
        }
      ]
    },
    {
      "cell_type": "code",
      "metadata": {
        "id": "FVGz1h3SZEeK"
      },
      "source": [
        "from pyspark.sql import Window\n",
        "w=Window.partitionBy('HerdIdentifier','AnimalIdentifier','Parity')"
      ],
      "execution_count": null,
      "outputs": []
    },
    {
      "cell_type": "code",
      "metadata": {
        "id": "AU0kc00MbvJx"
      },
      "source": [
        "Weight=Weight.withColumn('NYear',F.count('*').over(w)).\\   # how many calendar years\n",
        "      withColumn('ParityGroup',F.when(F.col('Parity')==1,'1').otherwise('2+'))"
      ],
      "execution_count": null,
      "outputs": []
    },
    {
      "cell_type": "code",
      "metadata": {
        "id": "i9XHNArJZmyz",
        "colab": {
          "base_uri": "https://localhost:8080/"
        },
        "outputId": "5d348318-bd07-42d3-ad02-1dd2262e9f7b"
      },
      "source": [
        "Weight.show(5)"
      ],
      "execution_count": null,
      "outputs": [
        {
          "output_type": "stream",
          "name": "stdout",
          "text": [
            "+--------------+----------------+------+-----------+--------+------+----------+------+-------+----+------+-------+-----------+--------+-------+-----------+-----+\n",
            "|HerdIdentifier|AnimalIdentifier|Parity|CalvingDate|TestYear|Weight|DaysInMilk|Points|ScaleKg|Ramp|Offset|  Decay|Persistence|StdErrKg| M305Kg|ParityGroup|NYear|\n",
            "+--------------+----------------+------+-----------+--------+------+----------+------+-------+----+------+-------+-----------+--------+-------+-----------+-----+\n",
            "|           590|   NL 2343569704|   6.0| 2006-04-13|    2007|     2|     336.0|   2.0|  48.16|22.5|   0.0|0.00284|      244.0|     1.6| 9295.0|         2+|    1|\n",
            "|           590|   NL 3696560646|   6.0| 2012-03-05|    2013|     3|     463.0|   9.0|  56.28|30.9|   0.0|0.00306|      227.0|     2.6|10347.0|         2+|    2|\n",
            "|           590|   NL 3696560646|   6.0| 2012-03-05|    2012|     6|     463.0|   9.0|  56.28|30.9|   0.0|0.00306|      227.0|     2.6|10347.0|         2+|    2|\n",
            "|           590|   NL 3725641805|   4.0| 2009-08-05|    2010|     4|     316.0|   7.0|  49.33|21.8|   0.0|0.00254|      273.0|     1.7| 9942.0|         2+|    2|\n",
            "|           590|   NL 3725641805|   4.0| 2009-08-05|    2009|     3|     316.0|   7.0|  49.33|21.8|   0.0|0.00254|      273.0|     1.7| 9942.0|         2+|    2|\n",
            "+--------------+----------------+------+-----------+--------+------+----------+------+-------+----+------+-------+-----------+--------+-------+-----------+-----+\n",
            "only showing top 5 rows\n",
            "\n"
          ]
        }
      ]
    },
    {
      "cell_type": "code",
      "metadata": {
        "id": "yDY6bagKeYTJ"
      },
      "source": [
        "Weight.\\\n",
        "  repartition(1).\\\n",
        "  write.\\\n",
        "  parquet(path='/content/gdrive/Shared drives/Bovi-Analytics/Projects/ChenYongYan/Data/Tableau/HerdSummaryIn3Method1203/Weight/Weight',mode=\"overwrite\")"
      ],
      "execution_count": null,
      "outputs": []
    },
    {
      "cell_type": "code",
      "metadata": {
        "id": "0Ba3MT4lgm3S"
      },
      "source": [
        "Weight= spark \\\n",
        "  .read \\\n",
        "  .parquet('/content/gdrive/Shared drives/Bovi-Analytics/Projects/ChenYongYan/Data/Tableau/HerdSummaryIn3Method1203/Weight/Weight')"
      ],
      "execution_count": null,
      "outputs": []
    },
    {
      "cell_type": "code",
      "metadata": {
        "colab": {
          "base_uri": "https://localhost:8080/"
        },
        "id": "gJ0QBLIxqMGr",
        "outputId": "0d677fa1-4175-4aa1-ac63-20d0b3ed8416"
      },
      "source": [
        "Weight.groupBy('NYear').\\\n",
        "  agg(F.countDistinct('HerdIdentifier','AnimalIdentifier','Parity').alias('NumOfLactation')).orderBy('NYear').show()"
      ],
      "execution_count": null,
      "outputs": [
        {
          "output_type": "stream",
          "name": "stdout",
          "text": [
            "+-----+--------------+\n",
            "|NYear|NumOfLactation|\n",
            "+-----+--------------+\n",
            "|    1|       5809488|\n",
            "|    2|       9612036|\n",
            "|    3|        263690|\n",
            "+-----+--------------+\n",
            "\n"
          ]
        }
      ]
    },
    {
      "cell_type": "markdown",
      "metadata": {
        "id": "jJndlZ13giUZ"
      },
      "source": [
        "### Calculate weighted mean&median"
      ]
    },
    {
      "cell_type": "code",
      "metadata": {
        "id": "gKReGgP0N0Nj"
      },
      "source": [
        "n_to_array = udf(lambda n : [n] * n, ArrayType(IntegerType()))"
      ],
      "execution_count": null,
      "outputs": []
    },
    {
      "cell_type": "code",
      "metadata": {
        "id": "U2ue9q10N0Nl"
      },
      "source": [
        "df=Weight.withColumn('WeightArray',n_to_array(Weight.Weight))"
      ],
      "execution_count": null,
      "outputs": []
    },
    {
      "cell_type": "code",
      "metadata": {
        "colab": {
          "base_uri": "https://localhost:8080/"
        },
        "id": "shojduTWqje7",
        "outputId": "15e66925-a41f-4f9d-ed8c-757b53b5f72e"
      },
      "source": [
        "df.show(3)"
      ],
      "execution_count": null,
      "outputs": [
        {
          "output_type": "stream",
          "name": "stdout",
          "text": [
            "+--------------+----------------+------+-----------+--------+------+----------+------+-------+----+------+-------+-----------+--------+-------+-----------+-----+------------------+\n",
            "|HerdIdentifier|AnimalIdentifier|Parity|CalvingDate|TestYear|Weight|DaysInMilk|Points|ScaleKg|Ramp|Offset|  Decay|Persistence|StdErrKg| M305Kg|ParityGroup|NYear|       WeightArray|\n",
            "+--------------+----------------+------+-----------+--------+------+----------+------+-------+----+------+-------+-----------+--------+-------+-----------+-----+------------------+\n",
            "|           590|   NL 2343569704|   6.0| 2006-04-13|    2007|     2|     336.0|   2.0|  48.16|22.5|   0.0|0.00284|      244.0|     1.6| 9295.0|         2+|    1|            [2, 2]|\n",
            "|           590|   NL 3696560646|   6.0| 2012-03-05|    2013|     3|     463.0|   9.0|  56.28|30.9|   0.0|0.00306|      227.0|     2.6|10347.0|         2+|    2|         [3, 3, 3]|\n",
            "|           590|   NL 3696560646|   6.0| 2012-03-05|    2012|     6|     463.0|   9.0|  56.28|30.9|   0.0|0.00306|      227.0|     2.6|10347.0|         2+|    2|[6, 6, 6, 6, 6, 6]|\n",
            "+--------------+----------------+------+-----------+--------+------+----------+------+-------+----+------+-------+-----------+--------+-------+-----------+-----+------------------+\n",
            "only showing top 3 rows\n",
            "\n"
          ]
        }
      ]
    },
    {
      "cell_type": "code",
      "metadata": {
        "id": "zdua1NkeNnFy"
      },
      "source": [
        "WeightedExplore=df.withColumn('weight',F.explode(df.WeightArray))   #duplicate the lactation curve characteristics according to their weights"
      ],
      "execution_count": null,
      "outputs": []
    },
    {
      "cell_type": "code",
      "metadata": {
        "colab": {
          "base_uri": "https://localhost:8080/"
        },
        "id": "i7uRHVqFu_Q9",
        "outputId": "8b33b05a-7537-4a3d-bb71-3acacc4c70be"
      },
      "source": [
        "WeightedExplore.show(10)"
      ],
      "execution_count": null,
      "outputs": [
        {
          "output_type": "stream",
          "name": "stdout",
          "text": [
            "+--------------+----------------+------+-----------+--------+------+----------+------+-------+----+------+-------+-----------+--------+-------+-----------+-----+------------------+\n",
            "|HerdIdentifier|AnimalIdentifier|Parity|CalvingDate|TestYear|weight|DaysInMilk|Points|ScaleKg|Ramp|Offset|  Decay|Persistence|StdErrKg| M305Kg|ParityGroup|NYear|       WeightArray|\n",
            "+--------------+----------------+------+-----------+--------+------+----------+------+-------+----+------+-------+-----------+--------+-------+-----------+-----+------------------+\n",
            "|           590|   NL 2343569704|   6.0| 2006-04-13|    2007|     2|     336.0|   2.0|  48.16|22.5|   0.0|0.00284|      244.0|     1.6| 9295.0|         2+|    1|            [2, 2]|\n",
            "|           590|   NL 2343569704|   6.0| 2006-04-13|    2007|     2|     336.0|   2.0|  48.16|22.5|   0.0|0.00284|      244.0|     1.6| 9295.0|         2+|    1|            [2, 2]|\n",
            "|           590|   NL 3696560646|   6.0| 2012-03-05|    2013|     3|     463.0|   9.0|  56.28|30.9|   0.0|0.00306|      227.0|     2.6|10347.0|         2+|    2|         [3, 3, 3]|\n",
            "|           590|   NL 3696560646|   6.0| 2012-03-05|    2013|     3|     463.0|   9.0|  56.28|30.9|   0.0|0.00306|      227.0|     2.6|10347.0|         2+|    2|         [3, 3, 3]|\n",
            "|           590|   NL 3696560646|   6.0| 2012-03-05|    2013|     3|     463.0|   9.0|  56.28|30.9|   0.0|0.00306|      227.0|     2.6|10347.0|         2+|    2|         [3, 3, 3]|\n",
            "|           590|   NL 3696560646|   6.0| 2012-03-05|    2012|     6|     463.0|   9.0|  56.28|30.9|   0.0|0.00306|      227.0|     2.6|10347.0|         2+|    2|[6, 6, 6, 6, 6, 6]|\n",
            "|           590|   NL 3696560646|   6.0| 2012-03-05|    2012|     6|     463.0|   9.0|  56.28|30.9|   0.0|0.00306|      227.0|     2.6|10347.0|         2+|    2|[6, 6, 6, 6, 6, 6]|\n",
            "|           590|   NL 3696560646|   6.0| 2012-03-05|    2012|     6|     463.0|   9.0|  56.28|30.9|   0.0|0.00306|      227.0|     2.6|10347.0|         2+|    2|[6, 6, 6, 6, 6, 6]|\n",
            "|           590|   NL 3696560646|   6.0| 2012-03-05|    2012|     6|     463.0|   9.0|  56.28|30.9|   0.0|0.00306|      227.0|     2.6|10347.0|         2+|    2|[6, 6, 6, 6, 6, 6]|\n",
            "|           590|   NL 3696560646|   6.0| 2012-03-05|    2012|     6|     463.0|   9.0|  56.28|30.9|   0.0|0.00306|      227.0|     2.6|10347.0|         2+|    2|[6, 6, 6, 6, 6, 6]|\n",
            "+--------------+----------------+------+-----------+--------+------+----------+------+-------+----+------+-------+-----------+--------+-------+-----------+-----+------------------+\n",
            "only showing top 10 rows\n",
            "\n"
          ]
        }
      ]
    },
    {
      "cell_type": "markdown",
      "metadata": {
        "id": "Fol935fnLi6M"
      },
      "source": [
        "#### weighted mean"
      ]
    },
    {
      "cell_type": "code",
      "metadata": {
        "id": "fPJ68atog67Y"
      },
      "source": [
        "WeightedMean=WeightedExplore.groupBy('HerdIdentifier','TestYear','ParityGroup').\\\n",
        "  agg(avg('ScaleKg').alias('MeanScaleKg'),\n",
        "  avg('Ramp').alias('MeanRamp'),\n",
        "  avg('Offset').alias('MeanOffset'),\n",
        "  avg('Decay').alias('MeanDecay'),\n",
        "  avg('Persistence').alias('MeanPersistence'),\n",
        "  avg('M305Kg').alias('MeanM305Kg'),\n",
        "  F.countDistinct('AnimalIdentifier').alias('NumberOfAnimal'),\n",
        "  F.count(F.lit(1)).alias('TotalWeight')\n",
        "  )"
      ],
      "execution_count": null,
      "outputs": []
    },
    {
      "cell_type": "code",
      "metadata": {
        "colab": {
          "base_uri": "https://localhost:8080/"
        },
        "id": "OQ2NqxNmDAWL",
        "outputId": "09846eea-fa5d-4beb-c91a-4294ded23257"
      },
      "source": [
        "WeightedMean.show(10)"
      ],
      "execution_count": null,
      "outputs": [
        {
          "output_type": "stream",
          "name": "stdout",
          "text": [
            "+--------------+--------+-----------+------------------+------------------+--------------------+--------------------+------------------+------------------+--------------+-----------+\n",
            "|HerdIdentifier|TestYear|ParityGroup|       MeanScaleKg|          MeanRamp|          MeanOffset|           MeanDecay|   MeanPersistence|        MeanM305Kg|NumberOfAnimal|TotalWeight|\n",
            "+--------------+--------+-----------+------------------+------------------+--------------------+--------------------+------------------+------------------+--------------+-----------+\n",
            "|        311983|    2017|         2+| 55.46420924574209|25.840551500405518|-0.29261962692619636|0.002771730489613701|282.17761557177613|10747.456153432668|           263|       1233|\n",
            "|        421225|    2016|         2+| 47.24128404669262|20.361867704280154|-0.21478599221789885|0.002571789883268483| 315.3774319066148| 9555.515564202335|           102|        514|\n",
            "|        583082|    2009|         2+| 39.11147260273972| 17.89178082191781|-0.32876712328767116|0.002276369863013...|362.04794520547944| 8246.493150684932|            60|        292|\n",
            "|        661982|    2008|         2+|52.235512465373965|22.022160664819946| -0.2659279778393352|0.003084404432132...|238.80886426592798| 9760.783933518005|            58|        361|\n",
            "|        889782|    2007|         2+| 40.68571100917431|19.753669724770646| -0.2568807339449541|0.002183142201834863|361.76605504587155| 8618.151376146789|            85|        436|\n",
            "|        953923|    2011|          1| 33.74522727272727| 29.81363636363636|                -0.5|0.001811969696969...| 425.8181818181818| 7385.765151515152|            32|        132|\n",
            "|       1066147|    2012|         2+| 45.54254838709677|21.029354838709683| -0.2632258064516129|0.002714354838709...| 280.5451612903226| 8993.390322580644|            59|        310|\n",
            "|       1092910|    2009|          1| 33.59725609756098|29.529878048780485|                -0.5|0.002735243902439024| 276.1768292682927| 6492.743902439024|            61|        328|\n",
            "|       1118307|    2018|         2+| 44.44474782608695| 17.63078260869565|-0.33113043478260873|0.002338173913043...|341.46608695652174| 9292.179130434783|            89|        575|\n",
            "|       1156491|    2012|          1| 37.67898617511521|29.863133640552995|                -0.5|0.002456313364055...|314.88018433179724| 7563.539170506912|            51|        217|\n",
            "+--------------+--------+-----------+------------------+------------------+--------------------+--------------------+------------------+------------------+--------------+-----------+\n",
            "only showing top 10 rows\n",
            "\n"
          ]
        }
      ]
    },
    {
      "cell_type": "code",
      "metadata": {
        "id": "4SkK8nVqtEdU"
      },
      "source": [
        "WeightedMean.\\\n",
        "  repartition(1).\\\n",
        "  write.\\\n",
        "  parquet(path='/content/gdrive/Shared drives/Bovi-Analytics/Projects/ChenYongYan/Data/Tableau/HerdSummaryIn3Method1203/Weight/WeightedMean',mode=\"overwrite\")"
      ],
      "execution_count": null,
      "outputs": []
    },
    {
      "cell_type": "markdown",
      "metadata": {
        "id": "BdBHg7JHo2EA"
      },
      "source": [
        "#### weighted median"
      ]
    },
    {
      "cell_type": "code",
      "metadata": {
        "id": "QX0XWkMgLnuS"
      },
      "source": [
        "WeightedMedian=WeightedExplore.groupBy('HerdIdentifier','TestYear','ParityGroup').\\\n",
        "  agg(F.expr('percentile(ScaleKg, array(0.5))')[0].alias('MedianScaleKg'),\n",
        "  F.expr('percentile(Ramp,array(0.5))')[0].alias('MedianRamp'),\n",
        "  F.expr('percentile(Offset,array(0.5))')[0].alias('MedianOffset'),\n",
        "  F.expr('percentile(Decay,array(0.5))')[0].alias('MedianDecay'),\n",
        "  F.expr('percentile(Persistence,array(0.5))')[0].alias('MedianPersistence'),\n",
        "  F.expr('percentile(M305Kg,array(0.5))')[0].alias('MedianM305Kg'),\n",
        "  )"
      ],
      "execution_count": null,
      "outputs": []
    },
    {
      "cell_type": "code",
      "metadata": {
        "id": "RUR3uPeetLQp"
      },
      "source": [
        "WeightedMedian.\\\n",
        "  repartition(1).\\\n",
        "  write.\\\n",
        "  parquet(path='/content/gdrive/Shared drives/Bovi-Analytics/Projects/ChenYongYan/Data/Tableau/HerdSummaryIn3Method1203/Weight/WeightedMedian',mode=\"overwrite\")"
      ],
      "execution_count": null,
      "outputs": []
    },
    {
      "cell_type": "markdown",
      "metadata": {
        "id": "FhgmjYuTyQI1"
      },
      "source": [
        "### Combine mean and median result "
      ]
    },
    {
      "cell_type": "code",
      "metadata": {
        "id": "S8xpQRSAkAt-"
      },
      "source": [
        "WeightedMedian= spark \\\n",
        "  .read \\\n",
        "  .parquet('/content/gdrive/Shared drives/Bovi-Analytics/Projects/ChenYongYan/Data/Tableau/HerdSummaryIn3Method1203/Weight/WeightedMedian')"
      ],
      "execution_count": null,
      "outputs": []
    },
    {
      "cell_type": "code",
      "metadata": {
        "id": "qdLYTDXdyOf7",
        "colab": {
          "base_uri": "https://localhost:8080/"
        },
        "outputId": "82089605-de46-4108-8289-e56285845609"
      },
      "source": [
        "WeightedMedian.show(3)"
      ],
      "execution_count": null,
      "outputs": [
        {
          "output_type": "stream",
          "name": "stdout",
          "text": [
            "+--------------+--------+-----------+-------------+----------+------------+-----------+-----------------+------------+\n",
            "|HerdIdentifier|TestYear|ParityGroup|MedianScaleKg|MedianRamp|MedianOffset|MedianDecay|MedianPersistence|MedianM305Kg|\n",
            "+--------------+--------+-----------+-------------+----------+------------+-----------+-----------------+------------+\n",
            "|           919|    2019|         2+|        53.61|      22.2|        -0.8|    0.00299|            232.0|     10162.0|\n",
            "|          3388|    2013|         2+|        47.91|      22.1|         0.0|    0.00238|            291.0|      9555.0|\n",
            "|          4909|    2008|          1|        35.27|      29.6|        -0.5|    0.00223|            311.0|      7391.0|\n",
            "+--------------+--------+-----------+-------------+----------+------------+-----------+-----------------+------------+\n",
            "only showing top 3 rows\n",
            "\n"
          ]
        }
      ]
    },
    {
      "cell_type": "code",
      "metadata": {
        "id": "A33b-ercyZoS",
        "colab": {
          "base_uri": "https://localhost:8080/"
        },
        "outputId": "c05d49e4-215b-4193-b1f4-642d40079698"
      },
      "source": [
        "WeightedMedian.count()"
      ],
      "execution_count": null,
      "outputs": [
        {
          "output_type": "execute_result",
          "data": {
            "text/plain": [
              "380607"
            ]
          },
          "metadata": {},
          "execution_count": 17
        }
      ]
    },
    {
      "cell_type": "code",
      "metadata": {
        "id": "DyqGLA6ljyMD"
      },
      "source": [
        "WeightedMean= spark \\\n",
        "  .read \\\n",
        "  .parquet('/content/gdrive/Shared drives/Bovi-Analytics/Projects/ChenYongYan/Data/Tableau/HerdSummaryIn3Method1203/Weight/WeightedMean')"
      ],
      "execution_count": null,
      "outputs": []
    },
    {
      "cell_type": "code",
      "metadata": {
        "id": "IF-LCw_pyUxa",
        "colab": {
          "base_uri": "https://localhost:8080/"
        },
        "outputId": "b5ee3e31-3f6c-43c3-c513-d18711c6b592"
      },
      "source": [
        "WeightedMean.show(3)"
      ],
      "execution_count": null,
      "outputs": [
        {
          "output_type": "stream",
          "name": "stdout",
          "text": [
            "+--------------+--------+-----------+-----------------+------------------+--------------------+--------------------+------------------+------------------+--------------+-----------+\n",
            "|HerdIdentifier|TestYear|ParityGroup|      MeanScaleKg|          MeanRamp|          MeanOffset|           MeanDecay|   MeanPersistence|        MeanM305Kg|NumberOfAnimal|TotalWeight|\n",
            "+--------------+--------+-----------+-----------------+------------------+--------------------+--------------------+------------------+------------------+--------------+-----------+\n",
            "|        311983|    2017|         2+|55.46420924574209|25.840551500405518|-0.29261962692619636|0.002771730489613701|282.17761557177613|10747.456153432668|           263|       1233|\n",
            "|        421225|    2016|         2+|47.24128404669262|20.361867704280154|-0.21478599221789885|0.002571789883268483| 315.3774319066148| 9555.515564202335|           102|        514|\n",
            "|        583082|    2009|         2+|39.11147260273972| 17.89178082191781|-0.32876712328767116|0.002276369863013...|362.04794520547944| 8246.493150684932|            60|        292|\n",
            "+--------------+--------+-----------+-----------------+------------------+--------------------+--------------------+------------------+------------------+--------------+-----------+\n",
            "only showing top 3 rows\n",
            "\n"
          ]
        }
      ]
    },
    {
      "cell_type": "code",
      "metadata": {
        "id": "bz4zQrh5ydri",
        "colab": {
          "base_uri": "https://localhost:8080/"
        },
        "outputId": "d03ab96d-734d-4f22-f4dc-0ad6de7ee941"
      },
      "source": [
        "WeightedMean.count()"
      ],
      "execution_count": null,
      "outputs": [
        {
          "output_type": "execute_result",
          "data": {
            "text/plain": [
              "380607"
            ]
          },
          "metadata": {},
          "execution_count": 10
        }
      ]
    },
    {
      "cell_type": "code",
      "metadata": {
        "id": "kgJpTxVXyfzH"
      },
      "source": [
        "Weighted=WeightedMean.join(WeightedMedian,['HerdIdentifier','TestYear','ParityGroup'],'inner')"
      ],
      "execution_count": null,
      "outputs": []
    },
    {
      "cell_type": "code",
      "metadata": {
        "id": "O6VnbqxQy15B",
        "colab": {
          "base_uri": "https://localhost:8080/"
        },
        "outputId": "049d7040-3b77-4502-f518-abb63d2e3fef"
      },
      "source": [
        "Weighted.count()"
      ],
      "execution_count": null,
      "outputs": [
        {
          "output_type": "execute_result",
          "data": {
            "text/plain": [
              "380607"
            ]
          },
          "metadata": {},
          "execution_count": 19
        }
      ]
    },
    {
      "cell_type": "code",
      "metadata": {
        "id": "OOhne_kSy7Fq"
      },
      "source": [
        "Weighted.\\\n",
        "  repartition(1).\\\n",
        "  write.\\\n",
        "  parquet(path='/content/gdrive/Shared drives/Bovi-Analytics/Projects/ChenYongYan/Data/Tableau/HerdSummaryIn3Method1203/Weight/Weighted',mode=\"overwrite\")"
      ],
      "execution_count": null,
      "outputs": []
    }
  ]
}