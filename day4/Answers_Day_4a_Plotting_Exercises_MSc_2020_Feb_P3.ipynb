{
 "cells": [
  {
   "cell_type": "markdown",
   "metadata": {},
   "source": [
    "## Plotting in Python\n",
    "\n",
    "Matplotlib is a Python 2D plotting library which can produces publication quality figures.\n",
    "\n",
    "You can generate plots, histograms, power spectra, bar charts, errorcharts, scatterplots, etc, with just a few lines of code.\n",
    "\n",
    "Check the link for more details: http://matplotlib.org/\n",
    "\n",
    "\n",
    "-----------------------------------------------------------------------------------------\n",
    "\n",
    "- Use the following line to allow the plots to be displayed as part of the jupyter notebook:\n",
    "```    %matplotlib inline ```\n",
    "- After this, we need to import the plot module from matplotlib\n",
    "```python\n",
    "  %matplotlib inline\n",
    "  import matplotlib.pyplot as plt\n",
    "```\n",
    "- We can then plot a line by first inputting an array of x-coordinates and  an array of y-coordinates\n",
    "``` plt.plot([1,2,3,4],[2,4,6,12]) ```\n",
    "- Then we show the plot by ```plt.show()```"
   ]
  },
  {
   "cell_type": "code",
   "execution_count": null,
   "metadata": {
    "scrolled": true
   },
   "outputs": [],
   "source": [
    "# The following line to allows the plots to be displayed as part of the jupyter notebook\n",
    "%matplotlib inline\n",
    "\n",
    "# Import matplotlib's function pyplot to make simple plots\n",
    "import matplotlib.pyplot as plt # To avoid using big names rename the module as plt\n",
    "\n",
    "plt.plot([1,2,3,4],[2,4,6,12]) \n",
    "plt.show()\n"
   ]
  },
  {
   "cell_type": "code",
   "execution_count": null,
   "metadata": {},
   "outputs": [],
   "source": [
    "\n",
    "# In order to save the plot in the folder in which the script is located, an additional command is needed:\n",
    "\n",
    "plt.plot([1,2,3,4],[2,4,6,12]) \n",
    "plt.savefig('test_plot.png', transparent=False) #save figure!\n",
    "plt.show()"
   ]
  },
  {
   "cell_type": "markdown",
   "metadata": {},
   "source": [
    "# Plotting\n",
    "\n",
    "- There are a lot of other functions you can use with the plot\n",
    "- You can add a third parameter to the ```plot``` function to label the line.\n",
    "    - ```plt.plot([1,2,3,4],[2,4,6,12],label='Series1') ```\n",
    "- You can also give labels to the x and y axis\n",
    "```python\n",
    "plt.xlabel(\"Time\")\n",
    "plt.ylabel(\"Fluorescence\")\n",
    "```\n",
    "- You can name the plot with a title\n",
    "```python\n",
    "plt.title(\"Plot\")\n",
    "```\n",
    "### Check the link for plotting: http://matplotlib.org/users/pyplot_tutorial.html"
   ]
  },
  {
   "cell_type": "code",
   "execution_count": null,
   "metadata": {},
   "outputs": [],
   "source": [
    "# Import matplotlib's function pyplot to make simple plots\n",
    "%matplotlib inline \n",
    "import matplotlib.pyplot as plt\n",
    "\n",
    "# Plot a line\n",
    "plt.plot([1,2,3,4],[2,4,6,12],label='Series1') \n",
    "\n",
    "# Add Label for the X axis \n",
    "plt.xlabel('X') \n",
    "\n",
    "# Add Label for the Y axis \n",
    "plt.ylabel('Y') \n",
    "\n",
    "# Add Title to the plot \n",
    "plt.title('Test Plot') \n",
    "\n",
    "plt.show()"
   ]
  },
  {
   "cell_type": "code",
   "execution_count": null,
   "metadata": {
    "scrolled": true
   },
   "outputs": [],
   "source": [
    "# Import matplotlib's function pyplot to make simple plots\n",
    "\n",
    "import matplotlib.pyplot as plt\n",
    "\n",
    "# Plot a line\n",
    "plt.plot([1,2,3,4],[2,4,6,12],label='S1', marker='x', linestyle='-', color='b') \n",
    "# you can change several parameters.\n",
    "plt.plot([1,2,3,4],[1,4,9,16],label='S2', marker='o', linestyle='--', color='r')\n",
    "plt.plot([1,2,3,4],[3,0,20,9],label='S3', marker='.', linestyle='-.', color='g')\n",
    "plt.legend()\n",
    "\n",
    "# Add Label for the X axis \n",
    "plt.xlabel('A-axis') \n",
    "\n",
    "# Add Label for the Y axis \n",
    "plt.ylabel('B-axis') \n",
    "\n",
    "# Add Title to the plot \n",
    "plt.title('Nice Figure') \n",
    "\n",
    "plt.show()"
   ]
  },
  {
   "cell_type": "markdown",
   "metadata": {},
   "source": [
    "## Line Plots: Exercise\n",
    "\n",
    "1. Import the ```matplotlib.pyplot``` module\n",
    "2. Import the ```math``` module\n",
    "3. Create three new empty variable lists\n",
    "    - List for x values\n",
    "    - List for sin(x) values\n",
    "    - List for cos(x) values\n",
    "4. Create a for loop creating 60 data points with 0.1 difference between the values (e.g. 0.1, 0.2, 0.3, 0.4 etc). \n",
    "5. For each points, add the value to the list, the sin value to that list and the cosine value to that list\n",
    "6. Plot the x vs cos line and the x vs sin line using the three lists"
   ]
  },
  {
   "cell_type": "code",
   "execution_count": null,
   "metadata": {
    "scrolled": true
   },
   "outputs": [],
   "source": [
    "#1. Import matplotlib's function pyplot to make simple plots\n",
    "#2. Import math module to access sin and cosine functions\n",
    "# 1.\n",
    "import matplotlib.pyplot as plt\n",
    "# 2.\n",
    "import math"
   ]
  },
  {
   "cell_type": "code",
   "execution_count": null,
   "metadata": {},
   "outputs": [],
   "source": [
    "#3. Create three new empty variable lists to store x values, sin(x) values and cos(x) values\n",
    "x=[] # Empty list to store x axis values\n",
    "cos_y=[] # Empty list to store cosine values\n",
    "sin_y=[] # Empty list to store sine values"
   ]
  },
  {
   "cell_type": "code",
   "execution_count": null,
   "metadata": {},
   "outputs": [],
   "source": [
    "#4. Create a for loop creating 60 data points with 0.1 difference between the values (e.g. 0.1, 0.2, 0.3, 0.4 etc). \n",
    "x = 0\n",
    "x_list = []\n",
    "for i in range(60):\n",
    "    x += 0.1\n",
    "    x_list += [x]\n",
    "print (x)"
   ]
  },
  {
   "cell_type": "code",
   "execution_count": null,
   "metadata": {},
   "outputs": [],
   "source": [
    "#5 For each point, add the value to the x list, the sin value to the sin list and the cosine value to the cos list\n",
    "cos_y = []\n",
    "for i in x_list:\n",
    "    cos_y += [math.cos(i)] \n",
    "\n",
    "sin_y = []\n",
    "for i in x_list:\n",
    "    sin_y += [math.sin(i)] \n",
    "print (sin_y)"
   ]
  },
  {
   "cell_type": "code",
   "execution_count": null,
   "metadata": {},
   "outputs": [],
   "source": [
    "#6. Plot the x vs cos line and the x vs sin line using the three lists\n",
    "plt.plot(x_list, cos_y, label='cos', marker='s', color='b') \n",
    "plt.plot(x_list, sin_y, label='sin', marker='o', linestyle='--', color='r') \n",
    "plt.legend() \n",
    "\n",
    "plt.xlabel('cos x') \n",
    "plt.ylabel('cos y') \n",
    "plt.title('Sin-Cos Plot') \n",
    "\n",
    "plt.show()"
   ]
  },
  {
   "cell_type": "markdown",
   "metadata": {},
   "source": [
    "# Histograms\n",
    "- Besides lines, we can also create histograms with matplotlib\n",
    "- An histogram is created by using ```plt.hist([1,2,3,4,5,5,5,5,6,7])```\n",
    "        or ```plt.hist([[1,2,2,2,3,3,3,4,5,6,7],[5,6,5,6,5,6,7,8,2]])```\n",
    "        \n",
    "- The input is a single array with data, list or list of lists\n",
    "- You can vary the number of bins and see what will happen\n",
    "- You can use the same functions as the plot for this\n",
    "    - ```python\n",
    "    plt.xlabel(\"X\")\n",
    "    plt.ylabel(\"Y\")\n",
    "    plt.title(\"Normal distribution\")\n",
    "    ```"
   ]
  },
  {
   "cell_type": "code",
   "execution_count": null,
   "metadata": {
    "scrolled": true
   },
   "outputs": [],
   "source": [
    "import matplotlib.pyplot as plt\n",
    "import random \n",
    "\n",
    "#Create an empty list to store data \n",
    "data=[] \n",
    "\n",
    "#Generate 500 data values \n",
    "for i in range(500): \n",
    "    data += [random.normalvariate(10, 3)] \n",
    "\n",
    "#Plot a histogram \n",
    "plt.hist(data,bins=30) \n",
    "\n",
    "#Set X and Y labels and plot title \n",
    "plt.xlabel('Values') \n",
    "plt.ylabel('Frequency') \n",
    "plt.title('Normal Distribution') \n",
    "\n",
    "plt.show()"
   ]
  },
  {
   "cell_type": "code",
   "execution_count": null,
   "metadata": {},
   "outputs": [],
   "source": [
    "#Create three empty lists to store data \n",
    "set1 = []\n",
    "set2 = []\n",
    "set3 = []\n",
    "\n",
    "\n",
    "#Generate 3 sets with 1000 data values \n",
    "for i in range(1000): \n",
    "    set1 += [random.normalvariate(10, 3)] \n",
    "    set2 += [random.normalvariate(11, 1)]   \n",
    "    set3 += [random.normalvariate(2, 7)] \n",
    "    \n",
    "## when we make a list of lists the plt.hist function will plot three separate histograms in one panel    \n",
    "moredata=[set1,set2,set3] \n",
    "\n",
    "plt.hist(moredata,bins=100) ## change the bins in to a different number\n",
    "plt.legend([\"1\",\"2\",\"3\"])\n",
    "plt.show()"
   ]
  },
  {
   "cell_type": "markdown",
   "metadata": {},
   "source": [
    "  \n",
    "## Plotting: Exercise 2 (Assignment type)\n",
    "\n",
    "1. Import the random and dna_tools module\n",
    "- Create 2 new variables with random DNA nucleotides of length 500.\n",
    "    - Hint: use the random module and for loop\n",
    "- Use your own dna_tools module to count nucleotide usage (A,T,G, \tand C) in seq_r1 and seq_r2. \n",
    "- Make a line plot to display the nucleotide usage. \n",
    "- Use different markers and labels for the two different sequences.\n"
   ]
  },
  {
   "cell_type": "code",
   "execution_count": null,
   "metadata": {
    "scrolled": true
   },
   "outputs": [],
   "source": [
    "#1. Import the random and dna_tools module\n",
    "import random\n",
    "from dna_tools import get_counts\n",
    "import matplotlib.pyplot as plt\n"
   ]
  },
  {
   "cell_type": "code",
   "execution_count": null,
   "metadata": {},
   "outputs": [],
   "source": [
    "#2. Create 2 new variables with random DNA nucleotides of length 500.\n",
    "random_seq1 = '' \n",
    "random_seq2 = '' \n",
    "\n",
    "for i in range(500): \n",
    "    random_seq1 += random.choice('ATGC') \n",
    "    random_seq2 += random.choice('ATGC') "
   ]
  },
  {
   "cell_type": "code",
   "execution_count": null,
   "metadata": {},
   "outputs": [],
   "source": [
    "#3. Use your own dna_tools module to count nucleotide usage (A,T,G, and C) in random sequence 1 and random sequence 2\n",
    "# also print the result\n",
    "def get_counts(variable1):\n",
    "    codon_counts_mono = {}\n",
    "    for codon2_start in range(0,len(variable1),1):\n",
    "        codon2 = variable1[codon2_start:(codon2_start+1)]\n",
    "        if codon2 in codon_counts_mono:\n",
    "            codon_counts_mono[codon2] = codon_counts_mono[codon2] + 1\n",
    "        else:\n",
    "            codon_counts_mono[codon2] = 1 #{\"count\":1, \"start_nuc\":codon2[0], \"length\": len(codon2)}\n",
    "    return (codon_counts_mono)\n",
    "\n",
    "random_seq1_counts = get_counts(random_seq1)\n",
    "random_seq2_counts = get_counts(random_seq2)\n",
    "\n",
    "basepairs = list(random_seq1_counts.keys()) # extract the keys and force them in a list\n",
    "basepairs_sorted = sorted(basepairs) ## sort the list so the order will always be A, C, G, T\n",
    "rand1_num = []  ## empty list for the random sequence 1 counts\n",
    "rand2_num = []  ## empty list for the random sequence 2 counts\n",
    "for bp in basepairs_sorted: # loop over the basepair letters\n",
    "    rand1_num += [random_seq1_counts[bp]] ## get counts from dictionary\n",
    "    rand2_num += [random_seq2_counts[bp]]\n",
    "\n",
    "print (basepairs, rand1_num, random_seq1_counts)\n",
    "print (basepairs, rand2_num)"
   ]
  },
  {
   "cell_type": "code",
   "execution_count": null,
   "metadata": {},
   "outputs": [],
   "source": [
    "#4. Show the nucleotide usage in a line plot\n",
    "# do the values match those in Q3?\n"
   ]
  },
  {
   "cell_type": "code",
   "execution_count": null,
   "metadata": {},
   "outputs": [],
   "source": [
    "#5. Use different markers and labels for the two different sequences.\n",
    "plt.xticks([1,2,3,4],basepairs_sorted) \n",
    "plt.plot([1,2,3,4], list(random_seq1_counts.values()),linestyle = \"dashed\", marker='s', label='seq_1dict_not_ok') ##!!!! wrong way of ploting, order of dict can be anything \n",
    "plt.plot([1,2,3,4], list(random_seq2_counts.values()),linestyle = \"dashed\", marker='o', label='seq_2dict_not_ok') ##!!!! wrong way, compare with the two lines below\n",
    "plt.plot([1,2,3,4], rand1_num, marker='s', label='seq_1') ## plot the line\n",
    "plt.plot([1,2,3,4], rand2_num, marker='o', label='seq_2') ## plot the line\n",
    "plt.legend()\n",
    "plt.show()"
   ]
  },
  {
   "cell_type": "code",
   "execution_count": null,
   "metadata": {},
   "outputs": [],
   "source": [
    "## maybe a barplot is a better way of visualising this data\n",
    "plt.xticks([1,2,3,4],basepairs) \n",
    "plt.bar(x = [0.8,1.8,2.8,3.8], height = rand1_num, width = [0.4]*4, label='seq_1',edgecolor =\"magenta\",linewidth = 2)\n",
    "plt.bar(x = [1.2,2.2,3.2,4.2], height = rand2_num, width = [0.4]*4 ,label='seq_2')\n",
    "\n",
    "plt.legend()\n",
    "plt.show()\n"
   ]
  },
  {
   "cell_type": "markdown",
   "metadata": {},
   "source": [
    "## Plotting - Exercise 3 (Assignment type)\n",
    "1. Import the random and dna_tools modules\n",
    "- Generate 100 random DNA sequences of length 500. \n",
    "    - Store these sequences in a list\n",
    "- Plot a histogram for 'A' nucleotide usage in the 100 random DNA \tsequences. \n",
    "- Add histograms of other nucleotide usage in the same histogram."
   ]
  },
  {
   "cell_type": "code",
   "execution_count": null,
   "metadata": {
    "scrolled": true
   },
   "outputs": [],
   "source": [
    "#1. Import the random and dna_tools modules\n",
    "import random\n",
    "from dna_tools import get_counts\n",
    "import matplotlib.pyplot as plt"
   ]
  },
  {
   "cell_type": "code",
   "execution_count": null,
   "metadata": {},
   "outputs": [],
   "source": [
    "#2. Generate 100 random DNA sequences of length 500. Store these sequences in a list\n",
    "seqs = [None]*100 \n",
    "\n",
    "for n in range(100):\n",
    "    seqs[n] = ''\n",
    "    for i in range(500):\n",
    "        seqs[n] += random.choice('ATGC')"
   ]
  },
  {
   "cell_type": "code",
   "execution_count": null,
   "metadata": {},
   "outputs": [],
   "source": [
    "#3. Plot a histogram for 'A' nucleotide usage in the 100 random DNA sequences. \n"
   ]
  },
  {
   "cell_type": "code",
   "execution_count": null,
   "metadata": {},
   "outputs": [],
   "source": [
    "#4. Add histograms of other nucleotide usage in the same histogram.\n",
    "labels = ['A','C','G','T'] \n",
    "colors = ['r','g','b','y'] \n",
    "counts = [[],[],[],[]]  ##!!! al list of list will make matplotkib automatically format your histgram nicely.\n",
    "\n",
    "# Use for loop to count bases in each sequence\n",
    "for seq in seqs:\n",
    "    counts[0]+= [(seq.count('A'))]\n",
    "    counts[1].append(seq.count('C'))\n",
    "    counts[2].append(seq.count('G'))\n",
    "    counts[3].append(seq.count('T'))\n",
    "\n",
    "# Plot the results in the form of a histogram\n",
    "plt.hist(counts, bins=20, label=[\"A\",\"C\",\"T\",\"G\"]) \n",
    "plt.style.use('seaborn-colorblind')\n",
    "plt.xlabel('Values') \n",
    "plt.ylabel('Frequency') \n",
    "plt.title('Nucleotide Counts') \n",
    "plt.legend(loc='upper right')\n",
    "plt.show()"
   ]
  },
  {
   "cell_type": "code",
   "execution_count": null,
   "metadata": {},
   "outputs": [],
   "source": [
    "# Alternative\n",
    "\n",
    "seqs = []\n",
    "for i in range(100):\n",
    "    random_seq = ''\n",
    "    for i in range(500):\n",
    "        random_seq += random.choice(\"ATGC\")\n",
    "    seqs.append(random_seq)\n",
    "\n",
    "labels = ['A','C','G','T'] \n",
    "colors = ['r','g','b','y'] \n",
    "\n",
    "A = []\n",
    "G = []\n",
    "T = []\n",
    "C = []\n",
    "\n",
    "for seq in seqs:\n",
    "    counts = get_counts(seq,1)\n",
    "    A.append(counts['A'])\n",
    "    G.append(counts['G'])\n",
    "    T.append(counts['T'])\n",
    "    C.append(counts['C'])\n",
    "print (A)\n",
    "plt.figure()\n",
    "plt.hist(A, bins=100)\n",
    "\n",
    "plt.figure()\n",
    "plt.hist([A,C,G,T], bins=15,label=labels, color=colors)\n",
    "plt.legend()\n",
    "plt.show()\n"
   ]
  }
 ],
 "metadata": {
  "kernelspec": {
   "display_name": "Python 3",
   "language": "python",
   "name": "python3"
  },
  "language_info": {
   "codemirror_mode": {
    "name": "ipython",
    "version": 3
   },
   "file_extension": ".py",
   "mimetype": "text/x-python",
   "name": "python",
   "nbconvert_exporter": "python",
   "pygments_lexer": "ipython3",
   "version": "3.7.3"
  }
 },
 "nbformat": 4,
 "nbformat_minor": 1
}
