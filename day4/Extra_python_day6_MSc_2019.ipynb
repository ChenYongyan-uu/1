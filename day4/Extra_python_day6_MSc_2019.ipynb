{
 "cells": [
  {
   "cell_type": "code",
   "execution_count": null,
   "metadata": {},
   "outputs": [],
   "source": [
    "box = \"stuff\"        ### makes a variable called box which contains string \"stuff\"\n",
    "\n",
    "### starts a loop which executes print on each character for the item in box (so the string \"stuff\") in a sequenctial order\n",
    "### so things contains a different character each round of the loop \n",
    "### \n",
    "### TLDR: loops over strings, go sequential over the characters, one by one. \n",
    "for things in box:   \n",
    "    print (things)    "
   ]
  },
  {
   "cell_type": "code",
   "execution_count": null,
   "metadata": {},
   "outputs": [],
   "source": [
    "print (list(range(0,len(box)))) ### shows what is in range(0,len(box))"
   ]
  },
  {
   "cell_type": "code",
   "execution_count": null,
   "metadata": {},
   "outputs": [],
   "source": [
    "### this loop does the same thing but now uses the range as index to call the right character\n",
    "for i in range(0,len(box),2):\n",
    "    print (box[i])"
   ]
  },
  {
   "cell_type": "code",
   "execution_count": null,
   "metadata": {},
   "outputs": [],
   "source": [
    "### this loop does the same thing but now uses a list with numbers as index to call the right character\n",
    "for i in [0,1,2,3,4]:\n",
    "    print (box[i])"
   ]
  },
  {
   "cell_type": "code",
   "execution_count": null,
   "metadata": {},
   "outputs": [],
   "source": [
    "### range can also be used to get each second character (or third, or ....)\n",
    "print (list(range(0,len(box),2))) ### shows what is in range(0,len(box),2). So range from 0 to the length of variable box with step size 2\n",
    "for i in range(0,len(box),2):\n",
    "    print (box[i])"
   ]
  },
  {
   "cell_type": "code",
   "execution_count": null,
   "metadata": {},
   "outputs": [],
   "source": [
    "### we can also reverse the letters in box by using [::-1]\n",
    "print (list(range(0,len(box),2))) ### shows what is in range(0,len(box),2). So range from 0 to the length of variable box with step size 2\n",
    "for i in range(0,len(box),2):\n",
    "    print (box[::-1][i])"
   ]
  },
  {
   "cell_type": "code",
   "execution_count": null,
   "metadata": {},
   "outputs": [],
   "source": [
    "### when we want to put more than one string in a variable we can use a list\n",
    "box = [] ### crates an empty list variable called box\n",
    "print (box)\n",
    "box += [\"pots\",\"pans\",\"dishes\"] ### adds items to list variable called box\n",
    "print (box)"
   ]
  },
  {
   "cell_type": "code",
   "execution_count": null,
   "metadata": {},
   "outputs": [],
   "source": [
    "### a loop over a list, loops over the items in a list, in this case strings\n",
    "for kitchenstuff in box:\n",
    "    print (kitchenstuff)"
   ]
  },
  {
   "cell_type": "code",
   "execution_count": null,
   "metadata": {},
   "outputs": [],
   "source": [
    "### we can also loop over the characters in an item of a list\n",
    "### first we start the loop to go over the items in a list one by one\n",
    "for kitchenstuff in box:\n",
    "    print (kitchenstuff)\n",
    "    ### then we start another loop to go over the characters in a string one by one\n",
    "    for appel in kitchenstuff:\n",
    "        print (appel)"
   ]
  },
  {
   "cell_type": "code",
   "execution_count": null,
   "metadata": {},
   "outputs": [],
   "source": [
    "### we can make a list of lists\n",
    "pots = [\"bokkepootjes\",\"smurfen\"]\n",
    "pans = [\"friet\",\"nasi\",\"bami\"]\n",
    "dishes = [\"soep\",\"kruimels\"]\n",
    "box = [pots,pans,dishes]\n",
    "for kitchenstuff in box:\n",
    "    # print kitchenstuff\n",
    "    ### then we start another loop to go over the items in the pots, pans and dishes list variables \n",
    "    for appel in kitchenstuff:\n",
    "        print (appel)"
   ]
  },
  {
   "cell_type": "code",
   "execution_count": null,
   "metadata": {},
   "outputs": [],
   "source": [
    "### we can also make a dictionary, lets use the pots, pans and dishes as keys\n",
    "box = {} # create an empty dictionary \n",
    "### add lists as values to the pots, pans and dishes keys\n",
    "box['pots'] = [\"bokkepootjes\",\"smurfen\"] \n",
    "box['pans'] = [\"friet\",\"nasi\",\"bami\"]\n",
    "box['dishes'] = [\"soep\",\"kruimels\"]\n",
    "print (box)"
   ]
  },
  {
   "cell_type": "code",
   "execution_count": null,
   "metadata": {},
   "outputs": [],
   "source": [
    "### we can loop through dictionaries by the keys\n",
    "### temp. variable kitchenstuf now contains the keys of the dictionay box, one by one. \n",
    "for kitchenstuff in box:\n",
    "    print (kitchenstuff)"
   ]
  },
  {
   "cell_type": "code",
   "execution_count": null,
   "metadata": {},
   "outputs": [],
   "source": [
    "### We can use these keys to go through the dictionay\n",
    "for kitchenstuff in box:\n",
    "    print (box[kitchenstuff]) ### here the key in kitchenstuff is use to call the entry in dictionary box"
   ]
  },
  {
   "cell_type": "code",
   "execution_count": null,
   "metadata": {},
   "outputs": [],
   "source": [
    "### we can also make a dictionary of dictionaries \n",
    "box1 = {}\n",
    "box1['pots'] = [\"bokkepootjes\",\"smurfen\"] \n",
    "box1['pans'] = [\"friet\",\"nasi\",\"bami\"]\n",
    "box1['dishes'] = [\"soep\",\"kruimels\"]\n",
    "\n",
    "box2 = {}\n",
    "box2['bathroom'] = ['towels','soap','chicken']\n",
    "box2['bedroom'] = ['bed','blanket','nightcap']\n",
    "\n",
    "box3 = {}\n",
    "box3['shed'] = ['tv','shovel','gloves']\n",
    "box3['garden'] =['gnome','frog','pots','towel','book']\n",
    "\n",
    "achterbak = {}\n",
    "achterbak['box1'] = box1\n",
    "achterbak['box2'] = box2\n",
    "achterbak['box3'] = box3\n",
    "\n",
    "print (achterbak)"
   ]
  },
  {
   "cell_type": "code",
   "execution_count": null,
   "metadata": {},
   "outputs": [],
   "source": [
    "### now we can use loops and print to see what is in the achterbak\n",
    "\n",
    "for boxes in achterbak:\n",
    "    boxname = boxes\n",
    "    for things in achterbak[boxes]:\n",
    "        indedoos = achterbak[boxes][things]\n",
    "        for dingen in indedoos:\n",
    "            print (dingen)"
   ]
  },
  {
   "cell_type": "code",
   "execution_count": null,
   "metadata": {},
   "outputs": [],
   "source": [
    "### now we can use loops and print to see what is in the achterbak and mess with is\n",
    "wille_keur = \"\"\n",
    "\n",
    "for boxes in achterbak:\n",
    "    boxname = boxes\n",
    "    for things in achterbak[boxes]:\n",
    "        indedoos = achterbak[boxes][things]\n",
    "        for dingen in indedoos:\n",
    "            for char in dingen:\n",
    "                if char > \"k\":\n",
    "                    wille_keur += str(char)\n",
    "                else:\n",
    "                    wille_keur = wille_keur[::-1] \n",
    "                    wille_keur += str(char)\n",
    "            print (wille_keur)        \n",
    "                    "
   ]
  },
  {
   "cell_type": "code",
   "execution_count": null,
   "metadata": {},
   "outputs": [],
   "source": [
    "# lets see what two letter combinations we can find nad collect those in a dictionary \n",
    "twee_letters = {}\n",
    "\n",
    "for i in range(0,len(wille_keur),2):\n",
    "    dit_wordt_de_key = wille_keur[i:(i+2)]\n",
    "    if dit_wordt_de_key in twee_letters:\n",
    "        twee_letters[dit_wordt_de_key] +=1\n",
    "    else:\n",
    "        twee_letters[dit_wordt_de_key] = 1\n",
    "print (twee_letters)      \n",
    "    "
   ]
  },
  {
   "cell_type": "code",
   "execution_count": null,
   "metadata": {},
   "outputs": [],
   "source": [
    "# let's open a file and get the data as one long string\n",
    "snail_file = open(\"snail.txt\",\"r\")\n",
    "snail_txt = \"\"  \n",
    "for lijn in snail_file:\n",
    "    snail_txt += lijn\n",
    "snail_file.close()\n",
    "\n",
    "print (snail_txt)  "
   ]
  },
  {
   "cell_type": "code",
   "execution_count": null,
   "metadata": {},
   "outputs": [],
   "source": [
    "## let's split the text in to separate words and count how often they are used\n",
    "snail = snail_txt.split(' ')\n",
    "woordenboek = {}\n",
    "for words in snail:\n",
    "    if words in woordenboek:\n",
    "        woordenboek[words] += 1\n",
    "    else:\n",
    "        woordenboek[words] = 1\n",
    "        \n",
    "woordenboek        "
   ]
  },
  {
   "cell_type": "code",
   "execution_count": null,
   "metadata": {},
   "outputs": [],
   "source": [
    "## let's conount how ofter each character is used and store this in a dictionary\n",
    "woordenboek = {}\n",
    "for words in snail_txt:\n",
    "    if words in woordenboek:\n",
    "        woordenboek[words] += 1\n",
    "    else:\n",
    "        woordenboek[words] = 1\n",
    "        \n",
    "woordenboek       "
   ]
  },
  {
   "cell_type": "code",
   "execution_count": null,
   "metadata": {},
   "outputs": [],
   "source": [
    "### show the key and values in the dictionary\n",
    "print (woordenboek.keys())\n",
    "print (woordenboek.values())"
   ]
  },
  {
   "cell_type": "code",
   "execution_count": null,
   "metadata": {},
   "outputs": [],
   "source": [
    "## Show the character usage in the snail story\n",
    "# The following line to allow the plots to be displayed as part of the jupyter notebook\n",
    "%matplotlib inline\n",
    "\n",
    "# Import matplotlib's function pyplot to make simple plots\n",
    "import matplotlib.pyplot as plt # To avoid using big names rename the module as plt\n",
    "fig=plt.figure(figsize=(30, 20), dpi= 120, facecolor='w', edgecolor='k')\n",
    "plt.bar(range(0,len(woordenboek.values())),woordenboek.values(),tick_label =list(woordenboek.keys())) \n",
    "plt.show()"
   ]
  },
  {
   "cell_type": "code",
   "execution_count": null,
   "metadata": {},
   "outputs": [],
   "source": []
  }
 ],
 "metadata": {
  "kernelspec": {
   "display_name": "Python 3",
   "language": "python",
   "name": "python3"
  },
  "language_info": {
   "codemirror_mode": {
    "name": "ipython",
    "version": 3
   },
   "file_extension": ".py",
   "mimetype": "text/x-python",
   "name": "python",
   "nbconvert_exporter": "python",
   "pygments_lexer": "ipython3",
   "version": "3.6.5"
  }
 },
 "nbformat": 4,
 "nbformat_minor": 2
}
