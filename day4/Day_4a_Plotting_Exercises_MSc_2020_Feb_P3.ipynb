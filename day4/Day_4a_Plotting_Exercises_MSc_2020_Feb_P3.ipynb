{
 "cells": [
  {
   "cell_type": "markdown",
   "metadata": {},
   "source": [
    "## Plotting in Python\n",
    "\n",
    "Matplotlib is a Python 2D plotting library which can produces publication quality figures.\n",
    "\n",
    "You can generate plots, histograms, power spectra, bar charts, errorcharts, scatterplots, etc, with just a few lines of code.\n",
    "\n",
    "Check the link for more details: http://matplotlib.org/\n",
    "\n",
    "\n",
    "-----------------------------------------------------------------------------------------\n",
    "\n",
    "- Use the following line to allow the plots to be displayed as part of the jupyter notebook:\n",
    "```    %matplotlib inline ```\n",
    "- After this, we need to import the plot module from matplotlib\n",
    "```python\n",
    "  %matplotlib inline\n",
    "  import matplotlib.pyplot as plt\n",
    "```\n",
    "- We can then plot a line by first inputting an array of x-coordinates and  an array of y-coordinates\n",
    "``` plt.plot([1,2,3,4],[2,4,6,12]) ```\n",
    "- Then we show the plot by ```plt.show()```"
   ]
  },
  {
   "cell_type": "code",
   "execution_count": null,
   "metadata": {
    "scrolled": true
   },
   "outputs": [],
   "source": [
    "# The following line to allows the plots to be displayed as part of the jupyter notebook\n",
    "%matplotlib inline\n",
    "\n",
    "# Import matplotlib's function pyplot to make simple plots\n",
    "import matplotlib.pyplot as plt # To avoid using big names rename the module as plt\n",
    "\n",
    "plt.plot([1,2,3,4],[2,4,6,12]) \n",
    "plt.show()\n"
   ]
  },
  {
   "cell_type": "code",
   "execution_count": null,
   "metadata": {},
   "outputs": [],
   "source": [
    "\n",
    "# In order to save the plot in the folder in which the script is located, an additional command is needed:\n",
    "\n",
    "plt.plot([1,2,3,4],[2,4,6,12]) \n",
    "plt.show()\n",
    "plt.savefig('test_plot.png', transparent=True) #save figure!\n"
   ]
  },
  {
   "cell_type": "markdown",
   "metadata": {},
   "source": [
    "# Plotting\n",
    "\n",
    "- There are a lot of other functions you can use with the plot\n",
    "- You can add a third parameter to the ```plot``` function to label the line.\n",
    "    - ```plt.plot([1,2,3,4],[2,4,6,12],label='Series1') ```\n",
    "- You can also give labels to the x and y axis\n",
    "```python\n",
    "plt.xlabel(\"Time\")\n",
    "plt.ylabel(\"Fluorescence\")\n",
    "```\n",
    "- You can name the plot with a title\n",
    "```python\n",
    "plt.title(\"Plot\")\n",
    "```\n",
    "Check the link for plotting: http://matplotlib.org/users/pyplot_tutorial.html"
   ]
  },
  {
   "cell_type": "code",
   "execution_count": null,
   "metadata": {},
   "outputs": [],
   "source": [
    "# Import matplotlib's function pyplot to make simple plots\n",
    "%matplotlib inline \n",
    "import matplotlib.pyplot as plt\n",
    "\n",
    "# Plot a line\n",
    "plt.plot([1,2,3,4],[2,4,6,12],label='Series1') \n",
    "\n",
    "# Add Label for the X axis \n",
    "plt.xlabel('X') \n",
    "\n",
    "# Add Label for the Y axis \n",
    "plt.ylabel('Y') \n",
    "\n",
    "# Add Title to the plot \n",
    "plt.title('Test Plot') \n",
    "\n",
    "plt.show()"
   ]
  },
  {
   "cell_type": "code",
   "execution_count": null,
   "metadata": {
    "scrolled": true
   },
   "outputs": [],
   "source": [
    "# Import matplotlib's function pyplot to make simple plots\n",
    "\n",
    "import matplotlib.pyplot as plt\n",
    "\n",
    "# Plot a line\n",
    "plt.plot([1,2,3,4],[2,4,6,12],label='S1', marker='x', linestyle='-', color='b') \n",
    "# you can change several parameters.\n",
    "plt.plot([1,2,3,4],[1,4,9,16],label='S2', marker='o', linestyle='--', color='r')\n",
    "plt.plot([1,2,3,4],[3,0,20,9],label='S3', marker='.', linestyle='-.', color='g')\n",
    "plt.legend()\n",
    "\n",
    "# Add Label for the X axis \n",
    "plt.xlabel('A-axis') \n",
    "\n",
    "# Add Label for the Y axis \n",
    "plt.ylabel('B-axis') \n",
    "\n",
    "# Add Title to the plot \n",
    "plt.title('Nice Figure') \n",
    "\n",
    "plt.show()"
   ]
  },
  {
   "cell_type": "markdown",
   "metadata": {},
   "source": [
    "## Line Plots: Exercise\n",
    "\n",
    "1. Import the ```matplotlib.pyplot``` module\n",
    "2. Import the ```math``` module\n",
    "3. Create three new empty variable lists\n",
    "    - List for x values\n",
    "    - List for sin(x) values\n",
    "    - List for cos(x) values\n",
    "4. Create a for loop creating 60 data points with 0.1 difference between the values (e.g. 0.1, 0.2, 0.3, 0.4 etc). \n",
    "5. For each points, add the value to the list, the sin value to that list and the cosine value to that list\n",
    "6. Plot the x vs cos line and the x vs sin line using the three lists"
   ]
  },
  {
   "cell_type": "code",
   "execution_count": null,
   "metadata": {
    "scrolled": true
   },
   "outputs": [],
   "source": [
    "#1. Import matplotlib's function pyplot to make simple plots\n",
    "#2. Import math module to access sin and cosine functions\n"
   ]
  },
  {
   "cell_type": "code",
   "execution_count": null,
   "metadata": {},
   "outputs": [],
   "source": [
    "#3. Create three new empty variable lists to store x values, sin(x) values and cos(x) values\n"
   ]
  },
  {
   "cell_type": "code",
   "execution_count": null,
   "metadata": {},
   "outputs": [],
   "source": [
    "#4. Create a for loop creating 60 data points with 0.1 difference between the values (e.g. 0.1, 0.2, 0.3, 0.4 etc). \n"
   ]
  },
  {
   "cell_type": "code",
   "execution_count": null,
   "metadata": {},
   "outputs": [],
   "source": [
    "#5 For each point, add the value to the x list, the sin value to the sin list and the cosine value to the cos list\n"
   ]
  },
  {
   "cell_type": "code",
   "execution_count": null,
   "metadata": {},
   "outputs": [],
   "source": [
    "#6. Plot the x vs cos line and the x vs sin line using the three lists\n"
   ]
  },
  {
   "cell_type": "markdown",
   "metadata": {},
   "source": [
    "# Histograms\n",
    "- Besides lines, we can also create histograms with matplotlib\n",
    "- An histogram is created by using ```plt.hist([1,2,3,4,5,5,5,5,6,7])```\n",
    "        or ```plt.hist([[1,2,2,2,3,3,3,4,5,6,7],[5,6,5,6,5,6,7,8,2]])```\n",
    "        \n",
    "- The input is a single array with data, list or list of lists\n",
    "- You can vary the number of bins and see what will happen\n",
    "- You can use the same functions as the plot for this\n",
    "    - ```python\n",
    "    plt.xlabel(\"X\")\n",
    "    plt.ylabel(\"Y\")\n",
    "    plt.title(\"Normal distribution\")\n",
    "    ```"
   ]
  },
  {
   "cell_type": "code",
   "execution_count": null,
   "metadata": {
    "scrolled": true
   },
   "outputs": [],
   "source": [
    "import matplotlib.pyplot as plt\n",
    "import random \n",
    "\n",
    "#Create an empty list to store data \n",
    "data=[] \n",
    "\n",
    "#Generate 500 data values \n",
    "for i in range(500): \n",
    "    data += [random.normalvariate(10, 3)] \n",
    "\n",
    "#Plot a histogram \n",
    "plt.hist(data,bins=10)  ## change the bins in to a different number\n",
    "\n",
    "#Set X and Y labels and plot title \n",
    "plt.xlabel('Values') \n",
    "plt.ylabel('Frequency') \n",
    "plt.title('Normal Distribution') \n",
    "\n",
    "plt.show()"
   ]
  },
  {
   "cell_type": "code",
   "execution_count": null,
   "metadata": {},
   "outputs": [],
   "source": [
    "#Create three empty lists to store data \n",
    "set1 = []\n",
    "set2 = []\n",
    "set3 = []\n",
    "\n",
    "\n",
    "#Generate 3 sets with 1000 data values \n",
    "for i in range(1000): \n",
    "    set1 += [random.normalvariate(10, 3)] \n",
    "    set2 += [random.normalvariate(11, 1)]   \n",
    "    set3 += [random.normalvariate(2, 7)] \n",
    "    \n",
    "## when we make a list of lists the plt.hist function will plot three separate histograms in one panel    \n",
    "moredata=[set1,set2,set3] \n",
    "\n",
    "plt.hist(moredata,bins=100) ## change the bins in to a different number\n",
    "plt.legend([\"1\",\"2\",\"3\"])\n",
    "plt.show()"
   ]
  },
  {
   "cell_type": "markdown",
   "metadata": {},
   "source": [
    "  \n",
    "## Plotting: Exercise 2 (Assignment type)\n",
    "\n",
    "1. Import the random and dna_tools module\n",
    "- Create 2 new variables with random DNA nucleotides of length 500.\n",
    "    - Hint: use the random module and for loop\n",
    "- Use your own dna_tools module to count nucleotide usage (A,T,G, \tand C) in seq_r1 and seq_r2. \n",
    "- Make a line plot to display the nucleotide usage. \n",
    "- Use different markers and labels for the two different sequences.\n"
   ]
  },
  {
   "cell_type": "code",
   "execution_count": null,
   "metadata": {
    "scrolled": true
   },
   "outputs": [],
   "source": [
    "#1. Import the random and dna_tools module\n"
   ]
  },
  {
   "cell_type": "code",
   "execution_count": null,
   "metadata": {},
   "outputs": [],
   "source": [
    "#2. Create 2 new variables with random DNA nucleotides of length 500.\n"
   ]
  },
  {
   "cell_type": "code",
   "execution_count": null,
   "metadata": {},
   "outputs": [],
   "source": [
    "#3. Use your own dna_tools module to count nucleotide usage (A,T,G, and C) in random sequence 1 and random sequence 2\n",
    "# also print the result"
   ]
  },
  {
   "cell_type": "code",
   "execution_count": null,
   "metadata": {},
   "outputs": [],
   "source": [
    "#4. Show the nucleotide usage in a line plot\n",
    "# do the values match those in Q3?\n"
   ]
  },
  {
   "cell_type": "code",
   "execution_count": null,
   "metadata": {},
   "outputs": [],
   "source": [
    "#5. Use different markers and labels for the two different sequences.\n"
   ]
  },
  {
   "cell_type": "markdown",
   "metadata": {},
   "source": [
    "## Plotting - Exercise 3 (Assignment type)\n",
    "1. Import the random and dna_tools modules\n",
    "- Generate 100 random DNA sequences of length 500. \n",
    "    - Store these sequences in a list\n",
    "- Plot a histogram for 'A' nucleotide usage in the 100 random DNA \tsequences. \n",
    "- Add histograms of other nucleotide usage in the same histogram."
   ]
  },
  {
   "cell_type": "code",
   "execution_count": null,
   "metadata": {
    "scrolled": true
   },
   "outputs": [],
   "source": [
    "#1. Import the random and dna_tools modules\n"
   ]
  },
  {
   "cell_type": "code",
   "execution_count": null,
   "metadata": {},
   "outputs": [],
   "source": [
    "#2. Generate 100 random DNA sequences of length 500. Store these sequences in a list\n"
   ]
  },
  {
   "cell_type": "code",
   "execution_count": null,
   "metadata": {},
   "outputs": [],
   "source": [
    "#3. Plot a histogram for 'A' nucleotide usage in the 100 random DNA sequences. \n"
   ]
  },
  {
   "cell_type": "code",
   "execution_count": null,
   "metadata": {},
   "outputs": [],
   "source": [
    "#4. Add histograms of other nucleotide usage in the same histogram.\n"
   ]
  },
  {
   "cell_type": "code",
   "execution_count": null,
   "metadata": {},
   "outputs": [],
   "source": []
  }
 ],
 "metadata": {
  "kernelspec": {
   "display_name": "Python 3",
   "language": "python",
   "name": "python3"
  },
  "language_info": {
   "codemirror_mode": {
    "name": "ipython",
    "version": 3
   },
   "file_extension": ".py",
   "mimetype": "text/x-python",
   "name": "python",
   "nbconvert_exporter": "python",
   "pygments_lexer": "ipython3",
   "version": "3.7.3"
  }
 },
 "nbformat": 4,
 "nbformat_minor": 1
}
