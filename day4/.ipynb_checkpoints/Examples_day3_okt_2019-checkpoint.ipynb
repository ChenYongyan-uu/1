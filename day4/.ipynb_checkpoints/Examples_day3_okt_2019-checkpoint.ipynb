{
 "cells": [
  {
   "cell_type": "code",
   "execution_count": 1,
   "metadata": {},
   "outputs": [
    {
     "name": "stdout",
     "output_type": "stream",
     "text": [
      "xenopus\n",
      "cat\n",
      "dog\n",
      "fish\n",
      "elmo\n",
      "goat\n",
      "shark\n"
     ]
    }
   ],
   "source": [
    "my_pets = [\"xenopus\",\"cat\",\"dog\",\"fish\",\"elmo\",\"goat\",\"shark\"]\n",
    "\n",
    "for animal in my_pets:\n",
    "    print(animal)"
   ]
  },
  {
   "cell_type": "code",
   "execution_count": 2,
   "metadata": {},
   "outputs": [
    {
     "name": "stdout",
     "output_type": "stream",
     "text": [
      "xenopus 7\n",
      "cat 3\n",
      "dog 3\n",
      "fish 4\n",
      "elmo 4\n",
      "goat 4\n",
      "shark 5\n"
     ]
    }
   ],
   "source": [
    "my_pets = [\"xenopus\",\"cat\",\"dog\",\"fish\",\"elmo\",\"goat\",\"shark\"]\n",
    "\n",
    "for animal in my_pets:\n",
    "    print(animal, len(animal))"
   ]
  },
  {
   "cell_type": "code",
   "execution_count": 3,
   "metadata": {},
   "outputs": [
    {
     "name": "stdout",
     "output_type": "stream",
     "text": [
      "['xenopus', 'cat', 'dog', 'fish', 'elmo', 'goat', 'shark']\n",
      "['cat', 'dog', 'elmo', 'fish', 'goat', 'shark', 'xenopus']\n",
      "cat 3\n",
      "dog 3\n",
      "elmo 4\n",
      "fish 4\n",
      "goat 4\n",
      "shark 5\n",
      "xenopus 7\n"
     ]
    }
   ],
   "source": [
    "my_pets = [\"xenopus\",\"cat\",\"dog\",\"fish\",\"elmo\",\"goat\",\"shark\"]\n",
    "print(my_pets)\n",
    "my_pets.sort()\n",
    "print(my_pets)\n",
    "for animal in my_pets:\n",
    "    print(animal, len(animal))"
   ]
  },
  {
   "cell_type": "code",
   "execution_count": null,
   "metadata": {},
   "outputs": [],
   "source": [
    "my_pets = [\"xenopus\",\"cat\",\"dog\",\"fish\",\"elmo\",\"goat\",\"shark\"]\n",
    "my_pets.sort()\n",
    "for index in range(0,len(my_pets)):\n",
    "    animal = my_pets[index]\n",
    "    print(animal, len(animal))"
   ]
  },
  {
   "cell_type": "code",
   "execution_count": null,
   "metadata": {},
   "outputs": [],
   "source": [
    "my_pets = [\"xenopus\",\"cat\",\"dog\",\"fish\",\"elmo\",\"goat\",\"shark\"]\n",
    "my_pets.sort()\n",
    "for index in range(0,len(my_pets)):\n",
    "    animal = my_pets[index].capitalize()\n",
    "    print(animal, len(animal))\n",
    "print(my_pets)"
   ]
  },
  {
   "cell_type": "code",
   "execution_count": null,
   "metadata": {},
   "outputs": [],
   "source": [
    "my_pets = [\"xenopus\",\"cat\",\"dog\",\"fish\",\"elmo\",\"goat\",\"shark\"]\n",
    "my_pets.sort()\n",
    "for index in range(0,len(my_pets)):\n",
    "    animal = my_pets[index].capitalize()\n",
    "    my_pets[index] = animal\n",
    "    print(my_pets[index], len(my_pets[index]))\n",
    "    \n",
    "print(my_pets)"
   ]
  },
  {
   "cell_type": "code",
   "execution_count": null,
   "metadata": {},
   "outputs": [],
   "source": [
    "my_pets = {\"animal1\":\"xenopus\",\"animal2\":\"cat\",\"animal3\":\"dog\",\"animal4\":\"fish\",\"animal5\":\"elmo\",\"animal6\":\"goat\",\"animal7\":\"shark\"}\n",
    "# my_pets.sort()\n",
    "for index in range(0,len(my_pets)):\n",
    "    animal = my_pets[index].capitalize()\n",
    "    my_pets[index] = animal\n",
    "    print(my_pets[index], len(my_pets[index]))\n",
    "    \n",
    "print(my_pets)"
   ]
  },
  {
   "cell_type": "code",
   "execution_count": null,
   "metadata": {},
   "outputs": [],
   "source": [
    "my_pets = {\"animal1\":\"xenopus\",\"animal2\":\"cat\",\"animal3\":\"dog\",\"animal4\":\"fish\",\"animal5\":\"elmo\",\"animal6\":\"goat\",\"animal7\":\"shark\"}\n",
    "\n",
    "for keys in my_pets:\n",
    "    print(keys)\n",
    "    \n"
   ]
  },
  {
   "cell_type": "code",
   "execution_count": null,
   "metadata": {},
   "outputs": [],
   "source": [
    "my_pets = {\"animal1\":\"xenopus\",\"animal2\":\"cat\",\"animal3\":\"dog\",\"animal4\":\"fish\",\"animal5\":\"elmo\",\"animal6\":\"goat\",\"animal7\":\"shark\"}\n",
    "\n",
    "for keys in my_pets:\n",
    "    \n",
    "    animal = my_pets[keys].capitalize()\n",
    "    my_pets[keys] = animal\n",
    "    print(my_pets[keys], len(my_pets[keys]))\n",
    "    \n",
    "print(my_pets)"
   ]
  },
  {
   "cell_type": "code",
   "execution_count": null,
   "metadata": {},
   "outputs": [],
   "source": [
    "my_pets = {\"animal1\":\"xenopus\",\"animal2\":\"cat\",\"animal3\":\"dog\",\"animal4\":\"fish\",\"animal5\":\"elmo\",\"animal6\":\"goat\",\"animal7\":\"shark\"}\n",
    "\n",
    "for keys in my_pets:\n",
    "    \n",
    "    animal = my_pets[keys].capitalize()\n",
    "    my_pets[keys] = animal\n",
    "    print(my_pets[keys], len(my_pets[keys]))\n",
    "    \n",
    "print(my_pets)"
   ]
  },
  {
   "cell_type": "code",
   "execution_count": null,
   "metadata": {},
   "outputs": [],
   "source": [
    "my_pets = [\"xenopus\",\"cat\",\"dog\",\"fish\",\"elmo\",\"goat\",\"shark\"]\n",
    "\"\".join(my_pets)"
   ]
  },
  {
   "cell_type": "code",
   "execution_count": null,
   "metadata": {},
   "outputs": [],
   "source": [
    "allanimals = \"\"\n",
    "for item in my_pets:\n",
    "    allanimals += item\n",
    "    print(allanimals)"
   ]
  },
  {
   "cell_type": "code",
   "execution_count": null,
   "metadata": {},
   "outputs": [],
   "source": [
    "my_dna = \"atgcagtacgatgacga\"\n",
    "\n",
    "for codon_start in range(0,len(my_dna),3):\n",
    "    print(my_dna[codon_start:(codon_start+3)])\n"
   ]
  },
  {
   "cell_type": "code",
   "execution_count": null,
   "metadata": {},
   "outputs": [],
   "source": [
    "my_dna = \"atgcagtacgatgacgaactacatcagtagcgacgatagcagtagcagatgacgatagcacagattaaattatatagacagcgcagcgacatagacgatacgacga\"\n",
    "# print(my_dna)\n",
    "codon_counts = {}\n",
    "for codon_start in range(0,len(my_dna),3):\n",
    "    codon = my_dna[codon_start:(codon_start+3)]\n",
    "    if len(codon) == 3:\n",
    "        if codon in codon_counts:\n",
    "            codon_counts[codon] +=1\n",
    "        else:\n",
    "            codon_counts[codon] = 1\n",
    "print(codon_counts)"
   ]
  },
  {
   "cell_type": "code",
   "execution_count": null,
   "metadata": {},
   "outputs": [],
   "source": [
    "def count_codon(my_dna):\n",
    "    codon_counts = {}\n",
    "    for codon_start in range(0,len(my_dna),3):\n",
    "        codon = my_dna[codon_start:(codon_start+3)]\n",
    "        if codon in codon_counts:\n",
    "            codon_counts[codon] +=1\n",
    "        else:\n",
    "            codon_counts[codon] = 1\n",
    "    return codon_counts\n",
    "\n",
    "count_codon(\"actacatcatgatacgactcagcatagcagactagcacgatacgac\"*1000)"
   ]
  },
  {
   "cell_type": "code",
   "execution_count": null,
   "metadata": {},
   "outputs": [],
   "source": [
    "def count_codon(my_dna, by = 3):\n",
    "    codon_counts = {}\n",
    "    for codon_start in range(0,len(my_dna),by):\n",
    "        codon = my_dna[codon_start:(codon_start+by)]\n",
    "        if codon in codon_counts:\n",
    "            codon_counts[codon] +=1\n",
    "        else:\n",
    "            codon_counts[codon] = 1\n",
    "    return codon_counts\n",
    "\n",
    "count_codon(\"actacatcatgatacgactcagcatagcagactagcacgatacgac\"*10)"
   ]
  },
  {
   "cell_type": "code",
   "execution_count": null,
   "metadata": {},
   "outputs": [],
   "source": [
    "my_dna = \"atgcagtacgatgacgaactacatcagtagcgacgatagcagtagcagatgacgatagcacagattaaattatatagacagcgcagcgacatagacgatacgacga\"\n",
    "#print(my_dna)\n",
    "codon_counts = {}\n",
    "for codon_start in range(0,len(my_dna),3):\n",
    "    codon = my_dna[codon_start:(codon_start+3)]\n",
    "    if codon in codon_counts:\n",
    "        codon_counts[codon][\"count\"] +=1\n",
    "    else:\n",
    "        codon_counts[codon] = {\"count\":1,\"start_nuc\":codon[0],\"length\":len(codon)}\n",
    "print(codon_counts)"
   ]
  }
 ],
 "metadata": {
  "kernelspec": {
   "display_name": "Python 3",
   "language": "python",
   "name": "python3"
  },
  "language_info": {
   "codemirror_mode": {
    "name": "ipython",
    "version": 3
   },
   "file_extension": ".py",
   "mimetype": "text/x-python",
   "name": "python",
   "nbconvert_exporter": "python",
   "pygments_lexer": "ipython3",
   "version": "3.7.4"
  }
 },
 "nbformat": 4,
 "nbformat_minor": 2
}
