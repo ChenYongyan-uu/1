{
 "cells": [
  {
   "cell_type": "code",
   "execution_count": 1,
   "metadata": {},
   "outputs": [
    {
     "name": "stdout",
     "output_type": "stream",
     "text": [
      "s\n",
      "t\n",
      "u\n",
      "f\n",
      "f\n"
     ]
    }
   ],
   "source": [
    "box = \"stuff\"        ### makes a variable called box which contains string \"stuff\"\n",
    "\n",
    "### starts a loop which executes print on each character for the item in box (so the string \"stuff\") in a sequenctial order\n",
    "### so things contains a different character each round of the loop \n",
    "### \n",
    "### TLDR: loops over strings, go sequential over the characters, one by one. \n",
    "for things in box:   \n",
    "    print (things)    "
   ]
  },
  {
   "cell_type": "code",
   "execution_count": 2,
   "metadata": {},
   "outputs": [
    {
     "name": "stdout",
     "output_type": "stream",
     "text": [
      "[0, 1, 2, 3, 4]\n"
     ]
    }
   ],
   "source": [
    "print (list(range(0,len(box)))) ### shows what is in range(0,len(box))"
   ]
  },
  {
   "cell_type": "code",
   "execution_count": 3,
   "metadata": {},
   "outputs": [
    {
     "name": "stdout",
     "output_type": "stream",
     "text": [
      "s\n",
      "u\n",
      "f\n"
     ]
    }
   ],
   "source": [
    "### this loop does the same thing but now uses the range as index to call the right character\n",
    "for i in range(0,len(box),2):\n",
    "    print (box[i])"
   ]
  },
  {
   "cell_type": "code",
   "execution_count": 4,
   "metadata": {},
   "outputs": [
    {
     "name": "stdout",
     "output_type": "stream",
     "text": [
      "s\n",
      "t\n",
      "u\n",
      "f\n",
      "f\n"
     ]
    }
   ],
   "source": [
    "### this loop does the same thing but now uses a list with numbers as index to call the right character\n",
    "for i in [0,1,2,3,4]:\n",
    "    print (box[i])"
   ]
  },
  {
   "cell_type": "code",
   "execution_count": 5,
   "metadata": {},
   "outputs": [
    {
     "name": "stdout",
     "output_type": "stream",
     "text": [
      "[0, 2, 4]\n",
      "s\n",
      "u\n",
      "f\n"
     ]
    }
   ],
   "source": [
    "### range can also be used to get each second character (or third, or ....)\n",
    "print (list(range(0,len(box),2))) ### shows what is in range(0,len(box),2). So range from 0 to the length of variable box with step size 2\n",
    "for i in range(0,len(box),2):\n",
    "    print (box[i])"
   ]
  },
  {
   "cell_type": "code",
   "execution_count": 6,
   "metadata": {},
   "outputs": [
    {
     "name": "stdout",
     "output_type": "stream",
     "text": [
      "[0, 2, 4]\n",
      "f\n",
      "u\n",
      "s\n"
     ]
    }
   ],
   "source": [
    "### we can also reverse the letters in box by using [::-1]\n",
    "print (list(range(0,len(box),2))) ### shows what is in range(0,len(box),2). So range from 0 to the length of variable box with step size 2\n",
    "for i in range(0,len(box),2):\n",
    "    print (box[::-1][i])"
   ]
  },
  {
   "cell_type": "code",
   "execution_count": 7,
   "metadata": {},
   "outputs": [
    {
     "name": "stdout",
     "output_type": "stream",
     "text": [
      "[]\n",
      "['pots', 'pans', 'dishes']\n"
     ]
    }
   ],
   "source": [
    "### when we want to put more than one string in a variable we can use a list\n",
    "box = [] ### crates an empty list variable called box\n",
    "print (box)\n",
    "box += [\"pots\",\"pans\",\"dishes\"] ### adds items to list variable called box\n",
    "print (box)"
   ]
  },
  {
   "cell_type": "code",
   "execution_count": 8,
   "metadata": {},
   "outputs": [
    {
     "name": "stdout",
     "output_type": "stream",
     "text": [
      "pots\n",
      "pans\n",
      "dishes\n"
     ]
    }
   ],
   "source": [
    "### a loop over a list, loops over the items in a list, in this case strings\n",
    "for kitchenstuff in box:\n",
    "    print (kitchenstuff)"
   ]
  },
  {
   "cell_type": "code",
   "execution_count": 9,
   "metadata": {},
   "outputs": [
    {
     "name": "stdout",
     "output_type": "stream",
     "text": [
      "pots\n",
      "p\n",
      "o\n",
      "t\n",
      "s\n",
      "pans\n",
      "p\n",
      "a\n",
      "n\n",
      "s\n",
      "dishes\n",
      "d\n",
      "i\n",
      "s\n",
      "h\n",
      "e\n",
      "s\n"
     ]
    }
   ],
   "source": [
    "### we can also loop over the characters in an item of a list\n",
    "### first we start the loop to go over the items in a list one by one\n",
    "for kitchenstuff in box:\n",
    "    print (kitchenstuff)\n",
    "    ### then we start another loop to go over the characters in a string one by one\n",
    "    for appel in kitchenstuff:\n",
    "        print (appel)"
   ]
  },
  {
   "cell_type": "code",
   "execution_count": 10,
   "metadata": {},
   "outputs": [
    {
     "name": "stdout",
     "output_type": "stream",
     "text": [
      "bokkepootjes\n",
      "smurfen\n",
      "friet\n",
      "nasi\n",
      "bami\n",
      "soep\n",
      "kruimels\n"
     ]
    }
   ],
   "source": [
    "### we can make a list of lists\n",
    "pots = [\"bokkepootjes\",\"smurfen\"]\n",
    "pans = [\"friet\",\"nasi\",\"bami\"]\n",
    "dishes = [\"soep\",\"kruimels\"]\n",
    "box = [pots,pans,dishes]\n",
    "for kitchenstuff in box:\n",
    "    # print kitchenstuff\n",
    "    ### then we start another loop to go over the items in the pots, pans and dishes list variables \n",
    "    for appel in kitchenstuff:\n",
    "        print (appel)"
   ]
  },
  {
   "cell_type": "code",
   "execution_count": 11,
   "metadata": {},
   "outputs": [
    {
     "name": "stdout",
     "output_type": "stream",
     "text": [
      "{'pots': ['bokkepootjes', 'smurfen'], 'pans': ['friet', 'nasi', 'bami'], 'dishes': ['soep', 'kruimels']}\n"
     ]
    }
   ],
   "source": [
    "### we can also make a dictionary, lets use the pots, pans and dishes as keys\n",
    "box = {} # create an empty dictionary \n",
    "### add lists as values to the pots, pans and dishes keys\n",
    "box['pots'] = [\"bokkepootjes\",\"smurfen\"] \n",
    "box['pans'] = [\"friet\",\"nasi\",\"bami\"]\n",
    "box['dishes'] = [\"soep\",\"kruimels\"]\n",
    "print (box)"
   ]
  },
  {
   "cell_type": "code",
   "execution_count": 12,
   "metadata": {},
   "outputs": [
    {
     "name": "stdout",
     "output_type": "stream",
     "text": [
      "pots\n",
      "pans\n",
      "dishes\n"
     ]
    }
   ],
   "source": [
    "### we can loop through dictionaries by the keys\n",
    "### temp. variable kitchenstuf now contains the keys of the dictionay box, one by one. \n",
    "for kitchenstuff in box:\n",
    "    print (kitchenstuff)"
   ]
  },
  {
   "cell_type": "code",
   "execution_count": 13,
   "metadata": {},
   "outputs": [
    {
     "name": "stdout",
     "output_type": "stream",
     "text": [
      "['bokkepootjes', 'smurfen']\n",
      "['friet', 'nasi', 'bami']\n",
      "['soep', 'kruimels']\n"
     ]
    }
   ],
   "source": [
    "### We can use these keys to go through the dictionay\n",
    "for kitchenstuff in box:\n",
    "    print (box[kitchenstuff]) ### here the key in kitchenstuff is use to call the entry in dictionary box"
   ]
  },
  {
   "cell_type": "code",
   "execution_count": 14,
   "metadata": {},
   "outputs": [
    {
     "name": "stdout",
     "output_type": "stream",
     "text": [
      "{'box1': {'pots': ['bokkepootjes', 'smurfen'], 'pans': ['friet', 'nasi', 'bami'], 'dishes': ['soep', 'kruimels']}, 'box2': {'bathroom': ['towels', 'soap', 'chicken'], 'bedroom': ['bed', 'blanket', 'nightcap']}, 'box3': {'shed': ['tv', 'shovel', 'gloves'], 'garden': ['gnome', 'frog', 'pots', 'towel', 'book']}}\n"
     ]
    }
   ],
   "source": [
    "### we can also make a dictionary of dictionaries \n",
    "box1 = {}\n",
    "box1['pots'] = [\"bokkepootjes\",\"smurfen\"] \n",
    "box1['pans'] = [\"friet\",\"nasi\",\"bami\"]\n",
    "box1['dishes'] = [\"soep\",\"kruimels\"]\n",
    "\n",
    "box2 = {}\n",
    "box2['bathroom'] = ['towels','soap','chicken']\n",
    "box2['bedroom'] = ['bed','blanket','nightcap']\n",
    "\n",
    "box3 = {}\n",
    "box3['shed'] = ['tv','shovel','gloves']\n",
    "box3['garden'] =['gnome','frog','pots','towel','book']\n",
    "\n",
    "achterbak = {}\n",
    "achterbak['box1'] = box1\n",
    "achterbak['box2'] = box2\n",
    "achterbak['box3'] = box3\n",
    "\n",
    "print (achterbak)"
   ]
  },
  {
   "cell_type": "code",
   "execution_count": 15,
   "metadata": {},
   "outputs": [
    {
     "name": "stdout",
     "output_type": "stream",
     "text": [
      "bokkepootjes\n",
      "smurfen\n",
      "friet\n",
      "nasi\n",
      "bami\n",
      "soep\n",
      "kruimels\n",
      "towels\n",
      "soap\n",
      "chicken\n",
      "bed\n",
      "blanket\n",
      "nightcap\n",
      "tv\n",
      "shovel\n",
      "gloves\n",
      "gnome\n",
      "frog\n",
      "pots\n",
      "towel\n",
      "book\n"
     ]
    }
   ],
   "source": [
    "### now we can use loops and print to see what is in the achterbak\n",
    "\n",
    "for boxes in achterbak:\n",
    "    boxname = boxes\n",
    "    for things in achterbak[boxes]:\n",
    "        indedoos = achterbak[boxes][things]\n",
    "        for dingen in indedoos:\n",
    "            print (dingen)"
   ]
  },
  {
   "cell_type": "code",
   "execution_count": 16,
   "metadata": {},
   "outputs": [
    {
     "name": "stdout",
     "output_type": "stream",
     "text": [
      "jkobkepootes\n",
      "fjkobkepootessmuren\n",
      "inerumssetoopekbokjffret\n",
      "sainerumssetoopekbokjffretni\n",
      "mainterffjkobkepootessmureniasbi\n",
      "osibsainerumssetoopekbokjffretniamep\n",
      "mipemainterffjkobkepootessmureniasbisokruels\n",
      "wotsleurkosibsainerumssetoopekbokjffretniamepimels\n",
      "osslemipemainterffjkobkepootessmureniasbisokruelstowap\n",
      "kicosslemipemainterffjkobkepootessmureniasbisokruelstowaphcen\n",
      "enechpawotsleurkosibsainerumssetoopekbokjffretniamepimelssocikbd\n",
      "klbenechpawotsleurkosibsainerumssetoopekbokjffretniamepimelssocikbdanet\n",
      "cgntenadbkicosslemipemainterffjkobkepootessmureniasbisokruelstowaphceneblkihtap\n",
      "cgntenadbkicosslemipemainterffjkobkepootessmureniasbisokruelstowaphceneblkihtaptv\n",
      "vohcgntenadbkicosslemipemainterffjkobkepootessmureniasbisokruelstowaphceneblkihtaptvsel\n",
      "volgvohcgntenadbkicosslemipemainterffjkobkepootessmureniasbisokruelstowaphceneblkihtaptvseles\n",
      "mongvolgvohcgntenadbkicosslemipemainterffjkobkepootessmureniasbisokruelstowaphceneblkihtaptvselese\n",
      "orfmongvolgvohcgntenadbkicosslemipemainterffjkobkepootessmureniasbisokruelstowaphceneblkihtaptvseleseg\n",
      "orfmongvolgvohcgntenadbkicosslemipemainterffjkobkepootessmureniasbisokruelstowaphceneblkihtaptvselesegpots\n",
      "wotstopgeselesvtpathiklbenechpawotsleurkosibsainerumssetoopekbokjffretniamepimelssocikbdanetngchovglovgnomfroel\n",
      "oobwotstopgeselesvtpathiklbenechpawotsleurkosibsainerumssetoopekbokjffretniamepimelssocikbdanetngchovglovgnomfroelk\n"
     ]
    }
   ],
   "source": [
    "### now we can use loops and print to see what is in the achterbak and mess with is\n",
    "wille_keur = \"\"\n",
    "\n",
    "for boxes in achterbak:\n",
    "    boxname = boxes\n",
    "    for things in achterbak[boxes]:\n",
    "        indedoos = achterbak[boxes][things]\n",
    "        for dingen in indedoos:\n",
    "            for char in dingen:\n",
    "                if char > \"k\":\n",
    "                    wille_keur += str(char)\n",
    "                else:\n",
    "                    wille_keur = wille_keur[::-1] \n",
    "                    wille_keur += str(char)\n",
    "            print (wille_keur)        \n",
    "                    "
   ]
  },
  {
   "cell_type": "code",
   "execution_count": 17,
   "metadata": {},
   "outputs": [
    {
     "name": "stdout",
     "output_type": "stream",
     "text": [
      "{'oo': 1, 'bw': 1, 'ot': 1, 'st': 1, 'op': 2, 'ge': 1, 'se': 2, 'le': 2, 'sv': 1, 'tp': 1, 'at': 1, 'hi': 1, 'kl': 1, 'be': 1, 'ne': 3, 'ch': 1, 'pa': 1, 'wo': 1, 'ts': 1, 'ur': 1, 'ko': 1, 'si': 1, 'bs': 1, 'ai': 1, 'ru': 1, 'ms': 1, 'to': 1, 'ek': 1, 'bo': 1, 'kj': 1, 'ff': 1, 're': 1, 'tn': 2, 'ia': 1, 'me': 2, 'pi': 1, 'ls': 1, 'so': 1, 'ci': 1, 'kb': 1, 'da': 1, 'gc': 1, 'ho': 1, 'vg': 2, 'lo': 1, 'no': 1, 'mf': 1, 'ro': 1, 'el': 1, 'k': 1}\n"
     ]
    }
   ],
   "source": [
    "# lets see what two letter combinations we can find nad collect those in a dictionary \n",
    "twee_letters = {}\n",
    "\n",
    "for i in range(0,len(wille_keur),2):\n",
    "    dit_wordt_de_key = wille_keur[i:(i+2)]\n",
    "    if dit_wordt_de_key in twee_letters:\n",
    "        twee_letters[dit_wordt_de_key] +=1\n",
    "    else:\n",
    "        twee_letters[dit_wordt_de_key] = 1\n",
    "print (twee_letters)      \n",
    "    "
   ]
  },
  {
   "cell_type": "code",
   "execution_count": 18,
   "metadata": {},
   "outputs": [
    {
     "name": "stdout",
     "output_type": "stream",
     "text": [
      "You and a super intelligent snail both get 1 million dollars, and you both become immortal, however you die if the snail touches you. It always knows where you are and slowly crawls toward you. What's your plan?\n",
      "\n",
      "Ok, let's do this.\n",
      "First things first - That million dollars is practically worthless compared to immortality. Ever dime of that cash can and should be spent ensuring that the snail never, ever reaches me.\n",
      "First things first, I keep an eye on him. It's tempting to want to hop on a plane or a train and get as far away as possible. But once I do that, he's gone and I'll never see him again until 3am on July 14th, 2072, when the sneaky little cuss slips in the door and slimes onto me before I ever wake up and notice him No, I'm going to be within visual distance of the snail, slowly moving away from it, until Snail Containment Plan Part A is done.\n",
      "Next I grab my phone. I call up someone I can trust with my life, and tell them to come to my location within the hour, and to bring a metal cash box, a good padlock, and a firearm. Once they arrive, I inform them of the deal and ask them to grab the snail, shove it into the metal box, and lock it up.\n",
      "Once the snail is temporarily secured, I ask my friend to carry around the box, never letting it out of their sight, and to prevent its opening with as much force as is required. We arrive at some reasonable figure for this service - Maybe $50,000.\n",
      "Now we can start in on the real work. I'm on the phone again, contracting with a tungsten machining service out of Willowbrook, IL. I ask them to construct for me a hollow tungsten sphere with a small, sealable opening, ideally via both exterior bolts and sintering. I ask them for a rush job and a thick wall depth, perhaps as much as a foot thick. The spherical shape should keep material costs as low as possible for a given thickness, but between the unusual object, large amount of tungsten, and speedy delivery, I invest a truly insane amount into this project - Let's say $100,000. I ask them to deliver it to my current location as fast as possible.\n",
      "Once the tungsten ball arrives, I have my friend stand well away from me and transfer the snail into the center of the sphere. I ask them to pour a little salt down into the hole after it, just to give the snail a little reminder of who he's dealing with. Once snail and salt are both inside, we seal the hollow sphere with the bolts.\n",
      "Tungsten is an amazing material. Incredibly tough, dense, and heat-resistant. You could drop it into molten lava and it wouldn't matter. Which, coincidentally, is almost what I'd like to do next.\n",
      "Now we make sure that damn thing stays shut. I find the nearest metal refinery and call them up. I also contract with a heavy machinery moving company to move the tungsten sphere to the refinery. Once the refinery has sintered the tungsten sphere shut, I buy an entire industrial crucible (those big buckets) of molten iron. And the crucible the iron came in. I have them drop the tungsten sphere into the molten iron, and let the whole mass cool in place. Mr. Snaily snail ain't going anywhere, but I'm probably down another $100,000.\n",
      "Now I'm on the phone to specialist movers. Chartering a boat. We're taking this thing halfway around the word. We take the boat right over the marianas trench - Not the deepest point, but deep enough - We push the whole assembly over the side. Literal tons of once-molten iron, refinery crucible, tungsten, salt, and snail slip over the side and begin dropping into the briny deep. Another $100,000 gone, but well worth the cost.\n",
      "Good. That's bought me a little breathing room. But we're not anywhere close to done yet. I still have at least $500,000 left. I'm going to invest it into solid business ventures and slow growing but secure assets. We're building a fortune - And who cares if it takes a few centuries? I'm frickin' immortal baby!\n",
      "But as I develop my fortune, it's getting invested into space. SpaceX, asteroid mining projects, whatever. I am trapped on the one planet in the entire universe where I can actually die, and I have no intention of staying there.\n",
      "Over the millennia, I slowly apply my fortune and influence to push mankind to the stars. And the moment living on another planet becomes viable, I'm there. And the instant a habitable planet is around another star? I'm on the first generation ship heading that direction.\n",
      "But I can't think in such a short sighted manner now. I'm immortal, and I need to think like it. Eventually, the sun is going to burn the earth to a crisp, and then that damn snail is going to be free. It might take him a few million years to land on something, but he'll do it eventually. And then he will construct a spacecraft and begin crawling towards me again.\n",
      "What I care about now is lightcones and black holes. Earth's gotta go. Sorry whatever's left of humanity. We evacuate anyone still on the old planet, and use a gravity tractor to push Earth into a black hole. A nice, big one so that hawking radiation will take an incredibly long time to evaporate it away into nothing.\n",
      "And then I board a ship. A fast ship. I accelerate to as close to lightspeed as I can get, piloting directly away from the black hole with the snail inside. I want to be so far away and moving so quickly that the heat death of the universe would occur far, far before the snail ever reaches me, even on the fastest ship his freakishly clever little brain can construct.\n",
      "So that's the way the universe ends. With nothing it in except for infrared heat, one hyperintelligent snail suspended in an inky void, and one human screaming away from it at .99C.\n",
      "Cheers.\n"
     ]
    }
   ],
   "source": [
    "# let's open a file and get the data as one long string\n",
    "snail_file = open(\"snail.txt\",\"r\")\n",
    "snail_txt = \"\"  \n",
    "for lijn in snail_file:\n",
    "    snail_txt += lijn\n",
    "snail_file.close()\n",
    "\n",
    "print (snail_txt)  "
   ]
  },
  {
   "cell_type": "code",
   "execution_count": null,
   "metadata": {},
   "outputs": [],
   "source": [
    "## let's split the text in to separate words and count how often they are used\n",
    "snail = snail_txt.split(' ')\n",
    "woordenboek = {}\n",
    "for words in snail:\n",
    "    if words in woordenboek:\n",
    "        woordenboek[words] += 1\n",
    "    else:\n",
    "        woordenboek[words] = 1\n",
    "        \n",
    "woordenboek        "
   ]
  },
  {
   "cell_type": "code",
   "execution_count": null,
   "metadata": {},
   "outputs": [],
   "source": [
    "## let's conount how ofter each character is used and store this in a dictionary\n",
    "woordenboek = {}\n",
    "for words in snail_txt:\n",
    "    if words in woordenboek:\n",
    "        woordenboek[words] += 1\n",
    "    else:\n",
    "        woordenboek[words] = 1\n",
    "        \n",
    "woordenboek       "
   ]
  },
  {
   "cell_type": "code",
   "execution_count": null,
   "metadata": {},
   "outputs": [],
   "source": [
    "### show the key and values in the dictionary\n",
    "print (woordenboek.keys())\n",
    "print (woordenboek.values())"
   ]
  },
  {
   "cell_type": "code",
   "execution_count": null,
   "metadata": {},
   "outputs": [],
   "source": [
    "## Show the character usage in the snail story\n",
    "# The following line to allow the plots to be displayed as part of the jupyter notebook\n",
    "%matplotlib inline\n",
    "\n",
    "# Import matplotlib's function pyplot to make simple plots\n",
    "import matplotlib.pyplot as plt # To avoid using big names rename the module as plt\n",
    "fig=plt.figure(figsize=(30, 20), dpi= 120, facecolor='w', edgecolor='k')\n",
    "plt.bar(range(0,len(woordenboek.values())),woordenboek.values(),tick_label =list(woordenboek.keys())) \n",
    "plt.show()"
   ]
  },
  {
   "cell_type": "code",
   "execution_count": null,
   "metadata": {},
   "outputs": [],
   "source": []
  }
 ],
 "metadata": {
  "kernelspec": {
   "display_name": "Python 3",
   "language": "python",
   "name": "python3"
  },
  "language_info": {
   "codemirror_mode": {
    "name": "ipython",
    "version": 3
   },
   "file_extension": ".py",
   "mimetype": "text/x-python",
   "name": "python",
   "nbconvert_exporter": "python",
   "pygments_lexer": "ipython3",
   "version": "3.7.4"
  }
 },
 "nbformat": 4,
 "nbformat_minor": 2
}
