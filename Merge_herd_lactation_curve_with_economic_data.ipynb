{
  "nbformat": 4,
  "nbformat_minor": 0,
  "metadata": {
    "colab": {
      "name": "Merge herd lactation curve with economic data.ipynb",
      "provenance": [],
      "collapsed_sections": [
        "-NRQl_FkY73G",
        "y55W8ddU77Wc"
      ],
      "toc_visible": true,
      "authorship_tag": "ABX9TyNqhxIT17EAgpj65OAxjD+l",
      "include_colab_link": true
    },
    "kernelspec": {
      "name": "python3",
      "display_name": "Python 3"
    }
  },
  "cells": [
    {
      "cell_type": "markdown",
      "metadata": {
        "id": "view-in-github",
        "colab_type": "text"
      },
      "source": [
        "<a href=\"https://colab.research.google.com/github/ChenYongyan-uu/1/blob/master/Merge_herd_lactation_curve_with_economic_data.ipynb\" target=\"_parent\"><img src=\"https://colab.research.google.com/assets/colab-badge.svg\" alt=\"Open In Colab\"/></a>"
      ]
    },
    {
      "cell_type": "markdown",
      "metadata": {
        "id": "up2G8zDbhsEN"
      },
      "source": [
        "# Preparation"
      ]
    },
    {
      "cell_type": "markdown",
      "metadata": {
        "id": "36izkuDf7izt"
      },
      "source": [
        "First mount your gdrive to connect to the data"
      ]
    },
    {
      "cell_type": "code",
      "metadata": {
        "id": "z_TdENL02G2-",
        "colab": {
          "base_uri": "https://localhost:8080/"
        },
        "outputId": "ebd30894-bb22-49ec-f07b-09b33ac10bd1"
      },
      "source": [
        "from google.colab import drive \n",
        "drive.mount('/content/gdrive') "
      ],
      "execution_count": null,
      "outputs": [
        {
          "output_type": "stream",
          "text": [
            "Mounted at /content/gdrive\n"
          ],
          "name": "stdout"
        }
      ]
    },
    {
      "cell_type": "markdown",
      "metadata": {
        "id": "_CYGKU6YGuDS"
      },
      "source": [
        "Install PySpark"
      ]
    },
    {
      "cell_type": "code",
      "metadata": {
        "id": "p95qUEA7QkFD"
      },
      "source": [
        "!apt-get install openjdk-8-jdk-headless -qq > /dev/null\n",
        "!wget -q https://downloads.apache.org/spark/spark-2.4.8/spark-2.4.8-bin-hadoop2.7.tgz\n",
        "!tar xf spark-2.4.8-bin-hadoop2.7.tgz\n",
        "!pip install -q findspark"
      ],
      "execution_count": null,
      "outputs": []
    },
    {
      "cell_type": "code",
      "metadata": {
        "id": "BwmbUzFI5Ybd"
      },
      "source": [
        "!apt-get update"
      ],
      "execution_count": null,
      "outputs": []
    },
    {
      "cell_type": "code",
      "metadata": {
        "id": "74wwW6R6Qs1z"
      },
      "source": [
        "import os\n",
        "os.environ[\"JAVA_HOME\"] = \"/usr/lib/jvm/java-8-openjdk-amd64\"\n",
        "os.environ[\"SPARK_HOME\"] = \"/content/spark-2.4.8-bin-hadoop2.7\""
      ],
      "execution_count": null,
      "outputs": []
    },
    {
      "cell_type": "code",
      "metadata": {
        "id": "sLgcsWc0QwlT"
      },
      "source": [
        "import findspark\n",
        "findspark.init()\n",
        "from pyspark.sql import SparkSession"
      ],
      "execution_count": null,
      "outputs": []
    },
    {
      "cell_type": "markdown",
      "metadata": {
        "id": "_VsGmjrzGyeW"
      },
      "source": [
        "Initiate the spark session"
      ]
    },
    {
      "cell_type": "code",
      "metadata": {
        "id": "mJOVn_fjBDTT"
      },
      "source": [
        "spark = SparkSession.builder.master(\"local[*]\").getOrCreate()"
      ],
      "execution_count": null,
      "outputs": []
    },
    {
      "cell_type": "code",
      "metadata": {
        "id": "4J9H9yfgthTd"
      },
      "source": [
        "from pyspark.sql.types import LongType, StringType, StructField, StructType, BooleanType, ArrayType, IntegerType, DoubleType, FloatType\n",
        "import pyspark\n",
        "from pyspark.sql import functions as F\n",
        "from pyspark.sql.functions import year, col, array, monotonically_increasing_id, to_json, struct, round, datediff,unix_timestamp,udf,to_date ,avg\n",
        "import json\n",
        "from urllib.request import  urlopen\n",
        "from pyspark.sql import Window"
      ],
      "execution_count": null,
      "outputs": []
    },
    {
      "cell_type": "markdown",
      "metadata": {
        "id": "e7Zw-lgTVNwa"
      },
      "source": [
        "# Economic Data"
      ]
    },
    {
      "cell_type": "markdown",
      "metadata": {
        "id": "ULtKyX0cnh0-"
      },
      "source": [
        "## Raw data with selected columns"
      ]
    },
    {
      "cell_type": "code",
      "metadata": {
        "id": "ErQ_j5bAnqsw"
      },
      "source": [
        "SelectedAccountancyData = spark \\\n",
        "  .read \\\n",
        "  .csv('/content/gdrive/Shared drives/Bovi-Analytics/Projects/ChenYongYan/Chapter2/Data/EconomicRawData/SelectedRawFlynthData.csv',header=True,inferSchema=True)"
      ],
      "execution_count": null,
      "outputs": []
    },
    {
      "cell_type": "code",
      "metadata": {
        "colab": {
          "base_uri": "https://localhost:8080/"
        },
        "id": "XIK8bd1Ppx3z",
        "outputId": "4f92c1bc-9162-4d7f-d32b-5feb9ffce1ae"
      },
      "source": [
        "SelectedAccountancyData.count()"
      ],
      "execution_count": null,
      "outputs": [
        {
          "output_type": "execute_result",
          "data": {
            "text/plain": [
              "30341"
            ]
          },
          "metadata": {
            "tags": []
          },
          "execution_count": 8
        }
      ]
    },
    {
      "cell_type": "code",
      "metadata": {
        "colab": {
          "base_uri": "https://localhost:8080/"
        },
        "id": "DPltmCEgpx30",
        "outputId": "0a9e8772-0571-45ba-b042-0537c288f432"
      },
      "source": [
        "len(SelectedAccountancyData.columns)"
      ],
      "execution_count": null,
      "outputs": [
        {
          "output_type": "execute_result",
          "data": {
            "text/plain": [
              "124"
            ]
          },
          "metadata": {
            "tags": []
          },
          "execution_count": 13
        }
      ]
    },
    {
      "cell_type": "code",
      "metadata": {
        "colab": {
          "base_uri": "https://localhost:8080/"
        },
        "id": "S2KF7dIbL4ZX",
        "outputId": "21773d02-a0ea-4711-8d05-fe6dbb02b7f9"
      },
      "source": [
        "SelectedAccountancyData.select('KVK','FiscalYear').describe().show()"
      ],
      "execution_count": null,
      "outputs": [
        {
          "output_type": "stream",
          "text": [
            "+-------+--------------------+------------------+\n",
            "|summary|                 KVK|        FiscalYear|\n",
            "+-------+--------------------+------------------+\n",
            "|  count|               30341|             30341|\n",
            "|   mean|3.0773749032484733E7|2009.8291349022209|\n",
            "| stddev| 2.776762810949111E7|3.6563408775502557|\n",
            "|    min|             1000421|              2004|\n",
            "|    max|                  NA|                NA|\n",
            "+-------+--------------------+------------------+\n",
            "\n"
          ],
          "name": "stdout"
        }
      ]
    },
    {
      "cell_type": "code",
      "metadata": {
        "colab": {
          "base_uri": "https://localhost:8080/"
        },
        "id": "FEdv0Eb71u1k",
        "outputId": "62656493-7fbb-4664-c479-e91a447a212d"
      },
      "source": [
        "SelectedAccountancyData.\\\n",
        "  agg(F.count('*'),F.count('KVK'),F.countDistinct('KVK')).collect()"
      ],
      "execution_count": null,
      "outputs": [
        {
          "output_type": "execute_result",
          "data": {
            "text/plain": [
              "[Row(count(1)=30341, count(KVK)=30341, count(DISTINCT KVK)=2809)]"
            ]
          },
          "metadata": {
            "tags": []
          },
          "execution_count": 44
        }
      ]
    },
    {
      "cell_type": "code",
      "metadata": {
        "id": "HR2Jk--G4-yQ",
        "colab": {
          "base_uri": "https://localhost:8080/"
        },
        "outputId": "0cc16331-f9dd-463b-db5f-7eb362f907b9"
      },
      "source": [
        "SelectedAccountancyData.printSchema()"
      ],
      "execution_count": null,
      "outputs": [
        {
          "output_type": "stream",
          "text": [
            "root\n",
            " |-- KVK: string (nullable = true)\n",
            " |-- FiscalYear: string (nullable = true)\n",
            " |-- ProceOwnProduct: string (nullable = true)\n",
            " |-- Organic: string (nullable = true)\n",
            " |-- ProductType: string (nullable = true)\n",
            " |-- Robot: string (nullable = true)\n",
            " |-- GrassLandAreaInHa: string (nullable = true)\n",
            " |-- FodderCropLandAreaInHa: string (nullable = true)\n",
            " |-- TotalLandAreaInHa: string (nullable = true)\n",
            " |-- TotalOwnedLandAreaInHa: string (nullable = true)\n",
            " |-- TotalLeasedLandAreaInHa: string (nullable = true)\n",
            " |-- BossFTE: string (nullable = true)\n",
            " |-- PartnerFTE: string (nullable = true)\n",
            " |-- ChildrenFTE: string (nullable = true)\n",
            " |-- ForeignerFTE: string (nullable = true)\n",
            " |-- TotalFTE: string (nullable = true)\n",
            " |-- NumberOfHour: string (nullable = true)\n",
            " |-- MilkQuotaIn1000KgMilk : string (nullable = true)\n",
            " |-- TotalMilkInFarmKg: string (nullable = true)\n",
            " |-- TotalMilkForFactoryKg: string (nullable = true)\n",
            " |-- MilkRevenue: string (nullable = true)\n",
            " |-- MilkRevenueOfOwnProduct: string (nullable = true)\n",
            " |-- SellLiveStock: string (nullable = true)\n",
            " |-- PurchaseLivestock: string (nullable = true)\n",
            " |-- IncreaseDairyCattle: string (nullable = true)\n",
            " |-- TurnoverAndGrowth: string (nullable = true)\n",
            " |-- SalesRoughage: string (nullable = true)\n",
            " |-- FeedMoney: string (nullable = true)\n",
            " |-- OtherRevenues28: string (nullable = true)\n",
            " |-- TotalRevenues: string (nullable = true)\n",
            " |-- Concentrates: string (nullable = true)\n",
            " |-- VitaminsAndMinerals: string (nullable = true)\n",
            " |-- DairyProducts: string (nullable = true)\n",
            " |-- WetByProducts: string (nullable = true)\n",
            " |-- PurchasedRoughage: string (nullable = true)\n",
            " |-- ChangeOwnRoughageStockIncreaseDecrease: string (nullable = true)\n",
            " |-- PastureMoney: string (nullable = true)\n",
            " |-- TotalFeedCosts: string (nullable = true)\n",
            " |-- YieldMinusFeedCosts: string (nullable = true)\n",
            " |-- Fertilization: string (nullable = true)\n",
            " |-- SeedsAndCropProtection: string (nullable = true)\n",
            " |-- HealthCosts: string (nullable = true)\n",
            " |-- AiCost: string (nullable = true)\n",
            " |-- BreedingAndControlCosts: string (nullable = true)\n",
            " |-- AiBreedingAndMilkControlTogether: string (nullable = true)\n",
            " |-- EmbryoTransplantation: string (nullable = true)\n",
            " |-- RearingCostsOfYoungStockForThirdParties: string (nullable = true)\n",
            " |-- DirectCostsOfCheesePreparation: string (nullable = true)\n",
            " |-- Litter: string (nullable = true)\n",
            " |-- OtherDirectCosts: string (nullable = true)\n",
            " |-- TotalVariableCosts: string (nullable = true)\n",
            " |-- RevenuesMinusVariableCosts: string (nullable = true)\n",
            " |-- BalanceOtherBranches: string (nullable = true)\n",
            " |-- PaymentRights: string (nullable = true)\n",
            " |-- OtherEuContributions: string (nullable = true)\n",
            " |-- ManagementFees: string (nullable = true)\n",
            " |-- ReleaseMilkQuota: string (nullable = true)\n",
            " |-- OtherRevenues57: string (nullable = true)\n",
            " |-- TotOvBalancesAndOtherRevenues: string (nullable = true)\n",
            " |-- CompanyBalance: string (nullable = true)\n",
            " |-- DepreciationMilkQuota: string (nullable = true)\n",
            " |-- SuperCharge: string (nullable = true)\n",
            " |-- LeaseMilkQuota: string (nullable = true)\n",
            " |-- OtherRights: string (nullable = true)\n",
            " |-- ImmovableProperty: string (nullable = true)\n",
            " |-- PaidWork: string (nullable = true)\n",
            " |-- MachinesAndTools: string (nullable = true)\n",
            " |-- WorkByThirdParties: string (nullable = true)\n",
            " |-- EnvironmentalCosts: string (nullable = true)\n",
            " |-- GeneralExpenses: string (nullable = true)\n",
            " |-- OtherFixedCosts: string (nullable = true)\n",
            " |-- TotalFixedCost: string (nullable = true)\n",
            " |-- OperatingResult: string (nullable = true)\n",
            " |-- FinancialIncome: string (nullable = true)\n",
            " |-- FinancialCharges: string (nullable = true)\n",
            " |-- Profit: string (nullable = true)\n",
            " |-- DepreciationPerKgOfMilkInTotal: string (nullable = true)\n",
            " |-- MilkRevenuePer100Kg: string (nullable = true)\n",
            " |-- MilkRevenueOfOwnProductPer100Kg: string (nullable = true)\n",
            " |-- SellLivestockPer100Kg: string (nullable = true)\n",
            " |-- LivestockPurchasesPer100Kg: string (nullable = true)\n",
            " |-- IncreaseOfDairyCattlePer100Kg: string (nullable = true)\n",
            " |-- TurnoverAndGrowthPer100Kg: string (nullable = true)\n",
            " |-- SalesRoughagePer100Kg: string (nullable = true)\n",
            " |-- FeedMoneyPer100Kg: string (nullable = true)\n",
            " |-- OtherRevenuePer100Kg: string (nullable = true)\n",
            " |-- TotalRevenuePer100Kg: string (nullable = true)\n",
            " |-- ConcentratesPer100Kg: string (nullable = true)\n",
            " |-- VitaminsAndMineralsPer100Kg: string (nullable = true)\n",
            " |-- DairyProductsPer100Kg: string (nullable = true)\n",
            " |-- WetByProductsPer100Kg: string (nullable = true)\n",
            " |-- PurchasedRoughagePer100Kg: string (nullable = true)\n",
            " |-- ChangeOwnRoughageStockIncreaseDecreasePer100Kg: string (nullable = true)\n",
            " |-- PastureMoneyPer100Kg: string (nullable = true)\n",
            " |-- TotalFeedCostsPer100Kg: string (nullable = true)\n",
            " |-- YieldMinusFeedCostsPer100Kg: string (nullable = true)\n",
            " |-- FertilizationPer100Kg: string (nullable = true)\n",
            " |-- SeedsAndCropProtectionPer100Kg: string (nullable = true)\n",
            " |-- HealthCostsPer100Kg: string (nullable = true)\n",
            " |-- AiCostPer100Kg: string (nullable = true)\n",
            " |-- BreedingAndControlCostsPer100Kg: string (nullable = true)\n",
            " |-- KiBreedingAndMilkControlTogetherPer100Kg: string (nullable = true)\n",
            " |-- EmbryoTransplantationPer100Kg: string (nullable = true)\n",
            " |-- RearingCostsOfYoungStockForThirdPartiesPer100Kg: string (nullable = true)\n",
            " |-- DirectCostsOfCheesePreparationPer100Kg: string (nullable = true)\n",
            " |-- LitterPer100Kg: string (nullable = true)\n",
            " |-- OtherDirectCostsPer100Kg: string (nullable = true)\n",
            " |-- TotalVariableCostsPer100Kg: string (nullable = true)\n",
            " |-- AmortizationOfMilkQuotaPer100Kg: string (nullable = true)\n",
            " |-- SuperChargePer100Kg: string (nullable = true)\n",
            " |-- LeaseMilkQuotaPer100Kg: string (nullable = true)\n",
            " |-- OtherRightsPer100Kg: string (nullable = true)\n",
            " |-- ImmovablePropertyPer100Kg: string (nullable = true)\n",
            " |-- PaidWorkPer100Kg: string (nullable = true)\n",
            " |-- MachinesAndToolsPer100Kg: string (nullable = true)\n",
            " |-- WorkByThirdPartiesPer100Kg: string (nullable = true)\n",
            " |-- EnvironmentalCostsPer100Kg: string (nullable = true)\n",
            " |-- GeneralExpensesPer100Kg: string (nullable = true)\n",
            " |-- OtherFixedCostsPer100Kg: string (nullable = true)\n",
            " |-- TotalFixedCostsPer100Kg: string (nullable = true)\n",
            " |-- OperatingResultPer100Kg: string (nullable = true)\n",
            " |-- FinancialIncomePer100Kg: string (nullable = true)\n",
            " |-- FinancialExpensesPer100Kg: string (nullable = true)\n",
            " |-- ProfitPer100Kg: string (nullable = true)\n",
            "\n"
          ],
          "name": "stdout"
        }
      ]
    },
    {
      "cell_type": "code",
      "metadata": {
        "colab": {
          "base_uri": "https://localhost:8080/"
        },
        "id": "eOlhoyBOAIYo",
        "outputId": "d991d74b-7d95-4ce5-989d-2a165147ccbb"
      },
      "source": [
        "SelectedAccountancyData.show(2)"
      ],
      "execution_count": null,
      "outputs": [
        {
          "output_type": "stream",
          "text": [
            "+-------+----------+---------------+-------+-----------+-----+-----------------+----------------------+-----------------+----------------------+-----------------------+-------+----------+-----------+------------+--------+------------+----------------------+-----------------+---------------------+-----------+-----------------------+-------------+-----------------+-------------------+-----------------+-------------+---------+---------------+-------------+------------+-------------------+-------------+-------------+-----------------+--------------------------------------+------------+--------------+-------------------+-------------+----------------------+-----------+------+-----------------------+--------------------------------+---------------------+---------------------------------------+------------------------------+------+----------------+------------------+--------------------------+--------------------+-------------+--------------------+--------------+----------------+---------------+-----------------------------+--------------+---------------------+-----------+--------------+-----------+-----------------+--------+----------------+------------------+------------------+---------------+---------------+--------------+---------------+---------------+----------------+------+------------------------------+-------------------+-------------------------------+---------------------+--------------------------+-----------------------------+-------------------------+---------------------+-----------------+--------------------+--------------------+--------------------+---------------------------+---------------------+---------------------+-------------------------+----------------------------------------------+--------------------+----------------------+---------------------------+---------------------+------------------------------+-------------------+--------------+-------------------------------+----------------------------------------+-----------------------------+-----------------------------------------------+--------------------------------------+--------------+------------------------+--------------------------+-------------------------------+-------------------+----------------------+-------------------+-------------------------+----------------+------------------------+--------------------------+--------------------------+-----------------------+-----------------------+-----------------------+-----------------------+-----------------------+-------------------------+--------------+\n",
            "|    KVK|FiscalYear|ProceOwnProduct|Organic|ProductType|Robot|GrassLandAreaInHa|FodderCropLandAreaInHa|TotalLandAreaInHa|TotalOwnedLandAreaInHa|TotalLeasedLandAreaInHa|BossFTE|PartnerFTE|ChildrenFTE|ForeignerFTE|TotalFTE|NumberOfHour|MilkQuotaIn1000KgMilk |TotalMilkInFarmKg|TotalMilkForFactoryKg|MilkRevenue|MilkRevenueOfOwnProduct|SellLiveStock|PurchaseLivestock|IncreaseDairyCattle|TurnoverAndGrowth|SalesRoughage|FeedMoney|OtherRevenues28|TotalRevenues|Concentrates|VitaminsAndMinerals|DairyProducts|WetByProducts|PurchasedRoughage|ChangeOwnRoughageStockIncreaseDecrease|PastureMoney|TotalFeedCosts|YieldMinusFeedCosts|Fertilization|SeedsAndCropProtection|HealthCosts|AiCost|BreedingAndControlCosts|AiBreedingAndMilkControlTogether|EmbryoTransplantation|RearingCostsOfYoungStockForThirdParties|DirectCostsOfCheesePreparation|Litter|OtherDirectCosts|TotalVariableCosts|RevenuesMinusVariableCosts|BalanceOtherBranches|PaymentRights|OtherEuContributions|ManagementFees|ReleaseMilkQuota|OtherRevenues57|TotOvBalancesAndOtherRevenues|CompanyBalance|DepreciationMilkQuota|SuperCharge|LeaseMilkQuota|OtherRights|ImmovableProperty|PaidWork|MachinesAndTools|WorkByThirdParties|EnvironmentalCosts|GeneralExpenses|OtherFixedCosts|TotalFixedCost|OperatingResult|FinancialIncome|FinancialCharges|Profit|DepreciationPerKgOfMilkInTotal|MilkRevenuePer100Kg|MilkRevenueOfOwnProductPer100Kg|SellLivestockPer100Kg|LivestockPurchasesPer100Kg|IncreaseOfDairyCattlePer100Kg|TurnoverAndGrowthPer100Kg|SalesRoughagePer100Kg|FeedMoneyPer100Kg|OtherRevenuePer100Kg|TotalRevenuePer100Kg|ConcentratesPer100Kg|VitaminsAndMineralsPer100Kg|DairyProductsPer100Kg|WetByProductsPer100Kg|PurchasedRoughagePer100Kg|ChangeOwnRoughageStockIncreaseDecreasePer100Kg|PastureMoneyPer100Kg|TotalFeedCostsPer100Kg|YieldMinusFeedCostsPer100Kg|FertilizationPer100Kg|SeedsAndCropProtectionPer100Kg|HealthCostsPer100Kg|AiCostPer100Kg|BreedingAndControlCostsPer100Kg|KiBreedingAndMilkControlTogetherPer100Kg|EmbryoTransplantationPer100Kg|RearingCostsOfYoungStockForThirdPartiesPer100Kg|DirectCostsOfCheesePreparationPer100Kg|LitterPer100Kg|OtherDirectCostsPer100Kg|TotalVariableCostsPer100Kg|AmortizationOfMilkQuotaPer100Kg|SuperChargePer100Kg|LeaseMilkQuotaPer100Kg|OtherRightsPer100Kg|ImmovablePropertyPer100Kg|PaidWorkPer100Kg|MachinesAndToolsPer100Kg|WorkByThirdPartiesPer100Kg|EnvironmentalCostsPer100Kg|GeneralExpensesPer100Kg|OtherFixedCostsPer100Kg|TotalFixedCostsPer100Kg|OperatingResultPer100Kg|FinancialIncomePer100Kg|FinancialExpensesPer100Kg|ProfitPer100Kg|\n",
            "+-------+----------+---------------+-------+-----------+-----+-----------------+----------------------+-----------------+----------------------+-----------------------+-------+----------+-----------+------------+--------+------------+----------------------+-----------------+---------------------+-----------+-----------------------+-------------+-----------------+-------------------+-----------------+-------------+---------+---------------+-------------+------------+-------------------+-------------+-------------+-----------------+--------------------------------------+------------+--------------+-------------------+-------------+----------------------+-----------+------+-----------------------+--------------------------------+---------------------+---------------------------------------+------------------------------+------+----------------+------------------+--------------------------+--------------------+-------------+--------------------+--------------+----------------+---------------+-----------------------------+--------------+---------------------+-----------+--------------+-----------+-----------------+--------+----------------+------------------+------------------+---------------+---------------+--------------+---------------+---------------+----------------+------+------------------------------+-------------------+-------------------------------+---------------------+--------------------------+-----------------------------+-------------------------+---------------------+-----------------+--------------------+--------------------+--------------------+---------------------------+---------------------+---------------------+-------------------------+----------------------------------------------+--------------------+----------------------+---------------------------+---------------------+------------------------------+-------------------+--------------+-------------------------------+----------------------------------------+-----------------------------+-----------------------------------------------+--------------------------------------+--------------+------------------------+--------------------------+-------------------------------+-------------------+----------------------+-------------------+-------------------------+----------------+------------------------+--------------------------+--------------------------+-----------------------+-----------------------+-----------------------+-----------------------+-----------------------+-------------------------+--------------+\n",
            "|4186815|      2004|           null|   null|       null|    0|               13|                 17.06|            17.81|                 17.81|                      0|      1|       0.4|          0|           0|     1.4|          NA|                   417|           380549|               373549|     120395|                      0|            0|                0|                  0|             3848|            0|        0|              0|       124242|       21292|                897|            0|            0|              374|                                 -4109|           0|         18453|             105789|         2204|                  1718|       2615|  1793|                    224|                            2017|                    0|                                      0|                             0|     0|            2764|             11319|                     94471|              100485|            0|                4744|             0|               0|            859|                       106088|        200558|                44153|       1009|             0|          0|            12290|       0|            4781|              8106|               224|          10870|            598|         82031|         118527|           2055|           12364|108292|                         51288|              32.23|                              0|                   NA|                        NA|                           NA|                     1.03|                    0|                0|                   0|               33.26|                 5.7|                       0.24|                    0|                    0|                      0.1|                                          -1.1|                   0|                  4.94|                      28.32|                 0.59|                          0.46|                0.7|          0.48|                           0.06|                                    0.54|                            0|                                              0|                                     0|             0|                    0.74|                      3.03|                          11.82|               0.27|                     0|                  0|                     3.29|               0|                    1.28|                      2.17|                      0.06|                   2.91|                   0.16|                  21.96|                  31.73|                   0.55|                     3.31|         28.99|\n",
            "|4186815|      2005|           null|   null|     zuiver|    0|               13|                 17.06|            17.81|                 17.81|                      0|      1|       0.4|          0|           0|     1.4|          NA|                   437|           398880|               390880|     120469|                      0|        17629|            14228|               2775|             6176|            0|        0|              0|       126645|       16691|                274|            0|         1407|             5160|                                 -2893|           0|         20638|             106007|         2619|                  2267|       2736|  1837|                    274|                            2111|                    0|                                      0|                             0|     0|            2033|             11805|                     94202|                   0|         9577|                3205|             0|               0|              0|                        12782|        106984|                42059|        156|             0|          0|            29394|       0|            5472|              8482|                 0|          11101|            547|         97212|           9772|           3049|           16417| -3635|                         68287|              30.82|                              0|                 4.51|                      3.64|                         0.71|                     1.58|                    0|                0|                   0|                32.4|                4.27|                       0.07|                    0|                 0.36|                     1.32|                                         -0.74|                   0|                  5.28|                      27.12|                 0.67|                          0.58|                0.7|          0.47|                           0.07|                                    0.54|                            0|                                              0|                                     0|             0|                    0.52|                      3.02|                          10.76|               0.04|                     0|                  0|                     7.52|               0|                     1.4|                      2.17|                         0|                   2.84|                   0.14|                  24.87|                    2.5|                   0.78|                      4.2|         -0.93|\n",
            "+-------+----------+---------------+-------+-----------+-----+-----------------+----------------------+-----------------+----------------------+-----------------------+-------+----------+-----------+------------+--------+------------+----------------------+-----------------+---------------------+-----------+-----------------------+-------------+-----------------+-------------------+-----------------+-------------+---------+---------------+-------------+------------+-------------------+-------------+-------------+-----------------+--------------------------------------+------------+--------------+-------------------+-------------+----------------------+-----------+------+-----------------------+--------------------------------+---------------------+---------------------------------------+------------------------------+------+----------------+------------------+--------------------------+--------------------+-------------+--------------------+--------------+----------------+---------------+-----------------------------+--------------+---------------------+-----------+--------------+-----------+-----------------+--------+----------------+------------------+------------------+---------------+---------------+--------------+---------------+---------------+----------------+------+------------------------------+-------------------+-------------------------------+---------------------+--------------------------+-----------------------------+-------------------------+---------------------+-----------------+--------------------+--------------------+--------------------+---------------------------+---------------------+---------------------+-------------------------+----------------------------------------------+--------------------+----------------------+---------------------------+---------------------+------------------------------+-------------------+--------------+-------------------------------+----------------------------------------+-----------------------------+-----------------------------------------------+--------------------------------------+--------------+------------------------+--------------------------+-------------------------------+-------------------+----------------------+-------------------+-------------------------+----------------+------------------------+--------------------------+--------------------------+-----------------------+-----------------------+-----------------------+-----------------------+-----------------------+-------------------------+--------------+\n",
            "only showing top 2 rows\n",
            "\n"
          ],
          "name": "stdout"
        }
      ]
    },
    {
      "cell_type": "markdown",
      "metadata": {
        "id": "P2T-msG-q5ZJ"
      },
      "source": [
        "### filter those variables contain ‘per100kg’\n",
        " As I will calculate those by myself."
      ]
    },
    {
      "cell_type": "code",
      "metadata": {
        "id": "fKR3pA-cluPi"
      },
      "source": [
        "selected = [s for s in SelectedAccountancyData.columns if 'Per100Kg' in s]\n",
        "SelectedAccountancyData=SelectedAccountancyData.drop(*selected)"
      ],
      "execution_count": null,
      "outputs": []
    },
    {
      "cell_type": "code",
      "metadata": {
        "colab": {
          "base_uri": "https://localhost:8080/"
        },
        "id": "LV9BpLn5n86k",
        "outputId": "7c3baeb4-3cc2-4c32-e487-f4b1eb7d705e"
      },
      "source": [
        "len(SelectedAccountancyData.columns)"
      ],
      "execution_count": null,
      "outputs": [
        {
          "output_type": "execute_result",
          "data": {
            "text/plain": [
              "77"
            ]
          },
          "metadata": {
            "tags": []
          },
          "execution_count": 47
        }
      ]
    },
    {
      "cell_type": "markdown",
      "metadata": {
        "id": "xpQrYeqlrYap"
      },
      "source": [
        "47 columns were excluded"
      ]
    },
    {
      "cell_type": "markdown",
      "metadata": {
        "id": "b9gLvk7hl41G"
      },
      "source": [
        "### Filter KVK and FiscalYear NA"
      ]
    },
    {
      "cell_type": "code",
      "metadata": {
        "colab": {
          "base_uri": "https://localhost:8080/"
        },
        "id": "5yYagpuf7mEK",
        "outputId": "7bc27ca7-90fc-4876-8b14-ce3cba441486"
      },
      "source": [
        "SelectedAccountancyData.where(F.col('KVK')=='NA').count()"
      ],
      "execution_count": null,
      "outputs": [
        {
          "output_type": "execute_result",
          "data": {
            "text/plain": [
              "3159"
            ]
          },
          "metadata": {
            "tags": []
          },
          "execution_count": 21
        }
      ]
    },
    {
      "cell_type": "code",
      "metadata": {
        "colab": {
          "base_uri": "https://localhost:8080/"
        },
        "id": "vie7jes28Dw6",
        "outputId": "5312c1b1-252b-4f4f-9013-392c2b30d743"
      },
      "source": [
        "SelectedAccountancyData.where(F.col('FiscalYear')=='NA').count()"
      ],
      "execution_count": null,
      "outputs": [
        {
          "output_type": "execute_result",
          "data": {
            "text/plain": [
              "171"
            ]
          },
          "metadata": {
            "tags": []
          },
          "execution_count": 22
        }
      ]
    },
    {
      "cell_type": "code",
      "metadata": {
        "id": "K1GcmZLEkUZ8"
      },
      "source": [
        "SelectedAccountancyData=SelectedAccountancyData.\\\n",
        "  filter((F.col('KVK')!='NA') &\\\n",
        "     (F.col('FiscalYear')!='NA'))"
      ],
      "execution_count": null,
      "outputs": []
    },
    {
      "cell_type": "code",
      "metadata": {
        "colab": {
          "base_uri": "https://localhost:8080/"
        },
        "id": "LaYSf0u12FaQ",
        "outputId": "c7bcbe77-dcc7-471b-ea70-6012f3d66572"
      },
      "source": [
        "SelectedAccountancyData.\\\n",
        "  agg(F.count('*'),F.count('KVK'),F.countDistinct('KVK')).collect()"
      ],
      "execution_count": null,
      "outputs": [
        {
          "output_type": "execute_result",
          "data": {
            "text/plain": [
              "[Row(count(1)=27182, count(KVK)=27182, count(DISTINCT KVK)=2808)]"
            ]
          },
          "metadata": {
            "tags": []
          },
          "execution_count": 49
        }
      ]
    },
    {
      "cell_type": "markdown",
      "metadata": {
        "id": "a3gghtG9mCw5"
      },
      "source": [
        "### Calculate Feed cost, revenue, other variable cost"
      ]
    },
    {
      "cell_type": "code",
      "metadata": {
        "id": "u1wpSXI2sRFK"
      },
      "source": [
        "SelectedAccountancyData=SelectedAccountancyData.withColumnRenamed('OtherRevenues28','NonDairyRevenue').\\\n",
        "  withColumnRenamed('ProceOwnProduct','ProduceOwnProduct').\\\n",
        "  withColumnRenamed('TotalRevenues','TotalRevenuesFlynth').\\\n",
        "  withColumnRenamed('TotalFeedCosts','TotalFeedCostsFlynth').\\\n",
        "  withColumnRenamed('TotalVariableCosts','TotalOtherVariableCostsFlynth')"
      ],
      "execution_count": null,
      "outputs": []
    },
    {
      "cell_type": "code",
      "metadata": {
        "id": "4WxrMTre-BFx"
      },
      "source": [
        "CalculatedSelectedAccountancyData=SelectedAccountancyData.\\\n",
        "  withColumn('TotalFeedCosts',(col(\"Concentrates\")+col(\"VitaminsAndMinerals\")+col(\"WetByProducts\")+col(\"PurchasedRoughage\")+col(\"ChangeOwnRoughageStockIncreaseDecrease\")+col(\"PastureMoney\"))).\\\n",
        "  withColumn('TotalRevenues',(col(\"MilkRevenue\")+col(\"MilkRevenueOfOwnProduct\")+col(\"SellLiveStock\")+col(\"IncreaseDairyCattle\")+col(\"SalesRoughage\")+col(\"FeedMoney\")+col(\"NonDairyRevenue\"))).\\\n",
        "  withColumn('TotalOtherVariableCosts',(col(\"Fertilization\")+col(\"PurchaseLivestock\")+col(\"SeedsAndCropProtection\")+col(\"HealthCosts\")+col(\"AiBreedingAndMilkControlTogether\")+col(\"EmbryoTransplantation\")+col(\"RearingCostsOfYoungStockForThirdParties\")+col(\"DirectCostsOfCheesePreparation\")+col(\"Litter\")+col(\"OtherDirectCosts\")))"
      ],
      "execution_count": null,
      "outputs": []
    },
    {
      "cell_type": "markdown",
      "metadata": {
        "id": "cPdrr1dgfkF6"
      },
      "source": [
        "in the dataset, the money 'purchase livestock' was deducted in the revenue part, but it should belong to variable cost. So the revenue and other variable cost I calculated, should both higher than the dataset (the excess amount should be ‘LivestockPurchasesPer100Kg’\n",
        "\n",
        "FeedCost exclude dairy products, since that's for heifers"
      ]
    },
    {
      "cell_type": "markdown",
      "metadata": {
        "id": "IgZrWPMagbHm"
      },
      "source": [
        "Another thing should be remineded: variable cost = feed cost + other variable cost \\\n",
        "In the dataset, variable cost = other variable cost"
      ]
    },
    {
      "cell_type": "code",
      "metadata": {
        "colab": {
          "base_uri": "https://localhost:8080/"
        },
        "id": "vXyOdY8O3edL",
        "outputId": "d0fd8e23-6234-471b-9c71-f5d7b5490cdd"
      },
      "source": [
        "CalculatedSelectedAccountancyData.show(2)"
      ],
      "execution_count": null,
      "outputs": [
        {
          "output_type": "stream",
          "text": [
            "+-------+----------+-----------------+-------+-----------+-----+-----------------+----------------------+-----------------+----------------------+-----------------------+-------+----------+-----------+------------+--------+------------+----------------------+-----------------+---------------------+-----------+-----------------------+-------------+-----------------+-------------------+-----------------+-------------+---------+---------------+-------------------+------------+-------------------+-------------+-------------+-----------------+--------------------------------------+------------+--------------------+-------------------+-------------+----------------------+-----------+------+-----------------------+--------------------------------+---------------------+---------------------------------------+------------------------------+------+----------------+-----------------------------+--------------------------+--------------------+-------------+--------------------+--------------+----------------+---------------+-----------------------------+--------------+---------------------+-----------+--------------+-----------+-----------------+--------+----------------+------------------+------------------+---------------+---------------+--------------+---------------+---------------+----------------+------+------------------------------+--------------+-------------+-----------------------+\n",
            "|    KVK|FiscalYear|ProduceOwnProduct|Organic|ProductType|Robot|GrassLandAreaInHa|FodderCropLandAreaInHa|TotalLandAreaInHa|TotalOwnedLandAreaInHa|TotalLeasedLandAreaInHa|BossFTE|PartnerFTE|ChildrenFTE|ForeignerFTE|TotalFTE|NumberOfHour|MilkQuotaIn1000KgMilk |TotalMilkInFarmKg|TotalMilkForFactoryKg|MilkRevenue|MilkRevenueOfOwnProduct|SellLiveStock|PurchaseLivestock|IncreaseDairyCattle|TurnoverAndGrowth|SalesRoughage|FeedMoney|NonDairyRevenue|TotalRevenuesFlynth|Concentrates|VitaminsAndMinerals|DairyProducts|WetByProducts|PurchasedRoughage|ChangeOwnRoughageStockIncreaseDecrease|PastureMoney|TotalFeedCostsFlynth|YieldMinusFeedCosts|Fertilization|SeedsAndCropProtection|HealthCosts|AiCost|BreedingAndControlCosts|AiBreedingAndMilkControlTogether|EmbryoTransplantation|RearingCostsOfYoungStockForThirdParties|DirectCostsOfCheesePreparation|Litter|OtherDirectCosts|TotalOtherVariableCostsFlynth|RevenuesMinusVariableCosts|BalanceOtherBranches|PaymentRights|OtherEuContributions|ManagementFees|ReleaseMilkQuota|OtherRevenues57|TotOvBalancesAndOtherRevenues|CompanyBalance|DepreciationMilkQuota|SuperCharge|LeaseMilkQuota|OtherRights|ImmovableProperty|PaidWork|MachinesAndTools|WorkByThirdParties|EnvironmentalCosts|GeneralExpenses|OtherFixedCosts|TotalFixedCost|OperatingResult|FinancialIncome|FinancialCharges|Profit|DepreciationPerKgOfMilkInTotal|TotalFeedCosts|TotalRevenues|TotalOtherVariableCosts|\n",
            "+-------+----------+-----------------+-------+-----------+-----+-----------------+----------------------+-----------------+----------------------+-----------------------+-------+----------+-----------+------------+--------+------------+----------------------+-----------------+---------------------+-----------+-----------------------+-------------+-----------------+-------------------+-----------------+-------------+---------+---------------+-------------------+------------+-------------------+-------------+-------------+-----------------+--------------------------------------+------------+--------------------+-------------------+-------------+----------------------+-----------+------+-----------------------+--------------------------------+---------------------+---------------------------------------+------------------------------+------+----------------+-----------------------------+--------------------------+--------------------+-------------+--------------------+--------------+----------------+---------------+-----------------------------+--------------+---------------------+-----------+--------------+-----------+-----------------+--------+----------------+------------------+------------------+---------------+---------------+--------------+---------------+---------------+----------------+------+------------------------------+--------------+-------------+-----------------------+\n",
            "|4186815|      2004|             null|   null|       null|    0|               13|                 17.06|            17.81|                 17.81|                      0|      1|       0.4|          0|           0|     1.4|          NA|                   417|           380549|               373549|     120395|                      0|            0|                0|                  0|             3848|            0|        0|              0|             124242|       21292|                897|            0|            0|              374|                                 -4109|           0|               18453|             105789|         2204|                  1718|       2615|  1793|                    224|                            2017|                    0|                                      0|                             0|     0|            2764|                        11319|                     94471|              100485|            0|                4744|             0|               0|            859|                       106088|        200558|                44153|       1009|             0|          0|            12290|       0|            4781|              8106|               224|          10870|            598|         82031|         118527|           2055|           12364|108292|                         51288|       18454.0|     120395.0|                11318.0|\n",
            "|4186815|      2005|             null|   null|     zuiver|    0|               13|                 17.06|            17.81|                 17.81|                      0|      1|       0.4|          0|           0|     1.4|          NA|                   437|           398880|               390880|     120469|                      0|        17629|            14228|               2775|             6176|            0|        0|              0|             126645|       16691|                274|            0|         1407|             5160|                                 -2893|           0|               20638|             106007|         2619|                  2267|       2736|  1837|                    274|                            2111|                    0|                                      0|                             0|     0|            2033|                        11805|                     94202|                   0|         9577|                3205|             0|               0|              0|                        12782|        106984|                42059|        156|             0|          0|            29394|       0|            5472|              8482|                 0|          11101|            547|         97212|           9772|           3049|           16417| -3635|                         68287|       20639.0|     140873.0|                25994.0|\n",
            "+-------+----------+-----------------+-------+-----------+-----+-----------------+----------------------+-----------------+----------------------+-----------------------+-------+----------+-----------+------------+--------+------------+----------------------+-----------------+---------------------+-----------+-----------------------+-------------+-----------------+-------------------+-----------------+-------------+---------+---------------+-------------------+------------+-------------------+-------------+-------------+-----------------+--------------------------------------+------------+--------------------+-------------------+-------------+----------------------+-----------+------+-----------------------+--------------------------------+---------------------+---------------------------------------+------------------------------+------+----------------+-----------------------------+--------------------------+--------------------+-------------+--------------------+--------------+----------------+---------------+-----------------------------+--------------+---------------------+-----------+--------------+-----------+-----------------+--------+----------------+------------------+------------------+---------------+---------------+--------------+---------------+---------------+----------------+------+------------------------------+--------------+-------------+-----------------------+\n",
            "only showing top 2 rows\n",
            "\n"
          ],
          "name": "stdout"
        }
      ]
    },
    {
      "cell_type": "code",
      "metadata": {
        "id": "YzSx4n6EJhL6"
      },
      "source": [
        "CalculatedSelectedAccountancyData=CalculatedSelectedAccountancyData.\\\n",
        "  withColumn('TotalVariableCosts',col('TotalFeedCosts')+col('TotalOtherVariableCosts'))"
      ],
      "execution_count": null,
      "outputs": []
    },
    {
      "cell_type": "code",
      "metadata": {
        "id": "IXQMN_WcM0sQ"
      },
      "source": [
        "CalculatedSelectedAccountancyData=CalculatedSelectedAccountancyData.\\\n",
        "  withColumn('GrossMargin',col('TotalRevenues')-col('TotalVariableCosts'))"
      ],
      "execution_count": null,
      "outputs": []
    },
    {
      "cell_type": "code",
      "metadata": {
        "colab": {
          "base_uri": "https://localhost:8080/"
        },
        "id": "qvH5arW3KnRo",
        "outputId": "b7138c56-c2e7-482b-f92d-7d4f2a71c6d5"
      },
      "source": [
        "CalculatedSelectedAccountancyData.select('TotalFeedCosts','TotalOtherVariableCosts','TotalVariableCosts','TotalRevenues','GrossMargin').show(2)"
      ],
      "execution_count": null,
      "outputs": [
        {
          "output_type": "stream",
          "text": [
            "+--------------+-----------------------+------------------+-------------+-----------+\n",
            "|TotalFeedCosts|TotalOtherVariableCosts|TotalVariableCosts|TotalRevenues|GrossMargin|\n",
            "+--------------+-----------------------+------------------+-------------+-----------+\n",
            "|       18454.0|                11318.0|           29772.0|     120395.0|    90623.0|\n",
            "|       20639.0|                25994.0|           46633.0|     140873.0|    94240.0|\n",
            "+--------------+-----------------------+------------------+-------------+-----------+\n",
            "only showing top 2 rows\n",
            "\n"
          ],
          "name": "stdout"
        }
      ]
    },
    {
      "cell_type": "markdown",
      "metadata": {
        "id": "Z20OQHpz5Ky3"
      },
      "source": [
        "### filter KVK has 1+ record in one year"
      ]
    },
    {
      "cell_type": "code",
      "metadata": {
        "id": "CVPNGkwa9oqa"
      },
      "source": [
        "from pyspark.sql import Window\n",
        "w=Window.partitionBy('KVK','FiscalYear')"
      ],
      "execution_count": null,
      "outputs": []
    },
    {
      "cell_type": "code",
      "metadata": {
        "colab": {
          "base_uri": "https://localhost:8080/"
        },
        "id": "cfV48cC0CfIb",
        "outputId": "e59d2501-c0d0-47c7-f2ba-d6f45afd0864"
      },
      "source": [
        "CalculatedSelectedAccountancyData.withColumn('AccountingRecordPerYear',F.count('*').over(w)).orderBy(F.desc('AccountingRecordPerYear')).show(3)"
      ],
      "execution_count": null,
      "outputs": [
        {
          "output_type": "stream",
          "text": [
            "+-------+----------+---------------+-------+-----------+-----+-----------------+----------------------+-----------------+----------------------+-----------------------+-------+----------+-----------+------------+--------+------------+---------------------+-----------------+---------------------+-----------+-----------------------+-------------+-----------------+-------------------+-----------------+-------------+---------+---------------+-------------+------------+-------------------+-------------+-------------+-----------------+--------------------------------------+------------+--------------+-------------------+-------------+----------------------+-----------+------+-----------------------+--------------------------------+---------------------+---------------------------------------+------------------------------+------+----------------+------------------+--------------------------+--------------------+-------------+--------------------+--------------+----------------+---------------+-----------------------------+--------------+---------------------+-----------+--------------+-----------+-----------------+--------+----------------+------------------+------------------+---------------+---------------+--------------+---------------+---------------+----------------+------+------------------------------+-------------------+-------------------------------+---------------------+--------------------------+-----------------------------+-------------------------+---------------------+-----------------+--------------------+--------------------+--------------------+---------------------------+---------------------+---------------------+-------------------------+----------------------------------------------+--------------------+----------------------+---------------------------+---------------------+------------------------------+-------------------+--------------+-------------------------------+----------------------------------------+-----------------------------+-----------------------------------------------+--------------------------------------+--------------+------------------------+--------------------------+-------------------------------+-------------------+----------------------+-------------------+-------------------------+----------------+------------------------+--------------------------+--------------------------+-----------------------+-----------------------+-----------------------+-----------------------+-----------------------+-------------------------+--------------+-----------------+------------------+-------------------------+--------------------+-------------------+-----------------------+\n",
            "|    KVK|FiscalYear|ProceOwnProduct|Organic|ProductType|Robot|GrassLandAreaInHa|FodderCropLandAreaInHa|TotalLandAreaInHa|TotalOwnedLandAreaInHa|TotalLeasedLandAreaInHa|BossFTE|PartnerFTE|ChildrenFTE|ForeignerFTE|TotalFTE|NumberOfHour|MilkQuotaIn1000KgMilk|TotalMilkInFarmKg|TotalMilkForFactoryKg|MilkRevenue|MilkRevenueOfOwnProduct|SellLiveStock|PurchaseLivestock|IncreaseDairyCattle|TurnoverAndGrowth|SalesRoughage|FeedMoney|OtherRevenues28|TotalRevenues|Concentrates|VitaminsAndMinerals|DairyProducts|WetByProducts|PurchasedRoughage|ChangeOwnRoughageStockIncreaseDecrease|PastureMoney|TotalFeedCosts|YieldMinusFeedCosts|Fertilization|SeedsAndCropProtection|HealthCosts|AiCost|BreedingAndControlCosts|AiBreedingAndMilkControlTogether|EmbryoTransplantation|RearingCostsOfYoungStockForThirdParties|DirectCostsOfCheesePreparation|Litter|OtherDirectCosts|TotalVariableCosts|RevenuesMinusVariableCosts|BalanceOtherBranches|PaymentRights|OtherEuContributions|ManagementFees|ReleaseMilkQuota|OtherRevenues57|TotOvBalancesAndOtherRevenues|CompanyBalance|DepreciationMilkQuota|SuperCharge|LeaseMilkQuota|OtherRights|ImmovableProperty|PaidWork|MachinesAndTools|WorkByThirdParties|EnvironmentalCosts|GeneralExpenses|OtherFixedCosts|TotalFixedCost|OperatingResult|FinancialIncome|FinancialCharges|Profit|DepreciationPerKgOfMilkInTotal|MilkRevenuePer100Kg|MilkRevenueOfOwnProductPer100Kg|SellLivestockPer100Kg|LivestockPurchasesPer100Kg|IncreaseOfDairyCattlePer100Kg|TurnoverAndGrowthPer100Kg|SalesRoughagePer100Kg|FeedMoneyPer100Kg|OtherRevenuePer100Kg|TotalRevenuePer100Kg|ConcentratesPer100Kg|VitaminsAndMineralsPer100Kg|DairyProductsPer100Kg|WetByProductsPer100Kg|PurchasedRoughagePer100Kg|ChangeOwnRoughageStockIncreaseDecreasePer100Kg|PastureMoneyPer100Kg|TotalFeedCostsPer100Kg|YieldMinusFeedCostsPer100Kg|FertilizationPer100Kg|SeedsAndCropProtectionPer100Kg|HealthCostsPer100Kg|AiCostPer100Kg|BreedingAndControlCostsPer100Kg|KiBreedingAndMilkControlTogetherPer100Kg|EmbryoTransplantationPer100Kg|RearingCostsOfYoungStockForThirdPartiesPer100Kg|DirectCostsOfCheesePreparationPer100Kg|LitterPer100Kg|OtherDirectCostsPer100Kg|TotalVariableCostsPer100Kg|AmortizationOfMilkQuotaPer100Kg|SuperChargePer100Kg|LeaseMilkQuotaPer100Kg|OtherRightsPer100Kg|ImmovablePropertyPer100Kg|PaidWorkPer100Kg|MachinesAndToolsPer100Kg|WorkByThirdPartiesPer100Kg|EnvironmentalCostsPer100Kg|GeneralExpensesPer100Kg|OtherFixedCostsPer100Kg|TotalFixedCostsPer100Kg|OperatingResultPer100Kg|FinancialIncomePer100Kg|FinancialExpensesPer100Kg|ProfitPer100Kg| FeedCostPer100Kg|   RevenuePer100Kg|OtherVariableCostPer100Kg|VariableCostPer100Kg|GrossMarginPer100Kg|AccountingRecordPerYear|\n",
            "+-------+----------+---------------+-------+-----------+-----+-----------------+----------------------+-----------------+----------------------+-----------------------+-------+----------+-----------+------------+--------+------------+---------------------+-----------------+---------------------+-----------+-----------------------+-------------+-----------------+-------------------+-----------------+-------------+---------+---------------+-------------+------------+-------------------+-------------+-------------+-----------------+--------------------------------------+------------+--------------+-------------------+-------------+----------------------+-----------+------+-----------------------+--------------------------------+---------------------+---------------------------------------+------------------------------+------+----------------+------------------+--------------------------+--------------------+-------------+--------------------+--------------+----------------+---------------+-----------------------------+--------------+---------------------+-----------+--------------+-----------+-----------------+--------+----------------+------------------+------------------+---------------+---------------+--------------+---------------+---------------+----------------+------+------------------------------+-------------------+-------------------------------+---------------------+--------------------------+-----------------------------+-------------------------+---------------------+-----------------+--------------------+--------------------+--------------------+---------------------------+---------------------+---------------------+-------------------------+----------------------------------------------+--------------------+----------------------+---------------------------+---------------------+------------------------------+-------------------+--------------+-------------------------------+----------------------------------------+-----------------------------+-----------------------------------------------+--------------------------------------+--------------+------------------------+--------------------------+-------------------------------+-------------------+----------------------+-------------------+-------------------------+----------------+------------------------+--------------------------+--------------------------+-----------------------+-----------------------+-----------------------+-----------------------+-----------------------+-------------------------+--------------+-----------------+------------------+-------------------------+--------------------+-------------------+-----------------------+\n",
            "|   1064|      2007|           null|   null|    gemengd|    0|            41.34|                 48.67|            48.67|                     0|                  48.67|    2.8|         0|          0|           0|     2.8|          NA|                  279|           283821|               283821|      98486|                      0|         9026|               85|               -539|             8373|          199|        0|              0|       107057|           0|               7975|            0|            0|                0|                                   795|           0|          8770|              98287|          341|                  1845|        568|  1958|                   1731|                            3690|                    0|                                      0|                             0|     0|            2242|              8685|                     89602|               27956|        14475|                 482|             0|               0|           9622|                        52535|        142138|                 8288|       2526|             0|          0|            35052|       0|           17086|             11523|                 0|          14106|           3094|         91674|          50463|            199|           18335| 32327|                         19811|               34.7|                              0|                 3.18|                      0.03|                        -0.19|                     2.95|                 0.07|                0|                   0|               37.72|                   0|                       2.81|                    0|                    0|                        0|                                          0.28|                   0|                  3.09|                      34.63|                 0.12|                          0.65|                0.2|          0.69|                           0.61|                                     1.3|                            0|                                              0|                                     0|             0|                    0.79|                      3.06|                           2.92|               0.89|                     0|                  0|                    12.35|               0|                    6.02|                      4.06|                         0|                   4.97|                   1.09|                   32.3|                  17.78|                   0.07|                     6.46|         11.39|3.089975724135987|37.760419419281874|       3.0903280588821826|    6.18030378301817| 31.580115636263706|                      1|\n",
            "|1102594|      2009|           null|   null|     zuiver|    0|            40.64|                 56.06|            57.35|                 41.86|                  23.69|      2|         0|          0|           0|       2|        4160|                  674|           681370|               675370|     183160|                      0|        17965|                0|              -1283|            16682|            0|        0|              0|       199842|       33971|               4390|         2566|            0|                0|                                 -3444|           0|         37483|             162359|         8915|                  4187|       6213|   675|                   2431|                            3107|                    0|                                      0|                             0|  1959|            4795|             29176|                    133183|                   0|        28636|                2296|             0|               0|          13035|                        43899|        177082|                13980|       1891|             0|          0|            25867|     135|           14250|             19383|                 0|          18640|            946|         95092|          81990|           2431|           24246| 60243|                         29108|              27.12|                              0|                 2.66|                         0|                        -0.19|                     2.47|                    0|                0|                   0|               29.59|                5.03|                       0.65|                 0.38|                    0|                        0|                                         -0.51|                   0|                  5.55|                      24.04|                 1.32|                          0.62|               0.92|           0.1|                           0.36|                                    0.46|                            0|                                              0|                                     0|          0.29|                    0.71|                      4.32|                           2.07|               0.28|                     0|                  0|                     3.83|            0.02|                    2.11|                      2.87|                         0|                   2.76|                   0.14|                  14.08|                  12.14|                   0.36|                     3.59|          8.92|5.549994817655508|29.590002517138753|        4.320002369071768|   9.869997186727275| 19.720005330411478|                      1|\n",
            "|1221218|      2007|           null|   null|    gemengd|    0|            21.87|                 21.87|            22.81|                   1.1|                  21.71|    1.4|         0|          0|           0|     1.4|        3120|                  233|           248375|               247475|      95253|                      0|         9181|             6632|               4628|             7177|         2648|        0|              0|       105078|       21283|                445|         1955|            0|                0|                                     0|           0|         23683|              81395|         3341|                     0|       2945|  2178|                   1114|                            3291|                    0|                                      0|                             0|   916|            2920|             13388|                     68006|                4801|         8860|                 223|             0|               0|            148|                        14032|         82038|                 5766|        322|          2994|          0|            15220|       0|            4950|              5444|                 0|          10542|            520|         45758|          36280|             25|            6781| 29549|                          8513|              38.49|                              0|                 3.71|                      2.68|                         1.87|                      2.9|                 1.07|                0|                   0|               42.46|                 8.6|                       0.18|                 0.79|                    0|                        0|                                             0|                   0|                  9.57|                      32.89|                 1.35|                             0|               1.19|          0.88|                           0.45|                                    1.33|                            0|                                              0|                                     0|          0.37|                    1.18|                      5.41|                           2.33|               0.13|                  1.21|                  0|                     6.15|               0|                       2|                       2.2|                         0|                   4.26|                   0.21|                  18.49|                  14.66|                   0.01|                     2.74|         11.94|9.569855540963733| 45.13991312253763|        8.099808061420346|  17.669663602384077|  27.47024952015355|                      1|\n",
            "+-------+----------+---------------+-------+-----------+-----+-----------------+----------------------+-----------------+----------------------+-----------------------+-------+----------+-----------+------------+--------+------------+---------------------+-----------------+---------------------+-----------+-----------------------+-------------+-----------------+-------------------+-----------------+-------------+---------+---------------+-------------+------------+-------------------+-------------+-------------+-----------------+--------------------------------------+------------+--------------+-------------------+-------------+----------------------+-----------+------+-----------------------+--------------------------------+---------------------+---------------------------------------+------------------------------+------+----------------+------------------+--------------------------+--------------------+-------------+--------------------+--------------+----------------+---------------+-----------------------------+--------------+---------------------+-----------+--------------+-----------+-----------------+--------+----------------+------------------+------------------+---------------+---------------+--------------+---------------+---------------+----------------+------+------------------------------+-------------------+-------------------------------+---------------------+--------------------------+-----------------------------+-------------------------+---------------------+-----------------+--------------------+--------------------+--------------------+---------------------------+---------------------+---------------------+-------------------------+----------------------------------------------+--------------------+----------------------+---------------------------+---------------------+------------------------------+-------------------+--------------+-------------------------------+----------------------------------------+-----------------------------+-----------------------------------------------+--------------------------------------+--------------+------------------------+--------------------------+-------------------------------+-------------------+----------------------+-------------------+-------------------------+----------------+------------------------+--------------------------+--------------------------+-----------------------+-----------------------+-----------------------+-----------------------+-----------------------+-------------------------+--------------+-----------------+------------------+-------------------------+--------------------+-------------------+-----------------------+\n",
            "only showing top 3 rows\n",
            "\n"
          ],
          "name": "stdout"
        }
      ]
    },
    {
      "cell_type": "code",
      "metadata": {
        "id": "oNdIsnv2ndiC"
      },
      "source": [
        "CalculatedSelectedAccountancyData=CalculatedSelectedAccountancyData.withColumn('AccountingRecordPerYear',F.count('*').over(w))"
      ],
      "execution_count": null,
      "outputs": []
    },
    {
      "cell_type": "code",
      "metadata": {
        "colab": {
          "base_uri": "https://localhost:8080/"
        },
        "id": "7QQtOp8YorWq",
        "outputId": "d9b29e40-ce74-4c74-ccaa-3ba4b1fff549"
      },
      "source": [
        "CalculatedSelectedAccountancyData.\\\n",
        "  groupBy('AccountingRecordPerYear').\\\n",
        "  agg(F.count('*')).show()"
      ],
      "execution_count": null,
      "outputs": [
        {
          "output_type": "stream",
          "text": [
            "+-----------------------+--------+\n",
            "|AccountingRecordPerYear|count(1)|\n",
            "+-----------------------+--------+\n",
            "|                      1|   27156|\n",
            "|                      2|      26|\n",
            "+-----------------------+--------+\n",
            "\n"
          ],
          "name": "stdout"
        }
      ]
    },
    {
      "cell_type": "code",
      "metadata": {
        "id": "O8u9gbuAn1YA"
      },
      "source": [
        "CalculatedSelectedAccountancyData=CalculatedSelectedAccountancyData.filter(col('AccountingRecordPerYear')<2)"
      ],
      "execution_count": null,
      "outputs": []
    },
    {
      "cell_type": "code",
      "metadata": {
        "colab": {
          "base_uri": "https://localhost:8080/"
        },
        "id": "NCv7pULD2dn9",
        "outputId": "38e898f5-e259-4f3e-e612-e3ea891ff64d"
      },
      "source": [
        "CalculatedSelectedAccountancyData.\\\n",
        "  agg(F.count('*'),F.count('KVK'),F.countDistinct('KVK')).collect()"
      ],
      "execution_count": null,
      "outputs": [
        {
          "output_type": "execute_result",
          "data": {
            "text/plain": [
              "[Row(count(1)=27156, count(KVK)=27156, count(DISTINCT KVK)=2808)]"
            ]
          },
          "metadata": {
            "tags": []
          },
          "execution_count": 64
        }
      ]
    },
    {
      "cell_type": "markdown",
      "metadata": {
        "id": "AyQjRowTpQKD"
      },
      "source": [
        "### save"
      ]
    },
    {
      "cell_type": "code",
      "metadata": {
        "id": "azKaI5jXqvRw"
      },
      "source": [
        "CalculatedSelectedAccountancyData=CalculatedSelectedAccountancyData.\\\n",
        "  withColumnRenamed('MilkQuotaIn1000KgMilk ' , 'MilkQuotaIn1000KgMilk')"
      ],
      "execution_count": null,
      "outputs": []
    },
    {
      "cell_type": "code",
      "metadata": {
        "id": "8ksuzL-zpb0S"
      },
      "source": [
        "CalculatedSelectedAccountancyData.\\\n",
        "  repartition(1).\\\n",
        "  write.\\\n",
        "  parquet(path='/content/gdrive/Shared drives/Bovi-Analytics/Projects/ChenYongYan/Chapter2/Output/Parquet/FilteredCalculatedSelectedAccountancyData/',mode=\"overwrite\")"
      ],
      "execution_count": null,
      "outputs": []
    },
    {
      "cell_type": "markdown",
      "metadata": {
        "id": "gTNR58b3NBRj"
      },
      "source": [
        "### Add variables from raw data\n",
        "equity, herdsize, Successor"
      ]
    },
    {
      "cell_type": "code",
      "metadata": {
        "id": "wv9TxtbbNHjs"
      },
      "source": [
        "CalculatedSelectedAccountancyData= spark \\\n",
        "  .read \\\n",
        "  .parquet('/content/gdrive/Shared drives/Bovi-Analytics/Projects/ChenYongYan/Chapter2/Output/Parquet/FilteredCalculatedSelectedAccountancyData/')"
      ],
      "execution_count": null,
      "outputs": []
    },
    {
      "cell_type": "code",
      "metadata": {
        "id": "M0kLbg_8Kmoc"
      },
      "source": [
        "AddVariable= spark \\\n",
        "  .read \\\n",
        "  .parquet('/content/gdrive/Shared drives/Bovi-Analytics/Projects/ChenYongYan/Chapter2/Output/Parquet/AddVariable/')"
      ],
      "execution_count": null,
      "outputs": []
    },
    {
      "cell_type": "code",
      "metadata": {
        "colab": {
          "base_uri": "https://localhost:8080/"
        },
        "id": "-GSxpCASMglU",
        "outputId": "2aeaee4e-ac60-4762-90cb-5ea2dfd99794"
      },
      "source": [
        "AddVariable.count()"
      ],
      "execution_count": null,
      "outputs": [
        {
          "output_type": "execute_result",
          "data": {
            "text/plain": [
              "30341"
            ]
          },
          "metadata": {
            "tags": []
          },
          "execution_count": 70
        }
      ]
    },
    {
      "cell_type": "code",
      "metadata": {
        "colab": {
          "base_uri": "https://localhost:8080/"
        },
        "id": "uuefM3_wK_VA",
        "outputId": "42b090a2-02b0-476e-8f7f-bb09d582a9e3"
      },
      "source": [
        "AddVariable.describe().show()"
      ],
      "execution_count": null,
      "outputs": [
        {
          "output_type": "stream",
          "text": [
            "+-------+--------------------+------------------+-------------------+-------------------+------------------------+\n",
            "|summary|                 KVK|        FiscalYear|             Equity|          Successor|FlynthNumberOfMilkingCow|\n",
            "+-------+--------------------+------------------+-------------------+-------------------+------------------------+\n",
            "|  count|               27182|             30170|              22406|              30170|                   30170|\n",
            "|   mean|3.0773749032484733E7|2009.8291349022209| 0.4261737927340839| 0.3472986410341399|       83.48348027842212|\n",
            "| stddev|2.7767628109491173E7| 3.656340877550479|0.36745284994341454|0.47611953196547685|      46.445192374227474|\n",
            "|    min|             0001064|              2004|              -5.38|                  0|                     4.7|\n",
            "|    max|             9992594|              2016|                2.0|                  1|                  1074.5|\n",
            "+-------+--------------------+------------------+-------------------+-------------------+------------------------+\n",
            "\n"
          ],
          "name": "stdout"
        }
      ]
    },
    {
      "cell_type": "code",
      "metadata": {
        "id": "C5soCfjM9FH_"
      },
      "source": [
        "CalculatedSelectedAccountancyData=CalculatedSelectedAccountancyData.join(AddVariable, ['KVK','FiscalYear'], 'left')"
      ],
      "execution_count": null,
      "outputs": []
    },
    {
      "cell_type": "code",
      "metadata": {
        "colab": {
          "base_uri": "https://localhost:8080/"
        },
        "id": "eVvGCHEhDxCk",
        "outputId": "71710647-5941-4860-ecf4-2c20a5734c8a"
      },
      "source": [
        "len(CalculatedSelectedAccountancyData.columns)"
      ],
      "execution_count": null,
      "outputs": [
        {
          "output_type": "execute_result",
          "data": {
            "text/plain": [
              "86"
            ]
          },
          "metadata": {
            "tags": []
          },
          "execution_count": 73
        }
      ]
    },
    {
      "cell_type": "code",
      "metadata": {
        "colab": {
          "base_uri": "https://localhost:8080/"
        },
        "id": "59h4pKrFNJOc",
        "outputId": "aa9c1424-d367-4ff0-c9a5-005d28938566"
      },
      "source": [
        "CalculatedSelectedAccountancyData.\\\n",
        "  agg(F.count('*'),F.count('KVK'),F.countDistinct('KVK')).collect()"
      ],
      "execution_count": null,
      "outputs": [
        {
          "output_type": "execute_result",
          "data": {
            "text/plain": [
              "[Row(count(1)=27156, count(KVK)=27156, count(DISTINCT KVK)=2808)]"
            ]
          },
          "metadata": {
            "tags": []
          },
          "execution_count": 74
        }
      ]
    },
    {
      "cell_type": "code",
      "metadata": {
        "colab": {
          "base_uri": "https://localhost:8080/"
        },
        "id": "MDm48SdLN4QL",
        "outputId": "4bb68e70-fc53-4fd8-803c-fdc189978292"
      },
      "source": [
        "CalculatedSelectedAccountancyData.show(2)"
      ],
      "execution_count": null,
      "outputs": [
        {
          "output_type": "stream",
          "text": [
            "+-------+----------+-----------------+-------+-----------+-----+-----------------+----------------------+-----------------+----------------------+-----------------------+-------+----------+-----------+------------+--------+------------+---------------------+-----------------+---------------------+-----------+-----------------------+-------------+-----------------+-------------------+-----------------+-------------+---------+---------------+-------------------+------------+-------------------+-------------+-------------+-----------------+--------------------------------------+------------+--------------------+-------------------+-------------+----------------------+-----------+------+-----------------------+--------------------------------+---------------------+---------------------------------------+------------------------------+------+----------------+-----------------------------+--------------------------+--------------------+-------------+--------------------+--------------+----------------+---------------+-----------------------------+--------------+---------------------+-----------+--------------+-----------+-----------------+--------+----------------+------------------+------------------+---------------+---------------+--------------+---------------+---------------+----------------+------+------------------------------+--------------+-------------+-----------------------+------------------+-----------+-----------------------+------+---------+------------------------+\n",
            "|    KVK|FiscalYear|ProduceOwnProduct|Organic|ProductType|Robot|GrassLandAreaInHa|FodderCropLandAreaInHa|TotalLandAreaInHa|TotalOwnedLandAreaInHa|TotalLeasedLandAreaInHa|BossFTE|PartnerFTE|ChildrenFTE|ForeignerFTE|TotalFTE|NumberOfHour|MilkQuotaIn1000KgMilk|TotalMilkInFarmKg|TotalMilkForFactoryKg|MilkRevenue|MilkRevenueOfOwnProduct|SellLiveStock|PurchaseLivestock|IncreaseDairyCattle|TurnoverAndGrowth|SalesRoughage|FeedMoney|NonDairyRevenue|TotalRevenuesFlynth|Concentrates|VitaminsAndMinerals|DairyProducts|WetByProducts|PurchasedRoughage|ChangeOwnRoughageStockIncreaseDecrease|PastureMoney|TotalFeedCostsFlynth|YieldMinusFeedCosts|Fertilization|SeedsAndCropProtection|HealthCosts|AiCost|BreedingAndControlCosts|AiBreedingAndMilkControlTogether|EmbryoTransplantation|RearingCostsOfYoungStockForThirdParties|DirectCostsOfCheesePreparation|Litter|OtherDirectCosts|TotalOtherVariableCostsFlynth|RevenuesMinusVariableCosts|BalanceOtherBranches|PaymentRights|OtherEuContributions|ManagementFees|ReleaseMilkQuota|OtherRevenues57|TotOvBalancesAndOtherRevenues|CompanyBalance|DepreciationMilkQuota|SuperCharge|LeaseMilkQuota|OtherRights|ImmovableProperty|PaidWork|MachinesAndTools|WorkByThirdParties|EnvironmentalCosts|GeneralExpenses|OtherFixedCosts|TotalFixedCost|OperatingResult|FinancialIncome|FinancialCharges|Profit|DepreciationPerKgOfMilkInTotal|TotalFeedCosts|TotalRevenues|TotalOtherVariableCosts|TotalVariableCosts|GrossMargin|AccountingRecordPerYear|Equity|Successor|FlynthNumberOfMilkingCow|\n",
            "+-------+----------+-----------------+-------+-----------+-----+-----------------+----------------------+-----------------+----------------------+-----------------------+-------+----------+-----------+------------+--------+------------+---------------------+-----------------+---------------------+-----------+-----------------------+-------------+-----------------+-------------------+-----------------+-------------+---------+---------------+-------------------+------------+-------------------+-------------+-------------+-----------------+--------------------------------------+------------+--------------------+-------------------+-------------+----------------------+-----------+------+-----------------------+--------------------------------+---------------------+---------------------------------------+------------------------------+------+----------------+-----------------------------+--------------------------+--------------------+-------------+--------------------+--------------+----------------+---------------+-----------------------------+--------------+---------------------+-----------+--------------+-----------+-----------------+--------+----------------+------------------+------------------+---------------+---------------+--------------+---------------+---------------+----------------+------+------------------------------+--------------+-------------+-----------------------+------------------+-----------+-----------------------+------+---------+------------------------+\n",
            "|   1064|      2007|             null|   null|    gemengd|    0|            41.34|                 48.67|            48.67|                     0|                  48.67|    2.8|         0|          0|           0|     2.8|          NA|                  279|           283821|               283821|      98486|                      0|         9026|               85|               -539|             8373|          199|        0|              0|             107057|           0|               7975|            0|            0|                0|                                   795|           0|                8770|              98287|          341|                  1845|        568|  1958|                   1731|                            3690|                    0|                                      0|                             0|     0|            2242|                         8685|                     89602|               27956|        14475|                 482|             0|               0|           9622|                        52535|        142138|                 8288|       2526|             0|          0|            35052|       0|           17086|             11523|                 0|          14106|           3094|         91674|          50463|            199|           18335| 32327|                         19811|        8770.0|     107172.0|                 8771.0|           17541.0|    89631.0|                      1|  null|     null|                    null|\n",
            "|1102594|      2009|             null|   null|     zuiver|    0|            40.64|                 56.06|            57.35|                 41.86|                  23.69|      2|         0|          0|           0|       2|        4160|                  674|           681370|               675370|     183160|                      0|        17965|                0|              -1283|            16682|            0|        0|              0|             199842|       33971|               4390|         2566|            0|                0|                                 -3444|           0|               37483|             162359|         8915|                  4187|       6213|   675|                   2431|                            3107|                    0|                                      0|                             0|  1959|            4795|                        29176|                    133183|                   0|        28636|                2296|             0|               0|          13035|                        43899|        177082|                13980|       1891|             0|          0|            25867|     135|           14250|             19383|                 0|          18640|            946|         95092|          81990|           2431|           24246| 60243|                         29108|       34917.0|     199842.0|                29176.0|           64093.0|   135749.0|                      1|  0.55|        0|                    81.9|\n",
            "+-------+----------+-----------------+-------+-----------+-----+-----------------+----------------------+-----------------+----------------------+-----------------------+-------+----------+-----------+------------+--------+------------+---------------------+-----------------+---------------------+-----------+-----------------------+-------------+-----------------+-------------------+-----------------+-------------+---------+---------------+-------------------+------------+-------------------+-------------+-------------+-----------------+--------------------------------------+------------+--------------------+-------------------+-------------+----------------------+-----------+------+-----------------------+--------------------------------+---------------------+---------------------------------------+------------------------------+------+----------------+-----------------------------+--------------------------+--------------------+-------------+--------------------+--------------+----------------+---------------+-----------------------------+--------------+---------------------+-----------+--------------+-----------+-----------------+--------+----------------+------------------+------------------+---------------+---------------+--------------+---------------+---------------+----------------+------+------------------------------+--------------+-------------+-----------------------+------------------+-----------+-----------------------+------+---------+------------------------+\n",
            "only showing top 2 rows\n",
            "\n"
          ],
          "name": "stdout"
        }
      ]
    },
    {
      "cell_type": "code",
      "metadata": {
        "id": "y3TtWq6qQODk"
      },
      "source": [
        "CalculatedSelectedAccountancyData.\\\n",
        "  repartition(1).\\\n",
        "  write.\\\n",
        "  parquet(path='/content/gdrive/Shared drives/Bovi-Analytics/Projects/ChenYongYan/Chapter2/Output/Parquet/SelectedAccountancyData/',mode=\"overwrite\")"
      ],
      "execution_count": null,
      "outputs": []
    },
    {
      "cell_type": "markdown",
      "metadata": {
        "id": "JK2odsbq5Ct0"
      },
      "source": [
        "## UBN KVK key"
      ]
    },
    {
      "cell_type": "code",
      "metadata": {
        "id": "KUjW5D-Y6XQR"
      },
      "source": [
        "UBNKVK = spark \\\n",
        "  .read \\\n",
        "  .option('delimiter',';')\\\n",
        "  .csv('/content/gdrive/Shared drives/Bovi-Analytics/Projects/ChenYongYan/Chapter2/Data/EconomicRawData/tr_trim-kvk_ubn.csv',header=True)"
      ],
      "execution_count": null,
      "outputs": []
    },
    {
      "cell_type": "code",
      "metadata": {
        "colab": {
          "base_uri": "https://localhost:8080/"
        },
        "id": "YxdwoONp6nQt",
        "outputId": "052131bf-fb6e-4f68-bff0-40c9b5befbfa"
      },
      "source": [
        "UBNKVK.show(3)"
      ],
      "execution_count": null,
      "outputs": [
        {
          "output_type": "stream",
          "text": [
            "+----------+-------+\n",
            "|Kvk-nummer|    UBN|\n",
            "+----------+-------+\n",
            "|   1967427|0483411|\n",
            "|   9057218|6104835|\n",
            "|   9104218|4837102|\n",
            "+----------+-------+\n",
            "only showing top 3 rows\n",
            "\n"
          ],
          "name": "stdout"
        }
      ]
    },
    {
      "cell_type": "code",
      "metadata": {
        "id": "fNB2fI29pFDa"
      },
      "source": [
        "key=UBNKVK.withColumnRenamed('Kvk-nummer','KVK')"
      ],
      "execution_count": null,
      "outputs": []
    },
    {
      "cell_type": "code",
      "metadata": {
        "colab": {
          "base_uri": "https://localhost:8080/"
        },
        "id": "9mPuvqd-vlz1",
        "outputId": "3b2684c6-b23b-4604-bf9e-834987c3ec47"
      },
      "source": [
        "key.printSchema()"
      ],
      "execution_count": null,
      "outputs": [
        {
          "output_type": "stream",
          "text": [
            "root\n",
            " |-- KVK: string (nullable = true)\n",
            " |-- UBN: string (nullable = true)\n",
            "\n"
          ],
          "name": "stdout"
        }
      ]
    },
    {
      "cell_type": "code",
      "metadata": {
        "colab": {
          "base_uri": "https://localhost:8080/"
        },
        "id": "iHonoRMksEyJ",
        "outputId": "acc2b3e8-87e5-44ea-f437-098a7274f23c"
      },
      "source": [
        "key.agg(F.count('*'),F.count('KVK'),F.countDistinct('KVK'),F.count('UBN'),F.countDistinct('UBN')).collect()"
      ],
      "execution_count": null,
      "outputs": [
        {
          "output_type": "execute_result",
          "data": {
            "text/plain": [
              "[Row(count(1)=38463, count(KVK)=31732, count(DISTINCT KVK)=28173, count(UBN)=38463, count(DISTINCT UBN)=38463)]"
            ]
          },
          "metadata": {
            "tags": []
          },
          "execution_count": 79
        }
      ]
    },
    {
      "cell_type": "markdown",
      "metadata": {
        "id": "SGyjzVgAtNdl"
      },
      "source": [
        "### filter KVK null"
      ]
    },
    {
      "cell_type": "code",
      "metadata": {
        "colab": {
          "base_uri": "https://localhost:8080/"
        },
        "id": "kEISds3mo2bc",
        "outputId": "37398de9-2513-4561-dbb5-b7e60825ced4"
      },
      "source": [
        "key.filter(col('KVK').isNull()).count()"
      ],
      "execution_count": null,
      "outputs": [
        {
          "output_type": "execute_result",
          "data": {
            "text/plain": [
              "6731"
            ]
          },
          "metadata": {
            "tags": []
          },
          "execution_count": 55
        }
      ]
    },
    {
      "cell_type": "code",
      "metadata": {
        "id": "c8eIIEogtSJx"
      },
      "source": [
        "key=key.filter(col('KVK').isNotNull())"
      ],
      "execution_count": null,
      "outputs": []
    },
    {
      "cell_type": "code",
      "metadata": {
        "colab": {
          "base_uri": "https://localhost:8080/"
        },
        "id": "u33GHdNxtb49",
        "outputId": "20a36cfa-b746-42d1-f839-ffdfb4905219"
      },
      "source": [
        "key.agg(F.count('*'),F.count('KVK'),F.countDistinct('KVK'),F.count('UBN'),F.countDistinct('UBN')).collect()"
      ],
      "execution_count": null,
      "outputs": [
        {
          "output_type": "execute_result",
          "data": {
            "text/plain": [
              "[Row(count(1)=31732, count(KVK)=31732, count(DISTINCT KVK)=28173, count(UBN)=31732, count(DISTINCT UBN)=31732)]"
            ]
          },
          "metadata": {
            "tags": []
          },
          "execution_count": 81
        }
      ]
    },
    {
      "cell_type": "markdown",
      "metadata": {
        "id": "Qz6YhdLwsSSh"
      },
      "source": [
        "### filter KVK with multiple UBN"
      ]
    },
    {
      "cell_type": "markdown",
      "metadata": {
        "id": "wXC_2duhvxoi"
      },
      "source": [
        "check whether one kvk has 1+ UBN:"
      ]
    },
    {
      "cell_type": "code",
      "metadata": {
        "id": "UgQ-0Qwe8Xiu"
      },
      "source": [
        "a=key.groupBy('KVK').agg(F.countDistinct(\"UBN\").alias('NumberOfUBNPerKVK'))"
      ],
      "execution_count": null,
      "outputs": []
    },
    {
      "cell_type": "code",
      "metadata": {
        "colab": {
          "base_uri": "https://localhost:8080/"
        },
        "id": "KEin2kmU8xn2",
        "outputId": "64519d12-725e-4059-d21f-ee1236ccb59c"
      },
      "source": [
        "a.groupBy('NumberOfUBNPerKVK').agg(F.countDistinct(\"KVK\").alias('NumberOfKVK')).orderBy(F.desc('NumberOfKVK')).show()"
      ],
      "execution_count": null,
      "outputs": [
        {
          "output_type": "stream",
          "text": [
            "+-----------------+-----------+\n",
            "|NumberOfUBNPerKVK|NumberOfKVK|\n",
            "+-----------------+-----------+\n",
            "|                1|      25314|\n",
            "|                2|       2446|\n",
            "|                3|        295|\n",
            "|                4|         64|\n",
            "|                5|         24|\n",
            "|                6|         10|\n",
            "|                7|          6|\n",
            "|                8|          5|\n",
            "|                9|          3|\n",
            "|               12|          2|\n",
            "|               11|          1|\n",
            "|               15|          1|\n",
            "|               30|          1|\n",
            "|               16|          1|\n",
            "|             6731|          0|\n",
            "+-----------------+-----------+\n",
            "\n"
          ],
          "name": "stdout"
        }
      ]
    },
    {
      "cell_type": "code",
      "metadata": {
        "colab": {
          "base_uri": "https://localhost:8080/"
        },
        "id": "aS7rF1oqwNtd",
        "outputId": "dc4fada2-a0cc-4eba-ddbf-ff3df73c1710"
      },
      "source": [
        "a.filter('NumberOfUBNPerKVK=16').show()"
      ],
      "execution_count": null,
      "outputs": [
        {
          "output_type": "stream",
          "text": [
            "+-------+-----------------+\n",
            "|    KVK|NumberOfUBNPerKVK|\n",
            "+-------+-----------------+\n",
            "|6011095|               16|\n",
            "+-------+-----------------+\n",
            "\n"
          ],
          "name": "stdout"
        }
      ]
    },
    {
      "cell_type": "code",
      "metadata": {
        "colab": {
          "base_uri": "https://localhost:8080/"
        },
        "id": "imqe9mitwblN",
        "outputId": "41dcadf7-0919-4886-b514-eb725389df1a"
      },
      "source": [
        "key.filter('KVK=6011095').show()"
      ],
      "execution_count": null,
      "outputs": [
        {
          "output_type": "stream",
          "text": [
            "+-------+-------+\n",
            "|    KVK|    UBN|\n",
            "+-------+-------+\n",
            "|6011095|9083009|\n",
            "|6011095|3317166|\n",
            "|6011095|2641338|\n",
            "|6011095|3303031|\n",
            "|6011095|3345365|\n",
            "|6011095|5364342|\n",
            "|6011095|2348835|\n",
            "|6011095|8166378|\n",
            "|6011095|5617149|\n",
            "|6011095|8367159|\n",
            "|6011095|1193728|\n",
            "|6011095|2287071|\n",
            "|6011095|7738255|\n",
            "|6011095|1739755|\n",
            "|6011095|7073044|\n",
            "|6011095|1149738|\n",
            "+-------+-------+\n",
            "\n"
          ],
          "name": "stdout"
        }
      ]
    },
    {
      "cell_type": "markdown",
      "metadata": {
        "id": "Ser8F9fpv10e"
      },
      "source": [
        "Then we decide to exclude those kvk with 1+ UBN"
      ]
    },
    {
      "cell_type": "code",
      "metadata": {
        "id": "_Nrdp8X0ty6x"
      },
      "source": [
        "w2=Window.partitionBy('KVK')\n",
        "key=key.withColumn('UBNPerKVK',F.count('*').over(w2))"
      ],
      "execution_count": null,
      "outputs": []
    },
    {
      "cell_type": "code",
      "metadata": {
        "colab": {
          "base_uri": "https://localhost:8080/"
        },
        "id": "SOyAp5AkvNCS",
        "outputId": "be81a2ad-a774-40e5-bf29-f6cff3740e36"
      },
      "source": [
        "key.show(2)"
      ],
      "execution_count": null,
      "outputs": [
        {
          "output_type": "stream",
          "text": [
            "+-------+-------+---------+\n",
            "|    KVK|    UBN|UBNPerKVK|\n",
            "+-------+-------+---------+\n",
            "|0092684|1611606|        1|\n",
            "|0132396|7134505|        1|\n",
            "+-------+-------+---------+\n",
            "only showing top 2 rows\n",
            "\n"
          ],
          "name": "stdout"
        }
      ]
    },
    {
      "cell_type": "code",
      "metadata": {
        "id": "1LO4bb9otvbo"
      },
      "source": [
        "key=key.filter(col('UBNPerKVK')<2)"
      ],
      "execution_count": null,
      "outputs": []
    },
    {
      "cell_type": "code",
      "metadata": {
        "colab": {
          "base_uri": "https://localhost:8080/"
        },
        "id": "trCeEy-BvniH",
        "outputId": "1b79e46d-b8db-468d-c91f-5e98dc65d5d7"
      },
      "source": [
        "key.agg(F.count('*'),F.count('KVK'),F.countDistinct('KVK'),F.count('UBN'),F.countDistinct('UBN')).collect()"
      ],
      "execution_count": null,
      "outputs": [
        {
          "output_type": "execute_result",
          "data": {
            "text/plain": [
              "[Row(count(1)=25314, count(KVK)=25314, count(DISTINCT KVK)=25314, count(UBN)=25314, count(DISTINCT UBN)=25314)]"
            ]
          },
          "metadata": {
            "tags": []
          },
          "execution_count": 86
        }
      ]
    },
    {
      "cell_type": "markdown",
      "metadata": {
        "id": "0ZdiENvSwcpr"
      },
      "source": [
        "Finally, one kvk only has one UBN"
      ]
    },
    {
      "cell_type": "code",
      "metadata": {
        "id": "iWvvqLsTwIj6"
      },
      "source": [
        "key.\\\n",
        "  repartition(1).\\\n",
        "  write.\\\n",
        "  parquet(path='/content/gdrive/Shared drives/Bovi-Analytics/Projects/ChenYongYan/Chapter2/Output/Parquet/KvkToUbnFilteredKey/',mode=\"overwrite\")"
      ],
      "execution_count": null,
      "outputs": []
    },
    {
      "cell_type": "markdown",
      "metadata": {
        "id": "BWf5uFBLtaS5"
      },
      "source": [
        "## join ubn to economic data\n"
      ]
    },
    {
      "cell_type": "code",
      "metadata": {
        "id": "f-_Yzs8XwVJX"
      },
      "source": [
        "key = spark \\\n",
        "  .read \\\n",
        "  .parquet('/content/gdrive/Shared drives/Bovi-Analytics/Projects/ChenYongYan/Chapter2/Output/Parquet/KvkToUbnFilteredKey/')"
      ],
      "execution_count": null,
      "outputs": []
    },
    {
      "cell_type": "code",
      "metadata": {
        "colab": {
          "base_uri": "https://localhost:8080/"
        },
        "id": "AjS3wlxz99Zj",
        "outputId": "775a789d-ece7-48d3-9585-66679727880e"
      },
      "source": [
        "key.printSchema()"
      ],
      "execution_count": null,
      "outputs": [
        {
          "output_type": "stream",
          "text": [
            "root\n",
            " |-- KVK: string (nullable = true)\n",
            " |-- UBN: string (nullable = true)\n",
            " |-- UBNPerKVK: long (nullable = true)\n",
            "\n"
          ],
          "name": "stdout"
        }
      ]
    },
    {
      "cell_type": "code",
      "metadata": {
        "colab": {
          "base_uri": "https://localhost:8080/"
        },
        "id": "S_qCqy1RxSpp",
        "outputId": "9dcd1470-a83c-478c-ac50-429afa753038"
      },
      "source": [
        "key.agg(F.count('KVK'),F.countDistinct('KVK'),F.count('UBN'),F.countDistinct('UBN')).collect()"
      ],
      "execution_count": null,
      "outputs": [
        {
          "output_type": "execute_result",
          "data": {
            "text/plain": [
              "[Row(count(KVK)=25314, count(DISTINCT KVK)=25314, count(UBN)=25314, count(DISTINCT UBN)=25314)]"
            ]
          },
          "metadata": {
            "tags": []
          },
          "execution_count": 88
        }
      ]
    },
    {
      "cell_type": "code",
      "metadata": {
        "colab": {
          "base_uri": "https://localhost:8080/"
        },
        "id": "GRudRUAKw4pL",
        "outputId": "0a5a019c-27f7-40d8-b2a1-6d379cbb3c88"
      },
      "source": [
        "key.show(2)"
      ],
      "execution_count": null,
      "outputs": [
        {
          "output_type": "stream",
          "text": [
            "+-------+-------+---------+\n",
            "|    KVK|    UBN|UBNPerKVK|\n",
            "+-------+-------+---------+\n",
            "|0092684|1611606|        1|\n",
            "|0132396|7134505|        1|\n",
            "+-------+-------+---------+\n",
            "only showing top 2 rows\n",
            "\n"
          ],
          "name": "stdout"
        }
      ]
    },
    {
      "cell_type": "code",
      "metadata": {
        "id": "sWAWUITUwpUh"
      },
      "source": [
        "CalculatedSelectedAccountancyData= spark \\\n",
        "  .read \\\n",
        "  .parquet('/content/gdrive/Shared drives/Bovi-Analytics/Projects/ChenYongYan/Chapter2/Output/Parquet/SelectedAccountancyData/')"
      ],
      "execution_count": null,
      "outputs": []
    },
    {
      "cell_type": "code",
      "metadata": {
        "id": "W1_VPGTC-Bfi",
        "colab": {
          "base_uri": "https://localhost:8080/"
        },
        "outputId": "23f83a52-8d07-4c4f-de59-e6aaa7e253c3"
      },
      "source": [
        "len(CalculatedSelectedAccountancyData.columns)"
      ],
      "execution_count": null,
      "outputs": [
        {
          "output_type": "execute_result",
          "data": {
            "text/plain": [
              "86"
            ]
          },
          "metadata": {
            "tags": []
          },
          "execution_count": 92
        }
      ]
    },
    {
      "cell_type": "code",
      "metadata": {
        "colab": {
          "base_uri": "https://localhost:8080/"
        },
        "id": "dNF45cqkw1pQ",
        "outputId": "61cf5a81-dffa-41ca-bb25-eafb03097f4a"
      },
      "source": [
        "CalculatedSelectedAccountancyData.agg(F.count('KVK'),F.countDistinct('KVK')).collect()"
      ],
      "execution_count": null,
      "outputs": [
        {
          "output_type": "execute_result",
          "data": {
            "text/plain": [
              "[Row(count(KVK)=27156, count(DISTINCT KVK)=2808)]"
            ]
          },
          "metadata": {
            "tags": []
          },
          "execution_count": 93
        }
      ]
    },
    {
      "cell_type": "code",
      "metadata": {
        "colab": {
          "base_uri": "https://localhost:8080/"
        },
        "id": "59WwBeCE8k7V",
        "outputId": "221b347c-fd3d-4953-c954-eb2843273dfb"
      },
      "source": [
        "CalculatedSelectedAccountancyData.show(2)"
      ],
      "execution_count": null,
      "outputs": [
        {
          "output_type": "stream",
          "text": [
            "+-------+----------+-----------------+-------+-----------+-----+-----------------+----------------------+-----------------+----------------------+-----------------------+-------+----------+-----------+------------+--------+------------+---------------------+-----------------+---------------------+-----------+-----------------------+-------------+-----------------+-------------------+-----------------+-------------+---------+---------------+-------------------+------------+-------------------+-------------+-------------+-----------------+--------------------------------------+------------+--------------------+-------------------+-------------+----------------------+-----------+------+-----------------------+--------------------------------+---------------------+---------------------------------------+------------------------------+------+----------------+-----------------------------+--------------------------+--------------------+-------------+--------------------+--------------+----------------+---------------+-----------------------------+--------------+---------------------+-----------+--------------+-----------+-----------------+--------+----------------+------------------+------------------+---------------+---------------+--------------+---------------+---------------+----------------+------+------------------------------+--------------+-------------+-----------------------+------------------+-----------+-----------------------+------+---------+------------------------+\n",
            "|    KVK|FiscalYear|ProduceOwnProduct|Organic|ProductType|Robot|GrassLandAreaInHa|FodderCropLandAreaInHa|TotalLandAreaInHa|TotalOwnedLandAreaInHa|TotalLeasedLandAreaInHa|BossFTE|PartnerFTE|ChildrenFTE|ForeignerFTE|TotalFTE|NumberOfHour|MilkQuotaIn1000KgMilk|TotalMilkInFarmKg|TotalMilkForFactoryKg|MilkRevenue|MilkRevenueOfOwnProduct|SellLiveStock|PurchaseLivestock|IncreaseDairyCattle|TurnoverAndGrowth|SalesRoughage|FeedMoney|NonDairyRevenue|TotalRevenuesFlynth|Concentrates|VitaminsAndMinerals|DairyProducts|WetByProducts|PurchasedRoughage|ChangeOwnRoughageStockIncreaseDecrease|PastureMoney|TotalFeedCostsFlynth|YieldMinusFeedCosts|Fertilization|SeedsAndCropProtection|HealthCosts|AiCost|BreedingAndControlCosts|AiBreedingAndMilkControlTogether|EmbryoTransplantation|RearingCostsOfYoungStockForThirdParties|DirectCostsOfCheesePreparation|Litter|OtherDirectCosts|TotalOtherVariableCostsFlynth|RevenuesMinusVariableCosts|BalanceOtherBranches|PaymentRights|OtherEuContributions|ManagementFees|ReleaseMilkQuota|OtherRevenues57|TotOvBalancesAndOtherRevenues|CompanyBalance|DepreciationMilkQuota|SuperCharge|LeaseMilkQuota|OtherRights|ImmovableProperty|PaidWork|MachinesAndTools|WorkByThirdParties|EnvironmentalCosts|GeneralExpenses|OtherFixedCosts|TotalFixedCost|OperatingResult|FinancialIncome|FinancialCharges|Profit|DepreciationPerKgOfMilkInTotal|TotalFeedCosts|TotalRevenues|TotalOtherVariableCosts|TotalVariableCosts|GrossMargin|AccountingRecordPerYear|Equity|Successor|FlynthNumberOfMilkingCow|\n",
            "+-------+----------+-----------------+-------+-----------+-----+-----------------+----------------------+-----------------+----------------------+-----------------------+-------+----------+-----------+------------+--------+------------+---------------------+-----------------+---------------------+-----------+-----------------------+-------------+-----------------+-------------------+-----------------+-------------+---------+---------------+-------------------+------------+-------------------+-------------+-------------+-----------------+--------------------------------------+------------+--------------------+-------------------+-------------+----------------------+-----------+------+-----------------------+--------------------------------+---------------------+---------------------------------------+------------------------------+------+----------------+-----------------------------+--------------------------+--------------------+-------------+--------------------+--------------+----------------+---------------+-----------------------------+--------------+---------------------+-----------+--------------+-----------+-----------------+--------+----------------+------------------+------------------+---------------+---------------+--------------+---------------+---------------+----------------+------+------------------------------+--------------+-------------+-----------------------+------------------+-----------+-----------------------+------+---------+------------------------+\n",
            "|   1064|      2007|             null|   null|    gemengd|    0|            41.34|                 48.67|            48.67|                     0|                  48.67|    2.8|         0|          0|           0|     2.8|          NA|                  279|           283821|               283821|      98486|                      0|         9026|               85|               -539|             8373|          199|        0|              0|             107057|           0|               7975|            0|            0|                0|                                   795|           0|                8770|              98287|          341|                  1845|        568|  1958|                   1731|                            3690|                    0|                                      0|                             0|     0|            2242|                         8685|                     89602|               27956|        14475|                 482|             0|               0|           9622|                        52535|        142138|                 8288|       2526|             0|          0|            35052|       0|           17086|             11523|                 0|          14106|           3094|         91674|          50463|            199|           18335| 32327|                         19811|        8770.0|     107172.0|                 8771.0|           17541.0|    89631.0|                      1|  null|     null|                    null|\n",
            "|1102594|      2009|             null|   null|     zuiver|    0|            40.64|                 56.06|            57.35|                 41.86|                  23.69|      2|         0|          0|           0|       2|        4160|                  674|           681370|               675370|     183160|                      0|        17965|                0|              -1283|            16682|            0|        0|              0|             199842|       33971|               4390|         2566|            0|                0|                                 -3444|           0|               37483|             162359|         8915|                  4187|       6213|   675|                   2431|                            3107|                    0|                                      0|                             0|  1959|            4795|                        29176|                    133183|                   0|        28636|                2296|             0|               0|          13035|                        43899|        177082|                13980|       1891|             0|          0|            25867|     135|           14250|             19383|                 0|          18640|            946|         95092|          81990|           2431|           24246| 60243|                         29108|       34917.0|     199842.0|                29176.0|           64093.0|   135749.0|                      1|  0.55|        0|                    81.9|\n",
            "+-------+----------+-----------------+-------+-----------+-----+-----------------+----------------------+-----------------+----------------------+-----------------------+-------+----------+-----------+------------+--------+------------+---------------------+-----------------+---------------------+-----------+-----------------------+-------------+-----------------+-------------------+-----------------+-------------+---------+---------------+-------------------+------------+-------------------+-------------+-------------+-----------------+--------------------------------------+------------+--------------------+-------------------+-------------+----------------------+-----------+------+-----------------------+--------------------------------+---------------------+---------------------------------------+------------------------------+------+----------------+-----------------------------+--------------------------+--------------------+-------------+--------------------+--------------+----------------+---------------+-----------------------------+--------------+---------------------+-----------+--------------+-----------+-----------------+--------+----------------+------------------+------------------+---------------+---------------+--------------+---------------+---------------+----------------+------+------------------------------+--------------+-------------+-----------------------+------------------+-----------+-----------------------+------+---------+------------------------+\n",
            "only showing top 2 rows\n",
            "\n"
          ],
          "name": "stdout"
        }
      ]
    },
    {
      "cell_type": "code",
      "metadata": {
        "id": "yiI1mwnCtYqi"
      },
      "source": [
        "AccountingWithUBN=CalculatedSelectedAccountancyData.\\\n",
        "  join(key,['KVK'],'inner').\\\n",
        "  drop('UBNPerKVK')"
      ],
      "execution_count": null,
      "outputs": []
    },
    {
      "cell_type": "code",
      "metadata": {
        "colab": {
          "base_uri": "https://localhost:8080/"
        },
        "id": "qNGj8nYy7arQ",
        "outputId": "253cb629-85c4-4f96-915b-874e91922e89"
      },
      "source": [
        "AccountingWithUBN.show(2)"
      ],
      "execution_count": null,
      "outputs": [
        {
          "output_type": "stream",
          "text": [
            "+-------+----------+-----------------+-------+-----------+-----+-----------------+----------------------+-----------------+----------------------+-----------------------+-------+----------+-----------+------------+--------+------------+---------------------+-----------------+---------------------+-----------+-----------------------+-------------+-----------------+-------------------+-----------------+-------------+---------+---------------+-------------------+------------+-------------------+-------------+-------------+-----------------+--------------------------------------+------------+--------------------+-------------------+-------------+----------------------+-----------+------+-----------------------+--------------------------------+---------------------+---------------------------------------+------------------------------+------+----------------+-----------------------------+--------------------------+--------------------+-------------+--------------------+--------------+----------------+---------------+-----------------------------+--------------+---------------------+-----------+--------------+-----------+-----------------+--------+----------------+------------------+------------------+---------------+---------------+--------------+---------------+---------------+----------------+------+------------------------------+--------------+-------------+-----------------------+------------------+-----------+-----------------------+------+---------+------------------------+-------+\n",
            "|    KVK|FiscalYear|ProduceOwnProduct|Organic|ProductType|Robot|GrassLandAreaInHa|FodderCropLandAreaInHa|TotalLandAreaInHa|TotalOwnedLandAreaInHa|TotalLeasedLandAreaInHa|BossFTE|PartnerFTE|ChildrenFTE|ForeignerFTE|TotalFTE|NumberOfHour|MilkQuotaIn1000KgMilk|TotalMilkInFarmKg|TotalMilkForFactoryKg|MilkRevenue|MilkRevenueOfOwnProduct|SellLiveStock|PurchaseLivestock|IncreaseDairyCattle|TurnoverAndGrowth|SalesRoughage|FeedMoney|NonDairyRevenue|TotalRevenuesFlynth|Concentrates|VitaminsAndMinerals|DairyProducts|WetByProducts|PurchasedRoughage|ChangeOwnRoughageStockIncreaseDecrease|PastureMoney|TotalFeedCostsFlynth|YieldMinusFeedCosts|Fertilization|SeedsAndCropProtection|HealthCosts|AiCost|BreedingAndControlCosts|AiBreedingAndMilkControlTogether|EmbryoTransplantation|RearingCostsOfYoungStockForThirdParties|DirectCostsOfCheesePreparation|Litter|OtherDirectCosts|TotalOtherVariableCostsFlynth|RevenuesMinusVariableCosts|BalanceOtherBranches|PaymentRights|OtherEuContributions|ManagementFees|ReleaseMilkQuota|OtherRevenues57|TotOvBalancesAndOtherRevenues|CompanyBalance|DepreciationMilkQuota|SuperCharge|LeaseMilkQuota|OtherRights|ImmovableProperty|PaidWork|MachinesAndTools|WorkByThirdParties|EnvironmentalCosts|GeneralExpenses|OtherFixedCosts|TotalFixedCost|OperatingResult|FinancialIncome|FinancialCharges|Profit|DepreciationPerKgOfMilkInTotal|TotalFeedCosts|TotalRevenues|TotalOtherVariableCosts|TotalVariableCosts|GrossMargin|AccountingRecordPerYear|Equity|Successor|FlynthNumberOfMilkingCow|    UBN|\n",
            "+-------+----------+-----------------+-------+-----------+-----+-----------------+----------------------+-----------------+----------------------+-----------------------+-------+----------+-----------+------------+--------+------------+---------------------+-----------------+---------------------+-----------+-----------------------+-------------+-----------------+-------------------+-----------------+-------------+---------+---------------+-------------------+------------+-------------------+-------------+-------------+-----------------+--------------------------------------+------------+--------------------+-------------------+-------------+----------------------+-----------+------+-----------------------+--------------------------------+---------------------+---------------------------------------+------------------------------+------+----------------+-----------------------------+--------------------------+--------------------+-------------+--------------------+--------------+----------------+---------------+-----------------------------+--------------+---------------------+-----------+--------------+-----------+-----------------+--------+----------------+------------------+------------------+---------------+---------------+--------------+---------------+---------------+----------------+------+------------------------------+--------------+-------------+-----------------------+------------------+-----------+-----------------------+------+---------+------------------------+-------+\n",
            "|1102594|      2009|             null|   null|     zuiver|    0|            40.64|                 56.06|            57.35|                 41.86|                  23.69|      2|         0|          0|           0|       2|        4160|                  674|           681370|               675370|     183160|                      0|        17965|                0|              -1283|            16682|            0|        0|              0|             199842|       33971|               4390|         2566|            0|                0|                                 -3444|           0|               37483|             162359|         8915|                  4187|       6213|   675|                   2431|                            3107|                    0|                                      0|                             0|  1959|            4795|                        29176|                    133183|                   0|        28636|                2296|             0|               0|          13035|                        43899|        177082|                13980|       1891|             0|          0|            25867|     135|           14250|             19383|                 0|          18640|            946|         95092|          81990|           2431|           24246| 60243|                         29108|       34917.0|     199842.0|                29176.0|           64093.0|   135749.0|                      1|  0.55|        0|                    81.9|6696411|\n",
            "|1221218|      2007|             null|   null|    gemengd|    0|            21.87|                 21.87|            22.81|                   1.1|                  21.71|    1.4|         0|          0|           0|     1.4|        3120|                  233|           248375|               247475|      95253|                      0|         9181|             6632|               4628|             7177|         2648|        0|              0|             105078|       21283|                445|         1955|            0|                0|                                     0|           0|               23683|              81395|         3341|                     0|       2945|  2178|                   1114|                            3291|                    0|                                      0|                             0|   916|            2920|                        13388|                     68006|                4801|         8860|                 223|             0|               0|            148|                        14032|         82038|                 5766|        322|          2994|          0|            15220|       0|            4950|              5444|                 0|          10542|            520|         45758|          36280|             25|            6781| 29549|                          8513|       21728.0|     111710.0|                20045.0|           41773.0|    69937.0|                      1|  0.16|        0|                    30.3|0000111|\n",
            "+-------+----------+-----------------+-------+-----------+-----+-----------------+----------------------+-----------------+----------------------+-----------------------+-------+----------+-----------+------------+--------+------------+---------------------+-----------------+---------------------+-----------+-----------------------+-------------+-----------------+-------------------+-----------------+-------------+---------+---------------+-------------------+------------+-------------------+-------------+-------------+-----------------+--------------------------------------+------------+--------------------+-------------------+-------------+----------------------+-----------+------+-----------------------+--------------------------------+---------------------+---------------------------------------+------------------------------+------+----------------+-----------------------------+--------------------------+--------------------+-------------+--------------------+--------------+----------------+---------------+-----------------------------+--------------+---------------------+-----------+--------------+-----------+-----------------+--------+----------------+------------------+------------------+---------------+---------------+--------------+---------------+---------------+----------------+------+------------------------------+--------------+-------------+-----------------------+------------------+-----------+-----------------------+------+---------+------------------------+-------+\n",
            "only showing top 2 rows\n",
            "\n"
          ],
          "name": "stdout"
        }
      ]
    },
    {
      "cell_type": "code",
      "metadata": {
        "colab": {
          "base_uri": "https://localhost:8080/"
        },
        "id": "4YD4Qe7o95ut",
        "outputId": "b031f7ab-7f83-49ad-e484-1f094ace81b8"
      },
      "source": [
        "AccountingWithUBN.agg(F.count('*'),F.count('KVK'),F.countDistinct('KVK'),F.count('UBN'),F.countDistinct('UBN')).collect()"
      ],
      "execution_count": null,
      "outputs": [
        {
          "output_type": "execute_result",
          "data": {
            "text/plain": [
              "[Row(count(1)=21148, count(KVK)=21148, count(DISTINCT KVK)=2106, count(UBN)=21148, count(DISTINCT UBN)=2106)]"
            ]
          },
          "metadata": {
            "tags": []
          },
          "execution_count": 96
        }
      ]
    },
    {
      "cell_type": "code",
      "metadata": {
        "id": "hwpWHVh4NKoJ"
      },
      "source": [
        "AccountingWithUBN.printSchema()"
      ],
      "execution_count": null,
      "outputs": []
    },
    {
      "cell_type": "code",
      "metadata": {
        "id": "qp9xKBcJNIxS"
      },
      "source": [
        "AccountingWithUBN=AccountingWithUBN.withColumn('UBN',AccountingWithUBN['UBN'].cast(IntegerType())).\\\n",
        "  withColumn('FiscalYear',AccountingWithUBN['FiscalYear'].cast(IntegerType()))"
      ],
      "execution_count": null,
      "outputs": []
    },
    {
      "cell_type": "code",
      "metadata": {
        "colab": {
          "base_uri": "https://localhost:8080/"
        },
        "id": "l-axMFo-OBaS",
        "outputId": "8ae4ebf1-8fc4-4539-ff74-a7a473ee30f9"
      },
      "source": [
        "AccountingWithUBN.show(2)"
      ],
      "execution_count": null,
      "outputs": [
        {
          "output_type": "stream",
          "text": [
            "+-------+----------+-----------------+-------+-----------+-----+-----------------+----------------------+-----------------+----------------------+-----------------------+-------+----------+-----------+------------+--------+------------+---------------------+-----------------+---------------------+-----------+-----------------------+-------------+-----------------+-------------------+-----------------+-------------+---------+---------------+-------------------+------------+-------------------+-------------+-------------+-----------------+--------------------------------------+------------+--------------------+-------------------+-------------+----------------------+-----------+------+-----------------------+--------------------------------+---------------------+---------------------------------------+------------------------------+------+----------------+-----------------------------+--------------------------+--------------------+-------------+--------------------+--------------+----------------+---------------+-----------------------------+--------------+---------------------+-----------+--------------+-----------+-----------------+--------+----------------+------------------+------------------+---------------+---------------+--------------+---------------+---------------+----------------+------+------------------------------+--------------+-------------+-----------------------+------------------+-----------+-----------------------+------+---------+------------------------+-------+\n",
            "|    KVK|FiscalYear|ProduceOwnProduct|Organic|ProductType|Robot|GrassLandAreaInHa|FodderCropLandAreaInHa|TotalLandAreaInHa|TotalOwnedLandAreaInHa|TotalLeasedLandAreaInHa|BossFTE|PartnerFTE|ChildrenFTE|ForeignerFTE|TotalFTE|NumberOfHour|MilkQuotaIn1000KgMilk|TotalMilkInFarmKg|TotalMilkForFactoryKg|MilkRevenue|MilkRevenueOfOwnProduct|SellLiveStock|PurchaseLivestock|IncreaseDairyCattle|TurnoverAndGrowth|SalesRoughage|FeedMoney|NonDairyRevenue|TotalRevenuesFlynth|Concentrates|VitaminsAndMinerals|DairyProducts|WetByProducts|PurchasedRoughage|ChangeOwnRoughageStockIncreaseDecrease|PastureMoney|TotalFeedCostsFlynth|YieldMinusFeedCosts|Fertilization|SeedsAndCropProtection|HealthCosts|AiCost|BreedingAndControlCosts|AiBreedingAndMilkControlTogether|EmbryoTransplantation|RearingCostsOfYoungStockForThirdParties|DirectCostsOfCheesePreparation|Litter|OtherDirectCosts|TotalOtherVariableCostsFlynth|RevenuesMinusVariableCosts|BalanceOtherBranches|PaymentRights|OtherEuContributions|ManagementFees|ReleaseMilkQuota|OtherRevenues57|TotOvBalancesAndOtherRevenues|CompanyBalance|DepreciationMilkQuota|SuperCharge|LeaseMilkQuota|OtherRights|ImmovableProperty|PaidWork|MachinesAndTools|WorkByThirdParties|EnvironmentalCosts|GeneralExpenses|OtherFixedCosts|TotalFixedCost|OperatingResult|FinancialIncome|FinancialCharges|Profit|DepreciationPerKgOfMilkInTotal|TotalFeedCosts|TotalRevenues|TotalOtherVariableCosts|TotalVariableCosts|GrossMargin|AccountingRecordPerYear|Equity|Successor|FlynthNumberOfMilkingCow|    UBN|\n",
            "+-------+----------+-----------------+-------+-----------+-----+-----------------+----------------------+-----------------+----------------------+-----------------------+-------+----------+-----------+------------+--------+------------+---------------------+-----------------+---------------------+-----------+-----------------------+-------------+-----------------+-------------------+-----------------+-------------+---------+---------------+-------------------+------------+-------------------+-------------+-------------+-----------------+--------------------------------------+------------+--------------------+-------------------+-------------+----------------------+-----------+------+-----------------------+--------------------------------+---------------------+---------------------------------------+------------------------------+------+----------------+-----------------------------+--------------------------+--------------------+-------------+--------------------+--------------+----------------+---------------+-----------------------------+--------------+---------------------+-----------+--------------+-----------+-----------------+--------+----------------+------------------+------------------+---------------+---------------+--------------+---------------+---------------+----------------+------+------------------------------+--------------+-------------+-----------------------+------------------+-----------+-----------------------+------+---------+------------------------+-------+\n",
            "|1102594|      2009|             null|   null|     zuiver|    0|            40.64|                 56.06|            57.35|                 41.86|                  23.69|      2|         0|          0|           0|       2|        4160|                  674|           681370|               675370|     183160|                      0|        17965|                0|              -1283|            16682|            0|        0|              0|             199842|       33971|               4390|         2566|            0|                0|                                 -3444|           0|               37483|             162359|         8915|                  4187|       6213|   675|                   2431|                            3107|                    0|                                      0|                             0|  1959|            4795|                        29176|                    133183|                   0|        28636|                2296|             0|               0|          13035|                        43899|        177082|                13980|       1891|             0|          0|            25867|     135|           14250|             19383|                 0|          18640|            946|         95092|          81990|           2431|           24246| 60243|                         29108|       34917.0|     199842.0|                29176.0|           64093.0|   135749.0|                      1|  0.55|        0|                    81.9|6696411|\n",
            "|1221218|      2007|             null|   null|    gemengd|    0|            21.87|                 21.87|            22.81|                   1.1|                  21.71|    1.4|         0|          0|           0|     1.4|        3120|                  233|           248375|               247475|      95253|                      0|         9181|             6632|               4628|             7177|         2648|        0|              0|             105078|       21283|                445|         1955|            0|                0|                                     0|           0|               23683|              81395|         3341|                     0|       2945|  2178|                   1114|                            3291|                    0|                                      0|                             0|   916|            2920|                        13388|                     68006|                4801|         8860|                 223|             0|               0|            148|                        14032|         82038|                 5766|        322|          2994|          0|            15220|       0|            4950|              5444|                 0|          10542|            520|         45758|          36280|             25|            6781| 29549|                          8513|       21728.0|     111710.0|                20045.0|           41773.0|    69937.0|                      1|  0.16|        0|                    30.3|    111|\n",
            "+-------+----------+-----------------+-------+-----------+-----+-----------------+----------------------+-----------------+----------------------+-----------------------+-------+----------+-----------+------------+--------+------------+---------------------+-----------------+---------------------+-----------+-----------------------+-------------+-----------------+-------------------+-----------------+-------------+---------+---------------+-------------------+------------+-------------------+-------------+-------------+-----------------+--------------------------------------+------------+--------------------+-------------------+-------------+----------------------+-----------+------+-----------------------+--------------------------------+---------------------+---------------------------------------+------------------------------+------+----------------+-----------------------------+--------------------------+--------------------+-------------+--------------------+--------------+----------------+---------------+-----------------------------+--------------+---------------------+-----------+--------------+-----------+-----------------+--------+----------------+------------------+------------------+---------------+---------------+--------------+---------------+---------------+----------------+------+------------------------------+--------------+-------------+-----------------------+------------------+-----------+-----------------------+------+---------+------------------------+-------+\n",
            "only showing top 2 rows\n",
            "\n"
          ],
          "name": "stdout"
        }
      ]
    },
    {
      "cell_type": "markdown",
      "metadata": {
        "id": "prM9Tfzf9CVv"
      },
      "source": [
        "## join crv herd data\n",
        "\n"
      ]
    },
    {
      "cell_type": "markdown",
      "metadata": {
        "id": "OG_oJn-__KBC"
      },
      "source": [
        "### DIM, MilkKg, M305"
      ]
    },
    {
      "cell_type": "code",
      "metadata": {
        "id": "9za9saiV9e4t"
      },
      "source": [
        "HerdInformation= spark \\\n",
        "  .read \\\n",
        "  .parquet('/content/gdrive/Shared drives/Bovi-Analytics/Projects/ChenYongYan/Chapter2/Output/Parquet/CrvHerdDataPerTestYear/')"
      ],
      "execution_count": null,
      "outputs": []
    },
    {
      "cell_type": "code",
      "metadata": {
        "colab": {
          "base_uri": "https://localhost:8080/"
        },
        "id": "3GeBgTEn-HuY",
        "outputId": "f12dd166-513c-4e27-d522-28261fbfec57"
      },
      "source": [
        "HerdInformation.printSchema()"
      ],
      "execution_count": null,
      "outputs": [
        {
          "output_type": "stream",
          "text": [
            "root\n",
            " |-- UBN: integer (nullable = true)\n",
            " |-- TestYear: integer (nullable = true)\n",
            " |-- AverageDIM: double (nullable = true)\n",
            " |-- AverageMilkKg: double (nullable = true)\n",
            " |-- 305MilkKg: double (nullable = true)\n",
            "\n"
          ],
          "name": "stdout"
        }
      ]
    },
    {
      "cell_type": "code",
      "metadata": {
        "colab": {
          "base_uri": "https://localhost:8080/"
        },
        "id": "JA9EFbo09BcJ",
        "outputId": "4f165d22-5719-4964-99c1-8dd7e5fc9bf4"
      },
      "source": [
        "HerdInformation.show(2)"
      ],
      "execution_count": null,
      "outputs": [
        {
          "output_type": "stream",
          "text": [
            "+-------+--------+------------------+------------------+-----------------+\n",
            "|    UBN|TestYear|        AverageDIM|     AverageMilkKg|        305MilkKg|\n",
            "+-------+--------+------------------+------------------+-----------------+\n",
            "|4930102|    2008| 165.9090909090909|21.436363567005504|6667.454545454545|\n",
            "|1049546|    2015|205.55555555555554|23.200000127156574|7714.222222222223|\n",
            "+-------+--------+------------------+------------------+-----------------+\n",
            "only showing top 2 rows\n",
            "\n"
          ],
          "name": "stdout"
        }
      ]
    },
    {
      "cell_type": "code",
      "metadata": {
        "colab": {
          "base_uri": "https://localhost:8080/"
        },
        "id": "itA0YNHr_Bgr",
        "outputId": "fee51540-e2f8-4c34-f4ad-84a97faa1f1f"
      },
      "source": [
        "HerdInformation.agg(F.count('*'),F.count('UBN'),F.countDistinct('UBN')).collect()"
      ],
      "execution_count": null,
      "outputs": [
        {
          "output_type": "execute_result",
          "data": {
            "text/plain": [
              "[Row(count(1)=185509, count(UBN)=185509, count(DISTINCT UBN)=20553)]"
            ]
          },
          "metadata": {
            "tags": []
          },
          "execution_count": 140
        }
      ]
    },
    {
      "cell_type": "code",
      "metadata": {
        "id": "d_JYY9VM_8qU"
      },
      "source": [
        "condition=[AccountingWithUBN.UBN == HerdInformation.UBN, \\\n",
        " AccountingWithUBN.FiscalYear == HerdInformation.TestYear]"
      ],
      "execution_count": null,
      "outputs": []
    },
    {
      "cell_type": "code",
      "metadata": {
        "id": "ne0D8ISt_8qf"
      },
      "source": [
        "AccountingWithUBNWithProduction=AccountingWithUBN.join(HerdInformation, condition,'left').\\\n",
        "  drop(HerdInformation.UBN)"
      ],
      "execution_count": null,
      "outputs": []
    },
    {
      "cell_type": "code",
      "metadata": {
        "colab": {
          "base_uri": "https://localhost:8080/"
        },
        "id": "uoFFS15mA9x0",
        "outputId": "bb41e5e7-b11c-415f-f8f9-b081cff020e0"
      },
      "source": [
        "AccountingWithUBNWithProduction.show(2)"
      ],
      "execution_count": null,
      "outputs": [
        {
          "output_type": "stream",
          "text": [
            "+-------+----------+-----------------+-------+-----------+-----+-----------------+----------------------+-----------------+----------------------+-----------------------+-------+----------+-----------+------------+--------+------------+---------------------+-----------------+---------------------+-----------+-----------------------+-------------+-----------------+-------------------+-----------------+-------------+---------+---------------+-------------------+------------+-------------------+-------------+-------------+-----------------+--------------------------------------+------------+--------------------+-------------------+-------------+----------------------+-----------+------+-----------------------+--------------------------------+---------------------+---------------------------------------+------------------------------+------+----------------+-----------------------------+--------------------------+--------------------+-------------+--------------------+--------------+----------------+---------------+-----------------------------+--------------+---------------------+-----------+--------------+-----------+-----------------+--------+----------------+------------------+------------------+---------------+---------------+--------------+---------------+---------------+----------------+------+------------------------------+--------------+-------------+-----------------------+------------------+-----------+-----------------------+------+---------+------------------------+-------+--------+------------------+------------------+-----------------+\n",
            "|    KVK|FiscalYear|ProduceOwnProduct|Organic|ProductType|Robot|GrassLandAreaInHa|FodderCropLandAreaInHa|TotalLandAreaInHa|TotalOwnedLandAreaInHa|TotalLeasedLandAreaInHa|BossFTE|PartnerFTE|ChildrenFTE|ForeignerFTE|TotalFTE|NumberOfHour|MilkQuotaIn1000KgMilk|TotalMilkInFarmKg|TotalMilkForFactoryKg|MilkRevenue|MilkRevenueOfOwnProduct|SellLiveStock|PurchaseLivestock|IncreaseDairyCattle|TurnoverAndGrowth|SalesRoughage|FeedMoney|NonDairyRevenue|TotalRevenuesFlynth|Concentrates|VitaminsAndMinerals|DairyProducts|WetByProducts|PurchasedRoughage|ChangeOwnRoughageStockIncreaseDecrease|PastureMoney|TotalFeedCostsFlynth|YieldMinusFeedCosts|Fertilization|SeedsAndCropProtection|HealthCosts|AiCost|BreedingAndControlCosts|AiBreedingAndMilkControlTogether|EmbryoTransplantation|RearingCostsOfYoungStockForThirdParties|DirectCostsOfCheesePreparation|Litter|OtherDirectCosts|TotalOtherVariableCostsFlynth|RevenuesMinusVariableCosts|BalanceOtherBranches|PaymentRights|OtherEuContributions|ManagementFees|ReleaseMilkQuota|OtherRevenues57|TotOvBalancesAndOtherRevenues|CompanyBalance|DepreciationMilkQuota|SuperCharge|LeaseMilkQuota|OtherRights|ImmovableProperty|PaidWork|MachinesAndTools|WorkByThirdParties|EnvironmentalCosts|GeneralExpenses|OtherFixedCosts|TotalFixedCost|OperatingResult|FinancialIncome|FinancialCharges|Profit|DepreciationPerKgOfMilkInTotal|TotalFeedCosts|TotalRevenues|TotalOtherVariableCosts|TotalVariableCosts|GrossMargin|AccountingRecordPerYear|Equity|Successor|FlynthNumberOfMilkingCow|    UBN|TestYear|        AverageDIM|     AverageMilkKg|        305MilkKg|\n",
            "+-------+----------+-----------------+-------+-----------+-----+-----------------+----------------------+-----------------+----------------------+-----------------------+-------+----------+-----------+------------+--------+------------+---------------------+-----------------+---------------------+-----------+-----------------------+-------------+-----------------+-------------------+-----------------+-------------+---------+---------------+-------------------+------------+-------------------+-------------+-------------+-----------------+--------------------------------------+------------+--------------------+-------------------+-------------+----------------------+-----------+------+-----------------------+--------------------------------+---------------------+---------------------------------------+------------------------------+------+----------------+-----------------------------+--------------------------+--------------------+-------------+--------------------+--------------+----------------+---------------+-----------------------------+--------------+---------------------+-----------+--------------+-----------+-----------------+--------+----------------+------------------+------------------+---------------+---------------+--------------+---------------+---------------+----------------+------+------------------------------+--------------+-------------+-----------------------+------------------+-----------+-----------------------+------+---------+------------------------+-------+--------+------------------+------------------+-----------------+\n",
            "|1102594|      2009|             null|   null|     zuiver|    0|            40.64|                 56.06|            57.35|                 41.86|                  23.69|      2|         0|          0|           0|       2|        4160|                  674|           681370|               675370|     183160|                      0|        17965|                0|              -1283|            16682|            0|        0|              0|             199842|       33971|               4390|         2566|            0|                0|                                 -3444|           0|               37483|             162359|         8915|                  4187|       6213|   675|                   2431|                            3107|                    0|                                      0|                             0|  1959|            4795|                        29176|                    133183|                   0|        28636|                2296|             0|               0|          13035|                        43899|        177082|                13980|       1891|             0|          0|            25867|     135|           14250|             19383|                 0|          18640|            946|         95092|          81990|           2431|           24246| 60243|                         29108|       34917.0|     199842.0|                29176.0|           64093.0|   135749.0|                      1|  0.55|        0|                    81.9|6696411|    2009|159.46153846153845|26.984615619365986|8540.923076923076|\n",
            "|1221218|      2007|             null|   null|    gemengd|    0|            21.87|                 21.87|            22.81|                   1.1|                  21.71|    1.4|         0|          0|           0|     1.4|        3120|                  233|           248375|               247475|      95253|                      0|         9181|             6632|               4628|             7177|         2648|        0|              0|             105078|       21283|                445|         1955|            0|                0|                                     0|           0|               23683|              81395|         3341|                     0|       2945|  2178|                   1114|                            3291|                    0|                                      0|                             0|   916|            2920|                        13388|                     68006|                4801|         8860|                 223|             0|               0|            148|                        14032|         82038|                 5766|        322|          2994|          0|            15220|       0|            4950|              5444|                 0|          10542|            520|         45758|          36280|             25|            6781| 29549|                          8513|       21728.0|     111710.0|                20045.0|           41773.0|    69937.0|                      1|  0.16|        0|                    30.3|    111|    2007|           173.625| 25.27500009536743|          7738.25|\n",
            "+-------+----------+-----------------+-------+-----------+-----+-----------------+----------------------+-----------------+----------------------+-----------------------+-------+----------+-----------+------------+--------+------------+---------------------+-----------------+---------------------+-----------+-----------------------+-------------+-----------------+-------------------+-----------------+-------------+---------+---------------+-------------------+------------+-------------------+-------------+-------------+-----------------+--------------------------------------+------------+--------------------+-------------------+-------------+----------------------+-----------+------+-----------------------+--------------------------------+---------------------+---------------------------------------+------------------------------+------+----------------+-----------------------------+--------------------------+--------------------+-------------+--------------------+--------------+----------------+---------------+-----------------------------+--------------+---------------------+-----------+--------------+-----------+-----------------+--------+----------------+------------------+------------------+---------------+---------------+--------------+---------------+---------------+----------------+------+------------------------------+--------------+-------------+-----------------------+------------------+-----------+-----------------------+------+---------+------------------------+-------+--------+------------------+------------------+-----------------+\n",
            "only showing top 2 rows\n",
            "\n"
          ],
          "name": "stdout"
        }
      ]
    },
    {
      "cell_type": "code",
      "metadata": {
        "colab": {
          "base_uri": "https://localhost:8080/"
        },
        "id": "b5TREkE3ROWR",
        "outputId": "7aba22b6-53fd-4aec-ee57-38e56bd2ecbb"
      },
      "source": [
        "AccountingWithUBNWithProduction.agg(F.count('*'),F.count('UBN'),F.countDistinct('UBN')).collect()"
      ],
      "execution_count": null,
      "outputs": [
        {
          "output_type": "execute_result",
          "data": {
            "text/plain": [
              "[Row(count(1)=21148, count(UBN)=21148, count(DISTINCT UBN)=2106)]"
            ]
          },
          "metadata": {
            "tags": []
          },
          "execution_count": 144
        }
      ]
    },
    {
      "cell_type": "markdown",
      "metadata": {
        "id": "Q2KPvZMcZR-o"
      },
      "source": [
        "### SCC"
      ]
    },
    {
      "cell_type": "code",
      "metadata": {
        "id": "meIoWGaqZbIf"
      },
      "source": [
        "HerdSCCPerYear = spark \\\n",
        "  .read \\\n",
        "  .parquet('/content/gdrive/Shared drives/Bovi-Analytics/Projects/ChenYongYan/Chapter2/Output/Parquet/HerdSCCPerYear/')"
      ],
      "execution_count": null,
      "outputs": []
    },
    {
      "cell_type": "code",
      "metadata": {
        "colab": {
          "base_uri": "https://localhost:8080/"
        },
        "id": "_fN-LXUKO0lP",
        "outputId": "64407682-bc2e-4d59-f72f-4a48e2887016"
      },
      "source": [
        "HerdSCCPerYear.printSchema()"
      ],
      "execution_count": null,
      "outputs": [
        {
          "output_type": "stream",
          "text": [
            "root\n",
            " |-- HerdIdentifier: integer (nullable = true)\n",
            " |-- TestYear: integer (nullable = true)\n",
            " |-- AverageSCCPerYear: double (nullable = true)\n",
            " |-- AverageSCCTestedCowPerYear: double (nullable = true)\n",
            " |-- Average%HighCellCountPerYear: double (nullable = true)\n",
            " |-- Average%NewInfectionsPerYear: double (nullable = true)\n",
            "\n"
          ],
          "name": "stdout"
        }
      ]
    },
    {
      "cell_type": "code",
      "metadata": {
        "id": "JqhtUaZaVFot"
      },
      "source": [
        "HerdSCCPerYear=HerdSCCPerYear.withColumnRenamed('HerdIdentifier','UBN')"
      ],
      "execution_count": null,
      "outputs": []
    },
    {
      "cell_type": "code",
      "metadata": {
        "colab": {
          "base_uri": "https://localhost:8080/"
        },
        "id": "BiwpGeLMaTuG",
        "outputId": "3821ddd7-35a7-4b69-afd3-10a112caa0b6"
      },
      "source": [
        "HerdSCCPerYear.show(2)"
      ],
      "execution_count": null,
      "outputs": [
        {
          "output_type": "stream",
          "text": [
            "+-------+--------+-----------------+--------------------------+----------------------------+----------------------------+\n",
            "|    UBN|TestYear|AverageSCCPerYear|AverageSCCTestedCowPerYear|Average%HighCellCountPerYear|Average%NewInfectionsPerYear|\n",
            "+-------+--------+-----------------+--------------------------+----------------------------+----------------------------+\n",
            "|7410854|    2013|           221.13|                     102.5|                       18.08|                        8.17|\n",
            "|2483417|    2012|           163.78|                     92.44|                       16.54|                        9.17|\n",
            "+-------+--------+-----------------+--------------------------+----------------------------+----------------------------+\n",
            "only showing top 2 rows\n",
            "\n"
          ],
          "name": "stdout"
        }
      ]
    },
    {
      "cell_type": "code",
      "metadata": {
        "colab": {
          "base_uri": "https://localhost:8080/"
        },
        "id": "FO5Fs6SkcD1C",
        "outputId": "61920ba1-1c90-4c66-e551-cb2ad6901168"
      },
      "source": [
        "HerdSCCPerYear.agg(F.count('*'),F.count('UBN'),F.countDistinct('UBN')).collect()"
      ],
      "execution_count": null,
      "outputs": [
        {
          "output_type": "execute_result",
          "data": {
            "text/plain": [
              "[Row(count(1)=183183, count(HerdIdentifier)=183183, count(DISTINCT HerdIdentifier)=20393)]"
            ]
          },
          "metadata": {
            "tags": []
          },
          "execution_count": 116
        }
      ]
    },
    {
      "cell_type": "code",
      "metadata": {
        "colab": {
          "base_uri": "https://localhost:8080/"
        },
        "id": "tZ2j6EGGZ-H0",
        "outputId": "7a9dee92-1727-4d14-d218-a8eed125a0c8"
      },
      "source": [
        "AccountingWithUBNWithProduction.agg(F.count('*'),F.count('UBN'),F.countDistinct('UBN')).collect()"
      ],
      "execution_count": null,
      "outputs": [
        {
          "output_type": "execute_result",
          "data": {
            "text/plain": [
              "[Row(count(1)=21148, count(UBN)=21148, count(DISTINCT UBN)=2106)]"
            ]
          },
          "metadata": {
            "tags": []
          },
          "execution_count": 147
        }
      ]
    },
    {
      "cell_type": "code",
      "metadata": {
        "id": "2n5J9aKKVZ7I"
      },
      "source": [
        "AccountingWithUBNWithProductionWithSCC=AccountingWithUBNWithProduction.\\\n",
        "  join(HerdSCCPerYear, ['UBN','TestYear'],'left').\\\n",
        "  drop(HerdSCCPerYear.TestYear, HerdSCCPerYear.HerdIdentifier)"
      ],
      "execution_count": null,
      "outputs": []
    },
    {
      "cell_type": "code",
      "metadata": {
        "id": "PrXzUBwWdTCB"
      },
      "source": [
        "AccountingWithUBNWithProductionWithSCC=AccountingWithUBNWithProduction.\\\n",
        "  join(HerdSCCPerYear, ['UBN','TestYear'],'left')"
      ],
      "execution_count": null,
      "outputs": []
    },
    {
      "cell_type": "markdown",
      "metadata": {
        "id": "dACjDxHSPh6W"
      },
      "source": [
        "Why left? because some of the farm they don't have SCC record. And we don't know whether SCC affect our dependent variable."
      ]
    },
    {
      "cell_type": "code",
      "metadata": {
        "colab": {
          "base_uri": "https://localhost:8080/"
        },
        "id": "0NiCqnCZJjIp",
        "outputId": "d6fbeddf-0f62-43a7-975c-06e6ae947b8c"
      },
      "source": [
        "AccountingWithUBNWithProductionWithSCC.agg(F.count('*'),F.count('UBN'),F.countDistinct('UBN')).collect()"
      ],
      "execution_count": null,
      "outputs": [
        {
          "output_type": "execute_result",
          "data": {
            "text/plain": [
              "[Row(count(1)=21148, count(UBN)=21148, count(DISTINCT UBN)=2106)]"
            ]
          },
          "metadata": {
            "tags": []
          },
          "execution_count": 178
        }
      ]
    },
    {
      "cell_type": "code",
      "metadata": {
        "colab": {
          "base_uri": "https://localhost:8080/"
        },
        "id": "MPeyR3KiJrKT",
        "outputId": "6c0c47e0-bed1-48ac-81d9-ecf54bfeee25"
      },
      "source": [
        "AccountingWithUBNWithProductionWithSCC.show(2)"
      ],
      "execution_count": null,
      "outputs": [
        {
          "output_type": "stream",
          "text": [
            "+-------+--------+-------+----------+-----------------+-------+-----------+-----+-----------------+----------------------+-----------------+----------------------+-----------------------+-------+----------+-----------+------------+--------+------------+---------------------+-----------------+---------------------+-----------+-----------------------+-------------+-----------------+-------------------+-----------------+-------------+---------+---------------+-------------------+------------+-------------------+-------------+-------------+-----------------+--------------------------------------+------------+--------------------+-------------------+-------------+----------------------+-----------+------+-----------------------+--------------------------------+---------------------+---------------------------------------+------------------------------+------+----------------+-----------------------------+--------------------------+--------------------+-------------+--------------------+--------------+----------------+---------------+-----------------------------+--------------+---------------------+-----------+--------------+-----------+-----------------+--------+----------------+------------------+------------------+---------------+---------------+--------------+---------------+---------------+----------------+------+------------------------------+--------------+-------------+-----------------------+------------------+-----------+-----------------------+------+---------+------------------------+------------------+------------------+-----------------+-----------------+--------------------------+----------------------------+----------------------------+\n",
            "|    UBN|TestYear|    KVK|FiscalYear|ProduceOwnProduct|Organic|ProductType|Robot|GrassLandAreaInHa|FodderCropLandAreaInHa|TotalLandAreaInHa|TotalOwnedLandAreaInHa|TotalLeasedLandAreaInHa|BossFTE|PartnerFTE|ChildrenFTE|ForeignerFTE|TotalFTE|NumberOfHour|MilkQuotaIn1000KgMilk|TotalMilkInFarmKg|TotalMilkForFactoryKg|MilkRevenue|MilkRevenueOfOwnProduct|SellLiveStock|PurchaseLivestock|IncreaseDairyCattle|TurnoverAndGrowth|SalesRoughage|FeedMoney|NonDairyRevenue|TotalRevenuesFlynth|Concentrates|VitaminsAndMinerals|DairyProducts|WetByProducts|PurchasedRoughage|ChangeOwnRoughageStockIncreaseDecrease|PastureMoney|TotalFeedCostsFlynth|YieldMinusFeedCosts|Fertilization|SeedsAndCropProtection|HealthCosts|AiCost|BreedingAndControlCosts|AiBreedingAndMilkControlTogether|EmbryoTransplantation|RearingCostsOfYoungStockForThirdParties|DirectCostsOfCheesePreparation|Litter|OtherDirectCosts|TotalOtherVariableCostsFlynth|RevenuesMinusVariableCosts|BalanceOtherBranches|PaymentRights|OtherEuContributions|ManagementFees|ReleaseMilkQuota|OtherRevenues57|TotOvBalancesAndOtherRevenues|CompanyBalance|DepreciationMilkQuota|SuperCharge|LeaseMilkQuota|OtherRights|ImmovableProperty|PaidWork|MachinesAndTools|WorkByThirdParties|EnvironmentalCosts|GeneralExpenses|OtherFixedCosts|TotalFixedCost|OperatingResult|FinancialIncome|FinancialCharges|Profit|DepreciationPerKgOfMilkInTotal|TotalFeedCosts|TotalRevenues|TotalOtherVariableCosts|TotalVariableCosts|GrossMargin|AccountingRecordPerYear|Equity|Successor|FlynthNumberOfMilkingCow|        AverageDIM|     AverageMilkKg|        305MilkKg|AverageSCCPerYear|AverageSCCTestedCowPerYear|Average%HighCellCountPerYear|Average%NewInfectionsPerYear|\n",
            "+-------+--------+-------+----------+-----------------+-------+-----------+-----+-----------------+----------------------+-----------------+----------------------+-----------------------+-------+----------+-----------+------------+--------+------------+---------------------+-----------------+---------------------+-----------+-----------------------+-------------+-----------------+-------------------+-----------------+-------------+---------+---------------+-------------------+------------+-------------------+-------------+-------------+-----------------+--------------------------------------+------------+--------------------+-------------------+-------------+----------------------+-----------+------+-----------------------+--------------------------------+---------------------+---------------------------------------+------------------------------+------+----------------+-----------------------------+--------------------------+--------------------+-------------+--------------------+--------------+----------------+---------------+-----------------------------+--------------+---------------------+-----------+--------------+-----------+-----------------+--------+----------------+------------------+------------------+---------------+---------------+--------------+---------------+---------------+----------------+------+------------------------------+--------------+-------------+-----------------------+------------------+-----------+-----------------------+------+---------+------------------------+------------------+------------------+-----------------+-----------------+--------------------------+----------------------------+----------------------------+\n",
            "|6696411|    2009|1102594|      2009|             null|   null|     zuiver|    0|            40.64|                 56.06|            57.35|                 41.86|                  23.69|      2|         0|          0|           0|       2|        4160|                  674|           681370|               675370|     183160|                      0|        17965|                0|              -1283|            16682|            0|        0|              0|             199842|       33971|               4390|         2566|            0|                0|                                 -3444|           0|               37483|             162359|         8915|                  4187|       6213|   675|                   2431|                            3107|                    0|                                      0|                             0|  1959|            4795|                        29176|                    133183|                   0|        28636|                2296|             0|               0|          13035|                        43899|        177082|                13980|       1891|             0|          0|            25867|     135|           14250|             19383|                 0|          18640|            946|         95092|          81990|           2431|           24246| 60243|                         29108|       34917.0|     199842.0|                29176.0|           64093.0|   135749.0|                      1|  0.55|        0|                    81.9|159.46153846153845|26.984615619365986|8540.923076923076|           148.92|                     70.31|                       16.96|                        7.49|\n",
            "|    111|    2007|1221218|      2007|             null|   null|    gemengd|    0|            21.87|                 21.87|            22.81|                   1.1|                  21.71|    1.4|         0|          0|           0|     1.4|        3120|                  233|           248375|               247475|      95253|                      0|         9181|             6632|               4628|             7177|         2648|        0|              0|             105078|       21283|                445|         1955|            0|                0|                                     0|           0|               23683|              81395|         3341|                     0|       2945|  2178|                   1114|                            3291|                    0|                                      0|                             0|   916|            2920|                        13388|                     68006|                4801|         8860|                 223|             0|               0|            148|                        14032|         82038|                 5766|        322|          2994|          0|            15220|       0|            4950|              5444|                 0|          10542|            520|         45758|          36280|             25|            6781| 29549|                          8513|       21728.0|     111710.0|                20045.0|           41773.0|    69937.0|                      1|  0.16|        0|                    30.3|           173.625| 25.27500009536743|          7738.25|           206.25|                      25.5|                       22.96|                       13.57|\n",
            "+-------+--------+-------+----------+-----------------+-------+-----------+-----+-----------------+----------------------+-----------------+----------------------+-----------------------+-------+----------+-----------+------------+--------+------------+---------------------+-----------------+---------------------+-----------+-----------------------+-------------+-----------------+-------------------+-----------------+-------------+---------+---------------+-------------------+------------+-------------------+-------------+-------------+-----------------+--------------------------------------+------------+--------------------+-------------------+-------------+----------------------+-----------+------+-----------------------+--------------------------------+---------------------+---------------------------------------+------------------------------+------+----------------+-----------------------------+--------------------------+--------------------+-------------+--------------------+--------------+----------------+---------------+-----------------------------+--------------+---------------------+-----------+--------------+-----------+-----------------+--------+----------------+------------------+------------------+---------------+---------------+--------------+---------------+---------------+----------------+------+------------------------------+--------------+-------------+-----------------------+------------------+-----------+-----------------------+------+---------+------------------------+------------------+------------------+-----------------+-----------------+--------------------------+----------------------------+----------------------------+\n",
            "only showing top 2 rows\n",
            "\n"
          ],
          "name": "stdout"
        }
      ]
    },
    {
      "cell_type": "markdown",
      "metadata": {
        "id": "mLUCDgtjP7OF"
      },
      "source": [
        "### Calving Interval, AgeInDays"
      ]
    },
    {
      "cell_type": "code",
      "metadata": {
        "id": "ayZCJ7H0bjNt"
      },
      "source": [
        "CalvingIntervalFromHerdData = spark \\\n",
        "  .read \\\n",
        "  .parquet('/content/gdrive/Shared drives/Bovi-Analytics/Projects/ChenYongYan/Chapter2/Output/Parquet/AgeInDaysAndCalvingInterval/')"
      ],
      "execution_count": null,
      "outputs": []
    },
    {
      "cell_type": "code",
      "metadata": {
        "colab": {
          "base_uri": "https://localhost:8080/"
        },
        "id": "lzz8IjqTcsMY",
        "outputId": "8cd8b039-ac95-400b-a05f-5c84c254f49c"
      },
      "source": [
        "CalvingIntervalFromHerdData.show(2)"
      ],
      "execution_count": null,
      "outputs": [
        {
          "output_type": "stream",
          "text": [
            "+--------------+----+----------------------------+---------------+\n",
            "|HerdIdentifier|Year|AverageAgeInDaysOfLivingCows|CalvingInterval|\n",
            "+--------------+----+----------------------------+---------------+\n",
            "|        400517|2007|                      1546.0|          396.0|\n",
            "|       1040480|2007|                      2050.0|          513.0|\n",
            "+--------------+----+----------------------------+---------------+\n",
            "only showing top 2 rows\n",
            "\n"
          ],
          "name": "stdout"
        }
      ]
    },
    {
      "cell_type": "code",
      "metadata": {
        "id": "RXU4r3drcty0"
      },
      "source": [
        "CalvingIntervalFromHerdData=CalvingIntervalFromHerdData.\\\n",
        "  withColumnRenamed('Year','TestYear').\\\n",
        "  withColumnRenamed('HerdIdentifier','UBN')"
      ],
      "execution_count": null,
      "outputs": []
    },
    {
      "cell_type": "code",
      "metadata": {
        "colab": {
          "base_uri": "https://localhost:8080/"
        },
        "id": "v8ulSog8cIEl",
        "outputId": "83823bc1-a82b-4db1-9609-ae6ffca3e6db"
      },
      "source": [
        "CalvingIntervalFromHerdData.agg(F.count('*'),F.count('UBN'),F.countDistinct('UBN')).collect()"
      ],
      "execution_count": null,
      "outputs": [
        {
          "output_type": "execute_result",
          "data": {
            "text/plain": [
              "[Row(count(1)=185731, count(UBN)=185731, count(DISTINCT UBN)=20796)]"
            ]
          },
          "metadata": {
            "tags": []
          },
          "execution_count": 182
        }
      ]
    },
    {
      "cell_type": "code",
      "metadata": {
        "id": "2lhjli-xcNLA"
      },
      "source": [
        "AccountingWithUBNWithProductionWithSCCWithCI = AccountingWithUBNWithProductionWithSCC.\\\n",
        "  join(CalvingIntervalFromHerdData, ['UBN','TestYear'], 'left')"
      ],
      "execution_count": null,
      "outputs": []
    },
    {
      "cell_type": "code",
      "metadata": {
        "colab": {
          "base_uri": "https://localhost:8080/"
        },
        "id": "HymeNAIBc2gz",
        "outputId": "4162b09b-2c00-408b-b74c-319aeac3f3bb"
      },
      "source": [
        "AccountingWithUBNWithProductionWithSCCWithCI.agg(F.count('*'),F.count('UBN'),F.countDistinct('UBN')).collect()"
      ],
      "execution_count": null,
      "outputs": [
        {
          "output_type": "execute_result",
          "data": {
            "text/plain": [
              "[Row(count(1)=21148, count(UBN)=21148, count(DISTINCT UBN)=2106)]"
            ]
          },
          "metadata": {
            "tags": []
          },
          "execution_count": 184
        }
      ]
    },
    {
      "cell_type": "code",
      "metadata": {
        "colab": {
          "base_uri": "https://localhost:8080/"
        },
        "id": "26i3-e3Ic-lR",
        "outputId": "72de4030-f60e-452b-8442-ec6f71d1ec4b"
      },
      "source": [
        "AccountingWithUBNWithProductionWithSCCWithCI.show(2)"
      ],
      "execution_count": null,
      "outputs": [
        {
          "output_type": "stream",
          "text": [
            "+-------+--------+-------+----------+-----------------+-------+-----------+-----+-----------------+----------------------+-----------------+----------------------+-----------------------+-------+----------+-----------+------------+--------+------------+---------------------+-----------------+---------------------+-----------+-----------------------+-------------+-----------------+-------------------+-----------------+-------------+---------+---------------+-------------------+------------+-------------------+-------------+-------------+-----------------+--------------------------------------+------------+--------------------+-------------------+-------------+----------------------+-----------+------+-----------------------+--------------------------------+---------------------+---------------------------------------+------------------------------+------+----------------+-----------------------------+--------------------------+--------------------+-------------+--------------------+--------------+----------------+---------------+-----------------------------+--------------+---------------------+-----------+--------------+-----------+-----------------+--------+----------------+------------------+------------------+---------------+---------------+--------------+---------------+---------------+----------------+------+------------------------------+--------------+-------------+-----------------------+------------------+-----------+-----------------------+------+---------+------------------------+------------------+------------------+-----------------+-----------------+--------------------------+----------------------------+----------------------------+----------------------------+---------------+\n",
            "|    UBN|TestYear|    KVK|FiscalYear|ProduceOwnProduct|Organic|ProductType|Robot|GrassLandAreaInHa|FodderCropLandAreaInHa|TotalLandAreaInHa|TotalOwnedLandAreaInHa|TotalLeasedLandAreaInHa|BossFTE|PartnerFTE|ChildrenFTE|ForeignerFTE|TotalFTE|NumberOfHour|MilkQuotaIn1000KgMilk|TotalMilkInFarmKg|TotalMilkForFactoryKg|MilkRevenue|MilkRevenueOfOwnProduct|SellLiveStock|PurchaseLivestock|IncreaseDairyCattle|TurnoverAndGrowth|SalesRoughage|FeedMoney|NonDairyRevenue|TotalRevenuesFlynth|Concentrates|VitaminsAndMinerals|DairyProducts|WetByProducts|PurchasedRoughage|ChangeOwnRoughageStockIncreaseDecrease|PastureMoney|TotalFeedCostsFlynth|YieldMinusFeedCosts|Fertilization|SeedsAndCropProtection|HealthCosts|AiCost|BreedingAndControlCosts|AiBreedingAndMilkControlTogether|EmbryoTransplantation|RearingCostsOfYoungStockForThirdParties|DirectCostsOfCheesePreparation|Litter|OtherDirectCosts|TotalOtherVariableCostsFlynth|RevenuesMinusVariableCosts|BalanceOtherBranches|PaymentRights|OtherEuContributions|ManagementFees|ReleaseMilkQuota|OtherRevenues57|TotOvBalancesAndOtherRevenues|CompanyBalance|DepreciationMilkQuota|SuperCharge|LeaseMilkQuota|OtherRights|ImmovableProperty|PaidWork|MachinesAndTools|WorkByThirdParties|EnvironmentalCosts|GeneralExpenses|OtherFixedCosts|TotalFixedCost|OperatingResult|FinancialIncome|FinancialCharges|Profit|DepreciationPerKgOfMilkInTotal|TotalFeedCosts|TotalRevenues|TotalOtherVariableCosts|TotalVariableCosts|GrossMargin|AccountingRecordPerYear|Equity|Successor|FlynthNumberOfMilkingCow|        AverageDIM|     AverageMilkKg|        305MilkKg|AverageSCCPerYear|AverageSCCTestedCowPerYear|Average%HighCellCountPerYear|Average%NewInfectionsPerYear|AverageAgeInDaysOfLivingCows|CalvingInterval|\n",
            "+-------+--------+-------+----------+-----------------+-------+-----------+-----+-----------------+----------------------+-----------------+----------------------+-----------------------+-------+----------+-----------+------------+--------+------------+---------------------+-----------------+---------------------+-----------+-----------------------+-------------+-----------------+-------------------+-----------------+-------------+---------+---------------+-------------------+------------+-------------------+-------------+-------------+-----------------+--------------------------------------+------------+--------------------+-------------------+-------------+----------------------+-----------+------+-----------------------+--------------------------------+---------------------+---------------------------------------+------------------------------+------+----------------+-----------------------------+--------------------------+--------------------+-------------+--------------------+--------------+----------------+---------------+-----------------------------+--------------+---------------------+-----------+--------------+-----------+-----------------+--------+----------------+------------------+------------------+---------------+---------------+--------------+---------------+---------------+----------------+------+------------------------------+--------------+-------------+-----------------------+------------------+-----------+-----------------------+------+---------+------------------------+------------------+------------------+-----------------+-----------------+--------------------------+----------------------------+----------------------------+----------------------------+---------------+\n",
            "|6696411|    2009|1102594|      2009|             null|   null|     zuiver|    0|            40.64|                 56.06|            57.35|                 41.86|                  23.69|      2|         0|          0|           0|       2|        4160|                  674|           681370|               675370|     183160|                      0|        17965|                0|              -1283|            16682|            0|        0|              0|             199842|       33971|               4390|         2566|            0|                0|                                 -3444|           0|               37483|             162359|         8915|                  4187|       6213|   675|                   2431|                            3107|                    0|                                      0|                             0|  1959|            4795|                        29176|                    133183|                   0|        28636|                2296|             0|               0|          13035|                        43899|        177082|                13980|       1891|             0|          0|            25867|     135|           14250|             19383|                 0|          18640|            946|         95092|          81990|           2431|           24246| 60243|                         29108|       34917.0|     199842.0|                29176.0|           64093.0|   135749.0|                      1|  0.55|        0|                    81.9|159.46153846153845|26.984615619365986|8540.923076923076|           148.92|                     70.31|                       16.96|                        7.49|                      1580.0|          377.0|\n",
            "|    111|    2007|1221218|      2007|             null|   null|    gemengd|    0|            21.87|                 21.87|            22.81|                   1.1|                  21.71|    1.4|         0|          0|           0|     1.4|        3120|                  233|           248375|               247475|      95253|                      0|         9181|             6632|               4628|             7177|         2648|        0|              0|             105078|       21283|                445|         1955|            0|                0|                                     0|           0|               23683|              81395|         3341|                     0|       2945|  2178|                   1114|                            3291|                    0|                                      0|                             0|   916|            2920|                        13388|                     68006|                4801|         8860|                 223|             0|               0|            148|                        14032|         82038|                 5766|        322|          2994|          0|            15220|       0|            4950|              5444|                 0|          10542|            520|         45758|          36280|             25|            6781| 29549|                          8513|       21728.0|     111710.0|                20045.0|           41773.0|    69937.0|                      1|  0.16|        0|                    30.3|           173.625| 25.27500009536743|          7738.25|           206.25|                      25.5|                       22.96|                       13.57|                      1579.0|          416.0|\n",
            "+-------+--------+-------+----------+-----------------+-------+-----------+-----+-----------------+----------------------+-----------------+----------------------+-----------------------+-------+----------+-----------+------------+--------+------------+---------------------+-----------------+---------------------+-----------+-----------------------+-------------+-----------------+-------------------+-----------------+-------------+---------+---------------+-------------------+------------+-------------------+-------------+-------------+-----------------+--------------------------------------+------------+--------------------+-------------------+-------------+----------------------+-----------+------+-----------------------+--------------------------------+---------------------+---------------------------------------+------------------------------+------+----------------+-----------------------------+--------------------------+--------------------+-------------+--------------------+--------------+----------------+---------------+-----------------------------+--------------+---------------------+-----------+--------------+-----------+-----------------+--------+----------------+------------------+------------------+---------------+---------------+--------------+---------------+---------------+----------------+------+------------------------------+--------------+-------------+-----------------------+------------------+-----------+-----------------------+------+---------+------------------------+------------------+------------------+-----------------+-----------------+--------------------------+----------------------------+----------------------------+----------------------------+---------------+\n",
            "only showing top 2 rows\n",
            "\n"
          ],
          "name": "stdout"
        }
      ]
    },
    {
      "cell_type": "markdown",
      "metadata": {
        "id": "r61KlNhKW-5v"
      },
      "source": [
        "### Herd lactation curve charateristics"
      ]
    },
    {
      "cell_type": "markdown",
      "metadata": {
        "id": "-NRQl_FkY73G"
      },
      "source": [
        "#### combine 2 parity columns to 1 column"
      ]
    },
    {
      "cell_type": "code",
      "metadata": {
        "id": "mtKI89VqaXGA"
      },
      "source": [
        "HerdWeighted= spark \\\n",
        "  .read \\\n",
        "  .parquet('/content/gdrive/Shared drives/Bovi-Analytics/Projects/ChenYongYan/Chapter2/Output/Parquet/HerdWeighted')"
      ],
      "execution_count": null,
      "outputs": []
    },
    {
      "cell_type": "code",
      "metadata": {
        "colab": {
          "base_uri": "https://localhost:8080/"
        },
        "id": "XR5Fcyrfae7i",
        "outputId": "8b4c5da1-c387-4de9-c3da-957d7ceea6a2"
      },
      "source": [
        "HerdWeighted.show(2)"
      ],
      "execution_count": null,
      "outputs": [
        {
          "output_type": "stream",
          "text": [
            "+--------------+--------+-----------+------------------+------------------+--------------------+--------------------+------------------+-----------------+--------------+-----------+-------------+----------+------------+-----------+-----------------+------------+\n",
            "|HerdIdentifier|TestYear|ParityGroup|       MeanScaleKg|          MeanRamp|          MeanOffset|           MeanDecay|   MeanPersistence|       MeanM305Kg|NumberOfAnimal|TotalWeight|MedianScaleKg|MedianRamp|MedianOffset|MedianDecay|MedianPersistence|MedianM305Kg|\n",
            "+--------------+--------+-----------+------------------+------------------+--------------------+--------------------+------------------+-----------------+--------------+-----------+-------------+----------+------------+-----------+-----------------+------------+\n",
            "|        762411|    2017|         2+|  44.1255412371134|23.196907216494854| -0.3257731958762887|0.002591030927835...|286.92783505154637|8799.090206185567|            75|        388|        44.26|      22.5|         0.0|    0.00251|            276.0|      8744.0|\n",
            "|         54011|    2017|         2+|45.814849785407745|21.687553648068672|-0.23004291845493563|0.002946459227467811|332.52789699570815|8810.010729613734|            87|        466|         47.1|      22.4|         0.0|   0.002835|            244.5|      8765.0|\n",
            "+--------------+--------+-----------+------------------+------------------+--------------------+--------------------+------------------+-----------------+--------------+-----------+-------------+----------+------------+-----------+-----------------+------------+\n",
            "only showing top 2 rows\n",
            "\n"
          ],
          "name": "stdout"
        }
      ]
    },
    {
      "cell_type": "code",
      "metadata": {
        "colab": {
          "base_uri": "https://localhost:8080/"
        },
        "id": "WJn6lgeGhEtd",
        "outputId": "4668936c-2db1-463d-bb49-770b525ada7d"
      },
      "source": [
        "HerdWeighted.filter((col('HerdIdentifier')=='4170115')&\\\n",
        "           (col('TestYear')==2013)).show(3)"
      ],
      "execution_count": null,
      "outputs": [
        {
          "output_type": "stream",
          "text": [
            "+--------------+--------+-----------+-----------------+------------------+--------------------+--------------------+-----------------+-----------------+--------------+-----------+-------------+----------+------------+-----------+-----------------+------------+\n",
            "|HerdIdentifier|TestYear|ParityGroup|      MeanScaleKg|          MeanRamp|          MeanOffset|           MeanDecay|  MeanPersistence|       MeanM305Kg|NumberOfAnimal|TotalWeight|MedianScaleKg|MedianRamp|MedianOffset|MedianDecay|MedianPersistence|MedianM305Kg|\n",
            "+--------------+--------+-----------+-----------------+------------------+--------------------+--------------------+-----------------+-----------------+--------------+-----------+-------------+----------+------------+-----------+-----------------+------------+\n",
            "|       4170115|    2013|          1|33.60602094240838|29.476439790575917|                -0.5|0.001566175652091...|575.1570680628272|7690.596282336968|            54|        191|        32.58|      29.8|        -0.5|    0.00146|            473.0|      7479.0|\n",
            "|       4170115|    2013|         2+|46.78638461538463|27.489038461538467|-0.27384615384615385|0.002699538461538...|           296.75|9148.096153846154|            90|        520|        48.09|      23.2|         0.0|    0.00254|            273.0|      9329.0|\n",
            "+--------------+--------+-----------+-----------------+------------------+--------------------+--------------------+-----------------+-----------------+--------------+-----------+-------------+----------+------------+-----------+-----------------+------------+\n",
            "\n"
          ],
          "name": "stdout"
        }
      ]
    },
    {
      "cell_type": "code",
      "metadata": {
        "colab": {
          "base_uri": "https://localhost:8080/"
        },
        "id": "zvV6weVji1ry",
        "outputId": "92aafe63-2da4-4ae9-857f-f837c76361e5"
      },
      "source": [
        "HerdWeighted.agg(F.count('*'),F.count('HerdIdentifier'),F.countDistinct('HerdIdentifier')).collect()"
      ],
      "execution_count": null,
      "outputs": [
        {
          "output_type": "execute_result",
          "data": {
            "text/plain": [
              "[Row(count(1)=372752, count(HerdIdentifier)=372752, count(DISTINCT HerdIdentifier)=20597)]"
            ]
          },
          "metadata": {
            "tags": []
          },
          "execution_count": 16
        }
      ]
    },
    {
      "cell_type": "markdown",
      "metadata": {
        "id": "5c9tTXzoaSMP"
      },
      "source": [
        "reshape two group's results into one row"
      ]
    },
    {
      "cell_type": "code",
      "metadata": {
        "id": "OZ4kEB4GaRmD"
      },
      "source": [
        "HerdWeightedPerYear=HerdWeighted.groupBy('HerdIdentifier','TestYear').\\\n",
        "  pivot('ParityGroup').\\\n",
        "  agg(F.first('MeanScaleKg').alias('MeanMagnitude'),\n",
        "    F.first('MeanRamp').alias('MeanTimeToPeak'),\n",
        "    F.first('MeanOffset').alias('MeanOffset'),\n",
        "    F.first('MeanDecay').alias('MeanDecay'),\n",
        "    F.first('MeanPersistence').alias('MeanPersistence'),\n",
        "    F.first('MeanM305Kg').alias('MeanM305Kg'),\n",
        "    F.first('MedianScaleKg').alias('MedianMagnitude'),\n",
        "    F.first('MedianRamp').alias('MedianTimeToPeak'),\n",
        "    F.first('MedianOffset').alias('MedianOffset'),\n",
        "    F.first('MedianDecay').alias('MedianDecay'),\n",
        "    F.first('MedianPersistence').alias('MedianPersistence'),\n",
        "    F.first('MedianM305Kg').alias('MedianM305Kg'))"
      ],
      "execution_count": null,
      "outputs": []
    },
    {
      "cell_type": "code",
      "metadata": {
        "id": "5ykvXe3DahmB",
        "colab": {
          "base_uri": "https://localhost:8080/"
        },
        "outputId": "bbf674ad-2692-40d1-aef6-e7050c214f29"
      },
      "source": [
        "HerdWeightedPerYear.agg(F.count('*'),F.count('HerdIdentifier'),F.countDistinct('HerdIdentifier')).collect()"
      ],
      "execution_count": null,
      "outputs": [
        {
          "output_type": "execute_result",
          "data": {
            "text/plain": [
              "[Row(count(1)=187068, count(HerdIdentifier)=187068, count(DISTINCT HerdIdentifier)=20597)]"
            ]
          },
          "metadata": {
            "tags": []
          },
          "execution_count": 15
        }
      ]
    },
    {
      "cell_type": "code",
      "metadata": {
        "colab": {
          "base_uri": "https://localhost:8080/"
        },
        "id": "_2Xy96jCjMdY",
        "outputId": "c056c906-5b19-4b5b-988f-573faa3bebb9"
      },
      "source": [
        "HerdWeightedPerYear.show(3)"
      ],
      "execution_count": null,
      "outputs": [
        {
          "output_type": "stream",
          "text": [
            "+--------------+--------+-----------------+------------------+------------+--------------------+-----------------+-----------------+-----------------+------------------+--------------+-------------+-------------------+--------------+------------------+------------------+--------------------+--------------------+------------------+------------------+------------------+-------------------+---------------+--------------+--------------------+---------------+\n",
            "|HerdIdentifier|TestYear|  1_MeanMagnitude|  1_MeanTimeToPeak|1_MeanOffset|         1_MeanDecay|1_MeanPersistence|     1_MeanM305Kg|1_MedianMagnitude|1_MedianTimeToPeak|1_MedianOffset|1_MedianDecay|1_MedianPersistence|1_MedianM305Kg|  2+_MeanMagnitude| 2+_MeanTimeToPeak|       2+_MeanOffset|        2+_MeanDecay|2+_MeanPersistence|     2+_MeanM305Kg|2+_MedianMagnitude|2+_MedianTimeToPeak|2+_MedianOffset|2+_MedianDecay|2+_MedianPersistence|2+_MedianM305Kg|\n",
            "+--------------+--------+-----------------+------------------+------------+--------------------+-----------------+-----------------+-----------------+------------------+--------------+-------------+-------------------+--------------+------------------+------------------+--------------------+--------------------+------------------+------------------+------------------+-------------------+---------------+--------------+--------------------+---------------+\n",
            "|       4170115|    2013|33.60602094240838|29.476439790575917|        -0.5|0.001566175652091...|575.1570680628272|7690.596282336968|            32.58|              29.8|          -0.5|      0.00146|              473.0|        7479.0| 46.78638461538463|27.489038461538467|-0.27384615384615385|0.002699538461538...|            296.75| 9148.096153846154|             48.09|               23.2|            0.0|       0.00254|               273.0|         9329.0|\n",
            "|       9977108|    2012|30.21752136752136|29.402136752136748|        -0.5|0.001537350427350...|523.4188034188035|6911.286324786325|            29.86|              29.5|          -0.5|      0.00151|              460.0|        6843.0|42.243054945054965|17.658461538461545|  -0.312967032967033|0.002754967032967...|281.32307692307694|  8379.74945054945|             42.78|               21.4|            0.0|       0.00273|               254.0|         8528.0|\n",
            "|       7093259|    2009|37.08220183486238|28.625229357798165|        -0.5|0.001812745268203...|443.7844036697248|8192.311942846723|            35.97|              28.9|          -0.5|      0.00184|              378.0|        7953.0|  52.5408345534407|21.854319180087835|-0.25651537335285507|0.002797681491623381| 9452.117130307468|10206.792739823803|             51.36|               21.8|            0.0|       0.00263|               264.0|        10038.0|\n",
            "+--------------+--------+-----------------+------------------+------------+--------------------+-----------------+-----------------+-----------------+------------------+--------------+-------------+-------------------+--------------+------------------+------------------+--------------------+--------------------+------------------+------------------+------------------+-------------------+---------------+--------------+--------------------+---------------+\n",
            "only showing top 3 rows\n",
            "\n"
          ],
          "name": "stdout"
        }
      ]
    },
    {
      "cell_type": "code",
      "metadata": {
        "id": "vfXC583ii9Au"
      },
      "source": [
        "HerdWeightedPerYear.\\\n",
        "  repartition(1).\\\n",
        "  write.\\\n",
        "  parquet(path='/content/gdrive/Shared drives/Bovi-Analytics/Projects/ChenYongYan/Chapter2/Output/Parquet/HerdWeightedPerYear/',mode=\"overwrite\")"
      ],
      "execution_count": null,
      "outputs": []
    },
    {
      "cell_type": "markdown",
      "metadata": {
        "id": "kboH_WY_ZJLx"
      },
      "source": [
        "#### join"
      ]
    },
    {
      "cell_type": "code",
      "metadata": {
        "id": "YyrlHNbyibY7"
      },
      "source": [
        "HerdWeightedPerYear= spark \\\n",
        "  .read \\\n",
        "  .parquet('/content/gdrive/Shared drives/Bovi-Analytics/Projects/ChenYongYan/Chapter2/Output/Parquet/HerdWeightedPerYear/')"
      ],
      "execution_count": null,
      "outputs": []
    },
    {
      "cell_type": "code",
      "metadata": {
        "colab": {
          "base_uri": "https://localhost:8080/"
        },
        "id": "ij1KXdr2ZPGD",
        "outputId": "3c31dc52-9c6a-4fea-da6e-abb32ba4d5ea"
      },
      "source": [
        "HerdWeightedPerYear.show(2)"
      ],
      "execution_count": null,
      "outputs": [
        {
          "output_type": "stream",
          "text": [
            "+--------------+--------+-----------------+------------------+------------+--------------------+-----------------+-----------------+-----------------+------------------+--------------+-------------+-------------------+--------------+------------------+------------------+--------------------+--------------------+------------------+-----------------+------------------+-------------------+---------------+--------------+--------------------+---------------+\n",
            "|HerdIdentifier|TestYear|  1_MeanMagnitude|  1_MeanTimeToPeak|1_MeanOffset|         1_MeanDecay|1_MeanPersistence|     1_MeanM305Kg|1_MedianMagnitude|1_MedianTimeToPeak|1_MedianOffset|1_MedianDecay|1_MedianPersistence|1_MedianM305Kg|  2+_MeanMagnitude| 2+_MeanTimeToPeak|       2+_MeanOffset|        2+_MeanDecay|2+_MeanPersistence|    2+_MeanM305Kg|2+_MedianMagnitude|2+_MedianTimeToPeak|2+_MedianOffset|2+_MedianDecay|2+_MedianPersistence|2+_MedianM305Kg|\n",
            "+--------------+--------+-----------------+------------------+------------+--------------------+-----------------+-----------------+-----------------+------------------+--------------+-------------+-------------------+--------------+------------------+------------------+--------------------+--------------------+------------------+-----------------+------------------+-------------------+---------------+--------------+--------------------+---------------+\n",
            "|       4170115|    2013|33.60602094240838|29.476439790575917|        -0.5|0.001566175652091...|575.1570680628272|7690.596282336968|            32.58|              29.8|          -0.5|      0.00146|              473.0|        7479.0| 46.78638461538463|27.489038461538467|-0.27384615384615385|0.002699538461538...|            296.75|9148.096153846154|             48.09|               23.2|            0.0|       0.00254|               273.0|         9329.0|\n",
            "|       9977108|    2012|30.21752136752136|29.402136752136748|        -0.5|0.001537350427350...|523.4188034188035|6911.286324786325|            29.86|              29.5|          -0.5|      0.00151|              460.0|        6843.0|42.243054945054965|17.658461538461545|  -0.312967032967033|0.002754967032967...|281.32307692307694| 8379.74945054945|             42.78|               21.4|            0.0|       0.00273|               254.0|         8528.0|\n",
            "+--------------+--------+-----------------+------------------+------------+--------------------+-----------------+-----------------+-----------------+------------------+--------------+-------------+-------------------+--------------+------------------+------------------+--------------------+--------------------+------------------+-----------------+------------------+-------------------+---------------+--------------+--------------------+---------------+\n",
            "only showing top 2 rows\n",
            "\n"
          ],
          "name": "stdout"
        }
      ]
    },
    {
      "cell_type": "code",
      "metadata": {
        "id": "P3qFVRR_Z0lO"
      },
      "source": [
        "w=Window.partitionBy('HerdIdentifier').\\\n",
        "  orderBy(F.asc('TestYear'))"
      ],
      "execution_count": null,
      "outputs": []
    },
    {
      "cell_type": "code",
      "metadata": {
        "id": "5wxKE2h-dAfc"
      },
      "source": [
        "HerdWeightedPerYear=HerdWeightedPerYear.\\\n",
        "  withColumn('LastyearInCRV',F.lag(HerdWeightedPerYear.TestYear,1).over(w)).\\\n",
        "  withColumn('NextyearInCRV',F.lead(HerdWeightedPerYear.TestYear,1).over(w))"
      ],
      "execution_count": null,
      "outputs": []
    },
    {
      "cell_type": "code",
      "metadata": {
        "id": "Dhx_MzmyZV8Z"
      },
      "source": [
        "HerdWeightedPerYear=HerdWeightedPerYear.\\\n",
        "  withColumnRenamed('HerdIdentifier','UBN')"
      ],
      "execution_count": null,
      "outputs": []
    },
    {
      "cell_type": "code",
      "metadata": {
        "colab": {
          "base_uri": "https://localhost:8080/"
        },
        "id": "EszoRWiTddNP",
        "outputId": "e274f6cf-a9ef-4b20-def1-d9eac97eb52f"
      },
      "source": [
        "HerdWeightedPerYear.show(5)"
      ],
      "execution_count": null,
      "outputs": [
        {
          "output_type": "stream",
          "text": [
            "+------+--------+------------------+------------------+------------+--------------------+------------------+------------------+-----------------+------------------+--------------+-------------+-------------------+--------------+------------------+------------------+--------------------+--------------------+------------------+-----------------+------------------+-------------------+---------------+--------------+--------------------+---------------+-------------+-------------+\n",
            "|   UBN|TestYear|   1_MeanMagnitude|  1_MeanTimeToPeak|1_MeanOffset|         1_MeanDecay| 1_MeanPersistence|      1_MeanM305Kg|1_MedianMagnitude|1_MedianTimeToPeak|1_MedianOffset|1_MedianDecay|1_MedianPersistence|1_MedianM305Kg|  2+_MeanMagnitude| 2+_MeanTimeToPeak|       2+_MeanOffset|        2+_MeanDecay|2+_MeanPersistence|    2+_MeanM305Kg|2+_MedianMagnitude|2+_MedianTimeToPeak|2+_MedianOffset|2+_MedianDecay|2+_MedianPersistence|2+_MedianM305Kg|LastyearInCRV|NextyearInCRV|\n",
            "+------+--------+------------------+------------------+------------+--------------------+------------------+------------------+-----------------+------------------+--------------+-------------+-------------------+--------------+------------------+------------------+--------------------+--------------------+------------------+-----------------+------------------+-------------------+---------------+--------------+--------------------+---------------+-------------+-------------+\n",
            "|181209|    2007|  31.9008524590164| 29.82819672131148|        -0.5|0.002103770491803...| 351.5081967213115| 6740.009836065574|            32.09|              30.0|          -0.5|      0.00203|              341.0|        6794.0| 49.06618290258448|23.868588469184893|-0.32127236580516905|0.003158369781312...|239.03578528827038|8973.884691848907|              49.5|               22.5|            0.0|         0.003|               231.0|         9306.0|         null|         2008|\n",
            "|181209|    2008| 33.04863013698631|29.191780821917813|        -0.5|0.002283972602739...|337.86986301369865| 6811.506849315068|            32.88|              29.4|          -0.5|      0.00214|              324.0|        7060.0|46.558497495826366|24.225041736227038|-0.32854757929883144|0.003140003609619...|350.74624373956595|8508.302115829616|             46.51|               22.6|            0.0|       0.00313|               221.0|         8650.0|         2007|         2009|\n",
            "|181209|    2009|30.696798561151084|29.767266187050357|        -0.5|0.001871438848920863|425.23741007194246| 6663.205035971223|            31.19|              29.9|          -0.5|      0.00189|              366.5|        6629.0|44.054836702954894|23.815707620528766|-0.27620528771384134|0.003031686351981...|383.77604976671853| 8198.36381767322|             46.31|               22.9|            0.0|         0.003|               231.0|         8402.0|         2008|         2010|\n",
            "|181209|    2010|31.426624472573838|30.053586497890297|        -0.5|0.001932278481012658| 428.1097046413502|6786.7510548523205|            31.43|              30.0|          -0.5|      0.00192|              362.0|        6942.0|46.095699300699295|24.596678321678326| -0.3090909090909091|0.002961162193662...| 338.8531468531468|8651.228400212052|              45.6|               23.0|            0.0|       0.00292|               237.0|         8796.0|         2009|         2011|\n",
            "|181209|    2011| 32.00339350180505| 29.15162454873647|        -0.5|0.001768970306046...| 535.7942238267148| 7083.048501720562|            32.27|              29.4|          -0.5|      0.00163|              426.0|        7241.0| 48.39718283582087|25.952798507462695|-0.23134328358208958|0.002984347014925373|328.16231343283584|9050.710820895523|             48.41|               23.4|            0.0|       0.00292|               237.0|         9211.0|         2010|         2012|\n",
            "+------+--------+------------------+------------------+------------+--------------------+------------------+------------------+-----------------+------------------+--------------+-------------+-------------------+--------------+------------------+------------------+--------------------+--------------------+------------------+-----------------+------------------+-------------------+---------------+--------------+--------------------+---------------+-------------+-------------+\n",
            "only showing top 5 rows\n",
            "\n"
          ],
          "name": "stdout"
        }
      ]
    },
    {
      "cell_type": "code",
      "metadata": {
        "colab": {
          "base_uri": "https://localhost:8080/"
        },
        "id": "fKxX_BSQeQH1",
        "outputId": "619865bf-6f48-46d2-aaf9-99ed045eff4e"
      },
      "source": [
        "AccountingWithUBNWithProductionWithSCCWithCI.agg(F.count('*'),F.count('UBN'),F.countDistinct('UBN')).collect()"
      ],
      "execution_count": null,
      "outputs": [
        {
          "output_type": "execute_result",
          "data": {
            "text/plain": [
              "[Row(count(1)=21148, count(UBN)=21148, count(DISTINCT UBN)=2106)]"
            ]
          },
          "metadata": {
            "tags": []
          },
          "execution_count": 202
        }
      ]
    },
    {
      "cell_type": "code",
      "metadata": {
        "colab": {
          "base_uri": "https://localhost:8080/"
        },
        "id": "2sg2Lov4d_v_",
        "outputId": "b8c04b01-863c-4f45-fd73-7ceede7cd3a4"
      },
      "source": [
        "HerdWeightedPerYear.agg(F.count('*'),F.count('UBN'),F.countDistinct('UBN')).collect()"
      ],
      "execution_count": null,
      "outputs": [
        {
          "output_type": "execute_result",
          "data": {
            "text/plain": [
              "[Row(count(1)=187068, count(UBN)=187068, count(DISTINCT UBN)=20597)]"
            ]
          },
          "metadata": {
            "tags": []
          },
          "execution_count": 201
        }
      ]
    },
    {
      "cell_type": "code",
      "metadata": {
        "id": "mx8GhPb4wF6K"
      },
      "source": [
        "AccountingWithUBNWithProductionWithSCCWithCIWithLCC=HerdWeightedPerYear.\\\n",
        "  join(AccountingWithUBNWithProductionWithSCCWithCI, ['UBN','TestYear'] ,'inner')"
      ],
      "execution_count": null,
      "outputs": []
    },
    {
      "cell_type": "code",
      "metadata": {
        "colab": {
          "base_uri": "https://localhost:8080/"
        },
        "id": "FX1cncHSeq3T",
        "outputId": "69b3e97f-f93a-4ee6-bdb2-fe1b819602be"
      },
      "source": [
        "AccountingWithUBNWithProductionWithSCCWithCIWithLCC.agg(F.count('*'),F.count('UBN'),F.countDistinct('UBN')).collect()"
      ],
      "execution_count": null,
      "outputs": [
        {
          "output_type": "execute_result",
          "data": {
            "text/plain": [
              "[Row(count(1)=15710, count(UBN)=15710, count(DISTINCT UBN)=1957)]"
            ]
          },
          "metadata": {
            "tags": []
          },
          "execution_count": 204
        }
      ]
    },
    {
      "cell_type": "code",
      "metadata": {
        "colab": {
          "base_uri": "https://localhost:8080/"
        },
        "id": "SqJXQx_QnNWw",
        "outputId": "df95e0dd-97e1-4f11-dd61-d700ecab47f3"
      },
      "source": [
        "AccountingWithUBNWithProductionWithSCCWithCIWithLCC.show(2)"
      ],
      "execution_count": null,
      "outputs": [
        {
          "output_type": "stream",
          "text": [
            "+------+--------+------------------+------------------+------------+--------------------+------------------+-----------------+-----------------+------------------+--------------+-------------+-------------------+--------------+-----------------+------------------+--------------------+--------------------+------------------+-----------------+------------------+-------------------+---------------+--------------+--------------------+---------------+-------------+-------------+-------+----------+-----------------+-------+-----------+-----+-----------------+----------------------+-----------------+----------------------+-----------------------+-------+----------+-----------+------------+--------+------------+---------------------+-----------------+---------------------+-----------+-----------------------+-------------+-----------------+-------------------+-----------------+-------------+---------+---------------+-------------------+------------+-------------------+-------------+-------------+-----------------+--------------------------------------+------------+--------------------+-------------------+-------------+----------------------+-----------+------+-----------------------+--------------------------------+---------------------+---------------------------------------+------------------------------+------+----------------+-----------------------------+--------------------------+--------------------+-------------+--------------------+--------------+----------------+---------------+-----------------------------+--------------+---------------------+-----------+--------------+-----------+-----------------+--------+----------------+------------------+------------------+---------------+---------------+--------------+---------------+---------------+----------------+------+------------------------------+--------------+-------------+-----------------------+------------------+-----------+-----------------------+------+---------+------------------------+------------------+------------------+-----------------+-----------------+--------------------------+----------------------------+----------------------------+----------------------------+---------------+\n",
            "|   UBN|TestYear|   1_MeanMagnitude|  1_MeanTimeToPeak|1_MeanOffset|         1_MeanDecay| 1_MeanPersistence|     1_MeanM305Kg|1_MedianMagnitude|1_MedianTimeToPeak|1_MedianOffset|1_MedianDecay|1_MedianPersistence|1_MedianM305Kg| 2+_MeanMagnitude| 2+_MeanTimeToPeak|       2+_MeanOffset|        2+_MeanDecay|2+_MeanPersistence|    2+_MeanM305Kg|2+_MedianMagnitude|2+_MedianTimeToPeak|2+_MedianOffset|2+_MedianDecay|2+_MedianPersistence|2+_MedianM305Kg|LastyearInCRV|NextyearInCRV|    KVK|FiscalYear|ProduceOwnProduct|Organic|ProductType|Robot|GrassLandAreaInHa|FodderCropLandAreaInHa|TotalLandAreaInHa|TotalOwnedLandAreaInHa|TotalLeasedLandAreaInHa|BossFTE|PartnerFTE|ChildrenFTE|ForeignerFTE|TotalFTE|NumberOfHour|MilkQuotaIn1000KgMilk|TotalMilkInFarmKg|TotalMilkForFactoryKg|MilkRevenue|MilkRevenueOfOwnProduct|SellLiveStock|PurchaseLivestock|IncreaseDairyCattle|TurnoverAndGrowth|SalesRoughage|FeedMoney|NonDairyRevenue|TotalRevenuesFlynth|Concentrates|VitaminsAndMinerals|DairyProducts|WetByProducts|PurchasedRoughage|ChangeOwnRoughageStockIncreaseDecrease|PastureMoney|TotalFeedCostsFlynth|YieldMinusFeedCosts|Fertilization|SeedsAndCropProtection|HealthCosts|AiCost|BreedingAndControlCosts|AiBreedingAndMilkControlTogether|EmbryoTransplantation|RearingCostsOfYoungStockForThirdParties|DirectCostsOfCheesePreparation|Litter|OtherDirectCosts|TotalOtherVariableCostsFlynth|RevenuesMinusVariableCosts|BalanceOtherBranches|PaymentRights|OtherEuContributions|ManagementFees|ReleaseMilkQuota|OtherRevenues57|TotOvBalancesAndOtherRevenues|CompanyBalance|DepreciationMilkQuota|SuperCharge|LeaseMilkQuota|OtherRights|ImmovableProperty|PaidWork|MachinesAndTools|WorkByThirdParties|EnvironmentalCosts|GeneralExpenses|OtherFixedCosts|TotalFixedCost|OperatingResult|FinancialIncome|FinancialCharges|Profit|DepreciationPerKgOfMilkInTotal|TotalFeedCosts|TotalRevenues|TotalOtherVariableCosts|TotalVariableCosts|GrossMargin|AccountingRecordPerYear|Equity|Successor|FlynthNumberOfMilkingCow|        AverageDIM|     AverageMilkKg|        305MilkKg|AverageSCCPerYear|AverageSCCTestedCowPerYear|Average%HighCellCountPerYear|Average%NewInfectionsPerYear|AverageAgeInDaysOfLivingCows|CalvingInterval|\n",
            "+------+--------+------------------+------------------+------------+--------------------+------------------+-----------------+-----------------+------------------+--------------+-------------+-------------------+--------------+-----------------+------------------+--------------------+--------------------+------------------+-----------------+------------------+-------------------+---------------+--------------+--------------------+---------------+-------------+-------------+-------+----------+-----------------+-------+-----------+-----+-----------------+----------------------+-----------------+----------------------+-----------------------+-------+----------+-----------+------------+--------+------------+---------------------+-----------------+---------------------+-----------+-----------------------+-------------+-----------------+-------------------+-----------------+-------------+---------+---------------+-------------------+------------+-------------------+-------------+-------------+-----------------+--------------------------------------+------------+--------------------+-------------------+-------------+----------------------+-----------+------+-----------------------+--------------------------------+---------------------+---------------------------------------+------------------------------+------+----------------+-----------------------------+--------------------------+--------------------+-------------+--------------------+--------------+----------------+---------------+-----------------------------+--------------+---------------------+-----------+--------------+-----------+-----------------+--------+----------------+------------------+------------------+---------------+---------------+--------------+---------------+---------------+----------------+------+------------------------------+--------------+-------------+-----------------------+------------------+-----------+-----------------------+------+---------+------------------------+------------------+------------------+-----------------+-----------------+--------------------------+----------------------------+----------------------------+----------------------------+---------------+\n",
            "|   111|    2014|            30.675|29.158823529411766|        -0.5|0.002067352941176...| 360.9117647058824|6517.514705882353|            30.56|              29.3|          -0.5|      0.00213|              325.0|        6187.0|40.82291925465838|19.845962732919254|  -0.293167701863354|0.002897267080745342| 254.0496894409938|7880.180124223602|             40.47|               21.8|            0.0|        0.0028|               247.0|         7745.0|         2013|         2015|1221218|      2014|             null|   null|     zuiver|    0|            21.78|                 21.78|            22.85|                  0.71|                  21.07|    1.4|         0|          0|           0|     1.4|        3120|                  251|           249843|               249843|      93366|                      0|         6921|             1649|               6071|            11318|            0|        0|              0|             104684|       22486|               1774|         2099|            0|                0|                                 -1199|           0|               25184|              79500|         3623|                   300|       3848|     0|                      0|                               0|                    0|                                      0|                             0|  1124|            9719|                        18613|                     60887|                -600|         7820|                   0|             0|               0|              0|                         7245|         68132|                 6346|          0|             0|          0|            21936|    4872|            9469|             11918|               375|          14966|            575|         70456|          -2324|             25|            9244|-11518|                         10793|       23061.0|     106358.0|                20263.0|           43324.0|    63034.0|                      1| -0.54|        0|                    34.0|           164.875| 24.25000023841858|          7604.75|            130.0|                     28.13|                       13.26|                         6.7|                      1553.0|          389.0|\n",
            "|467211|    2011|34.977129186602866|29.294258373205736|        -0.5|0.002781531100478...|271.54545454545456|6692.071770334928|            34.03|              29.6|          -0.5|      0.00283|              245.0|        6603.0|44.39245762711864|23.047033898305077|-0.23559322033898306|0.003513135593220...|212.49364406779662|7806.760593220339|44.084999999999994|               22.7|            0.0|        0.0033|               210.0|         7821.0|         2010|         2012|1991921|      2011|             null|   null|     zuiver|    0|            51.56|                 51.56|            53.66|                 33.22|                  20.45|      1|         0|          0|           0|       1|        3400|                  725|           639941|               637941|     257345|                      0|        39361|             1786|             -10016|            27495|            0|        0|              0|             284841|       56777|               4593|         1659|         2998|            18309|                                     0|           0|               84336|             200505|         7591|                  1021|       6188|  3381|                   1084|                            4466|                    0|                                      0|                             0|  7591|            6188|                        33045|                    167460|                   0|        21754|                   0|             0|           15757|           4721|                        42232|        209691|                19904|       1595|             0|          0|            33811|       0|           38978|             22456|              2105|          16012|              0|        134861|          74830|           1276|           46825| 29281|                         56522|       82677.0|     286690.0|                34831.0|          117508.0|   169182.0|                      1| -0.54|        0|                    86.2|169.66666666666666|23.577777438693577|7730.777777777777|            137.0|                      73.0|                       14.81|                        7.64|                      1696.0|          394.0|\n",
            "+------+--------+------------------+------------------+------------+--------------------+------------------+-----------------+-----------------+------------------+--------------+-------------+-------------------+--------------+-----------------+------------------+--------------------+--------------------+------------------+-----------------+------------------+-------------------+---------------+--------------+--------------------+---------------+-------------+-------------+-------+----------+-----------------+-------+-----------+-----+-----------------+----------------------+-----------------+----------------------+-----------------------+-------+----------+-----------+------------+--------+------------+---------------------+-----------------+---------------------+-----------+-----------------------+-------------+-----------------+-------------------+-----------------+-------------+---------+---------------+-------------------+------------+-------------------+-------------+-------------+-----------------+--------------------------------------+------------+--------------------+-------------------+-------------+----------------------+-----------+------+-----------------------+--------------------------------+---------------------+---------------------------------------+------------------------------+------+----------------+-----------------------------+--------------------------+--------------------+-------------+--------------------+--------------+----------------+---------------+-----------------------------+--------------+---------------------+-----------+--------------+-----------+-----------------+--------+----------------+------------------+------------------+---------------+---------------+--------------+---------------+---------------+----------------+------+------------------------------+--------------+-------------+-----------------------+------------------+-----------+-----------------------+------+---------+------------------------+------------------+------------------+-----------------+-----------------+--------------------------+----------------------------+----------------------------+----------------------------+---------------+\n",
            "only showing top 2 rows\n",
            "\n"
          ],
          "name": "stdout"
        }
      ]
    },
    {
      "cell_type": "markdown",
      "metadata": {
        "id": "Vpqh6A1DPrfZ"
      },
      "source": [
        "## Expansion rate"
      ]
    },
    {
      "cell_type": "code",
      "metadata": {
        "id": "u844L9FiRRum"
      },
      "source": [
        "import pyspark.sql.functions as F\n",
        "from pyspark.sql import Window"
      ],
      "execution_count": null,
      "outputs": []
    },
    {
      "cell_type": "code",
      "metadata": {
        "id": "O_9O5gJAQlOD"
      },
      "source": [
        "w=Window.partitionBy('UBN').\\\n",
        "  orderBy(F.asc('FiscalYear'))\n",
        "\n",
        "AccountingWithUBNWithProductionWithSCCWithCIWithLCC=AccountingWithUBNWithProductionWithSCCWithCIWithLCC.withColumn('ExpansionRate',(ExpansionRate.FlynthNumberOfMilkingCow-F.lag(ExpansionRate['FlynthNumberOfMilkingCow']).over(w))/F.lag(ExpansionRate['FlynthNumberOfMilkingCow']).over(w))"
      ],
      "execution_count": null,
      "outputs": []
    },
    {
      "cell_type": "code",
      "metadata": {
        "colab": {
          "base_uri": "https://localhost:8080/"
        },
        "id": "82l8fLbLSL55",
        "outputId": "e52d32a5-c30b-4e2e-a2eb-6c9f4f6cf9d4"
      },
      "source": [
        "AccountingWithUBNWithProductionWithSCCWithCIWithLCC.select('UBN','FiscalYear','FlynthNumberOfMilkingCow','ExpansionRate').show(5)"
      ],
      "execution_count": null,
      "outputs": [
        {
          "output_type": "stream",
          "text": [
            "+-------+----------+------------------------+--------------------+\n",
            "|    UBN|FiscalYear|FlynthNumberOfMilkingCow|       ExpansionRate|\n",
            "+-------+----------+------------------------+--------------------+\n",
            "|1454517|      2009|                    75.5|                null|\n",
            "|1454517|      2010|                    70.4|-0.06754966887417212|\n",
            "|1454517|      2011|                    80.7| 0.14630681818181812|\n",
            "|1454517|      2012|                    70.1|-0.13135068153655524|\n",
            "|1454517|      2013|                    71.8|0.024251069900142697|\n",
            "+-------+----------+------------------------+--------------------+\n",
            "only showing top 5 rows\n",
            "\n"
          ],
          "name": "stdout"
        }
      ]
    },
    {
      "cell_type": "code",
      "metadata": {
        "colab": {
          "base_uri": "https://localhost:8080/"
        },
        "id": "qndh4jLefpoT",
        "outputId": "ec031483-ec76-4ead-e685-a876d150d829"
      },
      "source": [
        "AccountingWithUBNWithProductionWithSCCWithCIWithLCC.show(3)"
      ],
      "execution_count": null,
      "outputs": [
        {
          "output_type": "stream",
          "text": [
            "+-------+--------+------------------+------------------+------------+--------------------+-----------------+-----------------+-----------------+------------------+--------------+-------------+-------------------+--------------+------------------+------------------+--------------------+--------------------+------------------+-----------------+------------------+-------------------+---------------+--------------+--------------------+---------------+-------------+-------------+-------+----------+-----------------+-------+-----------+-----+-----------------+----------------------+-----------------+----------------------+-----------------------+-------+----------+-----------+------------+--------+------------+---------------------+-----------------+---------------------+-----------+-----------------------+-------------+-----------------+-------------------+-----------------+-------------+---------+---------------+-------------------+------------+-------------------+-------------+-------------+-----------------+--------------------------------------+------------+--------------------+-------------------+-------------+----------------------+-----------+------+-----------------------+--------------------------------+---------------------+---------------------------------------+------------------------------+------+----------------+-----------------------------+--------------------------+--------------------+-------------+--------------------+--------------+----------------+---------------+-----------------------------+--------------+---------------------+-----------+--------------+-----------+-----------------+--------+----------------+------------------+------------------+---------------+---------------+--------------+---------------+---------------+----------------+------+------------------------------+--------------+-------------+-----------------------+------------------+-----------+-----------------------+------+---------+------------------------+----------+------------------+---------+-----------------+--------------------------+----------------------------+----------------------------+----------------------------+---------------+--------------------+\n",
            "|    UBN|TestYear|   1_MeanMagnitude|  1_MeanTimeToPeak|1_MeanOffset|         1_MeanDecay|1_MeanPersistence|     1_MeanM305Kg|1_MedianMagnitude|1_MedianTimeToPeak|1_MedianOffset|1_MedianDecay|1_MedianPersistence|1_MedianM305Kg|  2+_MeanMagnitude| 2+_MeanTimeToPeak|       2+_MeanOffset|        2+_MeanDecay|2+_MeanPersistence|    2+_MeanM305Kg|2+_MedianMagnitude|2+_MedianTimeToPeak|2+_MedianOffset|2+_MedianDecay|2+_MedianPersistence|2+_MedianM305Kg|LastyearInCRV|NextyearInCRV|    KVK|FiscalYear|ProduceOwnProduct|Organic|ProductType|Robot|GrassLandAreaInHa|FodderCropLandAreaInHa|TotalLandAreaInHa|TotalOwnedLandAreaInHa|TotalLeasedLandAreaInHa|BossFTE|PartnerFTE|ChildrenFTE|ForeignerFTE|TotalFTE|NumberOfHour|MilkQuotaIn1000KgMilk|TotalMilkInFarmKg|TotalMilkForFactoryKg|MilkRevenue|MilkRevenueOfOwnProduct|SellLiveStock|PurchaseLivestock|IncreaseDairyCattle|TurnoverAndGrowth|SalesRoughage|FeedMoney|NonDairyRevenue|TotalRevenuesFlynth|Concentrates|VitaminsAndMinerals|DairyProducts|WetByProducts|PurchasedRoughage|ChangeOwnRoughageStockIncreaseDecrease|PastureMoney|TotalFeedCostsFlynth|YieldMinusFeedCosts|Fertilization|SeedsAndCropProtection|HealthCosts|AiCost|BreedingAndControlCosts|AiBreedingAndMilkControlTogether|EmbryoTransplantation|RearingCostsOfYoungStockForThirdParties|DirectCostsOfCheesePreparation|Litter|OtherDirectCosts|TotalOtherVariableCostsFlynth|RevenuesMinusVariableCosts|BalanceOtherBranches|PaymentRights|OtherEuContributions|ManagementFees|ReleaseMilkQuota|OtherRevenues57|TotOvBalancesAndOtherRevenues|CompanyBalance|DepreciationMilkQuota|SuperCharge|LeaseMilkQuota|OtherRights|ImmovableProperty|PaidWork|MachinesAndTools|WorkByThirdParties|EnvironmentalCosts|GeneralExpenses|OtherFixedCosts|TotalFixedCost|OperatingResult|FinancialIncome|FinancialCharges|Profit|DepreciationPerKgOfMilkInTotal|TotalFeedCosts|TotalRevenues|TotalOtherVariableCosts|TotalVariableCosts|GrossMargin|AccountingRecordPerYear|Equity|Successor|FlynthNumberOfMilkingCow|AverageDIM|     AverageMilkKg|305MilkKg|AverageSCCPerYear|AverageSCCTestedCowPerYear|Average%HighCellCountPerYear|Average%NewInfectionsPerYear|AverageAgeInDaysOfLivingCows|CalvingInterval|       ExpansionRate|\n",
            "+-------+--------+------------------+------------------+------------+--------------------+-----------------+-----------------+-----------------+------------------+--------------+-------------+-------------------+--------------+------------------+------------------+--------------------+--------------------+------------------+-----------------+------------------+-------------------+---------------+--------------+--------------------+---------------+-------------+-------------+-------+----------+-----------------+-------+-----------+-----+-----------------+----------------------+-----------------+----------------------+-----------------------+-------+----------+-----------+------------+--------+------------+---------------------+-----------------+---------------------+-----------+-----------------------+-------------+-----------------+-------------------+-----------------+-------------+---------+---------------+-------------------+------------+-------------------+-------------+-------------+-----------------+--------------------------------------+------------+--------------------+-------------------+-------------+----------------------+-----------+------+-----------------------+--------------------------------+---------------------+---------------------------------------+------------------------------+------+----------------+-----------------------------+--------------------------+--------------------+-------------+--------------------+--------------+----------------+---------------+-----------------------------+--------------+---------------------+-----------+--------------+-----------+-----------------+--------+----------------+------------------+------------------+---------------+---------------+--------------+---------------+---------------+----------------+------+------------------------------+--------------+-------------+-----------------------+------------------+-----------+-----------------------+------+---------+------------------------+----------+------------------+---------+-----------------+--------------------------+----------------------------+----------------------------+----------------------------+---------------+--------------------+\n",
            "|1454517|    2009| 30.84444444444444|              30.0|        -0.5|0.001990000000000...|            353.0|6625.111111111111|            30.41|              30.0|          -0.5|     0.001975|              351.0|        6446.0| 42.77704545454546|22.452272727272728|-0.23636363636363636|0.003019318181818...| 238.0909090909091|          8133.75|            43.925|               22.5|            0.0|         0.003|               231.0|         8266.0|         null|         2010|2194326|      2009|             null|   null|     zuiver|    0|            43.19|                 51.69|            54.15|                 48.72|                   5.43|      1|       0.5|          0|           0|     1.5|        4000|                  609|           627262|               615262|     172889|                      0|        12859|              738|               1169|            13290|            0|        0|              0|             186178|       35685|               1354|            0|            0|                0|                                     0|           0|               37039|             149140|         7937|                  1723|       5845|     0|                    308|                             308|                    0|                                      0|                             0|  2707|            5414|                        23995|                    125144|                   0|        19012|                 677|             0|               0|              0|                        19688|        144833|                10275|       6583|             0|          0|            19750|       0|           19442|             13905|                 0|          11013|            246|         81215|          63618|            185|           22272| 41653|                         20488|       37039.0|     186917.0|                24672.0|           61711.0|   125206.0|                      1|  0.08|        0|                    75.5|     181.0|24.100000381469727|   7934.0|            153.0|                      62.0|                       19.35|                       19.35|                        null|           null|                null|\n",
            "|1454517|    2010|35.284000000000006|30.809999999999995|        -0.5|              9.9E-4|            917.5|           8758.6|            34.43|              30.7|          -0.5|        0.001|              692.5|        8837.5|44.723333333333336|26.550000000000008|-0.20000000000000004|0.002637499999999...| 349.1458333333333|8790.645833333334|             44.26|               22.5|            0.0|       0.00272|               255.0|         8928.5|         2009|         2011|2194326|      2010|             null|   null|     zuiver|    0|            43.19|                 51.69|            54.15|                 48.72|                   5.43|      1|       0.5|          0|           0|     1.5|        4000|                  615|           639133|               639133|     228298|                      0|        12783|              639|               7542|            19685|            0|        0|              0|             247984|       41927|               1981|            0|            0|             1598|                                     0|           0|               45442|             202541|         6008|                  2748|       5305|     0|                    703|                             703|                    0|                                      0|                             0|  3771|            4857|                        23328|                    179213|                   0|        21027|                 447|             0|               0|              0|                        21475|        200688|                14061|          0|             0|          0|            25693|       0|           21603|             14892|                 0|          12783|            256|         89287|         111401|              0|           18215| 93122|                         26204|       45506.0|     248623.0|                24031.0|           69537.0|   179086.0|                      1|  0.16|        0|                    70.4|     154.0|27.200000762939453|   8601.0|            275.0|                      57.0|                       26.32|                       21.05|                         0.0|          410.0|-0.06754966887417212|\n",
            "|1454517|    2011| 37.33264516129032|30.216774193548385|        -0.5|0.001592129032258...|614.4193548387096|8492.077419354839|             37.9|              30.0|          -0.5|      0.00146|              476.0|        8599.0| 48.26280748663102| 24.26283422459893|-0.16684491978609622|0.002667994652406418|325.89304812834223|9450.080213903744|             48.41|               23.2|            0.0|       0.00266|               261.0|         9598.0|         2010|         2012|2194326|      2011|             null|   null|     zuiver|    0|            43.19|                 51.69|            54.15|                 48.72|                   5.43|      1|       0.5|          0|           0|     1.5|        4000|                  622|           669070|               669070|     255049|                      0|        22748|             1338|                335|            21678|            0|        0|              0|             276727|       53258|               3011|            0|            0|             4483|                                     0|           0|               60752|             215976|         9367|                  5152|       5955|     0|                   1873|                            1873|                    0|                                      0|                             0|  5486|            6691|                        34524|                    181452|                   0|        19537|                   0|             0|               0|              0|                        19537|        200989|                14050|          0|          6089|          0|             8966|       0|           24488|             19938|                 0|          13515|            268|         87314|         113675|            201|           20875| 93068|                         25291|       60752.0|     278132.0|                35862.0|           96614.0|   181518.0|                      1|  0.24|        0|                    80.7|     172.0| 29.81250023841858| 9272.875|           258.25|                     64.38|                       22.35|                        8.51|                      1664.0|          414.0| 0.14630681818181812|\n",
            "+-------+--------+------------------+------------------+------------+--------------------+-----------------+-----------------+-----------------+------------------+--------------+-------------+-------------------+--------------+------------------+------------------+--------------------+--------------------+------------------+-----------------+------------------+-------------------+---------------+--------------+--------------------+---------------+-------------+-------------+-------+----------+-----------------+-------+-----------+-----+-----------------+----------------------+-----------------+----------------------+-----------------------+-------+----------+-----------+------------+--------+------------+---------------------+-----------------+---------------------+-----------+-----------------------+-------------+-----------------+-------------------+-----------------+-------------+---------+---------------+-------------------+------------+-------------------+-------------+-------------+-----------------+--------------------------------------+------------+--------------------+-------------------+-------------+----------------------+-----------+------+-----------------------+--------------------------------+---------------------+---------------------------------------+------------------------------+------+----------------+-----------------------------+--------------------------+--------------------+-------------+--------------------+--------------+----------------+---------------+-----------------------------+--------------+---------------------+-----------+--------------+-----------+-----------------+--------+----------------+------------------+------------------+---------------+---------------+--------------+---------------+---------------+----------------+------+------------------------------+--------------+-------------+-----------------------+------------------+-----------+-----------------------+------+---------+------------------------+----------+------------------+---------+-----------------+--------------------------+----------------------------+----------------------------+----------------------------+---------------+--------------------+\n",
            "only showing top 3 rows\n",
            "\n"
          ],
          "name": "stdout"
        }
      ]
    },
    {
      "cell_type": "markdown",
      "metadata": {
        "id": "7o_mDJ7HhBDY"
      },
      "source": [
        "## Save"
      ]
    },
    {
      "cell_type": "code",
      "metadata": {
        "id": "0ls88hyvnWdX"
      },
      "source": [
        "AccountingWithUBNWithProductionWithSCCWithCIWithLCC.\\\n",
        "  repartition(1).\\\n",
        "  write.\\\n",
        "  csv(path='/content/gdrive/Shared drives/Bovi-Analytics/Projects/ChenYongYan/Chapter2/Output/CSV/AccountingWithUBNWithProductionWithSCCWithCIWithLCC/',mode=\"overwrite\",header=True)"
      ],
      "execution_count": null,
      "outputs": []
    },
    {
      "cell_type": "code",
      "metadata": {
        "id": "FvPbGnqKgsDD"
      },
      "source": [
        "AccountingWithUBNWithProductionWithSCCWithCIWithLCC.\\\n",
        "  repartition(1).\\\n",
        "  write.\\\n",
        "  parquet(path='/content/gdrive/Shared drives/Bovi-Analytics/Projects/ChenYongYan/Chapter2/Output/Parquet/AccountingWithUBNWithProductionWithSCCWithCIWithLCC/',mode=\"overwrite\")"
      ],
      "execution_count": null,
      "outputs": []
    },
    {
      "cell_type": "markdown",
      "metadata": {
        "id": "MH0IU8HqV5iK"
      },
      "source": [
        "# Calculate herd lactation curve characteristics"
      ]
    },
    {
      "cell_type": "markdown",
      "metadata": {
        "id": "y55W8ddU77Wc"
      },
      "source": [
        "## calculate weight"
      ]
    },
    {
      "cell_type": "code",
      "metadata": {
        "id": "XXG-dRiL8ctS"
      },
      "source": [
        "MilkRecordFormatted= spark \\\n",
        "  .read \\\n",
        "  .parquet('/content/gdrive/Shared drives/Bovi-Analytics/Projects/ChenYongYan/Chapter2/Output/Parquet/MilkRecordFormatted/')"
      ],
      "execution_count": null,
      "outputs": []
    },
    {
      "cell_type": "code",
      "metadata": {
        "colab": {
          "base_uri": "https://localhost:8080/"
        },
        "id": "dSb9xEEW8hro",
        "outputId": "9070a25e-c642-456c-c337-67296bf11add"
      },
      "source": [
        "MilkRecordFormatted.show(2)"
      ],
      "execution_count": null,
      "outputs": [
        {
          "output_type": "stream",
          "text": [
            "+----------------+----------+------+-----------+--------------+----------+-----------+-------------+-----------------+--------+----------------+----------------+-------------+---------+----------+--------+---------+\n",
            "|AnimalIdentifier| BirthDate|Parity|CalvingDate|HerdIdentifier|      Date|MilkYieldKg|FatPercentage|ProteinPercentage|     SCC|NumberOfMilkings|StatusProduction|StatusFictive|StatusCow|DaysInMilk|TestYear|AgeInDays|\n",
            "+----------------+----------+------+-----------+--------------+----------+-----------+-------------+-----------------+--------+----------------+----------------+-------------+---------+----------+--------+---------+\n",
            "|    NL 103926450|1994-08-22|   9.0| 2005-09-11|       5341329|2007-01-17|        5.5|         4.99|             4.05|445000.0|             2.0|             0.0|          0.0|      0.0|     493.0|    2007|   4531.0|\n",
            "|    NL 107789383|1993-10-29|  11.0| 2006-09-03|       4109485|2007-01-17|       21.1|         3.72|              2.8| 23000.0|             2.0|             0.0|          0.0|      0.0|     136.0|    2007|   4828.0|\n",
            "+----------------+----------+------+-----------+--------------+----------+-----------+-------------+-----------------+--------+----------------+----------------+-------------+---------+----------+--------+---------+\n",
            "only showing top 2 rows\n",
            "\n"
          ],
          "name": "stdout"
        }
      ]
    },
    {
      "cell_type": "code",
      "metadata": {
        "colab": {
          "base_uri": "https://localhost:8080/"
        },
        "id": "lUDfC00tAlYs",
        "outputId": "616fcb4f-b145-46c3-8989-41ca84ed5a21"
      },
      "source": [
        "MilkRecordFormatted.count()"
      ],
      "execution_count": null,
      "outputs": [
        {
          "output_type": "execute_result",
          "data": {
            "text/plain": [
              "134520115"
            ]
          },
          "metadata": {
            "tags": []
          },
          "execution_count": 87
        }
      ]
    },
    {
      "cell_type": "code",
      "metadata": {
        "colab": {
          "base_uri": "https://localhost:8080/"
        },
        "id": "BPk8p0Ey8xP7",
        "outputId": "0bc3fc10-fcec-4e22-8a1a-d95837926e03"
      },
      "source": [
        "MilkRecordFormatted.agg(F.countDistinct(\"HerdIdentifier\"),F.countDistinct('AnimalIdentifier')).collect()"
      ],
      "execution_count": null,
      "outputs": [
        {
          "output_type": "execute_result",
          "data": {
            "text/plain": [
              "[Row(count(DISTINCT HerdIdentifier)=20603, count(DISTINCT AnimalIdentifier)=5901586)]"
            ]
          },
          "metadata": {
            "tags": []
          },
          "execution_count": 86
        }
      ]
    },
    {
      "cell_type": "code",
      "metadata": {
        "id": "WwBYlG3eIi0d"
      },
      "source": [
        "weight=MilkRecordFormatted.groupBy('HerdIdentifier','AnimalIdentifier','CalvingDate','Parity','TestYear').\\\n",
        "  agg(F.count('*').alias('Weight'))"
      ],
      "execution_count": null,
      "outputs": []
    },
    {
      "cell_type": "code",
      "metadata": {
        "id": "3EFbpO9NLDRS",
        "colab": {
          "base_uri": "https://localhost:8080/"
        },
        "outputId": "2dd4800f-bc30-4aa5-efb7-84a1fec9b8d3"
      },
      "source": [
        "weight.show(3)"
      ],
      "execution_count": null,
      "outputs": [
        {
          "output_type": "stream",
          "text": [
            "+--------------+----------------+-----------+------+--------+------+\n",
            "|HerdIdentifier|AnimalIdentifier|CalvingDate|Parity|TestYear|Weight|\n",
            "+--------------+----------------+-----------+------+--------+------+\n",
            "|       4109485|    NL 107789383| 2006-09-03|  11.0|    2007|     8|\n",
            "|       5561233|    NL 137072554| 2006-11-14|  11.0|    2007|     7|\n",
            "|       3955511|    NL 174293008| 2007-06-06|   9.0|    2007|     6|\n",
            "+--------------+----------------+-----------+------+--------+------+\n",
            "only showing top 3 rows\n",
            "\n"
          ],
          "name": "stdout"
        }
      ]
    },
    {
      "cell_type": "code",
      "metadata": {
        "id": "HPJp51VEQD8q",
        "colab": {
          "base_uri": "https://localhost:8080/"
        },
        "outputId": "6787f921-eac0-4082-aaa5-5d85120525d3"
      },
      "source": [
        "weight.agg(F.countDistinct(\"HerdIdentifier\"),F.countDistinct('AnimalIdentifier')).collect()"
      ],
      "execution_count": null,
      "outputs": [
        {
          "output_type": "execute_result",
          "data": {
            "text/plain": [
              "[Row(count(DISTINCT HerdIdentifier)=20603, count(DISTINCT AnimalIdentifier)=5901586)]"
            ]
          },
          "metadata": {
            "tags": []
          },
          "execution_count": 85
        }
      ]
    },
    {
      "cell_type": "markdown",
      "metadata": {
        "id": "GpXcDLulN_Hx"
      },
      "source": [
        "\n",
        "## combine weight with FittingResult"
      ]
    },
    {
      "cell_type": "code",
      "metadata": {
        "id": "7w4ScpFXV5iL"
      },
      "source": [
        "FittingPerLactation= spark \\\n",
        "  .read \\\n",
        "  .parquet('/content/gdrive/Shared drives/Bovi-Analytics/Projects/ChenYongYan/Chapter2/Output/Parquet/FittingPerLactationRecalculated/')"
      ],
      "execution_count": null,
      "outputs": []
    },
    {
      "cell_type": "code",
      "metadata": {
        "colab": {
          "base_uri": "https://localhost:8080/"
        },
        "id": "3p57hgr_PKWi",
        "outputId": "19e79aed-7df6-45fe-94a6-7345f4cb2538"
      },
      "source": [
        "FittingPerLactation.show(2)"
      ],
      "execution_count": null,
      "outputs": [
        {
          "output_type": "stream",
          "text": [
            "+--------------+----------------+-----------+------+----------+------+-------+----+------+-------+-----------+--------+------+\n",
            "|HerdIdentifier|AnimalIdentifier|CalvingDate|Parity|DaysInMilk|Points|ScaleKg|Ramp|Offset|  Decay|Persistence|StdErrKg|M305Kg|\n",
            "+--------------+----------------+-----------+------+----------+------+-------+----+------+-------+-----------+--------+------+\n",
            "|           111|    NL 377418789| 2006-06-23|   1.0|     249.0|   2.0|  33.79|30.0|  -0.5|0.00263|      264.0|     0.4|6613.0|\n",
            "|           111|    NL 481411289| 2010-11-11|   2.0|       5.0|   1.0|  43.29|22.5|  -0.8|0.00276|      251.0|     0.0|8463.0|\n",
            "+--------------+----------------+-----------+------+----------+------+-------+----+------+-------+-----------+--------+------+\n",
            "only showing top 2 rows\n",
            "\n"
          ],
          "name": "stdout"
        }
      ]
    },
    {
      "cell_type": "code",
      "metadata": {
        "colab": {
          "base_uri": "https://localhost:8080/"
        },
        "id": "ZEp4oSV1BFbG",
        "outputId": "08ef0840-e7e7-4671-ed93-bc937d3386b5"
      },
      "source": [
        "FittingPerLactation.count()"
      ],
      "execution_count": null,
      "outputs": [
        {
          "output_type": "execute_result",
          "data": {
            "text/plain": [
              "16160238"
            ]
          },
          "metadata": {
            "tags": []
          },
          "execution_count": 88
        }
      ]
    },
    {
      "cell_type": "code",
      "metadata": {
        "colab": {
          "base_uri": "https://localhost:8080/"
        },
        "id": "zFXQwhZIbqRw",
        "outputId": "da1bb3d3-044a-4eac-d196-faf7e196f7fe"
      },
      "source": [
        "FittingPerLactation.agg(F.countDistinct(\"HerdIdentifier\"),F.countDistinct('AnimalIdentifier')).collect()"
      ],
      "execution_count": null,
      "outputs": [
        {
          "output_type": "execute_result",
          "data": {
            "text/plain": [
              "[Row(count(DISTINCT HerdIdentifier)=20597, count(DISTINCT AnimalIdentifier)=5843321)]"
            ]
          },
          "metadata": {
            "tags": []
          },
          "execution_count": 89
        }
      ]
    },
    {
      "cell_type": "code",
      "metadata": {
        "id": "9i4ARY17O9g6"
      },
      "source": [
        "Weight=weight.join(FittingPerLactation,['HerdIdentifier','AnimalIdentifier','Parity','CalvingDate'],'inner')"
      ],
      "execution_count": null,
      "outputs": []
    },
    {
      "cell_type": "code",
      "metadata": {
        "colab": {
          "base_uri": "https://localhost:8080/"
        },
        "id": "FJMI0k9UcE6G",
        "outputId": "a8279c8c-064e-4611-a77d-4462e37bab0d"
      },
      "source": [
        "Weight.agg(F.countDistinct(\"HerdIdentifier\"),F.countDistinct('AnimalIdentifier')).collect()"
      ],
      "execution_count": null,
      "outputs": [
        {
          "output_type": "execute_result",
          "data": {
            "text/plain": [
              "[Row(count(DISTINCT HerdIdentifier)=20597, count(DISTINCT AnimalIdentifier)=5843321)]"
            ]
          },
          "metadata": {
            "tags": []
          },
          "execution_count": 91
        }
      ]
    },
    {
      "cell_type": "code",
      "metadata": {
        "colab": {
          "base_uri": "https://localhost:8080/"
        },
        "id": "h-24VUTCcE6I",
        "outputId": "d6bedb9c-9772-477b-e721-04a810e7211b"
      },
      "source": [
        "Weight.count()"
      ],
      "execution_count": null,
      "outputs": [
        {
          "output_type": "execute_result",
          "data": {
            "text/plain": [
              "26895467"
            ]
          },
          "metadata": {
            "tags": []
          },
          "execution_count": 92
        }
      ]
    },
    {
      "cell_type": "code",
      "metadata": {
        "id": "nAetcoyKWOzU",
        "colab": {
          "base_uri": "https://localhost:8080/"
        },
        "outputId": "97d58bb5-8bf0-4d25-f515-498ba787cd39"
      },
      "source": [
        "Weight.orderBy('HerdIdentifier','AnimalIdentifier','Parity').show(10)"
      ],
      "execution_count": null,
      "outputs": [
        {
          "output_type": "stream",
          "text": [
            "+--------------+----------------+------+-----------+--------+------+----------+------+-------+----+------+-------+-----------+--------+------+\n",
            "|HerdIdentifier|AnimalIdentifier|Parity|CalvingDate|TestYear|Weight|DaysInMilk|Points|ScaleKg|Ramp|Offset|  Decay|Persistence|StdErrKg|M305Kg|\n",
            "+--------------+----------------+------+-----------+--------+------+----------+------+-------+----+------+-------+-----------+--------+------+\n",
            "|           111|    NL 262732219|   5.0| 2006-07-02|    2007|     4|     334.0|   4.0|  39.03|22.5|   0.0|0.00136|      510.0|     0.9|9293.0|\n",
            "|           111|    NL 262732219|   6.0| 2007-08-06|    2007|     3|     158.0|   4.0|  46.89|25.3|   0.0|0.00381|      182.0|     1.4|7901.0|\n",
            "|           111|    NL 262732219|   6.0| 2007-08-06|    2008|     1|     158.0|   4.0|  46.89|25.3|   0.0|0.00381|      182.0|     1.4|7901.0|\n",
            "|           111|    NL 267356449|   5.0| 2006-09-11|    2007|     2|     402.0|   2.0|  49.56|22.5|   0.0|0.00293|      237.0|     1.3|9450.0|\n",
            "|           111|    NL 272039719|   2.0| 2006-12-14|    2007|     2|     266.0|   2.0|  42.29|22.5|  -0.8|0.00235|      295.0|     0.3|8754.0|\n",
            "|           111|    NL 272039719|   3.0| 2007-11-08|    2007|     1|     295.0|   7.0|  40.88|22.4|   0.0|0.00173|      400.0|     1.7|9219.0|\n",
            "|           111|    NL 272039719|   3.0| 2007-11-08|    2008|     6|     295.0|   7.0|  40.88|22.4|   0.0|0.00173|      400.0|     1.7|9219.0|\n",
            "|           111|    NL 277571090|   6.0| 2007-07-17|    2007|     1|     358.0|   6.0|   55.2|25.3|   0.0|0.00345|      201.0|     3.7|9756.0|\n",
            "|           111|    NL 277571090|   6.0| 2007-07-17|    2008|     5|     358.0|   6.0|   55.2|25.3|   0.0|0.00345|      201.0|     3.7|9756.0|\n",
            "|           111|    NL 277571090|   7.0| 2008-09-08|    2008|     1|      36.0|   1.0|  38.44|22.5|   0.0|0.00312|      222.0|     0.1|7149.0|\n",
            "+--------------+----------------+------+-----------+--------+------+----------+------+-------+----+------+-------+-----------+--------+------+\n",
            "only showing top 10 rows\n",
            "\n"
          ],
          "name": "stdout"
        }
      ]
    },
    {
      "cell_type": "code",
      "metadata": {
        "id": "FVGz1h3SZEeK"
      },
      "source": [
        "from pyspark.sql import Window\n",
        "w=Window.partitionBy('HerdIdentifier','AnimalIdentifier','Parity')"
      ],
      "execution_count": null,
      "outputs": []
    },
    {
      "cell_type": "code",
      "metadata": {
        "id": "AU0kc00MbvJx"
      },
      "source": [
        "Weight=Weight.withColumn('NYear',F.count('*').over(w)).\\\n",
        "      withColumn('ParityGroup',F.when(F.col('Parity')==1,'1').otherwise('2+'))"
      ],
      "execution_count": null,
      "outputs": []
    },
    {
      "cell_type": "code",
      "metadata": {
        "id": "i9XHNArJZmyz",
        "colab": {
          "base_uri": "https://localhost:8080/"
        },
        "outputId": "f1dacc15-b91a-4970-9957-9ee2ab5b3e4e"
      },
      "source": [
        "Weight.show(5)"
      ],
      "execution_count": null,
      "outputs": [
        {
          "output_type": "stream",
          "text": [
            "+--------------+----------------+------+-----------+--------+------+----------+------+-------+----+------+-------+-----------+--------+------+-----+-----------+\n",
            "|HerdIdentifier|AnimalIdentifier|Parity|CalvingDate|TestYear|Weight|DaysInMilk|Points|ScaleKg|Ramp|Offset|  Decay|Persistence|StdErrKg|M305Kg|NYear|ParityGroup|\n",
            "+--------------+----------------+------+-----------+--------+------+----------+------+-------+----+------+-------+-----------+--------+------+-----+-----------+\n",
            "|           111|    NL 377418758|   3.0| 2008-07-06|    2008|     4|     360.0|   8.0|  48.41|26.9|   0.0|0.00257|      269.0|     3.5|9598.0|    2|         2+|\n",
            "|           111|    NL 377418758|   3.0| 2008-07-06|    2009|     5|     360.0|   8.0|  48.41|26.9|   0.0|0.00257|      269.0|     3.5|9598.0|    2|         2+|\n",
            "|           111|    NL 539813836|   3.0| 2016-03-23|    2017|     2|     338.0|   8.0|   40.7|27.2|   0.0|0.00376|      184.0|     1.3|6872.0|    2|         2+|\n",
            "|           111|    NL 539813836|   3.0| 2016-03-23|    2016|     6|     338.0|   8.0|   40.7|27.2|   0.0|0.00376|      184.0|     1.3|6872.0|    2|         2+|\n",
            "|           111|    NL 840712813|   1.0| 2011-09-27|    2011|     2|     288.0|   7.0|  35.08|29.3|  -0.5| 0.0022|      315.0|     1.2|7304.0|    2|          1|\n",
            "+--------------+----------------+------+-----------+--------+------+----------+------+-------+----+------+-------+-----------+--------+------+-----+-----------+\n",
            "only showing top 5 rows\n",
            "\n"
          ],
          "name": "stdout"
        }
      ]
    },
    {
      "cell_type": "code",
      "metadata": {
        "id": "yDY6bagKeYTJ"
      },
      "source": [
        "Weight.\\\n",
        "  repartition(1).\\\n",
        "  write.\\\n",
        "  parquet(path='/content/gdrive/Shared drives/Bovi-Analytics/Projects/ChenYongYan/Chapter2/Output/Parquet/FittingPerLactationWithWeight/',mode=\"overwrite\")"
      ],
      "execution_count": null,
      "outputs": []
    },
    {
      "cell_type": "markdown",
      "metadata": {
        "id": "LaQFj7rIPGo_"
      },
      "source": [
        "## weight explore"
      ]
    },
    {
      "cell_type": "markdown",
      "metadata": {
        "id": "VdQ2p6mRQWwC"
      },
      "source": [
        "if weight=2, then the row will show 2 times in the dataset."
      ]
    },
    {
      "cell_type": "code",
      "metadata": {
        "id": "0Ba3MT4lgm3S"
      },
      "source": [
        "Weight= spark \\\n",
        "  .read \\\n",
        "  .parquet('/content/gdrive/Shared drives/Bovi-Analytics/Projects/ChenYongYan/Chapter2/Output/Parquet/FittingPerLactationWithWeight/')"
      ],
      "execution_count": null,
      "outputs": []
    },
    {
      "cell_type": "code",
      "metadata": {
        "colab": {
          "base_uri": "https://localhost:8080/"
        },
        "id": "q7HysQ5_PldB",
        "outputId": "7e862a9a-b4f5-4b70-94e2-bdd573ff1928"
      },
      "source": [
        "Weight.show(2)"
      ],
      "execution_count": null,
      "outputs": [
        {
          "output_type": "stream",
          "text": [
            "+--------------+----------------+------+-----------+--------+------+----------+------+-------+----+------+-------+-----------+--------+------+-----+-----------+\n",
            "|HerdIdentifier|AnimalIdentifier|Parity|CalvingDate|TestYear|Weight|DaysInMilk|Points|ScaleKg|Ramp|Offset|  Decay|Persistence|StdErrKg|M305Kg|NYear|ParityGroup|\n",
            "+--------------+----------------+------+-----------+--------+------+----------+------+-------+----+------+-------+-----------+--------+------+-----+-----------+\n",
            "|           111|    NL 377418758|   3.0| 2008-07-06|    2008|     4|     360.0|   8.0|  48.41|26.9|   0.0|0.00257|      269.0|     3.5|9598.0|    2|         2+|\n",
            "|           111|    NL 377418758|   3.0| 2008-07-06|    2009|     5|     360.0|   8.0|  48.41|26.9|   0.0|0.00257|      269.0|     3.5|9598.0|    2|         2+|\n",
            "+--------------+----------------+------+-----------+--------+------+----------+------+-------+----+------+-------+-----------+--------+------+-----+-----------+\n",
            "only showing top 2 rows\n",
            "\n"
          ],
          "name": "stdout"
        }
      ]
    },
    {
      "cell_type": "code",
      "metadata": {
        "id": "gKReGgP0N0Nj"
      },
      "source": [
        "n_to_array = udf(lambda n : [n] * n, ArrayType(IntegerType()))"
      ],
      "execution_count": null,
      "outputs": []
    },
    {
      "cell_type": "code",
      "metadata": {
        "id": "U2ue9q10N0Nl"
      },
      "source": [
        "df=Weight.withColumn('WeightArray',n_to_array(Weight.Weight))"
      ],
      "execution_count": null,
      "outputs": []
    },
    {
      "cell_type": "code",
      "metadata": {
        "colab": {
          "base_uri": "https://localhost:8080/"
        },
        "id": "shojduTWqje7",
        "outputId": "1d1e9d2c-42cc-42ba-8269-dc5026423990"
      },
      "source": [
        "df.show(2)"
      ],
      "execution_count": null,
      "outputs": [
        {
          "output_type": "stream",
          "text": [
            "+--------------+----------------+------+-----------+--------+------+----------+------+-------+----+------+-------+-----------+--------+------+-----+-----------+---------------+\n",
            "|HerdIdentifier|AnimalIdentifier|Parity|CalvingDate|TestYear|Weight|DaysInMilk|Points|ScaleKg|Ramp|Offset|  Decay|Persistence|StdErrKg|M305Kg|NYear|ParityGroup|    WeightArray|\n",
            "+--------------+----------------+------+-----------+--------+------+----------+------+-------+----+------+-------+-----------+--------+------+-----+-----------+---------------+\n",
            "|           111|    NL 377418758|   3.0| 2008-07-06|    2008|     4|     360.0|   8.0|  48.41|26.9|   0.0|0.00257|      269.0|     3.5|9598.0|    2|         2+|   [4, 4, 4, 4]|\n",
            "|           111|    NL 377418758|   3.0| 2008-07-06|    2009|     5|     360.0|   8.0|  48.41|26.9|   0.0|0.00257|      269.0|     3.5|9598.0|    2|         2+|[5, 5, 5, 5, 5]|\n",
            "+--------------+----------------+------+-----------+--------+------+----------+------+-------+----+------+-------+-----------+--------+------+-----+-----------+---------------+\n",
            "only showing top 2 rows\n",
            "\n"
          ],
          "name": "stdout"
        }
      ]
    },
    {
      "cell_type": "code",
      "metadata": {
        "id": "zdua1NkeNnFy"
      },
      "source": [
        "WeightedExplore=df.withColumn('weight',F.explode(df.WeightArray))"
      ],
      "execution_count": null,
      "outputs": []
    },
    {
      "cell_type": "markdown",
      "metadata": {
        "id": "_5qDV4XKQn4B"
      },
      "source": [
        "this lactation had 4 test-day records in 2008, and 5 in 2009. So now in the WeightedExplore, we can see the lactation curve characteristics appear 4 times and 5 times respectively in 2008 and 2009"
      ]
    },
    {
      "cell_type": "code",
      "metadata": {
        "colab": {
          "base_uri": "https://localhost:8080/"
        },
        "id": "NT4v0dx7QBaN",
        "outputId": "f9da6ad5-c798-463b-8df6-de23c879ecba"
      },
      "source": [
        "WeightedExplore.show(9)"
      ],
      "execution_count": null,
      "outputs": [
        {
          "output_type": "stream",
          "text": [
            "+--------------+----------------+------+-----------+--------+------+----------+------+-------+----+------+-------+-----------+--------+------+-----+-----------+---------------+\n",
            "|HerdIdentifier|AnimalIdentifier|Parity|CalvingDate|TestYear|weight|DaysInMilk|Points|ScaleKg|Ramp|Offset|  Decay|Persistence|StdErrKg|M305Kg|NYear|ParityGroup|    WeightArray|\n",
            "+--------------+----------------+------+-----------+--------+------+----------+------+-------+----+------+-------+-----------+--------+------+-----+-----------+---------------+\n",
            "|           111|    NL 377418758|   3.0| 2008-07-06|    2008|     4|     360.0|   8.0|  48.41|26.9|   0.0|0.00257|      269.0|     3.5|9598.0|    2|         2+|   [4, 4, 4, 4]|\n",
            "|           111|    NL 377418758|   3.0| 2008-07-06|    2008|     4|     360.0|   8.0|  48.41|26.9|   0.0|0.00257|      269.0|     3.5|9598.0|    2|         2+|   [4, 4, 4, 4]|\n",
            "|           111|    NL 377418758|   3.0| 2008-07-06|    2008|     4|     360.0|   8.0|  48.41|26.9|   0.0|0.00257|      269.0|     3.5|9598.0|    2|         2+|   [4, 4, 4, 4]|\n",
            "|           111|    NL 377418758|   3.0| 2008-07-06|    2008|     4|     360.0|   8.0|  48.41|26.9|   0.0|0.00257|      269.0|     3.5|9598.0|    2|         2+|   [4, 4, 4, 4]|\n",
            "|           111|    NL 377418758|   3.0| 2008-07-06|    2009|     5|     360.0|   8.0|  48.41|26.9|   0.0|0.00257|      269.0|     3.5|9598.0|    2|         2+|[5, 5, 5, 5, 5]|\n",
            "|           111|    NL 377418758|   3.0| 2008-07-06|    2009|     5|     360.0|   8.0|  48.41|26.9|   0.0|0.00257|      269.0|     3.5|9598.0|    2|         2+|[5, 5, 5, 5, 5]|\n",
            "|           111|    NL 377418758|   3.0| 2008-07-06|    2009|     5|     360.0|   8.0|  48.41|26.9|   0.0|0.00257|      269.0|     3.5|9598.0|    2|         2+|[5, 5, 5, 5, 5]|\n",
            "|           111|    NL 377418758|   3.0| 2008-07-06|    2009|     5|     360.0|   8.0|  48.41|26.9|   0.0|0.00257|      269.0|     3.5|9598.0|    2|         2+|[5, 5, 5, 5, 5]|\n",
            "|           111|    NL 377418758|   3.0| 2008-07-06|    2009|     5|     360.0|   8.0|  48.41|26.9|   0.0|0.00257|      269.0|     3.5|9598.0|    2|         2+|[5, 5, 5, 5, 5]|\n",
            "+--------------+----------------+------+-----------+--------+------+----------+------+-------+----+------+-------+-----------+--------+------+-----+-----------+---------------+\n",
            "only showing top 9 rows\n",
            "\n"
          ],
          "name": "stdout"
        }
      ]
    },
    {
      "cell_type": "code",
      "metadata": {
        "id": "NfOefXWBpiB-"
      },
      "source": [
        "WeightedExplore.\\\n",
        "  repartition(1).\\\n",
        "  write.\\\n",
        "  parquet(path='/content/gdrive/Shared drives/Bovi-Analytics/Projects/ChenYongYan/Chapter2/Output/Parquet/WeightedExplore/',mode=\"overwrite\")"
      ],
      "execution_count": null,
      "outputs": []
    },
    {
      "cell_type": "code",
      "metadata": {
        "id": "3NhTzdYvpiB-"
      },
      "source": [
        "WeightedExplore= spark \\\n",
        "  .read \\\n",
        "  .parquet('/content/gdrive/Shared drives/Bovi-Analytics/Projects/ChenYongYan/Chapter2/Output/Parquet/WeightedExplore/')"
      ],
      "execution_count": null,
      "outputs": []
    },
    {
      "cell_type": "markdown",
      "metadata": {
        "id": "fUdEDUlaRCMH"
      },
      "source": [
        "## weighted mean"
      ]
    },
    {
      "cell_type": "code",
      "metadata": {
        "id": "fPJ68atog67Y"
      },
      "source": [
        "WeightedMean=WeightedExplore.groupBy('HerdIdentifier','TestYear','ParityGroup').\\\n",
        "  agg(avg('ScaleKg').alias('MeanScaleKg'),\n",
        "  avg('Ramp').alias('MeanRamp'),\n",
        "  avg('Offset').alias('MeanOffset'),\n",
        "  avg('Decay').alias('MeanDecay'),\n",
        "  avg('Persistence').alias('MeanPersistence'),\n",
        "  avg('M305Kg').alias('MeanM305Kg'),\n",
        "  F.countDistinct('AnimalIdentifier').alias('NumberOfAnimal'),\n",
        "  F.count(F.lit(1)).alias('TotalWeight')\n",
        "  )"
      ],
      "execution_count": null,
      "outputs": []
    },
    {
      "cell_type": "code",
      "metadata": {
        "id": "cRDELPx0NdUr",
        "colab": {
          "base_uri": "https://localhost:8080/"
        },
        "outputId": "25f7e4d1-ccf8-4933-df52-b2d805db0e12"
      },
      "source": [
        "WeightedMean.show(10)"
      ],
      "execution_count": null,
      "outputs": [
        {
          "output_type": "stream",
          "text": [
            "+--------------+--------+-----------+------------------+------------------+--------------------+--------------------+------------------+-----------------+--------------+-----------+\n",
            "|HerdIdentifier|TestYear|ParityGroup|       MeanScaleKg|          MeanRamp|          MeanOffset|           MeanDecay|   MeanPersistence|       MeanM305Kg|NumberOfAnimal|TotalWeight|\n",
            "+--------------+--------+-----------+------------------+------------------+--------------------+--------------------+------------------+-----------------+--------------+-----------+\n",
            "|        762411|    2017|         2+|  44.1255412371134|23.196907216494854| -0.3257731958762887|0.002591030927835...|286.92783505154637|8799.090206185567|            75|        388|\n",
            "|         54011|    2017|         2+|45.814849785407745|21.687553648068672|-0.23004291845493563|0.002946459227467811|332.52789699570815|8810.010729613734|            87|        466|\n",
            "|        397152|    2016|          1| 36.81097315436241| 29.26812080536912|                -0.5|0.002258187919463...| 341.0704697986577|7609.392617449665|            48|        298|\n",
            "|        666027|    2013|         2+|  42.9137532808399|18.379527559055116|-0.22887139107611545|0.002773727034120...|278.43044619422574|8399.740157480315|            65|        381|\n",
            "|        951219|    2016|         2+|  45.5330508474576| 24.89287138584247| -0.3852442671984048|0.002999336539929759| 287.4710867397807|8567.580194300002|           372|       2006|\n",
            "|       1042880|    2007|          1| 36.58524193548388| 30.05927419354839|                -0.5|0.002157177419354...|357.68951612903226|7618.548387096775|            43|        248|\n",
            "|       1075617|    2011|          1| 39.87698228882835|29.977043596730248|                -0.5|0.002076655313351498|381.36989100817436|8451.442779291554|           319|       1468|\n",
            "|       1109826|    2012|         2+|46.577083333333334|19.631730769230774| -0.1897435897435897|0.003414006410256...| 227.2147435897436|8388.557692307691|            48|        312|\n",
            "|       1156211|    2014|         2+|49.049251170046816|21.485413416536677| -0.2614664586583464|0.003022402496099844|250.62792511700468|9291.573322932918|           223|       1282|\n",
            "|       1214304|    2012|         2+| 48.93504716981131|22.083962264150948|-0.35471698113207556| 0.00373938679245283| 201.0943396226415|8446.688679245282|            69|        424|\n",
            "+--------------+--------+-----------+------------------+------------------+--------------------+--------------------+------------------+-----------------+--------------+-----------+\n",
            "only showing top 10 rows\n",
            "\n"
          ],
          "name": "stdout"
        }
      ]
    },
    {
      "cell_type": "code",
      "metadata": {
        "id": "4SkK8nVqtEdU"
      },
      "source": [
        "WeightedMean.\\\n",
        "  repartition(1).\\\n",
        "  write.\\\n",
        "  parquet(path='/content/gdrive/Shared drives/Bovi-Analytics/Projects/ChenYongYan/Chapter2/Output/Parquet/WeightedMean',mode=\"overwrite\")"
      ],
      "execution_count": null,
      "outputs": []
    },
    {
      "cell_type": "markdown",
      "metadata": {
        "id": "BdBHg7JHo2EA"
      },
      "source": [
        "## weighted median"
      ]
    },
    {
      "cell_type": "code",
      "metadata": {
        "id": "QX0XWkMgLnuS"
      },
      "source": [
        "WeightedMedian=WeightedExplore.groupBy('HerdIdentifier','TestYear','ParityGroup').\\\n",
        "  agg(F.expr('percentile(ScaleKg, array(0.5))')[0].alias('MedianScaleKg'),\n",
        "  F.expr('percentile(Ramp,array(0.5))')[0].alias('MedianRamp'),\n",
        "  F.expr('percentile(Offset,array(0.5))')[0].alias('MedianOffset'),\n",
        "  F.expr('percentile(Decay,array(0.5))')[0].alias('MedianDecay'),\n",
        "  F.expr('percentile(Persistence,array(0.5))')[0].alias('MedianPersistence'),\n",
        "  F.expr('percentile(M305Kg,array(0.5))')[0].alias('MedianM305Kg'),\n",
        "  )"
      ],
      "execution_count": null,
      "outputs": []
    },
    {
      "cell_type": "code",
      "metadata": {
        "id": "RUR3uPeetLQp"
      },
      "source": [
        "WeightedMedian.\\\n",
        "  repartition(1).\\\n",
        "  write.\\\n",
        "  parquet(path='/content/gdrive/Shared drives/Bovi-Analytics/Projects/ChenYongYan/Chapter2/Output/Parquet/WeightedMedian',mode=\"overwrite\")"
      ],
      "execution_count": null,
      "outputs": []
    },
    {
      "cell_type": "code",
      "metadata": {
        "id": "S8xpQRSAkAt-"
      },
      "source": [
        "WeightedMedian= spark \\\n",
        "  .read \\\n",
        "  .parquet('/content/gdrive/Shared drives/Bovi-Analytics/Projects/ChenYongYan/Chapter2/Output/Parquet//WeightedMedian')"
      ],
      "execution_count": null,
      "outputs": []
    },
    {
      "cell_type": "code",
      "metadata": {
        "colab": {
          "base_uri": "https://localhost:8080/"
        },
        "id": "qdLYTDXdyOf7",
        "outputId": "33e311d7-2ee8-44c6-ba7a-010dee8545f9"
      },
      "source": [
        "WeightedMedian.show(3)"
      ],
      "execution_count": null,
      "outputs": [
        {
          "output_type": "stream",
          "text": [
            "+--------------+--------+-----------+-------------+----------+------------+-----------+-----------------+------------+\n",
            "|HerdIdentifier|TestYear|ParityGroup|MedianScaleKg|MedianRamp|MedianOffset|MedianDecay|MedianPersistence|MedianM305Kg|\n",
            "+--------------+--------+-----------+-------------+----------+------------+-----------+-----------------+------------+\n",
            "|          2089|    2012|          1|        35.27|      31.1|        -0.5|    0.00341|            203.0|      6267.0|\n",
            "|          6517|    2009|          1|        25.18|      29.8|        -0.5|    0.00132|            525.0|      5859.0|\n",
            "|         14574|    2009|          1|        41.71|      29.7|        -0.5|    0.00211|            328.0|      8886.0|\n",
            "+--------------+--------+-----------+-------------+----------+------------+-----------+-----------------+------------+\n",
            "only showing top 3 rows\n",
            "\n"
          ],
          "name": "stdout"
        }
      ]
    },
    {
      "cell_type": "code",
      "metadata": {
        "colab": {
          "base_uri": "https://localhost:8080/"
        },
        "id": "A33b-ercyZoS",
        "outputId": "da28b5d6-ae44-4cc9-8db3-4976b6fb6be8"
      },
      "source": [
        "WeightedMedian.count()"
      ],
      "execution_count": null,
      "outputs": [
        {
          "output_type": "execute_result",
          "data": {
            "text/plain": [
              "372752"
            ]
          },
          "metadata": {
            "tags": []
          },
          "execution_count": 29
        }
      ]
    },
    {
      "cell_type": "code",
      "metadata": {
        "id": "DyqGLA6ljyMD"
      },
      "source": [
        "WeightedMean= spark \\\n",
        "  .read \\\n",
        "  .parquet('/content/gdrive/Shared drives/Bovi-Analytics/Projects/ChenYongYan/Chapter2/Output/Parquet/WeightedMean')"
      ],
      "execution_count": null,
      "outputs": []
    },
    {
      "cell_type": "code",
      "metadata": {
        "colab": {
          "base_uri": "https://localhost:8080/"
        },
        "id": "IF-LCw_pyUxa",
        "outputId": "c83c0f6b-9991-40ff-877b-61081c921bb9"
      },
      "source": [
        "WeightedMean.show(3)"
      ],
      "execution_count": null,
      "outputs": [
        {
          "output_type": "stream",
          "text": [
            "+--------------+--------+-----------+------------------+------------------+--------------------+--------------------+------------------+-----------------+--------------+-----------+\n",
            "|HerdIdentifier|TestYear|ParityGroup|       MeanScaleKg|          MeanRamp|          MeanOffset|           MeanDecay|   MeanPersistence|       MeanM305Kg|NumberOfAnimal|TotalWeight|\n",
            "+--------------+--------+-----------+------------------+------------------+--------------------+--------------------+------------------+-----------------+--------------+-----------+\n",
            "|        762411|    2017|         2+|  44.1255412371134|23.196907216494854| -0.3257731958762887|0.002591030927835...|286.92783505154637|8799.090206185567|            75|        388|\n",
            "|         54011|    2017|         2+|45.814849785407745|21.687553648068672|-0.23004291845493563|0.002946459227467811|332.52789699570815|8810.010729613734|            87|        466|\n",
            "|        397152|    2016|          1| 36.81097315436241| 29.26812080536912|                -0.5|0.002258187919463...| 341.0704697986577|7609.392617449665|            48|        298|\n",
            "+--------------+--------+-----------+------------------+------------------+--------------------+--------------------+------------------+-----------------+--------------+-----------+\n",
            "only showing top 3 rows\n",
            "\n"
          ],
          "name": "stdout"
        }
      ]
    },
    {
      "cell_type": "code",
      "metadata": {
        "colab": {
          "base_uri": "https://localhost:8080/"
        },
        "id": "bz4zQrh5ydri",
        "outputId": "5fa29960-771d-4b84-e1f0-ceeca755f47d"
      },
      "source": [
        "WeightedMean.count()"
      ],
      "execution_count": null,
      "outputs": [
        {
          "output_type": "execute_result",
          "data": {
            "text/plain": [
              "372752"
            ]
          },
          "metadata": {
            "tags": []
          },
          "execution_count": 32
        }
      ]
    },
    {
      "cell_type": "code",
      "metadata": {
        "id": "kgJpTxVXyfzH"
      },
      "source": [
        "Weighted=WeightedMean.join(WeightedMedian,['HerdIdentifier','TestYear','ParityGroup'],'inner')"
      ],
      "execution_count": null,
      "outputs": []
    },
    {
      "cell_type": "code",
      "metadata": {
        "colab": {
          "base_uri": "https://localhost:8080/"
        },
        "id": "O6VnbqxQy15B",
        "outputId": "4d75a82c-2ebb-4a1e-cca6-eca4b628b5ed"
      },
      "source": [
        "Weighted.count()"
      ],
      "execution_count": null,
      "outputs": [
        {
          "output_type": "execute_result",
          "data": {
            "text/plain": [
              "372752"
            ]
          },
          "metadata": {
            "tags": []
          },
          "execution_count": 34
        }
      ]
    },
    {
      "cell_type": "code",
      "metadata": {
        "id": "OOhne_kSy7Fq"
      },
      "source": [
        "Weighted.\\\n",
        "  repartition(1).\\\n",
        "  write.\\\n",
        "  parquet(path='/content/gdrive/Shared drives/Bovi-Analytics/Projects/ChenYongYan/Chapter2/Output/Parquet/HerdWeighted',mode=\"overwrite\")"
      ],
      "execution_count": null,
      "outputs": []
    },
    {
      "cell_type": "code",
      "metadata": {
        "id": "TJ8Keb6Ju9C_"
      },
      "source": [
        "HerdWeighted= spark \\\n",
        "  .read \\\n",
        "  .parquet('/content/gdrive/Shared drives/Bovi-Analytics/Projects/ChenYongYan/Chapter2/Output/Parquet/HerdWeighted')"
      ],
      "execution_count": null,
      "outputs": []
    },
    {
      "cell_type": "code",
      "metadata": {
        "colab": {
          "base_uri": "https://localhost:8080/"
        },
        "id": "8utLaPNgvDby",
        "outputId": "c41456f1-2926-426c-ad62-4786cdc1be97"
      },
      "source": [
        "HerdWeighted.orderBy('HerdIdentifier','TestYear').show(3)"
      ],
      "execution_count": null,
      "outputs": [
        {
          "output_type": "stream",
          "text": [
            "+--------------+--------+-----------+------------------+------------------+-------------------+--------------------+------------------+-----------------+--------------+-----------+-------------+----------+------------+-----------+-----------------+------------+\n",
            "|HerdIdentifier|TestYear|ParityGroup|       MeanScaleKg|          MeanRamp|         MeanOffset|           MeanDecay|   MeanPersistence|       MeanM305Kg|NumberOfAnimal|TotalWeight|MedianScaleKg|MedianRamp|MedianOffset|MedianDecay|MedianPersistence|MedianM305Kg|\n",
            "+--------------+--------+-----------+------------------+------------------+-------------------+--------------------+------------------+-----------------+--------------+-----------+-------------+----------+------------+-----------+-----------------+------------+\n",
            "|           111|    2007|          1|30.183749999999993|29.911111111111115|               -0.5|0.001846249999999...|477.22222222222223|6651.569444444444|            22|         72|        30.63|      30.0|        -0.5|    0.00159|            436.0|      6339.0|\n",
            "|           111|    2007|         2+|41.153649635036494|23.019708029197083|-0.4145985401459854|0.002454963503649...| 308.5839416058394|8383.700729927008|            27|        137|        41.54|      22.4|        -0.8|    0.00254|            273.0|      8304.0|\n",
            "|           111|    2008|          1|29.719466666666673|29.587999999999997|               -0.5|0.001723866666666...|500.25333333333333|          6623.24|            19|         75|        30.68|      29.6|        -0.5|    0.00178|            390.0|      6534.0|\n",
            "+--------------+--------+-----------+------------------+------------------+-------------------+--------------------+------------------+-----------------+--------------+-----------+-------------+----------+------------+-----------+-----------------+------------+\n",
            "only showing top 3 rows\n",
            "\n"
          ],
          "name": "stdout"
        }
      ]
    },
    {
      "cell_type": "code",
      "metadata": {
        "colab": {
          "base_uri": "https://localhost:8080/"
        },
        "id": "JnITlDLnwOUM",
        "outputId": "09ee8917-1a8e-468a-9858-3886b8088e59"
      },
      "source": [
        "HerdWeighted.count()"
      ],
      "execution_count": null,
      "outputs": [
        {
          "output_type": "execute_result",
          "data": {
            "text/plain": [
              "372752"
            ]
          },
          "metadata": {
            "tags": []
          },
          "execution_count": 40
        }
      ]
    },
    {
      "cell_type": "code",
      "metadata": {
        "colab": {
          "base_uri": "https://localhost:8080/"
        },
        "id": "moygFCLXwinK",
        "outputId": "f38a819b-3381-4e21-f875-dec9f131d2c7"
      },
      "source": [
        "HerdWeighted.agg(F.countDistinct(\"HerdIdentifier\")).collect()"
      ],
      "execution_count": null,
      "outputs": [
        {
          "output_type": "execute_result",
          "data": {
            "text/plain": [
              "[Row(count(DISTINCT HerdIdentifier)=20597)]"
            ]
          },
          "metadata": {
            "tags": []
          },
          "execution_count": 43
        }
      ]
    },
    {
      "cell_type": "markdown",
      "metadata": {
        "id": "FdvwelC6xCvI"
      },
      "source": [
        "Now every herd has its own yearly herd lactation curve characteristics."
      ]
    },
    {
      "cell_type": "markdown",
      "metadata": {
        "id": "zEQsL1TZxoXI"
      },
      "source": [
        "# Combine economic data with herd laction curve characteristics"
      ]
    },
    {
      "cell_type": "code",
      "metadata": {
        "id": "2ghV9d02x0zd"
      },
      "source": [
        "GrossMarginWithUBN= spark. \\\n",
        "  read.\\\n",
        "  parquet('/content/gdrive/Shared drives/Bovi-Analytics/Projects/ChenYongYan/Chapter2/Output/Parquet/GrossMarginWithUBN/')"
      ],
      "execution_count": null,
      "outputs": []
    },
    {
      "cell_type": "code",
      "metadata": {
        "colab": {
          "base_uri": "https://localhost:8080/"
        },
        "id": "J9EYtqy0HMjB",
        "outputId": "00855124-ce8d-4b61-c069-01ca389b4265"
      },
      "source": [
        "GrossMarginWithUBN.filter(col('UBN')=='4136665').orderBy(F.desc('FiscalYear')).show(50)"
      ],
      "execution_count": null,
      "outputs": [
        {
          "output_type": "stream",
          "text": [
            "+--------+----------+-------------------+-------+\n",
            "|     KVK|FiscalYear|GrossMarginPer100Kg|    UBN|\n",
            "+--------+----------+-------------------+-------+\n",
            "|55169835|      2016|  8.550129097104552|4136665|\n",
            "|55169835|      2015|  12.23992645932281|4136665|\n",
            "|55169835|      2014|  23.93985856590347|4136665|\n",
            "|55169835|      2013| 26.600058840835544|4136665|\n",
            "|55169835|      2013|  32.46010013515556|4136665|\n",
            "|55169835|      2012| 27.140040974944178|4136665|\n",
            "|55169835|      2012| 22.780165582645523|4136665|\n",
            "|55169835|      2011| 25.630316036919076|4136665|\n",
            "|55169835|      2011|  29.32004605712306|4136665|\n",
            "|55169835|      2010| 23.589976549158767|4136665|\n",
            "|55169835|      2010| 27.170150685479037|4136665|\n",
            "|55169835|      2009| 15.620345296476382|4136665|\n",
            "|55169835|      2009| 21.120019291112413|4136665|\n",
            "|55169835|      2008|  28.67996737017495|4136665|\n",
            "|55169835|      2008|  25.00988798661668|4136665|\n",
            "|55169835|      2007| 26.789677675820716|4136665|\n",
            "|55169835|      2007| 27.349893864348527|4136665|\n",
            "|55169835|      2006| 22.389911670717897|4136665|\n",
            "|55169835|      2006| 21.150371278967015|4136665|\n",
            "|55169835|      2005| 20.909936631499026|4136665|\n",
            "|55169835|      2005| 23.779942161837724|4136665|\n",
            "|55169835|      2004|  18.92020945120224|4136665|\n",
            "|55169835|      2004| 20.049818094427657|4136665|\n",
            "+--------+----------+-------------------+-------+\n",
            "\n"
          ],
          "name": "stdout"
        }
      ]
    },
    {
      "cell_type": "code",
      "metadata": {
        "colab": {
          "base_uri": "https://localhost:8080/"
        },
        "id": "m5B2NqdMyBbx",
        "outputId": "4c273a89-3b49-498b-f9a6-a48e36cd7de6"
      },
      "source": [
        "GrossMarginWithUBN.show(2)"
      ],
      "execution_count": null,
      "outputs": [
        {
          "output_type": "stream",
          "text": [
            "+-------+----------+-------------------+----+\n",
            "|    KVK|FiscalYear|GrossMarginPer100Kg| UBN|\n",
            "+-------+----------+-------------------+----+\n",
            "|4186815|      2004|  24.26000337305146|null|\n",
            "|4186815|      2005| 24.109701187065085|null|\n",
            "+-------+----------+-------------------+----+\n",
            "only showing top 2 rows\n",
            "\n"
          ],
          "name": "stdout"
        }
      ]
    },
    {
      "cell_type": "code",
      "metadata": {
        "id": "SU8Rh-IMyGqk"
      },
      "source": [
        "HerdWeighted= spark \\\n",
        "  .read \\\n",
        "  .parquet('/content/gdrive/Shared drives/Bovi-Analytics/Projects/ChenYongYan/Chapter2/Output/Parquet/HerdWeighted')"
      ],
      "execution_count": null,
      "outputs": []
    },
    {
      "cell_type": "code",
      "metadata": {
        "colab": {
          "base_uri": "https://localhost:8080/"
        },
        "id": "QytxI8tPyGq8",
        "outputId": "c41456f1-2926-426c-ad62-4786cdc1be97"
      },
      "source": [
        "HerdWeighted.orderBy('HerdIdentifier','TestYear').show(3)"
      ],
      "execution_count": null,
      "outputs": [
        {
          "output_type": "stream",
          "text": [
            "+--------------+--------+-----------+------------------+------------------+-------------------+--------------------+------------------+-----------------+--------------+-----------+-------------+----------+------------+-----------+-----------------+------------+\n",
            "|HerdIdentifier|TestYear|ParityGroup|       MeanScaleKg|          MeanRamp|         MeanOffset|           MeanDecay|   MeanPersistence|       MeanM305Kg|NumberOfAnimal|TotalWeight|MedianScaleKg|MedianRamp|MedianOffset|MedianDecay|MedianPersistence|MedianM305Kg|\n",
            "+--------------+--------+-----------+------------------+------------------+-------------------+--------------------+------------------+-----------------+--------------+-----------+-------------+----------+------------+-----------+-----------------+------------+\n",
            "|           111|    2007|          1|30.183749999999993|29.911111111111115|               -0.5|0.001846249999999...|477.22222222222223|6651.569444444444|            22|         72|        30.63|      30.0|        -0.5|    0.00159|            436.0|      6339.0|\n",
            "|           111|    2007|         2+|41.153649635036494|23.019708029197083|-0.4145985401459854|0.002454963503649...| 308.5839416058394|8383.700729927008|            27|        137|        41.54|      22.4|        -0.8|    0.00254|            273.0|      8304.0|\n",
            "|           111|    2008|          1|29.719466666666673|29.587999999999997|               -0.5|0.001723866666666...|500.25333333333333|          6623.24|            19|         75|        30.68|      29.6|        -0.5|    0.00178|            390.0|      6534.0|\n",
            "+--------------+--------+-----------+------------------+------------------+-------------------+--------------------+------------------+-----------------+--------------+-----------+-------------+----------+------------+-----------+-----------------+------------+\n",
            "only showing top 3 rows\n",
            "\n"
          ],
          "name": "stdout"
        }
      ]
    },
    {
      "cell_type": "markdown",
      "metadata": {
        "id": "33W1X5XvyJJd"
      },
      "source": [
        "join"
      ]
    },
    {
      "cell_type": "code",
      "metadata": {
        "colab": {
          "base_uri": "https://localhost:8080/"
        },
        "id": "NypGtZID9XZN",
        "outputId": "52b4ee68-5616-4be4-8ca0-e15faccb27a7"
      },
      "source": [
        "GrossMarginWithUBN.printSchema()"
      ],
      "execution_count": null,
      "outputs": [
        {
          "output_type": "stream",
          "text": [
            "root\n",
            " |-- KVK: string (nullable = true)\n",
            " |-- FiscalYear: string (nullable = true)\n",
            " |-- GrossMarginPer100Kg: double (nullable = true)\n",
            " |-- ProceOwnProduct: string (nullable = true)\n",
            " |-- Organic: string (nullable = true)\n",
            " |-- ProductType: string (nullable = true)\n",
            " |-- Robot: string (nullable = true)\n",
            " |-- UBN: string (nullable = true)\n",
            "\n"
          ],
          "name": "stdout"
        }
      ]
    },
    {
      "cell_type": "code",
      "metadata": {
        "colab": {
          "base_uri": "https://localhost:8080/"
        },
        "id": "23aytHUh9att",
        "outputId": "b6738b32-6a66-426a-ff41-bac03871de17"
      },
      "source": [
        "HerdWeighted.printSchema()"
      ],
      "execution_count": null,
      "outputs": [
        {
          "output_type": "stream",
          "text": [
            "root\n",
            " |-- HerdIdentifier: integer (nullable = true)\n",
            " |-- TestYear: integer (nullable = true)\n",
            " |-- ParityGroup: string (nullable = true)\n",
            " |-- MeanScaleKg: double (nullable = true)\n",
            " |-- MeanRamp: double (nullable = true)\n",
            " |-- MeanOffset: double (nullable = true)\n",
            " |-- MeanDecay: double (nullable = true)\n",
            " |-- MeanPersistence: double (nullable = true)\n",
            " |-- MeanM305Kg: double (nullable = true)\n",
            " |-- NumberOfAnimal: long (nullable = true)\n",
            " |-- TotalWeight: long (nullable = true)\n",
            " |-- MedianScaleKg: double (nullable = true)\n",
            " |-- MedianRamp: double (nullable = true)\n",
            " |-- MedianOffset: double (nullable = true)\n",
            " |-- MedianDecay: double (nullable = true)\n",
            " |-- MedianPersistence: double (nullable = true)\n",
            " |-- MedianM305Kg: double (nullable = true)\n",
            "\n"
          ],
          "name": "stdout"
        }
      ]
    },
    {
      "cell_type": "markdown",
      "metadata": {
        "id": "t_R_znQO_d-V"
      },
      "source": [
        "UBN in GrossMarginWithUBN is string; \\\n",
        "HerdIdentifier in HerdWeighted is integer \\\n",
        "So I change them to the same type before join"
      ]
    },
    {
      "cell_type": "code",
      "metadata": {
        "id": "ecUfnRXW9fHO"
      },
      "source": [
        "GrossMarginWithUBN=GrossMarginWithUBN.withColumn('UBN',GrossMarginWithUBN['UBN'].cast(IntegerType()))"
      ],
      "execution_count": null,
      "outputs": []
    },
    {
      "cell_type": "code",
      "metadata": {
        "id": "jGptYKUIzTWY"
      },
      "source": [
        "condition=[HerdWeighted.HerdIdentifier == GrossMarginWithUBN.UBN, \\\n",
        " HerdWeighted.TestYear == GrossMarginWithUBN.FiscalYear]"
      ],
      "execution_count": null,
      "outputs": []
    },
    {
      "cell_type": "code",
      "metadata": {
        "id": "Fv33MXz_yInz"
      },
      "source": [
        "HerdWeightedWithGrossMargin=HerdWeighted.join(GrossMarginWithUBN, \\\n",
        "        condition, \\\n",
        "        'inner')"
      ],
      "execution_count": null,
      "outputs": []
    },
    {
      "cell_type": "code",
      "metadata": {
        "colab": {
          "base_uri": "https://localhost:8080/"
        },
        "id": "D8BjgWwY9FV9",
        "outputId": "fd358965-cbbe-4425-b21c-326a7a00f65b"
      },
      "source": [
        "HerdWeightedWithGrossMargin.show(2)"
      ],
      "execution_count": null,
      "outputs": [
        {
          "output_type": "stream",
          "text": [
            "+--------------+--------+-----------+-----------------+------------------+------------------+--------------------+-----------------+-----------------+--------------+-----------+-------------+----------+------------+-----------+-----------------+------------+-------+----------+-------------------+---------------+-------+-----------+-----+---+\n",
            "|HerdIdentifier|TestYear|ParityGroup|      MeanScaleKg|          MeanRamp|        MeanOffset|           MeanDecay|  MeanPersistence|       MeanM305Kg|NumberOfAnimal|TotalWeight|MedianScaleKg|MedianRamp|MedianOffset|MedianDecay|MedianPersistence|MedianM305Kg|    KVK|FiscalYear|GrossMarginPer100Kg|ProceOwnProduct|Organic|ProductType|Robot|UBN|\n",
            "+--------------+--------+-----------+-----------------+------------------+------------------+--------------------+-----------------+-----------------+--------------+-----------+-------------+----------+------------+-----------+-----------------+------------+-------+----------+-------------------+---------------+-------+-----------+-----+---+\n",
            "|           111|    2014|          1|           30.675|29.158823529411766|              -0.5|0.002067352941176...|360.9117647058824|6517.514705882353|            17|         68|        30.56|      29.3|        -0.5|    0.00213|            325.0|      6187.0|1221218|      2014| 24.389316490756194|           null|   null|     zuiver|    0|111|\n",
            "|           111|    2014|         2+|40.82291925465838|19.845962732919254|-0.293167701863354|0.002897267080745342|254.0496894409938|7880.180124223602|            30|        161|        40.47|      21.8|         0.0|     0.0028|            247.0|      7745.0|1221218|      2014| 24.389316490756194|           null|   null|     zuiver|    0|111|\n",
            "+--------------+--------+-----------+-----------------+------------------+------------------+--------------------+-----------------+-----------------+--------------+-----------+-------------+----------+------------+-----------+-----------------+------------+-------+----------+-------------------+---------------+-------+-----------+-----+---+\n",
            "only showing top 2 rows\n",
            "\n"
          ],
          "name": "stdout"
        }
      ]
    },
    {
      "cell_type": "code",
      "metadata": {
        "colab": {
          "base_uri": "https://localhost:8080/"
        },
        "id": "H51cEGgmy2cu",
        "outputId": "043e44c2-8fff-45c2-baef-771af4c0be87"
      },
      "source": [
        "HerdWeightedWithGrossMargin.show(2)"
      ],
      "execution_count": null,
      "outputs": [
        {
          "output_type": "stream",
          "text": [
            "+--------------+--------+-----------+------------------+------------------+------------------+--------------------+------------------+-----------------+--------------+-----------+-------------+----------+------------+-----------+-----------------+------------+--------+----------+-------------------+-------+\n",
            "|HerdIdentifier|TestYear|ParityGroup|       MeanScaleKg|          MeanRamp|        MeanOffset|           MeanDecay|   MeanPersistence|       MeanM305Kg|NumberOfAnimal|TotalWeight|MedianScaleKg|MedianRamp|MedianOffset|MedianDecay|MedianPersistence|MedianM305Kg|     KVK|FiscalYear|GrossMarginPer100Kg|    UBN|\n",
            "+--------------+--------+-----------+------------------+------------------+------------------+--------------------+------------------+-----------------+--------------+-----------+-------------+----------+------------+-----------+-----------------+------------+--------+----------+-------------------+-------+\n",
            "|       8414354|    2011|          1|28.069508196721316|29.764754098360655|              -0.5|0.001698688524590...|501.09016393442624|6261.795081967213|            29|        122|        27.58|      29.7|        -0.5|    0.00165|            420.5|      6316.0| 2219065|      2011|  29.48017838089245|8414354|\n",
            "|       1382540|    2013|         2+| 48.32963350785338|21.371727748691104|-0.280628272251309|0.003257521815008...|227.21465968586386|8816.516579406632|           107|        573|        47.47|      22.3|         0.0|    0.00321|            216.0|      8719.0|33023380|      2013| 32.380244404739415|1382540|\n",
            "+--------------+--------+-----------+------------------+------------------+------------------+--------------------+------------------+-----------------+--------------+-----------+-------------+----------+------------+-----------+-----------------+------------+--------+----------+-------------------+-------+\n",
            "only showing top 2 rows\n",
            "\n"
          ],
          "name": "stdout"
        }
      ]
    },
    {
      "cell_type": "code",
      "metadata": {
        "colab": {
          "base_uri": "https://localhost:8080/"
        },
        "id": "RmNhGxrNztfC",
        "outputId": "287fd697-c145-4197-d492-5ac78ab33c0f"
      },
      "source": [
        "HerdWeightedWithGrossMargin.count()"
      ],
      "execution_count": null,
      "outputs": [
        {
          "output_type": "execute_result",
          "data": {
            "text/plain": [
              "34910"
            ]
          },
          "metadata": {
            "tags": []
          },
          "execution_count": 61
        }
      ]
    },
    {
      "cell_type": "code",
      "metadata": {
        "colab": {
          "base_uri": "https://localhost:8080/"
        },
        "id": "cc0AWGSIzzey",
        "outputId": "d5a5c2fe-1b05-4cf8-b27f-b1a36d07f2e5"
      },
      "source": [
        "HerdWeightedWithGrossMargin.agg(F.countDistinct(\"HerdIdentifier\")).collect()"
      ],
      "execution_count": null,
      "outputs": [
        {
          "output_type": "execute_result",
          "data": {
            "text/plain": [
              "[Row(count(DISTINCT HerdIdentifier)=2208)]"
            ]
          },
          "metadata": {
            "tags": []
          },
          "execution_count": 60
        }
      ]
    },
    {
      "cell_type": "code",
      "metadata": {
        "colab": {
          "base_uri": "https://localhost:8080/"
        },
        "id": "aV_AxsQW30yb",
        "outputId": "7898bc28-2ff5-4414-82ff-0144424f73f5"
      },
      "source": [
        "HerdWeightedWithGrossMargin.filter(col('HerdIdentifier')=='4136665').orderBy(F.desc('TestYear')).show(50)"
      ],
      "execution_count": null,
      "outputs": [
        {
          "output_type": "stream",
          "text": [
            "+--------------+--------+-----------+------------------+------------------+--------------------+--------------------+------------------+------------------+--------------+-----------+------------------+----------+------------+-----------+-----------------+------------+--------+----------+-------------------+-------+\n",
            "|HerdIdentifier|TestYear|ParityGroup|       MeanScaleKg|          MeanRamp|          MeanOffset|           MeanDecay|   MeanPersistence|        MeanM305Kg|NumberOfAnimal|TotalWeight|     MedianScaleKg|MedianRamp|MedianOffset|MedianDecay|MedianPersistence|MedianM305Kg|     KVK|FiscalYear|GrossMarginPer100Kg|    UBN|\n",
            "+--------------+--------+-----------+------------------+------------------+--------------------+--------------------+------------------+------------------+--------------+-----------+------------------+----------+------------+-----------+-----------------+------------+--------+----------+-------------------+-------+\n",
            "|       4136665|    2016|         2+| 49.76336708860758| 21.79139240506329|-0.20658227848101265|0.002971316455696...| 259.6481012658228| 9427.101265822785|            63|        395|             50.42|      22.6|         0.0|    0.00296|            234.0|      9539.0|55169835|      2016|  8.550129097104552|4136665|\n",
            "|       4136665|    2016|          1|        35.4640625|         29.915625|                -0.5|          0.00211125|          360.9375|         7450.5625|            10|         32|            37.735|      30.0|        -0.5|    0.00213|            325.0|      7270.0|55169835|      2016|  8.550129097104552|4136665|\n",
            "|       4136665|    2015|         2+| 44.35103723404256|19.614893617021277| -0.2914893617021276|0.002698909574468085|294.98670212765956| 8749.215425531915|            62|        376|             45.12|      21.5|         0.0|    0.00281|            246.0|      8931.0|55169835|      2015|  12.23992645932281|4136665|\n",
            "|       4136665|    2015|          1|27.570727272727275|29.898181818181815|                -0.5|0.001376363636363...| 728.3090909090909| 6430.163636363636|            13|         55|             26.44|      30.0|        -0.5|     8.4E-4|            826.0|      6343.0|55169835|      2015|  12.23992645932281|4136665|\n",
            "|       4136665|    2014|          1|32.182475247524756|29.423762376237622|                -0.5|0.002604950495049...|401.48514851485146| 6288.019801980198|            22|        101|             31.97|      29.6|        -0.5|     0.0027|            256.0|      6325.0|55169835|      2014|  23.93985856590347|4136665|\n",
            "|       4136665|    2014|         2+|41.071284722222224|19.427777777777784| -0.2555555555555556|0.002827743055555...| 295.0486111111111| 8006.305555555556|            53|        288|             41.08|      22.0|         0.0|    0.00263|            263.5|      7952.0|55169835|      2014|  23.93985856590347|4136665|\n",
            "|       4136665|    2013|         2+| 42.50769230769232|            22.144|-0.24615384615384617|0.002655384615384615| 358.2676923076923| 8415.556923076923|            51|        325|             43.46|      22.2|         0.0|    0.00266|            261.0|      8518.0|55169835|      2013| 26.600058840835544|4136665|\n",
            "|       4136665|    2013|          1|           29.8954|            29.219|                -0.5|0.002173499999999...|            528.77|           6239.52|            22|        100|             31.44|      29.6|        -0.5|     0.0021|            330.0|      6316.0|55169835|      2013| 26.600058840835544|4136665|\n",
            "|       4136665|    2013|         2+| 42.50769230769232|            22.144|-0.24615384615384617|0.002655384615384615| 358.2676923076923| 8415.556923076923|            51|        325|             43.46|      22.2|         0.0|    0.00266|            261.0|      8518.0|55169835|      2013|  32.46010013515556|4136665|\n",
            "|       4136665|    2013|          1|           29.8954|            29.219|                -0.5|0.002173499999999...|            528.77|           6239.52|            22|        100|             31.44|      29.6|        -0.5|     0.0021|            330.0|      6316.0|55169835|      2013|  32.46010013515556|4136665|\n",
            "|       4136665|    2012|          1| 33.12012048192771|29.059036144578315|                -0.5|0.002310602409638554| 459.2289156626506| 6792.963855421687|            20|         83|             34.11|      29.5|        -0.5|    0.00222|            312.0|      6887.0|55169835|      2012| 27.140040974944178|4136665|\n",
            "|       4136665|    2012|         2+| 45.73275999999999| 24.85960000000001|             -0.2176|0.002839199999999999|           359.652|           8665.04|            45|        250|42.864999999999995|     22.65|         0.0|    0.00271|            255.5|      8825.0|55169835|      2012| 27.140040974944178|4136665|\n",
            "|       4136665|    2012|          1| 33.12012048192771|29.059036144578315|                -0.5|0.002310602409638554| 459.2289156626506| 6792.963855421687|            20|         83|             34.11|      29.5|        -0.5|    0.00222|            312.0|      6887.0|55169835|      2012| 22.780165582645523|4136665|\n",
            "|       4136665|    2012|         2+| 45.73275999999999| 24.85960000000001|             -0.2176|0.002839199999999999|           359.652|           8665.04|            45|        250|42.864999999999995|     22.65|         0.0|    0.00271|            255.5|      8825.0|55169835|      2012| 22.780165582645523|4136665|\n",
            "|       4136665|    2011|          1|31.283647058823536| 29.24235294117647|                -0.5|0.001670235294117...| 534.1647058823529|6994.1882352941175|            19|         85|             33.72|      29.4|        -0.5|    0.00169|            410.0|      7243.0|55169835|      2011|  29.32004605712306|4136665|\n",
            "|       4136665|    2011|         2+| 47.86506329113925|24.288185654008444|-0.16877637130801684|0.002968523206751...|269.42616033755274| 9043.848101265823|            44|        237|             49.45|      22.5|         0.0|    0.00279|            248.0|      9036.0|55169835|      2011|  29.32004605712306|4136665|\n",
            "|       4136665|    2011|         2+| 47.86506329113925|24.288185654008444|-0.16877637130801684|0.002968523206751...|269.42616033755274| 9043.848101265823|            44|        237|             49.45|      22.5|         0.0|    0.00279|            248.0|      9036.0|55169835|      2011| 25.630316036919076|4136665|\n",
            "|       4136665|    2011|          1|31.283647058823536| 29.24235294117647|                -0.5|0.001670235294117...| 534.1647058823529|6994.1882352941175|            19|         85|             33.72|      29.4|        -0.5|    0.00169|            410.0|      7243.0|55169835|      2011| 25.630316036919076|4136665|\n",
            "|       4136665|    2010|          1| 32.32356321839081| 29.03793103448276|                -0.5|0.001496436781609...|1295.5747126436781| 7375.103448275862|            18|         87|             34.11|      29.2|        -0.5|    0.00149|            464.0|      7383.0|55169835|      2010| 23.589976549158767|4136665|\n",
            "|       4136665|    2010|         2+| 45.12230769230769|16.615705128205125| -0.1282051282051282|0.002633632189882...| 317.5897435897436|  9120.83185550596|            49|        312|             45.17|      16.9|         0.0|   0.002535|            273.5|      9290.5|55169835|      2010| 27.170150685479037|4136665|\n",
            "|       4136665|    2010|          1| 32.32356321839081| 29.03793103448276|                -0.5|0.001496436781609...|1295.5747126436781| 7375.103448275862|            18|         87|             34.11|      29.2|        -0.5|    0.00149|            464.0|      7383.0|55169835|      2010| 27.170150685479037|4136665|\n",
            "|       4136665|    2010|         2+| 45.12230769230769|16.615705128205125| -0.1282051282051282|0.002633632189882...| 317.5897435897436|  9120.83185550596|            49|        312|             45.17|      16.9|         0.0|   0.002535|            273.5|      9290.5|55169835|      2010| 23.589976549158767|4136665|\n",
            "|       4136665|    2009|         2+| 46.47943708609271|19.075827814569543|-0.24370860927152316|0.002734569536423...|288.79470198675494| 9183.930463576158|            51|        302|             47.06|      21.3|         0.0|    0.00265|            261.0|      8884.0|55169835|      2009| 15.620345296476382|4136665|\n",
            "|       4136665|    2009|          1|         32.490625|29.656250000000004|                -0.5|0.001414583333333333| 884.0833333333334| 7506.041666666667|            13|         48|             34.11|      30.0|        -0.5|    0.00133|            520.0|      7866.0|55169835|      2009| 21.120019291112413|4136665|\n",
            "|       4136665|    2009|         2+| 46.47943708609271|19.075827814569543|-0.24370860927152316|0.002734569536423...|288.79470198675494| 9183.930463576158|            51|        302|             47.06|      21.3|         0.0|    0.00265|            261.0|      8884.0|55169835|      2009| 21.120019291112413|4136665|\n",
            "|       4136665|    2009|          1|         32.490625|29.656250000000004|                -0.5|0.001414583333333333| 884.0833333333334| 7506.041666666667|            13|         48|             34.11|      30.0|        -0.5|    0.00133|            520.0|      7866.0|55169835|      2009| 15.620345296476382|4136665|\n",
            "|       4136665|    2008|          1| 32.72126315789473|29.741052631578942|                -0.5|0.001493368421052...| 536.4315789473684|7527.2947368421055|            19|         95|             31.68|      29.8|        -0.5|    0.00143|            483.0|      7238.0|55169835|      2008|  28.67996737017495|4136665|\n",
            "|       4136665|    2008|          1| 32.72126315789473|29.741052631578942|                -0.5|0.001493368421052...| 536.4315789473684|7527.2947368421055|            19|         95|             31.68|      29.8|        -0.5|    0.00143|            483.0|      7238.0|55169835|      2008|  25.00988798661668|4136665|\n",
            "|       4136665|    2008|         2+|42.703545454545456| 19.56181818181818|-0.30787878787878786|0.002522151515151...| 313.1848484848485| 8700.484848484848|            60|        330|            43.685|      22.1|         0.0|    0.00235|            295.0|      8874.0|55169835|      2008|  28.67996737017495|4136665|\n",
            "|       4136665|    2008|         2+|42.703545454545456| 19.56181818181818|-0.30787878787878786|0.002522151515151...| 313.1848484848485| 8700.484848484848|            60|        330|            43.685|      22.1|         0.0|    0.00235|            295.0|      8874.0|55169835|      2008|  25.00988798661668|4136665|\n",
            "|       4136665|    2007|         2+| 43.00236559139785| 20.41505376344086| -0.3068100358422939|0.002811397849462...| 277.1182795698925| 8328.290322580646|            57|        279|             43.81|      22.5|         0.0|    0.00264|            263.0|      8735.0|55169835|      2007| 27.349893864348527|4136665|\n",
            "|       4136665|    2007|         2+| 43.00236559139785| 20.41505376344086| -0.3068100358422939|0.002811397849462...| 277.1182795698925| 8328.290322580646|            57|        279|             43.81|      22.5|         0.0|    0.00264|            263.0|      8735.0|55169835|      2007| 26.789677675820716|4136665|\n",
            "|       4136665|    2007|          1| 31.88736842105263|29.692105263157895|                -0.5|0.001660986842105263| 487.0921052631579| 7139.085526315789|            32|        152|             31.69|      30.0|        -0.5|    0.00158|            439.0|      7006.0|55169835|      2007| 27.349893864348527|4136665|\n",
            "|       4136665|    2007|          1| 31.88736842105263|29.692105263157895|                -0.5|0.001660986842105263| 487.0921052631579| 7139.085526315789|            32|        152|             31.69|      30.0|        -0.5|    0.00158|            439.0|      7006.0|55169835|      2007| 26.789677675820716|4136665|\n",
            "+--------------+--------+-----------+------------------+------------------+--------------------+--------------------+------------------+------------------+--------------+-----------+------------------+----------+------------+-----------+-----------------+------------+--------+----------+-------------------+-------+\n",
            "\n"
          ],
          "name": "stdout"
        }
      ]
    },
    {
      "cell_type": "code",
      "metadata": {
        "id": "Oa680m9p2DLf"
      },
      "source": [
        "a=HerdWeightedWithGrossMargin.groupBy('HerdIdentifier','TestYear').agg(F.count('*').alias('AccountingRecordPerYear'))"
      ],
      "execution_count": null,
      "outputs": []
    },
    {
      "cell_type": "code",
      "metadata": {
        "colab": {
          "base_uri": "https://localhost:8080/"
        },
        "id": "mSPusxip2iV6",
        "outputId": "d4619b84-5cd8-4f8b-c832-dcfd24ecddac"
      },
      "source": [
        "a.groupBy('AccountingRecordPerYear').agg(F.countDistinct(\"HerdIdentifier\").alias('NumberOfHerd')).orderBy(F.desc('AccountingRecordPerYear')).show()"
      ],
      "execution_count": null,
      "outputs": [
        {
          "output_type": "stream",
          "text": [
            "+-----------------------+------------+\n",
            "|AccountingRecordPerYear|NumberOfHerd|\n",
            "+-----------------------+------------+\n",
            "|                      4|           1|\n",
            "|                      2|        2205|\n",
            "|                      1|          27|\n",
            "+-----------------------+------------+\n",
            "\n"
          ],
          "name": "stdout"
        }
      ]
    },
    {
      "cell_type": "code",
      "metadata": {
        "colab": {
          "base_uri": "https://localhost:8080/"
        },
        "id": "TgfjRkkm3k2n",
        "outputId": "d43905e2-c193-434e-b8fe-067408d4652d"
      },
      "source": [
        "a.filter('AccountingRecordPerYear=4').show(20)"
      ],
      "execution_count": null,
      "outputs": [
        {
          "output_type": "stream",
          "text": [
            "+--------------+--------+-----------------------+\n",
            "|HerdIdentifier|TestYear|AccountingRecordPerYear|\n",
            "+--------------+--------+-----------------------+\n",
            "|       4136665|    2011|                      4|\n",
            "|       4136665|    2008|                      4|\n",
            "|       4136665|    2013|                      4|\n",
            "|       4136665|    2009|                      4|\n",
            "|       4136665|    2012|                      4|\n",
            "|       4136665|    2007|                      4|\n",
            "|       4136665|    2010|                      4|\n",
            "+--------------+--------+-----------------------+\n",
            "\n"
          ],
          "name": "stdout"
        }
      ]
    },
    {
      "cell_type": "code",
      "metadata": {
        "id": "jHumTLzD5uwO"
      },
      "source": [
        "from pyspark.sql import Window\n",
        "w=Window.partitionBy('HerdIdentifier','TestYear')"
      ],
      "execution_count": null,
      "outputs": []
    },
    {
      "cell_type": "code",
      "metadata": {
        "colab": {
          "base_uri": "https://localhost:8080/"
        },
        "id": "GV947fL45uwP",
        "outputId": "a59544bb-c9ec-4a0e-8f23-40f123d7ec42"
      },
      "source": [
        "HerdWeightedWithGrossMargin.withColumn('AccountingRecordPerYear',F.count('*').over(w)).orderBy(F.desc('AccountingRecordPerYear'),'HerdIdentifier','TestYear','ParityGroup').show()"
      ],
      "execution_count": null,
      "outputs": [
        {
          "output_type": "stream",
          "text": [
            "+--------------+--------+-----------+------------------+------------------+--------------------+--------------------+------------------+------------------+--------------+-----------+-------------+----------+------------+-----------+-----------------+------------+--------+----------+-------------------+-------+-----------------------+\n",
            "|HerdIdentifier|TestYear|ParityGroup|       MeanScaleKg|          MeanRamp|          MeanOffset|           MeanDecay|   MeanPersistence|        MeanM305Kg|NumberOfAnimal|TotalWeight|MedianScaleKg|MedianRamp|MedianOffset|MedianDecay|MedianPersistence|MedianM305Kg|     KVK|FiscalYear|GrossMarginPer100Kg|    UBN|AccountingRecordPerYear|\n",
            "+--------------+--------+-----------+------------------+------------------+--------------------+--------------------+------------------+------------------+--------------+-----------+-------------+----------+------------+-----------+-----------------+------------+--------+----------+-------------------+-------+-----------------------+\n",
            "|       4136665|    2007|          1| 31.88736842105263|29.692105263157895|                -0.5|0.001660986842105263| 487.0921052631579| 7139.085526315789|            32|        152|        31.69|      30.0|        -0.5|    0.00158|            439.0|      7006.0|55169835|      2007| 27.349893864348527|4136665|                      4|\n",
            "|       4136665|    2007|          1| 31.88736842105263|29.692105263157895|                -0.5|0.001660986842105263| 487.0921052631579| 7139.085526315789|            32|        152|        31.69|      30.0|        -0.5|    0.00158|            439.0|      7006.0|55169835|      2007| 26.789677675820716|4136665|                      4|\n",
            "|       4136665|    2007|         2+| 43.00236559139785| 20.41505376344086| -0.3068100358422939|0.002811397849462...| 277.1182795698925| 8328.290322580646|            57|        279|        43.81|      22.5|         0.0|    0.00264|            263.0|      8735.0|55169835|      2007| 26.789677675820716|4136665|                      4|\n",
            "|       4136665|    2007|         2+| 43.00236559139785| 20.41505376344086| -0.3068100358422939|0.002811397849462...| 277.1182795698925| 8328.290322580646|            57|        279|        43.81|      22.5|         0.0|    0.00264|            263.0|      8735.0|55169835|      2007| 27.349893864348527|4136665|                      4|\n",
            "|       4136665|    2008|          1| 32.72126315789473|29.741052631578942|                -0.5|0.001493368421052...| 536.4315789473684|7527.2947368421055|            19|         95|        31.68|      29.8|        -0.5|    0.00143|            483.0|      7238.0|55169835|      2008|  28.67996737017495|4136665|                      4|\n",
            "|       4136665|    2008|          1| 32.72126315789473|29.741052631578942|                -0.5|0.001493368421052...| 536.4315789473684|7527.2947368421055|            19|         95|        31.68|      29.8|        -0.5|    0.00143|            483.0|      7238.0|55169835|      2008|  25.00988798661668|4136665|                      4|\n",
            "|       4136665|    2008|         2+|42.703545454545456| 19.56181818181818|-0.30787878787878786|0.002522151515151...| 313.1848484848485| 8700.484848484848|            60|        330|       43.685|      22.1|         0.0|    0.00235|            295.0|      8874.0|55169835|      2008|  28.67996737017495|4136665|                      4|\n",
            "|       4136665|    2008|         2+|42.703545454545456| 19.56181818181818|-0.30787878787878786|0.002522151515151...| 313.1848484848485| 8700.484848484848|            60|        330|       43.685|      22.1|         0.0|    0.00235|            295.0|      8874.0|55169835|      2008|  25.00988798661668|4136665|                      4|\n",
            "|       4136665|    2009|          1|         32.490625|29.656250000000004|                -0.5|0.001414583333333333| 884.0833333333334| 7506.041666666667|            13|         48|        34.11|      30.0|        -0.5|    0.00133|            520.0|      7866.0|55169835|      2009| 15.620345296476382|4136665|                      4|\n",
            "|       4136665|    2009|          1|         32.490625|29.656250000000004|                -0.5|0.001414583333333333| 884.0833333333334| 7506.041666666667|            13|         48|        34.11|      30.0|        -0.5|    0.00133|            520.0|      7866.0|55169835|      2009| 21.120019291112413|4136665|                      4|\n",
            "|       4136665|    2009|         2+| 46.47943708609271|19.075827814569543|-0.24370860927152316|0.002734569536423...|288.79470198675494| 9183.930463576158|            51|        302|        47.06|      21.3|         0.0|    0.00265|            261.0|      8884.0|55169835|      2009| 15.620345296476382|4136665|                      4|\n",
            "|       4136665|    2009|         2+| 46.47943708609271|19.075827814569543|-0.24370860927152316|0.002734569536423...|288.79470198675494| 9183.930463576158|            51|        302|        47.06|      21.3|         0.0|    0.00265|            261.0|      8884.0|55169835|      2009| 21.120019291112413|4136665|                      4|\n",
            "|       4136665|    2010|          1| 32.32356321839081| 29.03793103448276|                -0.5|0.001496436781609...|1295.5747126436781| 7375.103448275862|            18|         87|        34.11|      29.2|        -0.5|    0.00149|            464.0|      7383.0|55169835|      2010| 23.589976549158767|4136665|                      4|\n",
            "|       4136665|    2010|          1| 32.32356321839081| 29.03793103448276|                -0.5|0.001496436781609...|1295.5747126436781| 7375.103448275862|            18|         87|        34.11|      29.2|        -0.5|    0.00149|            464.0|      7383.0|55169835|      2010| 27.170150685479037|4136665|                      4|\n",
            "|       4136665|    2010|         2+| 45.12230769230769|16.615705128205125| -0.1282051282051282|0.002633632189882...| 317.5897435897436|  9120.83185550596|            49|        312|        45.17|      16.9|         0.0|   0.002535|            273.5|      9290.5|55169835|      2010| 27.170150685479037|4136665|                      4|\n",
            "|       4136665|    2010|         2+| 45.12230769230769|16.615705128205125| -0.1282051282051282|0.002633632189882...| 317.5897435897436|  9120.83185550596|            49|        312|        45.17|      16.9|         0.0|   0.002535|            273.5|      9290.5|55169835|      2010| 23.589976549158767|4136665|                      4|\n",
            "|       4136665|    2011|          1|31.283647058823536| 29.24235294117647|                -0.5|0.001670235294117...| 534.1647058823529|6994.1882352941175|            19|         85|        33.72|      29.4|        -0.5|    0.00169|            410.0|      7243.0|55169835|      2011|  29.32004605712306|4136665|                      4|\n",
            "|       4136665|    2011|          1|31.283647058823536| 29.24235294117647|                -0.5|0.001670235294117...| 534.1647058823529|6994.1882352941175|            19|         85|        33.72|      29.4|        -0.5|    0.00169|            410.0|      7243.0|55169835|      2011| 25.630316036919076|4136665|                      4|\n",
            "|       4136665|    2011|         2+| 47.86506329113925|24.288185654008444|-0.16877637130801684|0.002968523206751...|269.42616033755274| 9043.848101265823|            44|        237|        49.45|      22.5|         0.0|    0.00279|            248.0|      9036.0|55169835|      2011|  29.32004605712306|4136665|                      4|\n",
            "|       4136665|    2011|         2+| 47.86506329113925|24.288185654008444|-0.16877637130801684|0.002968523206751...|269.42616033755274| 9043.848101265823|            44|        237|        49.45|      22.5|         0.0|    0.00279|            248.0|      9036.0|55169835|      2011| 25.630316036919076|4136665|                      4|\n",
            "+--------------+--------+-----------+------------------+------------------+--------------------+--------------------+------------------+------------------+--------------+-----------+-------------+----------+------------+-----------+-----------------+------------+--------+----------+-------------------+-------+-----------------------+\n",
            "only showing top 20 rows\n",
            "\n"
          ],
          "name": "stdout"
        }
      ]
    },
    {
      "cell_type": "code",
      "metadata": {
        "colab": {
          "base_uri": "https://localhost:8080/"
        },
        "id": "FMc8qZjC6Qy1",
        "outputId": "b77590c8-62c0-4a0a-98d8-e7cbbd7bf6b6"
      },
      "source": [
        "HerdWeightedWithGrossMargin.withColumn('AccountingRecordPerYear',F.count('*').over(w)).orderBy('AccountingRecordPerYear','HerdIdentifier','TestYear','ParityGroup').show()"
      ],
      "execution_count": null,
      "outputs": [
        {
          "output_type": "stream",
          "text": [
            "+--------------+--------+-----------+------------------+------------------+--------------------+--------------------+------------------+-----------------+--------------+-----------+-------------+----------+------------+--------------------+-----------------+------------+--------+----------+-------------------+-------+-----------------------+\n",
            "|HerdIdentifier|TestYear|ParityGroup|       MeanScaleKg|          MeanRamp|          MeanOffset|           MeanDecay|   MeanPersistence|       MeanM305Kg|NumberOfAnimal|TotalWeight|MedianScaleKg|MedianRamp|MedianOffset|         MedianDecay|MedianPersistence|MedianM305Kg|     KVK|FiscalYear|GrossMarginPer100Kg|    UBN|AccountingRecordPerYear|\n",
            "+--------------+--------+-----------+------------------+------------------+--------------------+--------------------+------------------+-----------------+--------------+-----------+-------------+----------+------------+--------------------+-----------------+------------+--------+----------+-------------------+-------+-----------------------+\n",
            "|       1172279|    2016|         2+|             48.85|              22.5|                -0.8|             0.00204|             340.0|          10563.0|             1|          1|        48.85|      22.5|        -0.8|             0.00204|            340.0|     10563.0|32094717|      2016|  16.69000141120324|1172279|                      1|\n",
            "|       1221450|    2015|         2+| 41.00187845303867| 28.33480662983425|-0.00441988950276...|0.003475027624309...| 228.0110497237569|7101.519337016574|            16|        181|        42.98|      29.6|         0.0|              0.0037|            187.0|      7292.0| 2519101|      2015| 30.530043628062767|1221450|                      1|\n",
            "|       1330286|    2014|          1|             35.19|              30.0|                -0.5|0.001429999999999...|             485.0|           8180.5|             2|          2|        35.19|      30.0|        -0.5|0.001429999999999...|            485.0|      8180.5|59784133|      2014| 22.870241767966668|1330286|                      1|\n",
            "|       1431202|    2010|         2+|             27.51|              22.5|                 0.0|             0.00387|             179.0|           4630.0|             1|          1|        27.51|      22.5|         0.0|             0.00387|            179.0|      4630.0|12063200|      2010|  25.73985797758259|1431202|                      1|\n",
            "|       1571863|    2011|         2+|             58.88|              22.5|                 0.0|             0.00291|             238.0|          11250.0|             1|          1|        58.88|      22.5|         0.0|             0.00291|            238.0|     11250.0|56255779|      2011| 31.469918448234253|1571863|                      1|\n",
            "|       1678670|    2012|          1|             27.87|              30.0|                -0.5|             0.00121|             574.0|           6695.0|             1|          1|        27.87|      30.0|        -0.5|             0.00121|            574.0|      6695.0|59549106|      2012| 28.010038871780814|1678670|                      1|\n",
            "|       1753212|    2008|         2+|            43.005|              22.5|                -0.8|0.002800000000000...|             253.0|           8397.5|             2|          2|       43.005|      22.5|        -0.8|0.002800000000000...|            253.0|      8397.5|50692245|      2008| 16.460029836193627|1753212|                      1|\n",
            "|       2026122|    2008|         2+|          37.39625|        26.2828125|              -0.025|0.003341328124999...|         281.59375|     6651.1953125|            13|        128|        39.42|      22.5|         0.0|             0.00306|            227.0|      6724.0| 9829908|      2008| 22.350433084365726|2026122|                      1|\n",
            "|       2026122|    2009|         2+| 36.38114035087719| 22.60701754385965|                 0.0| 0.00336719298245614|250.62280701754386|6529.122807017544|            11|        114|        36.16|      23.5|         0.0|            0.002885|            241.0|      6629.0| 9829908|      2009| 13.050351634064182|2026122|                      1|\n",
            "|       2304132|    2012|          1|             28.54|              30.3|                -0.5|              7.0E-5|            9926.0|           8161.0|             1|          2|        28.54|      30.3|        -0.5|              7.0E-5|           9926.0|      8161.0|57353070|      2012| 19.780116181617867|2304132|                      1|\n",
            "|       2644128|    2010|         2+|             61.05|              22.5|                 0.0|             0.00291|             238.0|          11677.0|             1|          1|        61.05|      22.5|         0.0|             0.00291|            238.0|     11677.0|62641411|      2010| 27.410393726056522|2644128|                      1|\n",
            "|       2655342|    2008|         2+|54.775516587677735|25.587582938388636| -0.1516587677725119|0.003355611374407...|227.59052132701422| 9833.49383886256|           127|       1055|        54.12|      23.4|         0.0|             0.00324|            214.0|      9801.0|56415502|      2008| 26.970042306232596|2655342|                      1|\n",
            "|       2941571|    2012|         2+|             66.87|              39.1|                 0.0|             0.00188|             368.0|          14262.0|             1|          1|        66.87|      39.1|         0.0|             0.00188|            368.0|     14262.0|31952287|      2012| 21.459788889956485|2941571|                      1|\n",
            "|       2941571|    2013|         2+|             66.87| 39.10000000000001|                 0.0|             0.00188|             368.0|          14262.0|             1|         12|        66.87|      39.1|         0.0|             0.00188|            368.0|     14262.0|31952287|      2013| 27.249874308697837|2941571|                      1|\n",
            "|       3641863|    2014|         2+|             43.31|              22.5|                 0.0|            0.003045|             228.0|           8140.5|             2|          2|        43.31|      22.5|         0.0|            0.003045|            228.0|      8140.5| 2992564|      2014|  32.90000782216068|3641863|                      1|\n",
            "|       3706117|    2016|          1|             33.01|              30.0|                -0.5|0.002686666666666...| 276.3333333333333|           6531.0|             2|          3|        29.51|      30.0|        -0.5|             0.00313|            222.0|      5393.0|52529447|      2016| 21.370173847990763|3706117|                      1|\n",
            "|       4346202|    2015|          1|             22.13|              30.0|                -0.5|             0.00222|             313.0|           4589.0|             1|          1|        22.13|      30.0|        -0.5|             0.00222|            313.0|      4589.0|52439325|      2015|  24.59009483233676|4346202|                      1|\n",
            "|       4621143|    2013|         2+|              46.1|              12.1|                 0.0|             0.00312|             222.0|           8777.0|             1|          2|         46.1|      12.1|         0.0|             0.00312|            222.0|      8777.0|60786326|      2013|  34.72035861102327|4621143|                      1|\n",
            "|       4621143|    2014|         2+|42.637777777777785|13.566666666666665|                 0.0|0.003112222222222223|222.66666666666666|8111.444444444444|             1|          9|         46.1|      12.1|         0.0|             0.00312|            222.0|      8777.0|60786326|      2014| 33.209605794398016|4621143|                      1|\n",
            "|       4633122|    2008|         2+|             47.91|              22.5|                 0.0|             0.00383|             181.0|           8109.0|             1|          1|        47.91|      22.5|         0.0|             0.00383|            181.0|      8109.0|51702743|      2008| 20.549880531520795|4633122|                      1|\n",
            "+--------------+--------+-----------+------------------+------------------+--------------------+--------------------+------------------+-----------------+--------------+-----------+-------------+----------+------------+--------------------+-----------------+------------+--------+----------+-------------------+-------+-----------------------+\n",
            "only showing top 20 rows\n",
            "\n"
          ],
          "name": "stdout"
        }
      ]
    },
    {
      "cell_type": "code",
      "metadata": {
        "colab": {
          "base_uri": "https://localhost:8080/"
        },
        "id": "1flF8vlc1q5y",
        "outputId": "1d02c62c-b839-44d3-8816-c2ea2c8cc9f3"
      },
      "source": [
        "GrossMarginWithUBN.agg(F.count('KVK'),F.countDistinct('KVK'),F.count('UBN'),F.countDistinct('UBN')).collect()"
      ],
      "execution_count": null,
      "outputs": [
        {
          "output_type": "execute_result",
          "data": {
            "text/plain": [
              "[Row(count(KVK)=32511, count(DISTINCT KVK)=2809, count(UBN)=25299, count(DISTINCT UBN)=2548)]"
            ]
          },
          "metadata": {
            "tags": []
          },
          "execution_count": 75
        }
      ]
    },
    {
      "cell_type": "code",
      "metadata": {
        "colab": {
          "base_uri": "https://localhost:8080/"
        },
        "id": "5qaAm1Ni1jnk",
        "outputId": "f38a819b-3381-4e21-f875-dec9f131d2c7"
      },
      "source": [
        "HerdWeighted.agg(F.countDistinct(\"HerdIdentifier\")).collect()"
      ],
      "execution_count": null,
      "outputs": [
        {
          "output_type": "execute_result",
          "data": {
            "text/plain": [
              "[Row(count(DISTINCT HerdIdentifier)=20597)]"
            ]
          },
          "metadata": {
            "tags": []
          },
          "execution_count": 43
        }
      ]
    },
    {
      "cell_type": "markdown",
      "metadata": {
        "id": "7T48KfU_6guJ"
      },
      "source": [
        "## one KVK have several UBN per year?"
      ]
    },
    {
      "cell_type": "code",
      "metadata": {
        "colab": {
          "base_uri": "https://localhost:8080/"
        },
        "id": "aNoD6VEy6rc9",
        "outputId": "85cd83d3-0cd7-4fa4-adcc-7b7b7797423e"
      },
      "source": [
        "w1=Window.partitionBy('KVK','TestYear')\n",
        "HerdWeightedWithGrossMargin.withColumn('LactationCurveRecordPerYear',F.count('*').over(w1)).orderBy(F.desc('LactationCurveRecordPerYear'),'KVK','TestYear','ParityGroup').show()"
      ],
      "execution_count": null,
      "outputs": [
        {
          "output_type": "stream",
          "text": [
            "+--------------+--------+-----------+------------------+------------------+--------------------+--------------------+------------------+-----------------+--------------+-----------+------------------+----------+------------+-----------+-----------------+-----------------+--------+----------+-------------------+-------+---------------------------+\n",
            "|HerdIdentifier|TestYear|ParityGroup|       MeanScaleKg|          MeanRamp|          MeanOffset|           MeanDecay|   MeanPersistence|       MeanM305Kg|NumberOfAnimal|TotalWeight|     MedianScaleKg|MedianRamp|MedianOffset|MedianDecay|MedianPersistence|     MedianM305Kg|     KVK|FiscalYear|GrossMarginPer100Kg|    UBN|LactationCurveRecordPerYear|\n",
            "+--------------+--------+-----------+------------------+------------------+--------------------+--------------------+------------------+-----------------+--------------+-----------+------------------+----------+------------+-----------+-----------------+-----------------+--------+----------+-------------------+-------+---------------------------+\n",
            "|       7079486|    2014|          1|30.348390804597695| 30.13908045977012|                -0.5|0.001492341306824...| 701.1005747126437|6958.498146255057|            93|        348|            29.555|      30.2|        -0.5|   0.001395|            497.0|           7060.0|30579261|      2014| 31.360005757451532|7079486|                         10|\n",
            "|       9993319|    2014|          1| 29.36421150278293|29.823933209647496|                -0.5|0.001498781861639...| 766.0166975881261|6756.351639358532|           115|        539|             28.92|      30.0|        -0.5|     0.0015|            461.0|           6660.0|30579261|      2014| 31.360005757451532|9993319|                         10|\n",
            "|       9374211|    2014|          1| 26.77280898876405|29.331086142322096|                -0.5|0.001828379728042...| 516.5093632958801|5883.269189184978|            50|        267|             25.73|      29.6|        -0.5|    0.00179|            386.0|           5804.0|30579261|      2014| 31.360005757451532|9374211|                         10|\n",
            "|       7346566|    2014|          1| 26.42290909090909| 30.08909090909091|                -0.5|0.001920794430794...| 512.3272727272728|5707.132781902521|            55|         55|             26.72|      30.0|        -0.5|    0.00224|            310.0|           5732.0|30579261|      2014| 31.360005757451532|7346566|                         10|\n",
            "|       8672138|    2014|          1|           24.5452|29.854117647058825|                -0.5|0.001131679067302...|1795.4588235294118| 5943.71114505259|           105|        425|             24.06|      30.0|        -0.5|     0.0011|            628.0|           5816.0|30579261|      2014| 31.360005757451532|8672138|                         10|\n",
            "|       7346566|    2014|         2+|35.157083333333325|23.879166666666674|-0.38333333333333347|0.002558147522522523| 370.7083333333333|7009.055046046972|            48|         48|36.775000000000006|      22.6|         0.0|   0.002915|            237.5|           7374.0|30579261|      2014| 31.360005757451532|7346566|                         10|\n",
            "|       9993319|    2014|         2+| 42.80827099505999| 23.14431898376852|-0.22808750882145376|0.002331989039145...|433.36485532815806|8804.546326917198|           217|       1417|             42.66|      22.5|         0.0|     0.0022|            315.0|           8729.0|30579261|      2014| 31.360005757451532|9993319|                         10|\n",
            "|       7079486|    2014|         2+| 43.09516879219803|23.375468867216807|-0.25086271567891977|0.002758280921581747| 318.5086271567892|8339.029599130172|           226|       1333|             42.59|      22.7|         0.0|    0.00271|            256.0|           8472.0|30579261|      2014| 31.360005757451532|7079486|                         10|\n",
            "|       9374211|    2014|         2+|36.203552361396305|23.781930184804928| -0.3581108829568789|0.002771047227926...| 338.3921971252567|7002.143737166324|            70|        487|             35.34|      22.5|         0.0|    0.00269|            258.0|           7137.0|30579261|      2014| 31.360005757451532|9374211|                         10|\n",
            "|       8672138|    2014|         2+| 37.40428205128207|19.311538461538472| -0.3179487179487178|0.002075216793716793| 656.5782051282051|8051.083645175501|           135|        780|             36.02|      21.8|         0.0|    0.00189|            366.0|           8066.0|30579261|      2014| 31.360005757451532|8672138|                         10|\n",
            "|       7079486|    2015|          1|30.205887096774195|30.143548387096768|                -0.5|0.001532764022086...| 594.4274193548387| 6888.53778957023|           159|        620|             30.29|      30.1|        -0.5|   0.001495|            463.5|           6977.0|30579261|      2015|  23.83999005043202|7079486|                         10|\n",
            "|       9993319|    2015|          1|28.016792452830185|29.868267581475124|                -0.5|0.001225079659419...| 1189.761578044597|6712.650303964861|           119|        583|             27.32|      30.1|        -0.5|    0.00114|            610.0|           6659.0|30579261|      2015|  23.83999005043202|9993319|                         10|\n",
            "|       8672138|    2015|          1|25.825411522633747|29.845679012345677|                -0.5|9.862416270490896E-4| 7940.197530864198|6386.004756632128|           102|        486|             24.91|      29.8|        -0.5|     7.7E-4|            895.0|           6455.0|30579261|      2015|  23.83999005043202|8672138|                         10|\n",
            "|       7346566|    2015|          1| 27.40821428571429| 29.89241071428572|                -0.5|0.002412164173101...|424.95535714285717| 5546.46615027301|            96|        224|             27.29|      30.0|        -0.5|    0.00237|            292.0|           5481.0|30579261|      2015|  23.83999005043202|7346566|                         10|\n",
            "|       9374211|    2015|          1|27.004069400630918|29.125236593059935|                -0.5|0.002498059226418...| 339.3501577287066|5423.708828029951|            57|        317|             25.96|      29.5|        -0.5|    0.00239|            290.0|           5375.0|30579261|      2015|  23.83999005043202|9374211|                         10|\n",
            "|       8672138|    2015|         2+| 38.14352592592592|19.914518518518513|-0.29985185185185187|0.001857512979646...| 793.3748148148148|8449.370489203082|           118|        675|              37.7|      21.6|         0.0|    0.00178|            389.0|           8253.0|30579261|      2015|  23.83999005043202|8672138|                         10|\n",
            "|       7079486|    2015|         2+|40.415526729559765|20.544182389937106|-0.23270440251572327|0.002506991897557935|336.30345911949684|8179.394512696026|           245|       1272|             40.33|      22.1|         0.0|    0.00244|            284.0|           8321.5|30579261|      2015|  23.83999005043202|7079486|                         10|\n",
            "|       9993319|    2015|         2+| 42.25384776536314|22.272765363128492|-0.23854748603351963|0.002230728207257...| 432.8854748603352|8834.310438153614|           237|       1432|             42.09|      22.4|         0.0|    0.00205|            338.0|8766.946617094301|30579261|      2015|  23.83999005043202|9993319|                         10|\n",
            "|       7346566|    2015|         2+|36.076363636363624|23.263636363636362| -0.5010101010101011|0.002942775502775502| 330.7323232323232| 6909.33752927488|            82|        198|            36.785|      22.6|        -0.8|    0.00291|            238.0| 7032.01201853912|30579261|      2015|  23.83999005043202|7346566|                         10|\n",
            "|       9374211|    2015|         2+|38.593500931098696|20.774860335195537|-0.32327746741154567|0.003207839851024207|247.50465549348232|7136.666666666667|            65|        537|             38.54|      22.5|         0.0|    0.00319|            217.0|           7224.0|30579261|      2015|  23.83999005043202|9374211|                         10|\n",
            "+--------------+--------+-----------+------------------+------------------+--------------------+--------------------+------------------+-----------------+--------------+-----------+------------------+----------+------------+-----------+-----------------+-----------------+--------+----------+-------------------+-------+---------------------------+\n",
            "only showing top 20 rows\n",
            "\n"
          ],
          "name": "stdout"
        }
      ]
    },
    {
      "cell_type": "code",
      "metadata": {
        "id": "UfLW_0mCAPeR"
      },
      "source": [
        "HerdWeightedWithGrossMargin=HerdWeightedWithGrossMargin.\\\n",
        "  withColumn('AccountingRecordPerYearPerUBN',F.count('*').over(w)).\\\n",
        "  withColumn('LactationCurveRecordPerYearPerKVK',F.count('*').over(w1))\n"
      ],
      "execution_count": null,
      "outputs": []
    },
    {
      "cell_type": "code",
      "metadata": {
        "id": "cM4RZRsuAlpe"
      },
      "source": [
        "HerdWeightedWithGrossMargin.\\\n",
        "  repartition(1).\\\n",
        "  write.\\\n",
        "  csv(path='/content/gdrive/Shared drives/Bovi-Analytics/Projects/ChenYongYan/Chapter2/Output/CSV/HerdWeightedWithGrossMargin/',mode=\"overwrite\",header=True)"
      ],
      "execution_count": null,
      "outputs": []
    }
  ]
}