{
 "cells": [
  {
   "cell_type": "markdown",
   "metadata": {},
   "source": [
    "# Lists\n",
    "- We already discussed the basics of lists in the previous notebook\n",
    "- A list is a variable that contains multiple items.\n",
    "- Each item has an index, revealing the location in the list\n",
    "    - **The index starts counting at 0**, so the first item has index 0 and the second item has index 1, etc etc.\n",
    "- A list is created between square brackets, the items are separated between commas."
   ]
  },
  {
   "cell_type": "code",
   "execution_count": 5,
   "metadata": {},
   "outputs": [
    {
     "name": "stdout",
     "output_type": "stream",
     "text": [
      "['actactacgat', 'actatgcatcgatc', 'actact', 10.5, 10.2, 10.87, 11.33, 9.89, 20, 22, 27, 81, 76, 69]\n",
      "['actactacgat', 'actatgcatcgatc', 'actact'] [10.5, 10.2, 10.87, 11.33, 9.89] [20, 22, 27, 81, 76, 69]\n"
     ]
    }
   ],
   "source": [
    "#Example lists\n",
    "dna_seqs = [\"actactacgat\", \"actatgcatcgatc\", \"actact\"]\n",
    "qPCR_values = [10.5, 10.2, 10.87, 11.33, 9.89]\n",
    "patient_ages = [20, 22, 27, 81, 76, 69]\n",
    "# use print to show the lists\n",
    "print(dna_seqs+qPCR_values+patient_ages)  #组合成一个list\n",
    "print(dna_seqs,qPCR_values,patient_ages)  #单纯展示出几个list"
   ]
  },
  {
   "cell_type": "code",
   "execution_count": 4,
   "metadata": {},
   "outputs": [
    {
     "name": "stdout",
     "output_type": "stream",
     "text": [
      "[5.4, 6.1, 7.4]\n"
     ]
    }
   ],
   "source": [
    "#Lists can also be a list of lists and can be created using different variables\n",
    "cell1 = 5.4\n",
    "cell2 = 6.1\n",
    "cell3 = 7.4\n",
    "\n",
    "cells = [cell1, cell2, cell3]   #creates a list containing the variables cell1, cell2 and cell3, thus the same as [5.4, 6.1, 7.4]\n",
    "print (cells)"
   ]
  },
  {
   "cell_type": "code",
   "execution_count": 9,
   "metadata": {},
   "outputs": [
    {
     "name": "stdout",
     "output_type": "stream",
     "text": [
      "[['actactacgat', 'actatgcatcgatc', 'actact'], [5.4, 6.1, 7.4]]\n",
      "['actactacgat', 'actatgcatcgatc', 'actact']\n",
      "[5.4, 6.1, 7.4]\n",
      "actactacgat\n"
     ]
    }
   ],
   "source": [
    "cells_seqs = [dna_seqs, cells]  #creates a list containing the list of DNA sequences and the list of cells.\n",
    "\n",
    "print (cells_seqs)\n",
    "print (cells_seqs[0])    #this is the item at index 0, thus the list dna_seqs  一个list作为一个item呈现\n",
    "print (cells_seqs[1])    #this is the item at index 1, thus the list cells\n",
    "print (cells_seqs[0][0])    #this is the item at index 0, thus the list dna_seqs  一个list作为一个item呈现,想看list中的item再加一个\n"
   ]
  },
  {
   "cell_type": "code",
   "execution_count": 10,
   "metadata": {},
   "outputs": [
    {
     "name": "stdout",
     "output_type": "stream",
     "text": [
      "[]\n"
     ]
    }
   ],
   "source": [
    "# Code to make an empty list\n",
    "my_list = [] # creates an empty list called my_list\n",
    "print (my_list)"
   ]
  },
  {
   "cell_type": "markdown",
   "metadata": {},
   "source": [
    "### Write your code to make lists: \n",
    "1. a new list called molecules containing elements: \"DNA\", \"RNA\", \"Protein\" and \"Lipid\"\n",
    "2. a new list called seqs containing 4 sequences\n",
    "3. a new list called mixed_list containing at least 1 string, 1 integer, and 1 boolean\n",
    "4. show/print what is in the created lists"
   ]
  },
  {
   "cell_type": "code",
   "execution_count": 13,
   "metadata": {},
   "outputs": [],
   "source": [
    "# Write your code to make lists here\n",
    "# 1. a new list called molecules containing elements: \"DNA\", \"RNA\", \"Protein\" and \"Lipid\"\n",
    "M=[\"DNA\",\"RNA\",\"P\",\"L\"];"
   ]
  },
  {
   "cell_type": "code",
   "execution_count": 14,
   "metadata": {},
   "outputs": [],
   "source": [
    "# 2. a new list called seqs containing 4 sequences\n",
    "seqs=[12,123,123,12]"
   ]
  },
  {
   "cell_type": "code",
   "execution_count": 15,
   "metadata": {},
   "outputs": [],
   "source": [
    "# 3. a new list called mixed_list containing at least 1 string, 1 integer, and 1 boolean\n",
    "mix=[\"ss\",1,True]"
   ]
  },
  {
   "cell_type": "code",
   "execution_count": 16,
   "metadata": {},
   "outputs": [
    {
     "name": "stdout",
     "output_type": "stream",
     "text": [
      "['DNA', 'RNA', 'P', 'L'] [12, 123, 123, 12] ['ss', 1, True]\n"
     ]
    }
   ],
   "source": [
    "# 4. show/print what is in the created lists\n",
    "print(M,seqs,mix)\n"
   ]
  },
  {
   "cell_type": "markdown",
   "metadata": {},
   "source": [
    "## Accessing Lists\n",
    "\n",
    "1. Using the lists that you have created, print what is stored at index 1 of the list ```molecules```\n",
    "2. Print the index of \"Protein\" in the list proteins using \n",
    "```python\n",
    "molecules.index(\"Protein\")\n",
    "```"
   ]
  },
  {
   "cell_type": "code",
   "execution_count": 18,
   "metadata": {},
   "outputs": [
    {
     "name": "stdout",
     "output_type": "stream",
     "text": [
      "RNA\n",
      "2\n"
     ]
    }
   ],
   "source": [
    "# 1. Using the lists that you have created, print what is stored at index 1 of the list molecules\n",
    "print(M[1])\n",
    "\n",
    "# 2. Print the index of \"Protein\" in the list proteins using \n",
    "print(M.index(\"P\"))"
   ]
  },
  {
   "cell_type": "markdown",
   "metadata": {},
   "source": [
    "# Lists – Exercise\n",
    "\n",
    "1. Create the following 3 string variables with their restriction sites:\n",
    "    * eco_r1  : gaattc\n",
    "    * bam_h1  : ggatcc\n",
    "    * hind3   : aagctt\n",
    "2. Make a list called **restriction_enzymes** containing the 3 restriction sites.\n",
    "\n",
    "3. Using a single command print the restriction sites in the list on 3 different lines.\n",
    "\n",
    "4. Print the first letter of **eco_r1** using the list."
   ]
  },
  {
   "cell_type": "code",
   "execution_count": 3,
   "metadata": {},
   "outputs": [],
   "source": [
    "# Q1, 3 string variables with their restriction sites:\n",
    "\n",
    "# hint: eco_r1 = ? \n",
    "\n",
    "# bam_h1 = ?\n",
    "\n",
    "# hind3 = ?\n",
    "eco_r1 = \"gaattc\"\n",
    "bam_h1 = \"ggatcc\"\n",
    "hind3 = \"aagctt\"\n"
   ]
  },
  {
   "cell_type": "code",
   "execution_count": 39,
   "metadata": {},
   "outputs": [],
   "source": [
    "# Q2, list called restriction_enzymes containing the 3 restriction sites \n",
    "# hint: restriction_enzymes = \n",
    "restriction_enzymes = [eco_r1,bam_h1,hind3]"
   ]
  },
  {
   "cell_type": "code",
   "execution_count": 20,
   "metadata": {},
   "outputs": [
    {
     "name": "stdout",
     "output_type": "stream",
     "text": [
      "EcoRI:  gaattc \n",
      "BamHI:  ggatcc \n",
      "HindIII:  aagctt\n"
     ]
    }
   ],
   "source": [
    "# Q3, single command print the restriction sites in the list on 3 different lines. \n",
    "# hint: print \"EcoRI: \", restriction_enzymes[?], ... \n",
    "print (\"EcoRI: \", restriction_enzymes[0], \"\\nBamHI: \", restriction_enzymes[1], \"\\nHindIII: \", restriction_enzymes[2])"
   ]
  },
  {
   "cell_type": "code",
   "execution_count": 23,
   "metadata": {},
   "outputs": [
    {
     "name": "stdout",
     "output_type": "stream",
     "text": [
      "g\n"
     ]
    }
   ],
   "source": [
    "# Q4, Print the first letter of eco_r1 using the list\n",
    "# hint: restriction_enzymes[?][?]\n",
    "print(restriction_enzymes[0][0])"
   ]
  },
  {
   "cell_type": "code",
   "execution_count": 31,
   "metadata": {},
   "outputs": [
    {
     "name": "stdout",
     "output_type": "stream",
     "text": [
      "['Gaattc ', 'ggatcc', 'aagctt']\n"
     ]
    }
   ],
   "source": [
    "# Bonus question: Change first letter of eco_r1 restriction site from g to G stored in the list 'restriction_enzymes'\n",
    "#restriction_enzymes[0][0]=restriction_enzymes[0][0].replace(\"g\",\"G\") #这样不行 不能对item中的一个字母进行变换，可以换这个item\n",
    "restriction_enzymes[0]=restriction_enzymes[0].replace(\"gaattc\",\"Gaattc\")\n",
    "##或者 restriction_enzymes[0] = restriction_enzymes[0].capitalize() \n",
    "\n",
    "print (restriction_enzymes)"
   ]
  },
  {
   "cell_type": "markdown",
   "metadata": {},
   "source": [
    "# Basic List operations\n",
    "\n",
    "- Lists can be modified just like strings\n",
    "- ```[\"l\", \"i\", \"p\"] + [\"i\", \"d\"]``` gives one list containing all 5 characters\n",
    "- ```len(dna_seqs)``` returns the amount of items in the list\n",
    "- ```max(dna_seqs)``` returns the largest item in the list\n",
    "- ```min(dna_seqs)``` returns the smallest item in the list\n",
    "- ```dna_seqs1==dna_seqs2``` compares two lists"
   ]
  },
  {
   "cell_type": "code",
   "execution_count": 1,
   "metadata": {},
   "outputs": [
    {
     "name": "stdout",
     "output_type": "stream",
     "text": [
      "[1, 2, 5, 3, 4, 6]\n"
     ]
    }
   ],
   "source": [
    "# Try some list operations\n",
    "my_list = [1, 2, 5] + [3, 4, 6] # creates a list called my_list by combining two lists (list [1,2,5] and list [3,4,6])\n",
    "print (my_list) # prints what is in list called my_list\n"
   ]
  },
  {
   "cell_type": "code",
   "execution_count": 2,
   "metadata": {},
   "outputs": [
    {
     "name": "stdout",
     "output_type": "stream",
     "text": [
      "['A', 'A', 'A', 'A']\n"
     ]
    }
   ],
   "source": [
    "print (['A']*4) # prints list ['A','A','A','A']\n"
   ]
  },
  {
   "cell_type": "code",
   "execution_count": 3,
   "metadata": {},
   "outputs": [
    {
     "ename": "NameError",
     "evalue": "name 'restriction_enzymes' is not defined",
     "output_type": "error",
     "traceback": [
      "\u001b[1;31m---------------------------------------------------------------------------\u001b[0m",
      "\u001b[1;31mNameError\u001b[0m                                 Traceback (most recent call last)",
      "\u001b[1;32m<ipython-input-3-5ce3a430dce5>\u001b[0m in \u001b[0;36m<module>\u001b[1;34m\u001b[0m\n\u001b[1;32m----> 1\u001b[1;33m \u001b[0mprint\u001b[0m \u001b[1;33m(\u001b[0m\u001b[0mlen\u001b[0m\u001b[1;33m(\u001b[0m\u001b[0mrestriction_enzymes\u001b[0m\u001b[1;33m)\u001b[0m\u001b[1;33m)\u001b[0m \u001b[1;31m# prints the number of variable/entries in list restriction_enzymes\u001b[0m\u001b[1;33m\u001b[0m\u001b[1;33m\u001b[0m\u001b[0m\n\u001b[0m",
      "\u001b[1;31mNameError\u001b[0m: name 'restriction_enzymes' is not defined"
     ]
    }
   ],
   "source": [
    "print (len(restriction_enzymes)) # prints the number of variable/entries in list restriction_enzymes\n"
   ]
  },
  {
   "cell_type": "code",
   "execution_count": 4,
   "metadata": {},
   "outputs": [
    {
     "name": "stdout",
     "output_type": "stream",
     "text": [
      "6\n",
      "1\n"
     ]
    }
   ],
   "source": [
    "print (max(my_list)) # prints the maximum value in list my_list\n",
    "print (min(my_list)) # prints the minimum values in list my_list"
   ]
  },
  {
   "cell_type": "code",
   "execution_count": 5,
   "metadata": {},
   "outputs": [
    {
     "name": "stdout",
     "output_type": "stream",
     "text": [
      "False\n",
      "False\n",
      "True\n"
     ]
    }
   ],
   "source": [
    "# compares two lists, returns True when the lists are the same, False when different\n",
    "print (([1,2,5]==[3,4,6])) \n",
    "print (([1,3,5]==[1,2,5])) \n",
    "print (([1,2,5]==[1,2,5])) \n"
   ]
  },
  {
   "cell_type": "markdown",
   "metadata": {},
   "source": [
    "## Basic List operations - Exercise\n",
    "1. Remember that we made a list of restriction enzymes as:\n",
    "*restriction_enzymes = [eco_r1, bam_h1, hind3]*. \n",
    "Create a new variable *my_enzyme = 'catgac’*\n",
    "\n",
    "2. Make a new list with **my_enzyme** added to the existing list of restriction enzymes. \n",
    "\n",
    "3. Make a new list containing 3 repetitions of *eco_r1*, 4 repetitions of *bam_h1*, and 2 repetitions of *hind3*.\n",
    "\n",
    "4. What is the length of the lists you just created?\n",
    "\n",
    "5. What is the maximum value of the list?\n",
    "\n",
    "6. What is the minimum value of the list? \n"
   ]
  },
  {
   "cell_type": "code",
   "execution_count": 8,
   "metadata": {},
   "outputs": [
    {
     "name": "stdout",
     "output_type": "stream",
     "text": [
      "None\n",
      "['gaattc', 'ggatcc', 'aagctt']\n",
      "['gaattc', 'ggatcc', 'aagctt', 'catgac']\n",
      "[['gaattc', 'ggatcc', 'aagctt', 'catgac']]\n"
     ]
    },
    {
     "ename": "TypeError",
     "evalue": "can only concatenate list (not \"str\") to list",
     "output_type": "error",
     "traceback": [
      "\u001b[1;31m---------------------------------------------------------------------------\u001b[0m",
      "\u001b[1;31mTypeError\u001b[0m                                 Traceback (most recent call last)",
      "\u001b[1;32m<ipython-input-8-bafaee6fbaf7>\u001b[0m in \u001b[0;36m<module>\u001b[1;34m\u001b[0m\n\u001b[0;32m     16\u001b[0m \u001b[0mb\u001b[0m\u001b[1;33m=\u001b[0m\u001b[1;33m[\u001b[0m\u001b[0mrestriction_enzymes\u001b[0m\u001b[1;33m+\u001b[0m\u001b[1;33m[\u001b[0m\u001b[0mmy_enzyme\u001b[0m\u001b[1;33m]\u001b[0m\u001b[1;33m]\u001b[0m\u001b[1;33m\u001b[0m\u001b[1;33m\u001b[0m\u001b[0m\n\u001b[0;32m     17\u001b[0m \u001b[0mprint\u001b[0m\u001b[1;33m(\u001b[0m\u001b[0mb\u001b[0m\u001b[1;33m)\u001b[0m\u001b[1;33m\u001b[0m\u001b[1;33m\u001b[0m\u001b[0m\n\u001b[1;32m---> 18\u001b[1;33m \u001b[0mc\u001b[0m\u001b[1;33m=\u001b[0m\u001b[1;33m[\u001b[0m\u001b[0mrestriction_enzymes\u001b[0m\u001b[1;33m+\u001b[0m\u001b[0mmy_enzyme\u001b[0m\u001b[1;33m]\u001b[0m\u001b[1;33m\u001b[0m\u001b[1;33m\u001b[0m\u001b[0m\n\u001b[0m\u001b[0;32m     19\u001b[0m \u001b[0mprint\u001b[0m\u001b[1;33m(\u001b[0m\u001b[0mc\u001b[0m\u001b[1;33m)\u001b[0m\u001b[1;33m\u001b[0m\u001b[1;33m\u001b[0m\u001b[0m\n",
      "\u001b[1;31mTypeError\u001b[0m: can only concatenate list (not \"str\") to list"
     ]
    }
   ],
   "source": [
    "# 1. and 2.\n",
    "# Create variable my_enzyme and concatenate it with restriction_enzyme list\n",
    "#my_enzyme = \"catgac\"\n",
    "#my_enzyme=[restriction_enzymes+\"catgac\"]\n",
    "#print(my_enzyme)\n",
    "\n",
    "v2=restriction_enzymes.append(my_enzyme)\n",
    "print(v2)\n",
    "\n",
    "#restriction_enzymes2=[restriction_enzymes+my_enzyme]\n",
    "restriction_enzymes = [eco_r1,bam_h1,hind3]\n",
    "#print(restriction_enzymes2)\n",
    "print(restriction_enzymes)\n",
    "a=restriction_enzymes+[my_enzyme]\n",
    "print(a)\n",
    "b=[restriction_enzymes+[my_enzyme]]\n",
    "print(b)\n",
    "c=[restriction_enzymes+my_enzyme]\n",
    "print(c)"
   ]
  },
  {
   "cell_type": "code",
   "execution_count": 15,
   "metadata": {},
   "outputs": [
    {
     "name": "stdout",
     "output_type": "stream",
     "text": [
      "gaattcgaattcgaattcggatccggatccggatccggatccaagcttaagctt\n",
      "['gaattc', 'gaattc', 'gaattc', 'ggatcc', 'ggatcc', 'ggatcc', 'ggatcc', 'aagctt', 'aagctt']\n",
      "['gaattcgaattcgaattc', 'ggatccggatccggatccggatcc', 'aagcttaagctt']\n"
     ]
    }
   ],
   "source": [
    "# 3. \n",
    "# Create list with repeated entries \n",
    "restriction_enzymes_r1=eco_r1*3+bam_h1*4+hind3*2\n",
    "restriction_enzymes_r2=[eco_r1]*3+[bam_h1]*4+[hind3]*2\n",
    "restriction_enzymes_r3=[eco_r1*3, bam_h1*4, hind3*2]\n",
    "print(restriction_enzymes_r1)\n",
    "print(restriction_enzymes_r2)\n",
    "print(restriction_enzymes_r3)"
   ]
  },
  {
   "cell_type": "code",
   "execution_count": 16,
   "metadata": {},
   "outputs": [
    {
     "name": "stdout",
     "output_type": "stream",
     "text": [
      "3\n",
      "ggatccggatccggatccggatcc\n",
      "aagcttaagctt\n"
     ]
    }
   ],
   "source": [
    "# 4. to 6. length, max and min\n",
    "print(len(restriction_enzymes_r3))\n",
    "print(max(restriction_enzymes_r3))\n",
    "print(min(restriction_enzymes_r3))"
   ]
  },
  {
   "cell_type": "markdown",
   "metadata": {},
   "source": [
    "# Looping Lists\n",
    "- As described in the previous notebook, we can loop trough each item in a list using\n",
    "```python\n",
    "dna_seqs = [\"agtcgtagctac\", \"agctagctaca\", \"cagtcgatcgat\", \"cgatcgatcag\"]\n",
    "for item in dna_seqs:\n",
    "    print (item)\n",
    "```\n",
    "- ```range(10)``` is a function that returns a list of 0 with in this case 10 items from 0,1,2,3,4,5,6,7,8,9\n",
    "- if we want to loop trough all the indices of the list we can combine ```len()``` and ```range()``` to get;\n",
    "```python\n",
    "dna_seqs = [\"agtcgtagctac\", \"agctagctaca\", \"cagtcgatcgat\", \"cgatcgatcag\"]\n",
    "for index in range(len(dna_seqs)):\n",
    "    print (index)\n",
    "```\n",
    "- If we want both the index and the value we can use ```enumerate()``` in the for loop\n",
    "```python\n",
    "dna_seqs = [\"agtcgtagctac\", \"agctagctaca\", \"cagtcgatcgat\", \"cgatcgatcag\"]\n",
    "for index, item in enumerate(dna_seqs):\n",
    "    print (index, item) \n",
    "```\n",
    "- You can try the results of the above examples in underlying code block\n"
   ]
  },
  {
   "cell_type": "code",
   "execution_count": 17,
   "metadata": {},
   "outputs": [
    {
     "name": "stdout",
     "output_type": "stream",
     "text": [
      "agtcgtagctac\n",
      "agctagctaca\n",
      "cagtcgatcgat\n",
      "cgatcgatcag\n"
     ]
    }
   ],
   "source": [
    "dna_seqs = [\"agtcgtagctac\", \"agctagctaca\", \"cagtcgatcgat\", \"cgatcgatcag\"]\n",
    "for item in dna_seqs:\n",
    "    print (item)"
   ]
  },
  {
   "cell_type": "code",
   "execution_count": 18,
   "metadata": {},
   "outputs": [
    {
     "name": "stdout",
     "output_type": "stream",
     "text": [
      "0\n",
      "1\n",
      "2\n",
      "3\n"
     ]
    }
   ],
   "source": [
    "dna_seqs = [\"agtcgtagctac\", \"agctagctaca\", \"cagtcgatcgat\", \"cgatcgatcag\"]\n",
    "for index in range(len(dna_seqs)):\n",
    "    print (index)"
   ]
  },
  {
   "cell_type": "code",
   "execution_count": 19,
   "metadata": {},
   "outputs": [
    {
     "name": "stdout",
     "output_type": "stream",
     "text": [
      "0 agtcgtagctac\n",
      "1 agctagctaca\n",
      "2 cagtcgatcgat\n",
      "3 cgatcgatcag\n"
     ]
    }
   ],
   "source": [
    "dna_seqs = [\"agtcgtagctac\", \"agctagctaca\", \"cagtcgatcgat\", \"cgatcgatcag\"]\n",
    "for index, item in enumerate(dna_seqs):\n",
    "    print (index, item)"
   ]
  },
  {
   "cell_type": "markdown",
   "metadata": {
    "collapsed": true
   },
   "source": [
    "# Looping Lists - Exercise (Assignment type)\n",
    "\n",
    "1. Calculate the number of nucleotides (A, T, G, and C) used by each restriction enzyme. \n",
    "\n",
    "2. Calculate the total number of nucleotides used by all restriction enzymes taken together.\n",
    "\n",
    "3. Use the list entry **seqs** given in the worksheet. How many DNA and RNA sequences are given in seqs? (Hint: try for loop, if elif conditions and string find command)\n",
    "\n",
    "4. Remember EcoRI cuts at restriction site 'gaattc'. Can you check how many sequences given in list seqs have EcoRI motif?\n",
    "\n",
    "    **Bonus Question**: Make a list containing ['A', 'AA', 'AAA', 'AAAA', ….., 20 A]."
   ]
  },
  {
   "cell_type": "code",
   "execution_count": 20,
   "metadata": {},
   "outputs": [],
   "source": [
    "# First try this\n",
    "my_list = [\"Python\",\"is\",\"great\"]"
   ]
  },
  {
   "cell_type": "code",
   "execution_count": 21,
   "metadata": {},
   "outputs": [
    {
     "name": "stdout",
     "output_type": "stream",
     "text": [
      "Python\n",
      "is\n",
      "great\n"
     ]
    }
   ],
   "source": [
    "for item in my_list: # starts a loop which executes code for each item (entry) in list called my_list\n",
    "    print (item) # prints what  is in temporary-loop-variable called item "
   ]
  },
  {
   "cell_type": "code",
   "execution_count": 28,
   "metadata": {},
   "outputs": [
    {
     "name": "stdout",
     "output_type": "stream",
     "text": [
      "[0, 1, 2, 3, 4, 5, 6, 7, 8, 9]\n"
     ]
    }
   ],
   "source": [
    "# range is a function that returns a list containing arithmetic progressions\n",
    "print (list(range(10))) # prints list [0, 1, 2, 3, 4, 5, 6, 7, 8, 9] as range\n"
   ]
  },
  {
   "cell_type": "code",
   "execution_count": 29,
   "metadata": {},
   "outputs": [
    {
     "name": "stdout",
     "output_type": "stream",
     "text": [
      "0\n",
      "1\n",
      "2\n",
      "3\n",
      "4\n",
      "5\n",
      "6\n",
      "7\n",
      "8\n",
      "9\n"
     ]
    }
   ],
   "source": [
    "# show what is in range(10)\n",
    "for entry in range(10):\n",
    "    print(entry)"
   ]
  },
  {
   "cell_type": "code",
   "execution_count": 33,
   "metadata": {},
   "outputs": [
    {
     "name": "stdout",
     "output_type": "stream",
     "text": [
      "0\n",
      "1\n",
      "2\n"
     ]
    }
   ],
   "source": [
    "# If we need only the index\n",
    "for index in range(len(my_list)): # starts a loop which executes code for each index (number) in the list created by\n",
    "    # range(len())\n",
    "    print (index) # prints what is in temporary-loop-variable called index\n"
   ]
  },
  {
   "cell_type": "code",
   "execution_count": 38,
   "metadata": {},
   "outputs": [
    {
     "name": "stdout",
     "output_type": "stream",
     "text": [
      "0 Python\n",
      "1 is\n",
      "2 great\n"
     ]
    }
   ],
   "source": [
    "# If we need both the index and the item\n",
    "for index, item in enumerate(my_list): # starts a loop which executes coed for each combination of index and item en enumerate(my_list)\n",
    "    print (index, item)   # prints what is in temporary-loop-variables index and item\n",
    "    "
   ]
  },
  {
   "cell_type": "code",
   "execution_count": 63,
   "metadata": {},
   "outputs": [
    {
     "name": "stdout",
     "output_type": "stream",
     "text": [
      "Enzymes 1 \n",
      " A: 2 \t T: 2 \t C: 1 \t G: 1\n",
      "Enzymes 2 \n",
      " A: 1 \t T: 1 \t C: 2 \t G: 2\n",
      "Enzymes 3 \n",
      " A: 2 \t T: 2 \t C: 1 \t G: 1\n"
     ]
    }
   ],
   "source": [
    "# Q1\n",
    "# Calculate number of nucleotides using a for loop\n",
    "restriction_enzymes = [eco_r1.upper(),bam_h1.upper(),hind3.upper()]  \n",
    "\n",
    "# for ? in ?:\n",
    "i=0\n",
    "for a in restriction_enzymes:\n",
    "    i+=1\n",
    "    A=a.count('A')\n",
    "    T=a.count('T')\n",
    "    C=a.count('C')\n",
    "    G=a.count('G')\n",
    "    print(\"Enzymes\",i,\"\\n\",\"A:\",A,\"\\t\",\"T:\",T,\"\\t\",\"C:\",C,\"\\t\",\"G:\",G)\n",
    "   \n",
    " \n",
    " "
   ]
  },
  {
   "cell_type": "code",
   "execution_count": 8,
   "metadata": {},
   "outputs": [
    {
     "name": "stdout",
     "output_type": "stream",
     "text": [
      "A: 5 \t T: 5 \t C: 4 \t G: 4\n",
      "GAATTCGGATCCAAGCTT\n",
      "5\n",
      " The total number of nucleotides used by all restriction enzymes are as follow: /n A: 5\n"
     ]
    }
   ],
   "source": [
    "# Q2\n",
    "# Calculate number of nucleotides using a for loop\n",
    "#第一种方法\n",
    "restriction_enzymes1 = eco_r1.upper()+bam_h1.upper()+hind3.upper()\n",
    "A=restriction_enzymes1.count('A')\n",
    "T=restriction_enzymes1.count('T')\n",
    "C=restriction_enzymes1.count('C')\n",
    "G=restriction_enzymes1.count('G')\n",
    "print(\"A:\",A,\"\\t\",\"T:\",T,\"\\t\",\"C:\",C,\"\\t\",\"G:\",G)\n",
    "print(restriction_enzymes1)\n",
    "print(A)\n",
    "\n",
    "#第二种方法\n",
    "restriction_enzymes = [eco_r1.upper(),bam_h1.upper(),hind3.upper()]  \n",
    "A=0\n",
    "for a in restriction_enzymes:\n",
    "    A=A+a.count('A')\n",
    "    \n",
    "print(\" The total number of nucleotides used by all restriction enzymes are as follow:\",\"/n\",\"A:\",A)\n",
    "  \n",
    "\n"
   ]
  },
  {
   "cell_type": "code",
   "execution_count": 14,
   "metadata": {},
   "outputs": [
    {
     "name": "stdout",
     "output_type": "stream",
     "text": [
      " There are 11 DNA and 9 RNA in the seqs.\n"
     ]
    }
   ],
   "source": [
    "# Q3\n",
    "# Hint: try a for loop, if elif conditions and string find command\n",
    "seqs = ['actgactgactgaattcgactg','caucgaucgcgauacacgaucagcuacg','augcagacgacguacgu','atcgatcgatcgatcacgt','atcgtagctactagctagc','acgatcgtagctacgta','cgaucagucgaucgauccagcga','cguacguagcacaugcagucaguauacguacggacgacgac','catgactgactgatcgatgctgactgactg','atcggatctgaactgactg','actgactgactgactg','caucgaucgcgauacacgaucagcuacg','augcagacgacguacgu','atcgatcgaattcgatcgatcacgt','atcgtagctactagctagc','acgatcgaattcgtagctacgta','cgaucagucgaucgauccagcga','cguacguagcacaugcagucaguauacguacggacgacgac','catgactgactgatcgatgaattcgctgactgactg','aucggauccgaaccgacag']\n",
    "DNA=0\n",
    "RNA=0\n",
    "for a in seqs:\n",
    "    if a.count('u')==0:\n",
    "        DNA+=1\n",
    "    else:\n",
    "        RNA+=1\n",
    "print(\" There are\",DNA,\"DNA and\",RNA,\"RNA in the seqs.\")"
   ]
  },
  {
   "cell_type": "code",
   "execution_count": 24,
   "metadata": {},
   "outputs": [
    {
     "name": "stdout",
     "output_type": "stream",
     "text": [
      "actgactgactgaattcgactg\n",
      "atcgatcgaattcgatcgatcacgt\n",
      "acgatcgaattcgtagctacgta\n",
      "catgactgactgatcgatgaattcgctgactgactg\n",
      " There are 4 sequences given in list seqs have EcoRI motif.\n"
     ]
    }
   ],
   "source": [
    "# Q4\n",
    "seqs = ['actgactgactgaattcgactg','caucgaucgcgauacacgaucagcuacg','augcagacgacguacgu','atcgatcgatcgatcacgt','atcgtagctactagctagc','acgatcgtagctacgta','cgaucagucgaucgauccagcga','cguacguagcacaugcagucaguauacguacggacgacgac','catgactgactgatcgatgctgactgactg','atcggatctgaactgactg','actgactgactgactg','caucgaucgcgauacacgaucagcuacg','augcagacgacguacgu','atcgatcgaattcgatcgatcacgt','atcgtagctactagctagc','acgatcgaattcgtagctacgta','cgaucagucgaucgauccagcga','cguacguagcacaugcagucaguauacguacggacgacgac','catgactgactgatcgatgaattcgctgactgactg','aucggauccgaaccgacag']\n",
    "i=0\n",
    "for a in seqs:\n",
    "    if a.count('gaattc')>0:\n",
    "        i=i+1\n",
    "        print(a)\n",
    "print(\" There are\",i,\"sequences given in list seqs have EcoRI motif.\")"
   ]
  },
  {
   "cell_type": "code",
   "execution_count": 1,
   "metadata": {},
   "outputs": [
    {
     "name": "stdout",
     "output_type": "stream",
     "text": [
      "['A', 'AA', 'AAA', 'AAAA', 'AAAAA', 'AAAAAA', 'AAAAAAA', 'AAAAAAAA', 'AAAAAAAAA', 'AAAAAAAAAA', 'AAAAAAAAAAA', 'AAAAAAAAAAAA', 'AAAAAAAAAAAAA', 'AAAAAAAAAAAAAA', 'AAAAAAAAAAAAAAA', 'AAAAAAAAAAAAAAAA', 'AAAAAAAAAAAAAAAAA', 'AAAAAAAAAAAAAAAAAA', 'AAAAAAAAAAAAAAAAAAA', 'AAAAAAAAAAAAAAAAAAAA']\n"
     ]
    }
   ],
   "source": [
    "# Bonus Question: Make a list containing ['A', 'AA', 'AAA', 'AAAA', ….., 20 A].\n",
    "# Hint: try a for loop and append list\n",
    "A_list=[]\n",
    "for i in range(20):\n",
    "    A_list.append(\"A\"*(i+1))\n",
    "print(A_list)"
   ]
  },
  {
   "cell_type": "code",
   "execution_count": null,
   "metadata": {},
   "outputs": [],
   "source": [
    "# Extra 1\n",
    "# Sort a list of integers in ascending order\n",
    "# Hint: Use a for-loop within a for-loop, combined with an if-command\n"
   ]
  },
  {
   "cell_type": "code",
   "execution_count": null,
   "metadata": {},
   "outputs": [],
   "source": [
    "# Extra 2\n",
    "# Take 20 integer inputs from user and print the following:\n",
    "# number of positive numbers\n",
    "# number of negative numbers\n",
    "# number of odd numbers\n",
    "# number of even numbers\n",
    "# number of 0s\n"
   ]
  },
  {
   "cell_type": "markdown",
   "metadata": {
    "collapsed": true
   },
   "source": [
    "## Modifying Lists\n",
    "1. Take list **dna_seqs** and add 3 random DNA/RNA sequences at the end of the list\n",
    "\n",
    "2. Take list **dna_seqs** and add 'atcg' as the third sequence of the list\n",
    " - You can use ```list.insert(index, value)```\n",
    " - Remember python starts counting at index 0\n",
    "\n",
    "3. Create a new sorted variable **seq_sort** from **dna_seqs**\n",
    " - You can use ```list.sort()``` which returns a sorted list"
   ]
  },
  {
   "cell_type": "code",
   "execution_count": null,
   "metadata": {},
   "outputs": [],
   "source": [
    "# 1.\n",
    "# Use list functions\n"
   ]
  },
  {
   "cell_type": "code",
   "execution_count": null,
   "metadata": {},
   "outputs": [],
   "source": [
    "# 2.\n"
   ]
  },
  {
   "cell_type": "code",
   "execution_count": null,
   "metadata": {},
   "outputs": [],
   "source": [
    "# 3.\n"
   ]
  },
  {
   "cell_type": "markdown",
   "metadata": {},
   "source": [
    "### Modifying Lists\n",
    "\n",
    "1. Remove 'atcg' sequence of the list **seqs**\n",
    " - You can use ```list.remove(value)``` to remove a value from a list\n",
    "2. Print 5th to 10th sequence entry from the lists **seqs** and **seq_sort**"
   ]
  },
  {
   "cell_type": "code",
   "execution_count": null,
   "metadata": {},
   "outputs": [],
   "source": [
    "# 1.\n",
    "# Use list functions\n"
   ]
  },
  {
   "cell_type": "code",
   "execution_count": null,
   "metadata": {},
   "outputs": [],
   "source": [
    "# 2.\n"
   ]
  },
  {
   "cell_type": "markdown",
   "metadata": {},
   "source": [
    "### Converting Strings to Lists and Lists to Strings \n",
    "\n",
    "Two essential command of list conversion are:\n",
    "- Create a list from a string: ```\"the mitochondrion is the powerhouse of the cell\".split(' ')``` results in a list containing an item of each word. We splitted the sentences with the <i>separator</i> ```' '```.\n",
    "- Create a string from lists: ```' '.join(dna_seqs)```. This adds all the items of the list together, joined by the seperator ```' '```\n"
   ]
  },
  {
   "cell_type": "code",
   "execution_count": null,
   "metadata": {},
   "outputs": [],
   "source": [
    "\"the mitochondrion is the powerhouse of the cell\".split(' ')"
   ]
  },
  {
   "cell_type": "code",
   "execution_count": null,
   "metadata": {},
   "outputs": [],
   "source": [
    "' '.join(dna_seqs)"
   ]
  },
  {
   "cell_type": "code",
   "execution_count": null,
   "metadata": {},
   "outputs": [],
   "source": [
    "# Try split and join command\n",
    "amino = 'Ala Cys Phe Val Glu'.split(' ')  # splits the string by ' ' (whitespace) an puts it as a list in amino\n",
    "print (amino) # print what is in the list called amino\n",
    "print (' '.join(amino)) # print the what is in list amino after combining it by .join"
   ]
  },
  {
   "cell_type": "markdown",
   "metadata": {},
   "source": [
    "### Converting string to Lists - Exercise\n",
    "\n",
    "1. Create a list by splitting *'atgcatgcatgc'* sequence using ```'t'```as the separator.\n",
    "2. Join this list together with seperator ```'u'```"
   ]
  },
  {
   "cell_type": "code",
   "execution_count": null,
   "metadata": {},
   "outputs": [],
   "source": [
    "# 1."
   ]
  },
  {
   "cell_type": "code",
   "execution_count": null,
   "metadata": {},
   "outputs": [],
   "source": [
    "# 2."
   ]
  },
  {
   "cell_type": "markdown",
   "metadata": {},
   "source": [
    "# Extra Tuples\n",
    "\n",
    "#### Tuples are Python sequences (like lists) but unlike lists they are immutable. Tuples use parentheses and lists use square brackets.\n",
    "\n",
    "tup1 = ('physics', 'chemistry', 1997, 2000)\n",
    "\n",
    "tup2 = (1, 2, 3, 4, 5 )\n",
    "\n",
    "tup3 = ('a', 'b', 'c', 'd')\n",
    "\n",
    "#### Accessing tuples:\n",
    "\n",
    "print \"tup1[0]: \", tup1[0]\n",
    "\n",
    "print \"tup2[1:5]: \", tup2[1:5]\n",
    "\n",
    "#### Try to assign tuples:\n",
    "\n",
    "tup1[2] = 2015\n",
    "\n",
    "tup4 = tup2 + tup3"
   ]
  },
  {
   "cell_type": "code",
   "execution_count": null,
   "metadata": {},
   "outputs": [],
   "source": [
    "# Make tuples with different items\n",
    "\n",
    "# Access different elements from tuples\n",
    "\n",
    "# Assign different values to tuples\n",
    "#tup1[2] = 2015 # This will throw an exception. Why?\n"
   ]
  },
  {
   "cell_type": "markdown",
   "metadata": {},
   "source": [
    "## Tuples Exercise\n",
    "\n",
    "Suppose you want to find distance between Carbon\n",
    "atoms in a protein sequence.\n",
    "\n",
    "Assign 4 tuples each containing the 3D co-ordinates:\n",
    "\n",
    "\n",
    "||X|Y|Z|\n",
    "|---|---|---|---|\n",
    "|C29|0.55|1.256|-1.153|\n",
    "|C103|1.28|-1.72|1.24|\n",
    "|C115|1.59|1.73|1.04|\n",
    "|C118|1.36|-1.86|-1.74|\n",
    "\n",
    "Calculate square distance between different carbon atoms. Hint use: (x1-x2)^2+(y1-y2)^2+(z1-z2)^2\n"
   ]
  },
  {
   "cell_type": "code",
   "execution_count": null,
   "metadata": {},
   "outputs": [],
   "source": [
    "# Hint: make a list\n",
    "# Each element of the list can contain a tuples with coordinates of a carbon atom\n",
    "\n",
    "# use two for loops to calculate distance between their X, Y and Z\n"
   ]
  },
  {
   "cell_type": "code",
   "execution_count": null,
   "metadata": {},
   "outputs": [],
   "source": []
  }
 ],
 "metadata": {
  "kernelspec": {
   "display_name": "Python 3",
   "language": "python",
   "name": "python3"
  },
  "language_info": {
   "codemirror_mode": {
    "name": "ipython",
    "version": 3
   },
   "file_extension": ".py",
   "mimetype": "text/x-python",
   "name": "python",
   "nbconvert_exporter": "python",
   "pygments_lexer": "ipython3",
   "version": "3.7.4"
  }
 },
 "nbformat": 4,
 "nbformat_minor": 1
}
