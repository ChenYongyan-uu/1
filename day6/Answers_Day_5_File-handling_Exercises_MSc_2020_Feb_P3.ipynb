{
 "cells": [
  {
   "cell_type": "markdown",
   "metadata": {},
   "source": [
    "# File handling – reading and writing\n",
    "- Python is also able to create and open files\n",
    "- A file is opened or created by using the ```open()``` function with two parameters. \n",
    "    - The first parameter is the filename and the second parameter is the 'type' of opening: ```\"w\"``` in the case of writing, ```\"\"r\"``` in the case of reading and ```\"a\"``` in the case of appending\n",
    "    - For example ```dna_sequences = open(\"dna_seqs.txt\", \"r\")``` would read the file \"dna_seqs.txt\"\n",
    "- If we open the file with the writing parameter we can start writing in the file\n",
    "    - You can write using ```dna_sequences.write(\"this is the text that goes in the file \\n\")```. \n",
    "    - If you want the next text to start on a new line it is important to end with ```'\\n'```\n",
    "    - You can also write using a variable!\n",
    "- It is also good practise to close the file after using it. \n",
    "    - ```dna_sequences.close()```"
   ]
  },
  {
   "cell_type": "code",
   "execution_count": null,
   "metadata": {},
   "outputs": [],
   "source": [
    "# Open a file\n",
    "my_file = open(\"file.txt\", \"w\")\n",
    "print (\"Name of the file: \", my_file.name)\n",
    "\n",
    "## there should now be a file called \"file.txt\" in your workfolder"
   ]
  },
  {
   "cell_type": "code",
   "execution_count": null,
   "metadata": {},
   "outputs": [],
   "source": [
    "# Open a file\n",
    "dna_seqs_file = open(\"dna_file.txt\", \"w\")           #the \"w\" parameter means that it will write a new file called file.txt and overwrite\n",
    "                                       #if it already exists\n",
    "dna_seqs_file.write(\"actggcatcgatcgatcgatacgatcgatcagtcgatcgatcgatcga\\n\")  #writes this dna sequence to the file. The \\n indicates a new line\n",
    "\n",
    "dna = \"acgtacgatcgatgcatacgcatcgatcagtac\"   #creates a new variable containing a DNA seq\n",
    "\n",
    "dna_seqs_file.write(dna + \"\\n\")         #writes this variable to the file\n",
    "\n",
    "dna_seqs_file.close()                   #closes the file. Try to open file.txt and see what it contains."
   ]
  },
  {
   "cell_type": "markdown",
   "metadata": {},
   "source": [
    "# File handling – good practice\n",
    "- After opening also close your files:\n",
    "- The close() method of a file object flushes any unwritten information and closes the file object, after which no more writing can be done. It is a good practice to use close()."
   ]
  },
  {
   "cell_type": "code",
   "execution_count": null,
   "metadata": {},
   "outputs": [],
   "source": [
    "# Open a file\n",
    "my_file = open(\"file.txt\", \"w\")\n",
    "# do stuff\n",
    "my_file.close()"
   ]
  },
  {
   "cell_type": "markdown",
   "metadata": {},
   "source": [
    "# File handling – good practice\n",
    "- Before opening a file its also good to actually check the file exists"
   ]
  },
  {
   "cell_type": "code",
   "execution_count": null,
   "metadata": {},
   "outputs": [],
   "source": [
    "import sys ## module System-specific parameters and functions\n",
    "try:\n",
    "    my_file = open(\"file.txt\", \"r\")\n",
    "    # do stuff\n",
    "    my_file.close()\n",
    "except:\n",
    "    sys.exit(\"File does not exist!\")"
   ]
  },
  {
   "cell_type": "markdown",
   "metadata": {},
   "source": [
    "# File handling – writing\n",
    "\n",
    "- To write to a file you use the command below:\n",
    "    - file.write(\"What you want to write\")\n",
    "\n",
    "- Try yourself to write some variables to a file"
   ]
  },
  {
   "cell_type": "code",
   "execution_count": null,
   "metadata": {},
   "outputs": [],
   "source": [
    "my_file = open(\"file.txt\", \"w\")\n",
    "\n",
    "my_file.write(\"Hello script!\\n\") ## write directly\n",
    "\n",
    "line = \"This is my output!\"\n",
    "my_file.write(line+\"\\n\") ## write string\n",
    "\n",
    "my_file.close()"
   ]
  },
  {
   "cell_type": "markdown",
   "metadata": {},
   "source": [
    "# File Handling - Writing - Exercise\n",
    "1. Create a new file with the ```\"w\"``` parameter\n",
    "2. Create a for loop that loops 500 times\n",
    "3. Within each loop, add a random dna sequence, remember we made a script for this yesterday in the modules section\n",
    "4. Close the file"
   ]
  },
  {
   "cell_type": "code",
   "execution_count": 1,
   "metadata": {},
   "outputs": [
    {
     "name": "stdout",
     "output_type": "stream",
     "text": [
      "Done\n"
     ]
    }
   ],
   "source": [
    "# 1.\n",
    "my_new_file = open(\"new_file.txt\",\"w\")\n",
    "# 2. and 3.\n",
    "import random\n",
    "\n",
    "for j in range(500):\n",
    "        seq = ''\n",
    "        #i=0\n",
    "        #while (i <= 500):\n",
    "        for i in range(500):\n",
    "            #i +=1\n",
    "            seq += random.choice(['A','T','G','C'])\n",
    "        my_new_file.write(seq+\"\\n\")\n",
    "# 4.\n",
    "my_new_file.close()\n",
    "print (\"Done\")    \n",
    "  "
   ]
  },
  {
   "cell_type": "code",
   "execution_count": 2,
   "metadata": {},
   "outputs": [
    {
     "name": "stdout",
     "output_type": "stream",
     "text": [
      "500\n"
     ]
    }
   ],
   "source": [
    "print(len(seq))"
   ]
  },
  {
   "cell_type": "markdown",
   "metadata": {},
   "source": [
    "# File handling – reading\n",
    "- In order to read files you also use the ```open()``` function, but this time use the ```\"r\"``` parameter\n",
    "- ```file.read() ``` returns a single string with all the characters in the file (inclusing newlines tabs and spaces)\n",
    "- ```file.readline()``` reads a single line from the file\n",
    "- alternatively u can read all the lines by looping over the file variable.\n",
    "- don't forget to close a file after using"
   ]
  },
  {
   "cell_type": "code",
   "execution_count": null,
   "metadata": {},
   "outputs": [],
   "source": [
    "# Most frequently a file is being read line by line using a loop. \n",
    "# This method also reads a file line by line just like readline()\n",
    "# Example:\n",
    "\n",
    "my_file = open(\"file.txt\", \"r\")\n",
    "for apple in my_file:\n",
    "    print (apple,)\n",
    "my_file.close()\n",
    "\n",
    "my_file = open(\"dna_file.txt\", \"r\")\n",
    "for apple in my_file:\n",
    "    print (apple,)\n",
    "my_file.close()"
   ]
  },
  {
   "cell_type": "markdown",
   "metadata": {},
   "source": [
    "# File handling – reading + writing - exercise\n",
    "1. Make a new file \n",
    "- Write five new lines containing data from your experiment\n",
    "    - for example\n",
    "    ```python\n",
    "    563.4\n",
    "    653.7\n",
    "    112.4\n",
    "    4324.997\n",
    "    1\n",
    "    ```\n",
    "- Close the file\n",
    "- Open the file with the reading parameter\n",
    "- Read all the lines and print them\n",
    "- Close the file"
   ]
  },
  {
   "cell_type": "code",
   "execution_count": null,
   "metadata": {},
   "outputs": [],
   "source": [
    "# 1.\n",
    "new_file = open(\"new_file.txt\",\"w\")\n",
    "# 2.\n",
    "my_data = [563.4,653.7,112.4,4324.997,1]\n",
    "for entry in my_data:\n",
    "    new_file.write(str(entry)+\"\\n\")\n",
    "# 3.\n",
    "new_file.close()\n",
    "\n",
    "# 4.\n",
    "new_file = open(\"new_file.txt\",\"r\")\n",
    "\n",
    "# 5.\n",
    "for peanuts in new_file:\n",
    "    print (peanuts)\n",
    "\n",
    "# 6.\n",
    "new_file.close()"
   ]
  },
  {
   "cell_type": "markdown",
   "metadata": {},
   "source": [
    "# Newline characters\n",
    "- If you read a line the ```\\n``` also stays in the string \n",
    "- Most of the times the newline characters at the end of a line are simply said “annoying”, we can remove them using the following command:\n",
    "\n",
    "```python\n",
    "line.rstrip() ## removes newline character```\n",
    "\n",
    "# File handling – splitting the lines\n",
    "\n",
    "- To split your line, you can use the ```line.split()``` function using any delimiter (example below)\n",
    "- For example, in the following string ```abc-def-ghi-jkl```, splitting ```-``` results in a list containing ```[\"abc\"],[\"def\"],[\"ghi\"],[\"jkl\"]```\n",
    "- If there is no parameter provided, it will split at a newline"
   ]
  },
  {
   "cell_type": "code",
   "execution_count": null,
   "metadata": {},
   "outputs": [],
   "source": [
    "my_file = open(\"file.txt\", \"r\")\n",
    "for line in my_file:\n",
    "    splitline = line.split()## you can use different (deliminators)!\n",
    "    print (splitline)\n",
    "my_file.close()\n",
    "\n",
    "dna_file = open(\"dna_file.txt\", \"r\")\n",
    "for line in dna_file:\n",
    "    print (line.split(\"a\"))\n",
    "dna_file.close()"
   ]
  },
  {
   "cell_type": "markdown",
   "metadata": {},
   "source": [
    "# Very important!!!\n",
    "## File handeling -- File to list or dictionary\n",
    "\n",
    "Often we want to store the contents of a file in a list or dictionay"
   ]
  },
  {
   "cell_type": "code",
   "execution_count": null,
   "metadata": {},
   "outputs": [],
   "source": [
    "### add to list\n",
    "bed_file = open(\"exercise.bed\",\"r\")\n",
    "\n",
    "bed_data = []\n",
    "\n",
    "for line in bed_file:\n",
    "    bed_data += [line]\n",
    "bed_file.close()\n",
    "print (bed_data[0])"
   ]
  },
  {
   "cell_type": "code",
   "execution_count": null,
   "metadata": {},
   "outputs": [],
   "source": [
    "## add to dictionary\n",
    "bed_file = open(\"exercise.bed\",\"r\")\n",
    "\n",
    "bed_data = {}\n",
    "line_no = 1\n",
    "for line in bed_file:\n",
    "    data = line.split(\"\\t\")\n",
    "    bed_data[line_no] = data\n",
    "    line_no += 1\n",
    "bed_file.close()\n",
    "print (bed_data[1])"
   ]
  },
  {
   "cell_type": "code",
   "execution_count": null,
   "metadata": {},
   "outputs": [],
   "source": [
    "### Add to dictionary using a gene id as key \n",
    "xy_file = open(\"Human_ChrXY_coding_genes_start_stop.txt\")\n",
    "xy_data = {}\n",
    "for line in xy_file:\n",
    "    line = line.rstrip()\n",
    "    data = line.split(\"|\")\n",
    "    xy_data[data[0]] = data[1:3]\n",
    "xy_file.close()\n",
    "print (list(xy_data.keys())[0])"
   ]
  },
  {
   "cell_type": "code",
   "execution_count": null,
   "metadata": {},
   "outputs": [],
   "source": [
    "### Add to dictionary using a gene id as key \n",
    "xy_file = open(\"Human_ChrXY_coding_genes_start_stop.txt\")\n",
    "xy_data = {}\n",
    "for line in xy_file:\n",
    "    line = line.rstrip()\n",
    "    gene_data = line.split(\"|\")\n",
    "    xy_data[gene_data[0]] = {\"start\":gene_data[1],\"stop\":gene_data[2],\"chr\":gene_data[3]}\n",
    "xy_file.close()\n",
    "print (list(xy_data.keys())[0])"
   ]
  },
  {
   "cell_type": "code",
   "execution_count": null,
   "metadata": {},
   "outputs": [],
   "source": [
    "xy_data[\">ENSG00000000003\"]"
   ]
  },
  {
   "cell_type": "markdown",
   "metadata": {},
   "source": [
    "# File handling – exercise (Assignment type)\n",
    "\n",
    "1. The file \"exercise.bed\" contains genomic regions and is rather large, the perfect opportunity to use Python to process this file. Import module \"re\"\n",
    "\n",
    "1. Read the BED file and make an output file were \"chr\" in front of the number is removed (e.g. chr1 will be 1).\n",
    "\n",
    "2. Determine the number of regions covered in each chromosome (e.g. each line is a region chromosome 1 --> 71906 regions)\n",
    "\n",
    "- Parse and print to screen the total number of regions and size covered for each chromosome\n",
    "\n",
    "- Challenge: combine number of regions and size per chromosome in a nice report"
   ]
  },
  {
   "cell_type": "code",
   "execution_count": 3,
   "metadata": {},
   "outputs": [],
   "source": [
    "# 1.\n",
    "import re\n",
    "\n",
    "# 2.\n",
    "# Open the file using “r” for reading\n",
    "bed_file = open(\"exercise.bed\",\"r\")\n",
    "\n",
    "# Loop over the file and remove \"chr\". Note: chr only at the beginning of the line\n",
    "out_file = open(\"exercise_nochr.bed\",\"w\")\n",
    "for line in bed_file:\n",
    "    line = re.sub(\"^chr\",\"\",line)\n",
    "    out_file.write(line)\n",
    "out_file.close()\n",
    "bed_file.close()"
   ]
  },
  {
   "cell_type": "code",
   "execution_count": 4,
   "metadata": {},
   "outputs": [
    {
     "name": "stdout",
     "output_type": "stream",
     "text": [
      "Chromosome  1  has  71906\n",
      "region(s) in the bed file. The total length is 6999598  basepairs\n",
      "Chromosome  10  has  39957\n",
      "region(s) in the bed file. The total length is 3780938  basepairs\n",
      "Chromosome  11  has  40677\n",
      "region(s) in the bed file. The total length is 3832246  basepairs\n",
      "Chromosome  12  has  44469\n",
      "region(s) in the bed file. The total length is 4221777  basepairs\n",
      "Chromosome  13  has  23109\n",
      "region(s) in the bed file. The total length is 2230764  basepairs\n",
      "Chromosome  14  has  27399\n",
      "region(s) in the bed file. The total length is 2625620  basepairs\n",
      "Chromosome  15  has  23975\n",
      "region(s) in the bed file. The total length is 2423168  basepairs\n",
      "Chromosome  16  has  23597\n",
      "region(s) in the bed file. The total length is 2423706  basepairs\n",
      "Chromosome  17  has  32679\n",
      "region(s) in the bed file. The total length is 3197296  basepairs\n",
      "Chromosome  18  has  18883\n",
      "region(s) in the bed file. The total length is 1716904  basepairs\n",
      "Chromosome  19  has  19482\n",
      "region(s) in the bed file. The total length is 1837378  basepairs\n",
      "Chromosome  2  has  65512\n",
      "region(s) in the bed file. The total length is 6761665  basepairs\n",
      "Chromosome  20  has  21129\n",
      "region(s) in the bed file. The total length is 1915007  basepairs\n",
      "Chromosome  21  has  6894\n",
      "region(s) in the bed file. The total length is 611323  basepairs\n",
      "Chromosome  22  has  12363\n",
      "region(s) in the bed file. The total length is 1108490  basepairs\n",
      "Chromosome  3  has  55881\n",
      "region(s) in the bed file. The total length is 5490545  basepairs\n",
      "Chromosome  4  has  44452\n",
      "region(s) in the bed file. The total length is 4182047  basepairs\n",
      "Chromosome  5  has  42642\n",
      "region(s) in the bed file. The total length is 4286245  basepairs\n",
      "Chromosome  6  has  47934\n",
      "region(s) in the bed file. The total length is 4424806  basepairs\n",
      "Chromosome  7  has  49400\n",
      "region(s) in the bed file. The total length is 4488525  basepairs\n",
      "Chromosome  8  has  34334\n",
      "region(s) in the bed file. The total length is 3133979  basepairs\n",
      "Chromosome  9  has  29893\n",
      "region(s) in the bed file. The total length is 2811612  basepairs\n",
      "Chromosome  MT  has  4\n",
      "region(s) in the bed file. The total length is 325  basepairs\n",
      "Chromosome  X  has  29180\n",
      "region(s) in the bed file. The total length is 3059025  basepairs\n",
      "Chromosome  Y  has  56\n",
      "region(s) in the bed file. The total length is 6712  basepairs\n"
     ]
    }
   ],
   "source": [
    "# 3. Determine the number of regions covered in each chromosome\n",
    "\n",
    "\n",
    "bed_file = open(\"exercise_nochr.bed\",\"r\")          # you could have stored this in a list\n",
    "dict = {}\n",
    "\n",
    "for line in bed_file:\n",
    "    data = line.split(\"\\t\")\n",
    "    chr = data[0]                             # First column is chromosome\n",
    "    length = int(data[2]) - int(data[1])    # Length of region\n",
    "    if chr not in dict:                       # If chromosome is not known, create\n",
    "        dict[chr] = {\"count\":0,\"len\":0}\n",
    "    dict[chr][\"count\"] += 1\n",
    "    dict[chr][\"len\"] += length+1\n",
    "dict_keys = dict.keys()                       # Get dictionary keys\n",
    "list(dict_keys).sort()                              # Sort keys (you can use key = int)\n",
    "\n",
    "for key in dict_keys:\n",
    "    print (\"Chromosome \", key,\" has \", dict[key]['count'] ,) \n",
    "    print (\"region(s) in the bed file. The total length is\", dict[key]['len'],\" basepairs\")\n",
    "bed_file.close()\n"
   ]
  },
  {
   "cell_type": "code",
   "execution_count": null,
   "metadata": {},
   "outputs": [],
   "source": [
    "## Elegant solution by a previous student:\n",
    "## with some alterations to help understand the code\n",
    "\n",
    "# Determine the number of regions for each chromosome\n",
    "chrs = {}\n",
    "chrlength = {}\n",
    "\n",
    "in_file = open(\"exercise_nochr.bed\", \"r\")\n",
    "\n",
    "for line in in_file:\n",
    "    line_zonder_newline = line.rstrip() # Verwijderen \"\\n\" aan het einde.\n",
    "    split_line = line_zonder_newline.split(\"\\t\") # splitsen in drie waarden\n",
    "\n",
    "    # Ik wijs de waarden uit split_line toe aan individuele variablen met een logische naam\n",
    "    chromosome_nr = split_line[0]\n",
    "    region_start = split_line[1]\n",
    "    region_stop = split_line[2]\n",
    "    \n",
    "    # De lengte van de regio:\n",
    "    region_length = int(region_stop)-int(region_start)+1\n",
    "    \n",
    "    # Het tellen van het aantal regio's per chromosoom\n",
    "    if chromosome_nr in chrs: \n",
    "        # Als het chromosoom nummer al in mijn dictionary zit, dan:\n",
    "        chrs[chromosome_nr] += 1\n",
    "    else:\n",
    "        # Als het chromosoom nr nog niet in mijn dictionary zit, dan moet ik hem maken:\n",
    "        chrs[chromosome_nr] = 1\n",
    "    \n",
    "    # Het optellen van de lengtes van de regio's per chromosoom\n",
    "    if chromosome_nr in chrlength:\n",
    "        chrlength[chromosome_nr] += region_length\n",
    "    else:\n",
    "        chrlength[chromosome_nr] = region_length\n",
    "in_file.close()\n",
    "\n",
    "# Print een mooi rapportje\n",
    "for key in chrs:\n",
    "    print (\"Chromosome \" + key + \" has \" + str(chrs[key]) + \" regions with a combined length of \" + str(chrlength[key]))\n",
    "\n",
    "# I have here used two dictionaries to solve the question, but the\n",
    "# original answer uses only one dictionary to store both the number\n",
    "# of regions and the total length of the regions. See how the first \n",
    "# solution works and decide which you find more elegant!"
   ]
  },
  {
   "cell_type": "markdown",
   "metadata": {},
   "source": [
    "# As frequently requested two examples:\n",
    "- Limit the raw_input to only nucleotides:"
   ]
  },
  {
   "cell_type": "code",
   "execution_count": 10,
   "metadata": {},
   "outputs": [
    {
     "name": "stdout",
     "output_type": "stream",
     "text": [
      "Please provide some nucleotides:th\n",
      "th\n"
     ]
    }
   ],
   "source": [
    "import re\n",
    "input_str = \"\"\n",
    "while not re.match(\"^[actg]{1,}$\", input_str,re.I):\n",
    "    input_str = input(\"Please provide some nucleotides:\")\n",
    "print (input_str)"
   ]
  },
  {
   "cell_type": "code",
   "execution_count": 8,
   "metadata": {},
   "outputs": [],
   "source": [
    "?re.match"
   ]
  },
  {
   "cell_type": "markdown",
   "metadata": {},
   "source": [
    "# As frequently requested two examples:\n",
    "- make reverse complement a sequence easy:"
   ]
  },
  {
   "cell_type": "code",
   "execution_count": 11,
   "metadata": {},
   "outputs": [
    {
     "ename": "ImportError",
     "evalue": "cannot import name 'maketrans' from 'string' (C:\\Users\\Anaconda3\\lib\\string.py)",
     "output_type": "error",
     "traceback": [
      "\u001b[1;31m---------------------------------------------------------------------------\u001b[0m",
      "\u001b[1;31mImportError\u001b[0m                               Traceback (most recent call last)",
      "\u001b[1;32m<ipython-input-11-78036b28bfcf>\u001b[0m in \u001b[0;36m<module>\u001b[1;34m\u001b[0m\n\u001b[1;32m----> 1\u001b[1;33m \u001b[1;32mfrom\u001b[0m \u001b[0mstring\u001b[0m \u001b[1;32mimport\u001b[0m \u001b[0mmaketrans\u001b[0m\u001b[1;33m\u001b[0m\u001b[1;33m\u001b[0m\u001b[0m\n\u001b[0m\u001b[0;32m      2\u001b[0m \u001b[0mdna_code\u001b[0m \u001b[1;33m=\u001b[0m \u001b[1;34m\"aCGttgagatcagat\"\u001b[0m\u001b[1;33m\u001b[0m\u001b[1;33m\u001b[0m\u001b[0m\n\u001b[0;32m      3\u001b[0m \u001b[0mcomplement\u001b[0m \u001b[1;33m=\u001b[0m \u001b[0mmaketrans\u001b[0m\u001b[1;33m(\u001b[0m\u001b[1;34m\"acgtACGT\"\u001b[0m\u001b[1;33m,\u001b[0m \u001b[1;34m\"tgcaTGCA\"\u001b[0m\u001b[1;33m)\u001b[0m\u001b[1;33m\u001b[0m\u001b[1;33m\u001b[0m\u001b[0m\n\u001b[0;32m      4\u001b[0m \u001b[0mprint\u001b[0m \u001b[1;33m(\u001b[0m\u001b[1;34m\"dna_code:           \"\u001b[0m\u001b[1;33m,\u001b[0m \u001b[0mdna_code\u001b[0m\u001b[1;33m)\u001b[0m\u001b[1;33m\u001b[0m\u001b[1;33m\u001b[0m\u001b[0m\n\u001b[0;32m      5\u001b[0m \u001b[0mprint\u001b[0m \u001b[1;33m(\u001b[0m\u001b[1;34m\"complement:         \"\u001b[0m\u001b[1;33m,\u001b[0m \u001b[0mdna_code\u001b[0m\u001b[1;33m.\u001b[0m\u001b[0mtranslate\u001b[0m\u001b[1;33m(\u001b[0m\u001b[0mcomplement\u001b[0m\u001b[1;33m)\u001b[0m\u001b[1;33m)\u001b[0m\u001b[1;33m\u001b[0m\u001b[1;33m\u001b[0m\u001b[0m\n",
      "\u001b[1;31mImportError\u001b[0m: cannot import name 'maketrans' from 'string' (C:\\Users\\Anaconda3\\lib\\string.py)"
     ]
    }
   ],
   "source": [
    "from string import maketrans\n",
    "dna_code = \"aCGttgagatcagat\"\n",
    "complement = maketrans(\"acgtACGT\", \"tgcaTGCA\")\n",
    "print (\"dna_code:           \", dna_code)\n",
    "print (\"complement:         \", dna_code.translate(complement))\n",
    "print (\"reverse complement: \", dna_code.translate(complement)[::-1])"
   ]
  },
  {
   "cell_type": "code",
   "execution_count": null,
   "metadata": {},
   "outputs": [],
   "source": []
  }
 ],
 "metadata": {
  "kernelspec": {
   "display_name": "Python 3",
   "language": "python",
   "name": "python3"
  },
  "language_info": {
   "codemirror_mode": {
    "name": "ipython",
    "version": 3
   },
   "file_extension": ".py",
   "mimetype": "text/x-python",
   "name": "python",
   "nbconvert_exporter": "python",
   "pygments_lexer": "ipython3",
   "version": "3.7.4"
  }
 },
 "nbformat": 4,
 "nbformat_minor": 1
}
