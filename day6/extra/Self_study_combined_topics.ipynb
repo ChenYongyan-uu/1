{
 "cells": [
  {
   "cell_type": "markdown",
   "metadata": {},
   "source": [
    "# 1 File connection and reading the first lines\n",
    "\n",
    "Open a connection to the file: Bolivian_squirrel_monkey_genes_mart_export.txt to read the data in the file. \n",
    "\n",
    "To learn what data is stored and how: Read and print the first ten lines from the file."
   ]
  },
  {
   "cell_type": "code",
   "execution_count": null,
   "metadata": {},
   "outputs": [],
   "source": [
    "bsm_file = open(\"Bolivian_squirrel_monkey_genes_mart_export.txt\",\"r\")\n",
    "\n",
    "print(bsm_file.readline())\n",
    "print(bsm_file.readline())\n",
    "print(bsm_file.readline())\n",
    "print(bsm_file.readline())\n",
    "print(bsm_file.readline())\n",
    "print(bsm_file.readline())\n",
    "print(bsm_file.readline())\n",
    "print(bsm_file.readline())\n",
    "print(bsm_file.readline())\n",
    "print(bsm_file.readline())\n",
    "\n",
    "bsm_file.close()\n",
    "\n",
    "print(\"---------------------------------------\")\n",
    "# or (less copy paste)\n",
    "\n",
    "bsm_file = open(\"Bolivian_squirrel_monkey_genes_mart_export.txt\",\"r\")\n",
    "\n",
    "for  i in range(0,11):\n",
    "    print(bsm_file.readline())\n",
    "\n",
    "bsm_file.close()"
   ]
  },
  {
   "cell_type": "markdown",
   "metadata": {},
   "source": [
    "# 2 Getting data from a file in a list\n",
    "\n",
    "Now we know that we have lines with data that represent the header starting with >\n",
    "and the sequence (which can also be unavailable).\n",
    "\n",
    "The header contains the gene ID the start and stop position and the chromosome at which the gene can be found.\n",
    "\n",
    "The sequence can span multiple lines and when it does we need to stitch it together to obtain the complete sequence."
   ]
  },
  {
   "cell_type": "markdown",
   "metadata": {},
   "source": [
    "2.1) First try to get the data from the file in a list an dprint the first ten items in the list"
   ]
  },
  {
   "cell_type": "code",
   "execution_count": null,
   "metadata": {},
   "outputs": [],
   "source": [
    "## open a connection to the file\n",
    "\n",
    "## make an empty list to store the data\n",
    "\n",
    "## use a loop to read all the data, line-by-line and add it to the empty list\n",
    "\n",
    "## close the file\n",
    "\n",
    "# print the first 10 items in the list\n"
   ]
  },
  {
   "cell_type": "markdown",
   "metadata": {},
   "source": [
    "Now we have all data from the file available for Python to work with. However when we look at the frist ten items/lines we can notice some issues that are not convient.\n",
    "- the line end special character \\n is still at each line\n",
    "- the header info is concatenated, we'd like the id, start, stop and chromosome separate\n",
    "- the sequence is spread over multiple ietems/lines\n",
    "\n",
    "Let's solve this one-by-one including checks if it worked\n",
    "\n",
    "2.2) Copy 2.1) and remove the end-of-line characters from the data going into the list, print the first ten items\n",
    "\n",
    "2.3) split the header info and make separate list for id, start, stop and chromosome, print the first ten items and check the length of each list\n",
    "\n",
    "2.4) concatenate the sequence-parts in to full sequences, print the first ten items and check the length of each list"
   ]
  },
  {
   "cell_type": "code",
   "execution_count": null,
   "metadata": {},
   "outputs": [],
   "source": [
    "# 2.2) Copy 2.1 and remove end-of-line characters\n"
   ]
  },
  {
   "cell_type": "code",
   "execution_count": null,
   "metadata": {},
   "outputs": [],
   "source": [
    "# 2.3) split header and make separate list for id, start, stop and chromosome, \n",
    "        # check the length of each list after loading the data\n",
    "\n",
    "# we need to make a separate list for id, start, stop and chromosome and therefor also for the sequence\n"
   ]
  },
  {
   "cell_type": "code",
   "execution_count": null,
   "metadata": {},
   "outputs": [],
   "source": [
    "# 2.4 Concatenate (glue) the sequence lines together\n",
    "# when we check the length we see that we have equal numbers of id, start, stop and chromosome entries.\n",
    "# we have much more sequence entries because of the multiple lines per sequence, when we glue them together this should be fine\n",
    "\n",
    "# we need to make a separate list for id, start, stop and chromosome and therefor also for the sequence\n",
    "\n"
   ]
  },
  {
   "cell_type": "markdown",
   "metadata": {},
   "source": [
    "# 3 Getting data from a file in a dictionary\n",
    "\n",
    "Having the data in separate lists is great, but not ideal. The data has to be in the same order and there is no link between the entries. Also we hav multiple lists, whereas one container might be easier.\n",
    "\n",
    "A Dictonary links the data entries and makes processing easier and mor reproducible.\n",
    "\n",
    "3.1) Start by making an empty dictionary and with getting the data from the file line by line. The line of data is not stored directly in the dictionary, but processed first. Strip the line of the end of line character (\\n) and store it in a new variable."
   ]
  },
  {
   "cell_type": "code",
   "execution_count": null,
   "metadata": {},
   "outputs": [],
   "source": [
    "# 3.1)\n",
    "\n",
    "# Make empty dictionary\n",
    "\n",
    "# open file connection\n",
    "\n",
    "## loop over file line-by-line\n",
    "\n",
    "## close file connection \n",
    "\n",
    "\n",
    "\n"
   ]
  },
  {
   "cell_type": "markdown",
   "metadata": {},
   "source": [
    "3.2) Copy the script from 3.1)\n",
    "\n",
    "We need to process the data line per line befor we can enter it in a dictionary. Let's start with the header. A header can be recognised by the > character a the start of a line. \n",
    "Look up how we checked for a line containing a header using an if statement and counting ofr a certain character\n",
    "\n",
    "The data stored in the header is the gene id, start, stop and chromosome.\n",
    "\n",
    "The gene id will make an good dictionary key, the other data can be values (in a list) or in their own dictionary.\n",
    "\n",
    "For example\n",
    "{id:{\"start\":0,\"stop\":1,\"chr\":\"1\",\"seq\":\"\"}\n",
    "\n",
    "Add an empty \"seq\" key as we need to get that info next itteration\n"
   ]
  },
  {
   "cell_type": "code",
   "execution_count": null,
   "metadata": {},
   "outputs": [],
   "source": [
    "# 3.2)\n",
    "\n",
    "# Make empty dictionary\n",
    "\n",
    "# open file connection\n",
    "\n",
    "\n",
    "## loop over file line-by-line\n",
    "\n",
    "## close file connection \n"
   ]
  },
  {
   "cell_type": "markdown",
   "metadata": {},
   "source": [
    "3.3) Now that we have our header information in a dictionary it is time to add the sequence info\n",
    "\n",
    "Copy the script of 3.2, add an else statement  "
   ]
  },
  {
   "cell_type": "code",
   "execution_count": null,
   "metadata": {},
   "outputs": [],
   "source": [
    "# 3.3)\n",
    "\n",
    "# Make empty dictionary\n",
    "\n",
    "# open file connection\n",
    "\n",
    "## loop over file line-by-line\n",
    "\n",
    "## close file connection \n"
   ]
  },
  {
   "cell_type": "markdown",
   "metadata": {},
   "source": [
    "# 4 Exploring the data\n",
    "\n",
    "Now that the data from the file is stored in lists and/or dictionary we can try to answer some questions\n",
    "\n",
    "4.1) Howmany genes are on each chromosome? Plot the result in a histogram\n",
    "\n",
    "4.2) Howmany 'Sequence unavilable' are in the dataset\n",
    "\n",
    "4.3) Plot an histogram with the gene lengths. What is the median gene length for each chromosome?     \n",
    "\n",
    "4.4) Plot a histogram with the gene coding lengths. What is the median coding length for each chromosome?\n",
    "\n",
    "4.5) What is the codon usage for each chromosome?\n",
    "\n",
    "4.6) Plot a histogram of a the usage of a codon as percentage of total basepairs for each gene.\n",
    "\n",
    "4.7) Plot for one chromosome the chromosome start of gene vs the gene length. And a histogram of the start positions\n",
    "\n",
    "4.8) Translate the the coding sequences into proteins and store them in the dictionary\n",
    "\n",
    "4.9) Make a function that reports the peptides and their length after digestion of the protein on a given amino-acid sequence\n",
    "\n",
    "4.10) Make a function that takes the dictionary with genome data and\n",
    "        # outputs a dictinonary with gene sequences per chromosome, exclude \"Sequence unavailable\"\n",
    "        # set a threshold for the minimum genes per chromosome to be taken up in the dictionary, \n",
    "                # for example only chromosomes with more than 300 genes\n",
    "         \n",
    "4.11) make a function that shows the distributio of GC contents of multiple groups of genes. \n",
    "        For example the genes per chromosome from 4.10)\n",
    "\n",
    "4.12) Make a function that compares the GC content of two groups of genes in a figure\n",
    "\n",
    "4.13) Can you make up your own question and visualisation for the results?\n"
   ]
  },
  {
   "cell_type": "code",
   "execution_count": null,
   "metadata": {},
   "outputs": [],
   "source": [
    "# 4.1) Howmany genes are on each chromosome (X, Y, MT, ...)?\n"
   ]
  },
  {
   "cell_type": "code",
   "execution_count": null,
   "metadata": {},
   "outputs": [],
   "source": [
    "# 4.1) histgram\n",
    "import matplotlib.pyplot as plt\n"
   ]
  },
  {
   "cell_type": "code",
   "execution_count": null,
   "metadata": {},
   "outputs": [],
   "source": [
    "# 4.2) Howmany 'Sequence unavailable' are in the dataset\n"
   ]
  },
  {
   "cell_type": "code",
   "execution_count": null,
   "metadata": {},
   "outputs": [],
   "source": [
    "# 4.3) Plot an histogram with the gene lengths. \n",
    "# Set gene lengths > 100000 bp to 100000\n",
    "# What is the median gene length for each chromosome?    \n"
   ]
  },
  {
   "cell_type": "code",
   "execution_count": null,
   "metadata": {},
   "outputs": [],
   "source": [
    "# 4.4) Plot a histogram with the gene coding lengths. \n",
    "# What is the median coding length for each chromosome?\n",
    "\n"
   ]
  },
  {
   "cell_type": "code",
   "execution_count": null,
   "metadata": {},
   "outputs": [],
   "source": [
    "# 4.5) What is the codon usage for each chromosome?\n",
    "\n"
   ]
  },
  {
   "cell_type": "code",
   "execution_count": null,
   "metadata": {},
   "outputs": [],
   "source": [
    "# 4.6) Plot a histogram of a the usage of a codon as percentage of total basepairs for each gene.\n",
    " \n",
    "\n",
    "\n"
   ]
  },
  {
   "cell_type": "code",
   "execution_count": null,
   "metadata": {},
   "outputs": [],
   "source": [
    "# 4.7) Plot for one chromosome the chromosome start of gene vs the gene length. And a histogram of the start positions\n"
   ]
  },
  {
   "cell_type": "code",
   "execution_count": null,
   "metadata": {},
   "outputs": [],
   "source": [
    "# 4.8) Translate the the coding sequences into proteins\n"
   ]
  },
  {
   "cell_type": "code",
   "execution_count": null,
   "metadata": {},
   "outputs": [],
   "source": [
    "# 4.9) Make a function that reports the peptides and their length after digestion of the protein on a given amino-acid sequence\n",
    "\n",
    "    # hint: use x to indicate the exact cutting site \n"
   ]
  },
  {
   "cell_type": "code",
   "execution_count": null,
   "metadata": {},
   "outputs": [],
   "source": [
    "# 4.10 Make a function that takes the dictionary with genome data and\n",
    "        # outputs a dictinonary with gene sequences per chromosome, exclude \"Sequence unavailable\"\n",
    "        # set a threshold for the minimum genes per chromosome to be taken up in the dictionary, \n",
    "                # for example only chromosomes with more than 300 genes\n",
    "## example {\"chr1\":[\"atacgat\",\"gtgatatacatct\",\"ccggaattt\",...],\"chr2\":[\"atg\",\"ccc\",\"ggt\",...],...}\n",
    "                     "
   ]
  },
  {
   "cell_type": "code",
   "execution_count": null,
   "metadata": {},
   "outputs": [],
   "source": [
    "# 4.11 make a function that shows the distributio of GC contents of multiple groups of genes. \n",
    "    # For example the genes per chromosome\n",
    "    # hint you can use plt.violinplot\n",
    "       \n",
    "    "
   ]
  },
  {
   "cell_type": "code",
   "execution_count": null,
   "metadata": {},
   "outputs": [],
   "source": [
    "# 4.12 Make a function that compares the GC content of two groups of genes in a figure\n",
    "       "
   ]
  },
  {
   "cell_type": "code",
   "execution_count": null,
   "metadata": {},
   "outputs": [],
   "source": [
    "# 4.13) Can you make up your own question and visualisation for the results?\n",
    "\n"
   ]
  },
  {
   "cell_type": "markdown",
   "metadata": {},
   "source": [
    "# 5 Can you make a function to\n",
    "\n",
    "5.1) load the data from a genome file with the same structure into a dictionary\n",
    "\n",
    "5.2) test the function using the Dolphin_genes_mart_export.txt file\n",
    "\n",
    "5.3) A function that extracts genome features such as, no. of genes, average gene length, coding length,\n",
    " make figures of the gene length distribution, coding length distrbution, gc content distribution,\n",
    " coding length vs gene length, gc vs coding length\n",
    "\n",
    "5.4) test the function using the Dolphin_genes_mart_export.txt file"
   ]
  },
  {
   "cell_type": "code",
   "execution_count": null,
   "metadata": {},
   "outputs": [],
   "source": [
    "# 5.1) load the data from a genome file with the same structure into a dictionary\n"
   ]
  },
  {
   "cell_type": "code",
   "execution_count": null,
   "metadata": {},
   "outputs": [],
   "source": [
    "# 5.2) test the function using the Dolphin_genes_mart_export.txt file\n"
   ]
  },
  {
   "cell_type": "code",
   "execution_count": null,
   "metadata": {},
   "outputs": [],
   "source": [
    "# 5.3) A function that extracts genome features such as, no. of genes, average gene length, coding length,\n",
    "# make figures of the gene length distribution, coding length distrbution, gc content distribution,\n",
    "# coding length vs gene length, gc vs coding length\n"
   ]
  },
  {
   "cell_type": "code",
   "execution_count": null,
   "metadata": {},
   "outputs": [],
   "source": [
    "# 5.4 Test the function with  Dolphin_genes_mart_export.txt file\n"
   ]
  },
  {
   "cell_type": "code",
   "execution_count": null,
   "metadata": {},
   "outputs": [],
   "source": []
  }
 ],
 "metadata": {
  "kernelspec": {
   "display_name": "Python 3",
   "language": "python",
   "name": "python3"
  },
  "language_info": {
   "codemirror_mode": {
    "name": "ipython",
    "version": 3
   },
   "file_extension": ".py",
   "mimetype": "text/x-python",
   "name": "python",
   "nbconvert_exporter": "python",
   "pygments_lexer": "ipython3",
   "version": "3.7.3"
  }
 },
 "nbformat": 4,
 "nbformat_minor": 2
}
