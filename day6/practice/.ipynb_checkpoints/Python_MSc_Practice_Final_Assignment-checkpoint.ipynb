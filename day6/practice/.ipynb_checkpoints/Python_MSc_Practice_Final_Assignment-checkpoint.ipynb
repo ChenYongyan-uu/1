{
 "cells": [
  {
   "cell_type": "markdown",
   "metadata": {},
   "source": [
    "# Intro to Python: Practice Final Assignment\"\n",
    "Welcome to the assignment for the Introduction into Python 2020 MSc course.\n",
    "The grade for this assignment will be your final grade for this part of the course.\n",
    "\n",
    "You will use this jupyter notebook on your computer to make the exam. During and when you **finish** your assignment **\"save\"** your progress as an **.ipynb** file. \n",
    "- For the final assignmnet when finished, **email** your Jupyter **notebook file** (.ipynb) to **xxxxx**. \n",
    "- If not possible, raise your hand and someone will come over to download your jupyter notebook and store it on a usb-stick. \n",
    "- Also keep the file on your computer.\n",
    "\n",
    "# Change the name of the notebook to include your student number!\n",
    "Click on **Assignment** in the filename shown next to the Jupyter logo in the top left corner.\n",
    "**Don't forget to fill in your name and student number in the notebook as well!**\n",
    "\n",
    "## Ground rules:\n",
    "- Obvious rules on cheating apply. No peaking at your neighbors' screens, no online/offline communications with people. Etc. This includes posting your problem on stackoverflow or similar.\n",
    "- You can use online python documentation and \"google\" to look up what functions do and how they are to be used.\n",
    "    - But you can not communicate with anyone online or offline about your exam!\n",
    "- You have until 15:00 to complete the assignment\n",
    "\n",
    "## Tips:\n",
    "- Cheatsheets!\n",
    "- If the question provides code, make a copy in case you make a mistake.\n",
    "- **Save regularly!**\n",
    "- Make use of a new cell when needed, its the plus button under \"file\" on top of your screen\n",
    "- <u>**Use comments to explain what you are trying to do.*** If the code doesn't work (correctly) you can still get points for your reasoning!</u>\n",
    "\n",
    "## If you are having trouble with your jupyter notebook, check the error message, raise your hand if you need help to fix it. \n",
    "\n",
    "Good luck!"
   ]
  },
  {
   "cell_type": "code",
   "execution_count": 1,
   "metadata": {},
   "outputs": [],
   "source": [
    "# First things first!\n",
    "your_name = \"Chen Yongyan\" # Assign your full name as a string to variable your_name\n",
    "your_student_no = \"2017237492\" # Assign your student number as a string to variable your_student_nr"
   ]
  },
  {
   "cell_type": "markdown",
   "metadata": {},
   "source": [
    "# Q1\n",
    "    1) From the \"your_stunent_no\" variable: Put the individual digits of your student number as separate items in a list.\n",
    "       print the list\n",
    "    \n",
    "    2) Use the list from Q1.1 as an index to obtain the corresponding characters, from the \"your_name\" variable.\n",
    "       Make one string of these characters and print this with the first character in upper case.\n",
    "       If your first and last name do not have >9 characters you may add spaces. \n",
    "    \n",
    "    3) Write a script that checks how many of the characters in variable \"your_name\" are in the string obtained in Q1.2\n",
    "       Print the result"
   ]
  },
  {
   "cell_type": "code",
   "execution_count": 36,
   "metadata": {},
   "outputs": [
    {
     "name": "stdout",
     "output_type": "stream",
     "text": [
      "['2', '0', '1', '7', '2', '3', '7', '4', '9', '2']\n"
     ]
    }
   ],
   "source": [
    "# Q1.1 From the \"your_stunent_no\" variable: Put the individual digits of your student number as separate items in a list.\n",
    "# print the list\n",
    "list=[]\n",
    "for a in your_student_no:\n",
    "    list+=[a]\n",
    "print(list)"
   ]
  },
  {
   "cell_type": "code",
   "execution_count": 44,
   "metadata": {},
   "outputs": [
    {
     "name": "stdout",
     "output_type": "stream",
     "text": [
      "['C', 'H', 'E', 'N', 'Y', 'O', 'N', 'G', 'Y', 'A', 'N']\n",
      "{'2': 'A', '0': 'H', '1': 'E', '7': 'N', '3': 'O', '4': 'G', '9': 'Y'}\n"
     ]
    }
   ],
   "source": [
    "# Q1.2 Use the list from Q1.1 as an index to obtain the corresponding characters, from the \"your_name\" variable. \n",
    "# Make one string of these characters and print this with the first character in upper case.       \n",
    "import re\n",
    "name_list=[]\n",
    "your_name=re.sub(\" \",'',your_name)\n",
    "your_name=your_name.upper()\n",
    "for a in your_name:\n",
    "    name_list+=[a]\n",
    "print(name_list)\n",
    "dict={}\n",
    "for i in range(len(list)):\n",
    "    dict[list[i]]=name_list[i]\n",
    "print(dict) "
   ]
  },
  {
   "cell_type": "code",
   "execution_count": 45,
   "metadata": {},
   "outputs": [
    {
     "name": "stdout",
     "output_type": "stream",
     "text": [
      "{'C': 1, 'H': 1, 'E': 1, 'N': 3, 'Y': 2, 'O': 1, 'G': 1, 'A': 1}\n"
     ]
    }
   ],
   "source": [
    "# Q1.3 Write a script that checks how many of the characters in variable \"your_name\" are in the string obtained in Q1.2 \n",
    "# Print the result\n",
    "num={}\n",
    "for a in name_list:\n",
    "    if a in num:\n",
    "        num[a]+=1\n",
    "    else:\n",
    "        num[a]=1\n",
    "print(num)"
   ]
  },
  {
   "cell_type": "markdown",
   "metadata": {},
   "source": [
    "# Q2\n",
    "\n",
    "Take a look at the function below. \n",
    "\n",
    "    1) _Explain_ in some detail and in your own words what this function does.\n",
    "    2) Use the function and print the result, make your own input"
   ]
  },
  {
   "cell_type": "code",
   "execution_count": null,
   "metadata": {},
   "outputs": [],
   "source": [
    "def some_function(some_input, stepsize=3):\n",
    "    results = {}\n",
    "    for z in range(0,len(some_input),stepsize):\n",
    "        piece = some_input[z:z+stepsize]\n",
    "        if piece in results:\n",
    "            results[piece] += 1\n",
    "        else:\n",
    "            results[piece] = 1\n",
    "    return results"
   ]
  },
  {
   "cell_type": "code",
   "execution_count": null,
   "metadata": {},
   "outputs": [],
   "source": [
    "# Q2.1 Explain\n"
   ]
  },
  {
   "cell_type": "code",
   "execution_count": null,
   "metadata": {},
   "outputs": [],
   "source": [
    "# Q2.2 Use\n"
   ]
  },
  {
   "cell_type": "markdown",
   "metadata": {},
   "source": [
    "# Q3\n",
    "\n",
    "The file: \"Mouse_coding_X_Y_mart_export.txt\" contains the coding sequences on the mouse X and Y chromosomes in FASTA format.\n",
    "\n",
    "It contains a header:\n",
    "\\>ENSMUSG00000001924|X|20658326|20683179.\n",
    "\n",
    "In which data is separated by a straight slash \"|\"\n",
    "Order: gene id, chromosome id, chromosome start, chromosome stop \n",
    "\n",
    "Followed by one or more lines of sequence (or the note \"Sequence unavailable\")\n",
    "\n",
    "    1) Read the data in \"Mouse_coding_X_Y_mart_export.txt\" and store it in a dictionary.\n",
    "       If you do not know how then store the data in a list. \n",
    "       If you cannot obtain the data from the file import the data from the module Assignment_data.py \n",
    "    \n",
    "    2) How many genes are found on chromosome X and how many are found on chromosome Y? Print the result in a nice format.\n",
    "    \n",
    "    3) Write a function that determines for one gene the length of the coding sequence and\n",
    "       the length on the chromosome (using start and stop positions).\n",
    "       Show that your function works. \n",
    "    \n",
    "    4) Plot the length of the coding sequence of all genes in a histogram,\n",
    "       Plot the length of the genomic sequence of all genes in a histogram, \n",
    "       Plot the genomic length against the coding sequence in a scatter plot,\n",
    "       exclude genes with a coding length less than 30 and more than 3000,\n",
    "       show genes from X and Y in different colors\n",
    "    \n",
    "    5) Translate the coding sequences in to peptides using dna_tools.py.\n",
    "       Hint: think about dealing with those genes which sequence is unavailable.\n",
    "       Print the first 10 peptides.\n",
    "    \n",
    "    6) How many peptides are cleaved by protease with cleavage recognition site: PNS\n",
    "       Bonus if you make a function that can determine the number of peptides cleaved by any input. \n",
    "    \n",
    "    7) Show the distribution of the usage of an amino acid (pick one) for all genes in a figure,\n",
    "       indicate the distribution for genes from chromosome X and chromosome Y. "
   ]
  },
  {
   "cell_type": "code",
   "execution_count": null,
   "metadata": {},
   "outputs": [],
   "source": [
    "# Q3.1 Read the data in \"Mouse_coding_X_Y_mart_export.txt\" and store it in a dictionary.\n",
    "# If you do not know how then store the data in a list.\n",
    "\n",
    "# print(mcod[list(mcod.keys())[1]])\n",
    "\n",
    "# print(mcod)"
   ]
  },
  {
   "cell_type": "code",
   "execution_count": null,
   "metadata": {},
   "outputs": [],
   "source": [
    "# If you could not load and obtain the data in Q3.1 use:\n",
    "import Assignment_data as ad\n",
    "# print(ad.seq_dict)\n",
    "# The data is now in a dictionary called ad.seq_dict\n",
    "\n",
    "# if you can't work with dictionaries you can use these lists\n",
    "# ad.gene_id\n",
    "# ad.chr_id\n",
    "# ad.gene_start\n",
    "# ad.gene_stop\n",
    "# ad.gene_seq\n"
   ]
  },
  {
   "cell_type": "code",
   "execution_count": null,
   "metadata": {},
   "outputs": [],
   "source": [
    "# Q3.2 How many genes are found on chromosome X and how many are found on chromosome Y? Print the result in a nice format.\n",
    "    "
   ]
  },
  {
   "cell_type": "code",
   "execution_count": null,
   "metadata": {},
   "outputs": [],
   "source": [
    "# Q3.3 Write a function that for one gene determines the length of the coding sequence and the length on the chromosome. \n",
    "# Show that your function works. \n",
    "\n",
    "\n"
   ]
  },
  {
   "cell_type": "code",
   "execution_count": null,
   "metadata": {},
   "outputs": [],
   "source": [
    "# Q3.4 Plot the length of the coding sequence of all genes in a histogram,\n",
    "#      Plot the length of the genomic sequence of all genes in a histogram, \n",
    "#      Plot the genomic length against the coding sequence in a scatter plot,\n",
    "#      exclude genes with a coding length less than 30 and more than 3000,\n",
    "#      show genes from X and Y in different colors\n"
   ]
  },
  {
   "cell_type": "code",
   "execution_count": null,
   "metadata": {},
   "outputs": [],
   "source": [
    "# Q3.5 Translate the coding sequences in to proteins using dna_tools.py. Print the first 10 proteins.\n"
   ]
  },
  {
   "cell_type": "code",
   "execution_count": null,
   "metadata": {},
   "outputs": [],
   "source": [
    "# Q3.6 How many peptides are cleaved by protease with cleavage recognition site: PNS \n",
    "# Bonus if you make a function that can determine the number of peptides cleaved by any input. \n"
   ]
  },
  {
   "cell_type": "code",
   "execution_count": null,
   "metadata": {},
   "outputs": [],
   "source": [
    "# Q3.7 Show the distribution of the usage of an amino acid (pick one) for all genes in a figure, \n",
    "#  indicate the distribution for genes from chromosome X and chromosome Y.  \n"
   ]
  }
 ],
 "metadata": {
  "kernelspec": {
   "display_name": "Python 3",
   "language": "python",
   "name": "python3"
  },
  "language_info": {
   "codemirror_mode": {
    "name": "ipython",
    "version": 3
   },
   "file_extension": ".py",
   "mimetype": "text/x-python",
   "name": "python",
   "nbconvert_exporter": "python",
   "pygments_lexer": "ipython3",
   "version": "3.7.4"
  }
 },
 "nbformat": 4,
 "nbformat_minor": 2
}
