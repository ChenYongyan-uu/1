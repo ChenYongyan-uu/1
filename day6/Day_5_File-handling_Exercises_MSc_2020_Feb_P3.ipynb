{
 "cells": [
  {
   "cell_type": "markdown",
   "metadata": {},
   "source": [
    "# File handling – reading and writing\n",
    "- Python is also able to create and open files\n",
    "- A file is opened or created by using the ```open()``` function with two parameters. \n",
    "    - The first parameter is the filename and the second parameter is the 'type' of opening: ```\"w\"``` in the case of writing, ```\"\"r\"``` in the case of reading and ```\"a\"``` in the case of appending\n",
    "    - For example ```dna_sequences = open(\"dna_seqs.txt\", \"r\")``` would read the file \"dna_seqs.txt\"\n",
    "- If we open the file with the writing parameter we can start writing in the file\n",
    "    - You can write using ```dna_sequences.write(\"this is the text that goes in the file \\n\")```. \n",
    "    - If you want the next text to start on a new line it is important to end with ```'\\n'```\n",
    "    - You can also write using a variable!\n",
    "- It is also good practise to close the file after using it. \n",
    "    - ```dna_sequences.close()```"
   ]
  },
  {
   "cell_type": "code",
   "execution_count": 1,
   "metadata": {},
   "outputs": [
    {
     "name": "stdout",
     "output_type": "stream",
     "text": [
      "Name of the file:  file.txt\n"
     ]
    }
   ],
   "source": [
    "# Open a file\n",
    "my_file = open(\"file.txt\", \"w\")\n",
    "print (\"Name of the file: \", my_file.name)\n",
    "\n",
    "## there should now be a file called \"file.txt\" in your workfolder"
   ]
  },
  {
   "cell_type": "code",
   "execution_count": 2,
   "metadata": {},
   "outputs": [],
   "source": [
    "# Open a file\n",
    "dna_seqs_file = open(\"dna_file.txt\", \"w\")           #the \"w\" parameter means that it will write a new file called file.txt and overwrite\n",
    "                                       #if it already exists\n",
    "dna_seqs_file.write(\"actggcatcgatcgatcgatacgatcgatcagtcgatcgatcgatcga\\n\")  #writes this dna sequence to the file. The \\n indicates a new line\n",
    "\n",
    "dna = \"acgtacgatcgatgcatacgcatcgatcagtac\"   #creates a new variable containing a DNA seq\n",
    "\n",
    "dna_seqs_file.write(dna + \"\\n\")         #writes this variable to the file\n",
    "\n",
    "dna_seqs_file.close()                   #closes the file. Try to open file.txt and see what it contains."
   ]
  },
  {
   "cell_type": "markdown",
   "metadata": {},
   "source": [
    "# File handling – good practice\n",
    "- After opening also close your files:\n",
    "- The close() method of a file object flushes any unwritten information and closes the file object, after which no more writing can be done. It is a good practice to use close()."
   ]
  },
  {
   "cell_type": "code",
   "execution_count": 3,
   "metadata": {},
   "outputs": [],
   "source": [
    "# Open a file\n",
    "my_file = open(\"file.txt\", \"w\")\n",
    "# do stuff\n",
    "my_file.close()"
   ]
  },
  {
   "cell_type": "markdown",
   "metadata": {},
   "source": [
    "# File handling – good practice\n",
    "- Before opening a file its also good to actually check the file exists"
   ]
  },
  {
   "cell_type": "code",
   "execution_count": 4,
   "metadata": {},
   "outputs": [],
   "source": [
    "import sys ## module System-specific parameters and functions\n",
    "try:\n",
    "    my_file = open(\"file.txt\", \"r\")\n",
    "    # do stuff\n",
    "    my_file.close()\n",
    "except:\n",
    "    sys.exit(\"File does not exist!\")"
   ]
  },
  {
   "cell_type": "markdown",
   "metadata": {},
   "source": [
    "# File handling – writing\n",
    "\n",
    "- To write to a file you use the command below:\n",
    "    - file.write(\"What you want to write\")\n",
    "\n",
    "- Try yourself to write some variables to a file"
   ]
  },
  {
   "cell_type": "code",
   "execution_count": 5,
   "metadata": {},
   "outputs": [],
   "source": [
    "my_file = open(\"file.txt\", \"w\")\n",
    "\n",
    "my_file.write(\"Hello script!\\n\") ## write directly\n",
    "\n",
    "line = \"This is my output!\"\n",
    "my_file.write(line+\"\\n\") ## write string\n",
    "\n",
    "my_file.close()"
   ]
  },
  {
   "cell_type": "markdown",
   "metadata": {},
   "source": [
    "# File Handling - Writing - Exercise\n",
    "1. Create a new file with the ```\"w\"``` parameter\n",
    "2. Create a for loop that loops 500 times\n",
    "3. Within each loop, add a random dna sequence, remember we made a script for this yesterday in the modules section\n",
    "4. Close the file"
   ]
  },
  {
   "cell_type": "code",
   "execution_count": 9,
   "metadata": {},
   "outputs": [],
   "source": [
    "# 1.\n",
    "file=open('first_try.txt','w')\n",
    "# 2. and 3.\n",
    "import random\n",
    "a=''\n",
    "for i in range(500):\n",
    "    a=random.choice('ATCG')+random.choice('ATCG')+random.choice('ATCG')\n",
    "    file.write(a+'\\t')\n",
    "# 4.\n",
    "file.close()"
   ]
  },
  {
   "cell_type": "code",
   "execution_count": 10,
   "metadata": {},
   "outputs": [
    {
     "name": "stdout",
     "output_type": "stream",
     "text": [
      "3\n"
     ]
    }
   ],
   "source": [
    "print(len(a))"
   ]
  },
  {
   "cell_type": "markdown",
   "metadata": {},
   "source": [
    "# File handling – reading\n",
    "- In order to read files you also use the ```open()``` function, but this time use the ```\"r\"``` parameter\n",
    "- ```file.read() ``` returns a single string with all the characters in the file (inclusing newlines tabs and spaces)\n",
    "- ```file.readline()``` reads a single line from the file\n",
    "- alternatively u can read all the lines by looping over the file variable.\n",
    "- don't forget to close a file after using"
   ]
  },
  {
   "cell_type": "code",
   "execution_count": 11,
   "metadata": {},
   "outputs": [
    {
     "name": "stdout",
     "output_type": "stream",
     "text": [
      "Hello script!\n",
      "\n",
      "This is my output!\n",
      "\n",
      "actggcatcgatcgatcgatacgatcgatcagtcgatcgatcgatcga\n",
      "\n",
      "acgtacgatcgatgcatacgcatcgatcagtac\n",
      "\n"
     ]
    }
   ],
   "source": [
    "# Most frequently a file is being read line by line using a loop. \n",
    "# This method also reads a file line by line just like readline()\n",
    "# Example:\n",
    "\n",
    "my_file = open(\"file.txt\", \"r\")\n",
    "for apple in my_file:\n",
    "    print (apple,)\n",
    "my_file.close()\n",
    "\n",
    "my_file = open(\"dna_file.txt\", \"r\")\n",
    "for apple in my_file:\n",
    "    print (apple,)\n",
    "my_file.close()"
   ]
  },
  {
   "cell_type": "markdown",
   "metadata": {},
   "source": [
    "# File handling – reading + writing - exercise\n",
    "1. Make a new file \n",
    "- Write five new lines containing data from your experiment\n",
    "    - for example\n",
    "    ```python\n",
    "    563.4\n",
    "    653.7\n",
    "    112.4\n",
    "    4324.997\n",
    "    1\n",
    "    ```\n",
    "- Close the file\n",
    "- Open the file with the reading parameter\n",
    "- Read all the lines and print them\n",
    "- Close the file"
   ]
  },
  {
   "cell_type": "code",
   "execution_count": 15,
   "metadata": {},
   "outputs": [
    {
     "name": "stdout",
     "output_type": "stream",
     "text": [
      "43,23,453,65,88\n",
      "\n"
     ]
    }
   ],
   "source": [
    "# 1. \n",
    "file = open(\"experiment.txt\", \"w\")\n",
    "# 2.\n",
    "a=\"43,23,453,65,88\"\n",
    "file.write(a+\"\\n\") \n",
    "# 3.\n",
    "file.close()\n",
    "# 4.\n",
    "file = open(\"experiment.txt\", \"r\")\n",
    "# 5.\n",
    "for a in file:\n",
    "    print(a)\n",
    "# 6.\n",
    "file.close()"
   ]
  },
  {
   "cell_type": "markdown",
   "metadata": {},
   "source": [
    "# Newline characters\n",
    "- If you read a line the ```\\n``` also stays in the string \n",
    "- Most of the times the newline characters at the end of a line are simply said “annoying”, we can remove them using the following command:\n",
    "\n",
    "```python\n",
    "line.rstrip() ## removes newline character```\n",
    "\n",
    "# File handling – splitting the lines\n",
    "\n",
    "- To split your line, you can use the ```line.split()``` function using any delimiter (example below)\n",
    "- For example, in the following string ```abc-def-ghi-jkl```, splitting ```-``` results in a list containing ```[\"abc\"],[\"def\"],[\"ghi\"],[\"jkl\"]```\n",
    "- If there is no parameter provided, it will split at a newline"
   ]
  },
  {
   "cell_type": "code",
   "execution_count": 8,
   "metadata": {},
   "outputs": [
    {
     "name": "stdout",
     "output_type": "stream",
     "text": [
      "['Hello', 'script!']\n",
      "['This', 'is', 'my', 'output!']\n",
      "['ac', 'ggca', 'cga', 'cga', 'cga', 'acga', 'cga', 'cag', 'cga', 'cga', 'cga', 'cga\\n']\n",
      "['acg', 'acga', 'cga', 'gca', 'acgca', 'cga', 'cag', 'ac\\n']\n"
     ]
    }
   ],
   "source": [
    "my_file = open(\"file.txt\", \"r\")\n",
    "for line in my_file:\n",
    "    splitline = line.split()## you can use different (deliminators)!\n",
    "    print (splitline)\n",
    "my_file.close()\n",
    "\n",
    "dna_file = open(\"dna_file.txt\", \"r\")\n",
    "for line in dna_file:\n",
    "    print (line.split('t'))\n",
    "dna_file.close()"
   ]
  },
  {
   "cell_type": "markdown",
   "metadata": {},
   "source": [
    "# Very important!!!\n",
    "## File handeling -- File to list or dictionary\n",
    "\n",
    "Often we want to store the contents of a file in a list or dictionay"
   ]
  },
  {
   "cell_type": "code",
   "execution_count": 10,
   "metadata": {},
   "outputs": [
    {
     "name": "stdout",
     "output_type": "stream",
     "text": [
      "chr1\t925942\t926020\n",
      "\n"
     ]
    }
   ],
   "source": [
    "### add to list\n",
    "bed_file = open(\"exercise.bed\",\"r\")\n",
    "\n",
    "bed_data = []\n",
    "\n",
    "for line in bed_file:\n",
    "    bed_data += [line]\n",
    "bed_file.close()\n",
    "print (bed_data[0])"
   ]
  },
  {
   "cell_type": "code",
   "execution_count": 15,
   "metadata": {},
   "outputs": [
    {
     "name": "stdout",
     "output_type": "stream",
     "text": [
      "['chr1', '930150', '930341\\n']\n"
     ]
    }
   ],
   "source": [
    "## add to dictionary  值得一记\n",
    "bed_file = open(\"exercise.bed\",\"r\")\n",
    "\n",
    "bed_data = {}\n",
    "line_no = 0\n",
    "for line in bed_file:\n",
    "    data = line.split(\"\\t\")\n",
    "    bed_data[line_no] = data\n",
    "    line_no += 1\n",
    "bed_file.close()\n",
    "print (bed_data[1])"
   ]
  },
  {
   "cell_type": "code",
   "execution_count": 19,
   "metadata": {},
   "outputs": [
    {
     "name": "stdout",
     "output_type": "stream",
     "text": [
      ">ENSG00000000003\n"
     ]
    }
   ],
   "source": [
    "### Add to dictionary using a gene id as key \n",
    "xy_file = open(\"Human_ChrXY_coding_genes_start_stop.txt\")\n",
    "xy_data = {}\n",
    "for line in xy_file:\n",
    "    line = line.rstrip()\n",
    "    data = line.split(\"|\")\n",
    "    xy_data[data[0]] = data[1:3]\n",
    "xy_file.close()\n",
    "print (list(xy_data.keys())[0])"
   ]
  },
  {
   "cell_type": "code",
   "execution_count": null,
   "metadata": {},
   "outputs": [],
   "source": [
    "### Add to dictionary using a gene id as key \n",
    "xy_file = open(\"Human_ChrXY_coding_genes_start_stop.txt\")\n",
    "xy_data = {}\n",
    "for line in xy_file:\n",
    "    line = line.rstrip()\n",
    "    gene_data = line.split(\"|\")\n",
    "    xy_data[gene_data[0]] = {\"start\":gene_data[1],\"stop\":gene_data[2],\"chr\":gene_data[3]}\n",
    "xy_file.close()\n",
    "print (list(xy_data.keys())[0])"
   ]
  },
  {
   "cell_type": "code",
   "execution_count": null,
   "metadata": {},
   "outputs": [],
   "source": [
    "xy_data[\">ENSG00000000003\"]"
   ]
  },
  {
   "cell_type": "markdown",
   "metadata": {},
   "source": [
    "# File handling – exercise (Assignment type)\n",
    "\n",
    "1. The file \"exercise.bed\" contains genomic regions and is rather large, the perfect opportunity to use Python to process this file. Import module \"re\"\n",
    "\n",
    "1. Read the BED file and make an output file were \"chr\" in front of the number is removed (e.g. chr1 will be 1).\n",
    "\n",
    "2. Determine the number of regions covered in each chromosome (e.g. each line is a region chromosome 1 --> 71906 regions)\n",
    "\n",
    "- Parse and print to screen the total number of regions and size covered for each chromosome\n",
    "\n",
    "- Challenge: combine number of regions and size per chromosome in a nice report"
   ]
  },
  {
   "cell_type": "code",
   "execution_count": null,
   "metadata": {},
   "outputs": [],
   "source": [
    "# 1.  答案完美！\n",
    "import re\n",
    "\n",
    "# 2.\n",
    "# Open the file using “r” for reading\n",
    "bedfile = open(\"exercise.bed\",'r')\n",
    "flie= open(\"exercise.bed_without_chr\",'r')\n",
    "# Loop over the file and remove \"chr\". Note: chr only at the beginning of the line\n",
    "for a in bedfile:\n",
    "    a=re.sub(\"chr\",'',a)\n",
    "    out_file\n",
    "    \n"
   ]
  },
  {
   "cell_type": "code",
   "execution_count": null,
   "metadata": {},
   "outputs": [],
   "source": [
    "# 3. Determine the number of regions covered in each chromosome\n",
    "\n"
   ]
  },
  {
   "cell_type": "markdown",
   "metadata": {},
   "source": [
    "# As frequently requested two examples:\n",
    "- Limit the raw_input to only nucleotides:"
   ]
  },
  {
   "cell_type": "code",
   "execution_count": null,
   "metadata": {},
   "outputs": [],
   "source": [
    "import re\n",
    "input_str = \"\"\n",
    "while not re.match(\"^[actg]{1,}$\", input_str,re.I):\n",
    "    input_str = input(\"Please provide some nucleotides:\")\n",
    "print (input_str)"
   ]
  },
  {
   "cell_type": "markdown",
   "metadata": {},
   "source": [
    "# As frequently requested two examples:\n",
    "- make reverse complement a sequence easy:"
   ]
  },
  {
   "cell_type": "code",
   "execution_count": null,
   "metadata": {},
   "outputs": [],
   "source": [
    "from string import maketrans\n",
    "dna_code = \"aCGttgagatcagat\"\n",
    "complement = maketrans(\"acgtACGT\", \"tgcaTGCA\")\n",
    "print (\"dna_code:           \", dna_code)\n",
    "print (\"complement:         \", dna_code.translate(complement))\n",
    "print (\"reverse complement: \", dna_code.translate(complement)[::-1])"
   ]
  }
 ],
 "metadata": {
  "kernelspec": {
   "display_name": "Python 3",
   "language": "python",
   "name": "python3"
  },
  "language_info": {
   "codemirror_mode": {
    "name": "ipython",
    "version": 3
   },
   "file_extension": ".py",
   "mimetype": "text/x-python",
   "name": "python",
   "nbconvert_exporter": "python",
   "pygments_lexer": "ipython3",
   "version": "3.7.4"
  }
 },
 "nbformat": 4,
 "nbformat_minor": 1
}
