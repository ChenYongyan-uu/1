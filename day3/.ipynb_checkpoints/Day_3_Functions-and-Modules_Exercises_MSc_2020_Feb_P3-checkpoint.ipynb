{
 "cells": [
  {
   "cell_type": "markdown",
   "metadata": {},
   "source": [
    "# Functions\n",
    "\n",
    "- A function is a block of organized, reusable code that is used to perform a single, related action. \n",
    "- There are many prebuilt functions that you already know.\n",
    "   - for example: print\n",
    "   - Now we are going to create our own functions\n",
    "- def means that you are defining a function in this block. function_name is the name of the function and can be anything and the variables between the parenthesis are the parameters (input) for the function. For example:\n",
    "```python\n",
    "def function_name(parameter1, parameter2):   #in this line we define the function 'function_name' with two parameters\n",
    "    value = parameter1                        #we make a new variable that is equal to parameter 1\n",
    "    return value                              #this function returns the variable 'value'\n",
    "test = function_name(\"Hello\", ”Functions\")  #we create a variable 'test' that is equal to the return of the function. \n",
    "```\n",
    "- Try to figure out if you can guess what the output of the example is, then you can try it by running it in the codeblock below."
   ]
  },
  {
   "cell_type": "code",
   "execution_count": 3,
   "metadata": {},
   "outputs": [
    {
     "name": "stdout",
     "output_type": "stream",
     "text": [
      "Hello World!\n"
     ]
    }
   ],
   "source": [
    "def hello_functions():        #define a function named 'hello_functions' with no parameters\n",
    "    value = \"Hello World!\"    \n",
    "    return value              #return the variable 'value', which is equal to \"Hello World!\" in this case.\n",
    "\n",
    "hello = hello_functions()      #make a new variable that is equal to the return value of 'hello_functions', which is \"\"Hello World!\"\"\n",
    "print(hello)"
   ]
  },
  {
   "cell_type": "code",
   "execution_count": 4,
   "metadata": {},
   "outputs": [
    {
     "name": "stdout",
     "output_type": "stream",
     "text": [
      "1\n",
      "2\n",
      "3\n"
     ]
    }
   ],
   "source": [
    "# Define a function to print a list\n",
    "#A function does not have to return a value, it can also perform a function. The function below prints all the items in a list.\n",
    "def print_list(my_list):\n",
    "    for item in my_list:\n",
    "        print(item)\n",
    "\n",
    "test_list = [1,2,3]\n",
    "print_list(test_list)"
   ]
  },
  {
   "cell_type": "code",
   "execution_count": 10,
   "metadata": {},
   "outputs": [
    {
     "name": "stdout",
     "output_type": "stream",
     "text": [
      "From witin function: 10\n",
      "From variable: None \n",
      " Python did not remember\n",
      "-------------------------------------\n",
      "From witin function: 10\n",
      "From variable: 10 \n",
      " Python does remember!\n",
      "\n",
      "-------------------------------------\n",
      "\n",
      "From witin function: 20\n"
     ]
    }
   ],
   "source": [
    "# however ...\n",
    "# \"Return ...\" at the end of the function is pivotal for letting Python remember the output derived from the function\n",
    "# The code below underlines this. \n",
    "# What happens when running this piece of code now?\n",
    "\n",
    "\n",
    "def add_numbers1(number = 5):\n",
    "    a = number+number\n",
    "    print (\"From witin function:\",a)\n",
    "    \n",
    "sum_numbers = add_numbers1()     \n",
    "print(\"From variable:\",sum_numbers, \"\\n Python did not remember\")\n",
    "\n",
    "print (\"-------------------------------------\")\n",
    "\n",
    "def add_numbers2(number = 5):\n",
    "    a = number+number\n",
    "    print (\"From witin function:\",a)\n",
    "    return (a)\n",
    "    \n",
    "sum_numbers = add_numbers2()     \n",
    "print(\"From variable:\",sum_numbers, \"\\n Python does remember!\")\n",
    "\n",
    "print (\"\\n-------------------------------------\\n\")\n",
    "\n",
    "# why does the function below show two outputs?\n",
    "add_numbers1(10)\n",
    "#add_numbers2(10)"
   ]
  },
  {
   "cell_type": "markdown",
   "metadata": {},
   "source": [
    "# Functions - Exercise I\n",
    "1. Define a function with 3 variables as input.\n",
    "    - Remember the syntax of a function: def + \"name of the function\" + (\"variable1\", \"variable2\")\n",
    "2. create a new variable in this function that contains all three variables added together\n",
    "3. return this variable\n",
    "4. create three new variables with random dna sequences (5-10 nt long)\n",
    "5. create three new variables with random numbers (pcr values)\n",
    "6. print the result of this function using the three dna sequences as input\n",
    "6. print the result of this function using the three numbers as input    \n",
    "    "
   ]
  },
  {
   "cell_type": "code",
   "execution_count": 16,
   "metadata": {},
   "outputs": [],
   "source": [
    "# 1. Define a function with 3 variables as input.\n",
    "def yy(a,b,c):\n",
    "# 2.create a new variable in this function that contains all three variables added together    \n",
    "    t=a+b+c\n",
    "# 3. return this variable    \n",
    "    return(t)"
   ]
  },
  {
   "cell_type": "code",
   "execution_count": 17,
   "metadata": {},
   "outputs": [],
   "source": [
    "# 4 create three new variables with random dna sequences (5-10 nt long)\n",
    "dna1='ATGCATC'\n",
    "dna2='CCGCATC'\n",
    "dna3='AGGCATC'"
   ]
  },
  {
   "cell_type": "code",
   "execution_count": 18,
   "metadata": {},
   "outputs": [],
   "source": [
    "# 5. create three new variables with random numbers (pcr values)\n",
    "n1=12\n",
    "n2=3\n",
    "n3=2"
   ]
  },
  {
   "cell_type": "code",
   "execution_count": 19,
   "metadata": {},
   "outputs": [
    {
     "name": "stdout",
     "output_type": "stream",
     "text": [
      "ATGCATCCCGCATCAGGCATC\n",
      "17\n"
     ]
    }
   ],
   "source": [
    "# 6. print the result of this function using the three dna sequences as input\n",
    "print(yy(dna1,dna2,dna3))\n"
   ]
  },
  {
   "cell_type": "code",
   "execution_count": 20,
   "metadata": {},
   "outputs": [
    {
     "name": "stdout",
     "output_type": "stream",
     "text": [
      "17\n"
     ]
    }
   ],
   "source": [
    "# 7. print the result of this function using the three numbers as input \n",
    "print(yy(n1,n2,n3))"
   ]
  },
  {
   "cell_type": "markdown",
   "metadata": {},
   "source": [
    "# Functions - Exercise II\n",
    "1. Define a new list variable containing 5 random numbers.\n",
    "2. Define a function with 1 variable as input\n",
    "4. create a new variable in this function that calculates the average of these numbers\n",
    " - Add numbers together and then divide by the length of the list\n",
    "5. return this variable\n",
    "6. print the result of this function when entering the list made at 1."
   ]
  },
  {
   "cell_type": "code",
   "execution_count": 21,
   "metadata": {},
   "outputs": [],
   "source": [
    "# 1. Define a new list variable containing 5 random numbers.\n",
    "l=[3,4,2,6,7]"
   ]
  },
  {
   "cell_type": "code",
   "execution_count": 22,
   "metadata": {},
   "outputs": [],
   "source": [
    "# 2. Define a function with 1 variable as input  答案很好！\n",
    "def kk(h):\n",
    "# 3. create a new variable in this function that calculates the average of these numbers\n",
    "    sum=0\n",
    "    for a in h:\n",
    "        sum=sum+a\n",
    "    i=len(h)\n",
    "    print(\"The average is\",sum/i,\".\")\n",
    "        \n",
    "# 4. return this variable\n",
    "    return(h)"
   ]
  },
  {
   "cell_type": "code",
   "execution_count": 23,
   "metadata": {},
   "outputs": [
    {
     "name": "stdout",
     "output_type": "stream",
     "text": [
      "The average is 4.4 .\n",
      "[3, 4, 2, 6, 7]\n"
     ]
    }
   ],
   "source": [
    "# 5. print the result of this function when entering the list made at 1.\n",
    "print(kk(l))"
   ]
  },
  {
   "cell_type": "markdown",
   "metadata": {},
   "source": [
    "# Functions exercise III (Assignment type)\n",
    "\n",
    "Now lets try to write a function to get all codons from the sequence: 'ACGATCGATCGTACGATCGATACG'\n",
    "1. Start a function that can handle this sequence as input\n",
    "2. In th efunction start a new empty list for the codons\n",
    "3. Loop over the sequence to get all codons (steps of 3)\n",
    "4. Append the list after each codon\n",
    "5. Return the list\n",
    "6. Print the result of the function when the sequence is used as input\n",
    "\n"
   ]
  },
  {
   "cell_type": "code",
   "execution_count": 36,
   "metadata": {},
   "outputs": [
    {
     "name": "stdout",
     "output_type": "stream",
     "text": [
      "['ACG', 'ATC', 'GAT', 'CGT', 'ACG', 'ATC', 'GAT', 'ACG']\n"
     ]
    }
   ],
   "source": [
    "# Write your code here\n",
    "def f(seqs):\n",
    "    codons=[]\n",
    "    i=0\n",
    "    for a in seqs:\n",
    "        if i<len(seqs):\n",
    "            codons.append(seqs[i:i+3])\n",
    "            i=i+3\n",
    "    return(codons)\n",
    "    \n",
    "seqs='ACGATCGATCGTACGATCGATACG'\n",
    "print(f(seqs))\n",
    "    \n",
    "    "
   ]
  },
  {
   "cell_type": "markdown",
   "metadata": {},
   "source": [
    "## Functions and Dictionaries - Exercise IV\n",
    "\n",
    "Write a function to count the number of times a codon is used in the sequence: 'ACGATCGATCGTACGATCGATACG’.\n",
    "\n",
    "Remember a dictionary can be defined as:\n",
    "\n",
    "my_var = {'key':'value'}"
   ]
  },
  {
   "cell_type": "code",
   "execution_count": 47,
   "metadata": {},
   "outputs": [
    {
     "name": "stdout",
     "output_type": "stream",
     "text": [
      "{'ACG': 3, 'ATC': 2, 'GAT': 2, 'CGT': 1}\n"
     ]
    }
   ],
   "source": [
    "# write your code here (hint use the codons as keys and the counts as values)\n",
    "def codon(seqs):\n",
    "    my_var={}\n",
    "    for i in range(0,len(seqs),3):\n",
    "        #for a in seqs:\n",
    "            k=seqs[i:i+3]\n",
    "            if seqs[i:i+3] in my_var:\n",
    "                my_var[k]=my_var[k]+1\n",
    "            else:\n",
    "                my_var[k]=1\n",
    "    return(my_var)\n",
    "    \n",
    "seqs='ACGATCGATCGTACGATCGATACG'\n",
    "print(codon(seqs))"
   ]
  },
  {
   "cell_type": "markdown",
   "metadata": {},
   "source": [
    "## Functions: Exercise V\n",
    "\n",
    "1. Make a function **get_counts** and count the number of times each dinucleotide (AA, AC, AT, AG, …., GC, GG) occurs in a sequence.\n",
    "\n",
    "2. Use HIV_gag.fasta sequence given below to calculate nucleotide counts, dinucleotide counts and codon counts using the same function **get_counts**."
   ]
  },
  {
   "cell_type": "code",
   "execution_count": 11,
   "metadata": {},
   "outputs": [
    {
     "name": "stdout",
     "output_type": "stream",
     "text": [
      "{'ATG': 47, 'GGT': 7, 'GCG': 4, 'AGA': 41, 'TCA': 26, 'GTA': 24, 'TTA': 39, 'AGC': 22, 'GGG': 30, 'GGA': 39, 'GAA': 58, 'GAT': 14, 'CGA': 2, 'TGG': 23, 'AAA': 71, 'ATT': 26, 'CGG': 5, 'AGG': 27, 'CCA': 29, 'AAG': 69, 'TAT': 19, 'CAT': 21, 'ATA': 33, 'GCA': 23, 'GAG': 27, 'CTA': 20, 'TTC': 18, 'GTT': 8, 'AAT': 43, 'CCT': 16, 'GGC': 18, 'CTG': 19, 'ACA': 40, 'TGT': 13, 'CAA': 39, 'CAG': 72, 'TCC': 10, 'CTT': 7, 'ACC': 13, 'CTC': 10, 'GTG': 20, 'GAC': 19, 'GCT': 11, 'AAC': 29, 'AGT': 15, 'CAC': 17, 'GTC': 6, 'TAC': 21, 'ATC': 28, 'GCC': 10, 'ACT': 14, 'CCC': 10, 'TTT': 17, 'TTG': 15, 'TGC': 11, 'TCT': 8, 'CCG': 4, 'TCG': 1, 'TAA': 36, 'TAG': 60, 'TGA': 12}\n"
     ]
    }
   ],
   "source": [
    "#HIV-1 gag sequence\n",
    "def get_counts(bb,base=4):\n",
    "    times={}\n",
    "    for i in range(0,len(bb),base):\n",
    "        d=bb[i:i+base]\n",
    "        if d in times:\n",
    "            times[d]=times[d]+1\n",
    "        else:\n",
    "            times[d]=1\n",
    "    return(times)\n",
    "hiv_gag = 'ATGGGTGCGAGAGCGTCAGTATTAAGCGGGGGAGAATTAGATCGATGGGAAAAAATTCGGTTAAGGCCAGGGGGAAAGAAAAAATATAAATTAAAACATATAGTATGGGCAAGCAGGGAGCTAGAACGATTCGCAGTTAATCCTGGCCTGTTAGAAACATCAGAAGGCTGTAGACAAATACTGGGACAGCTACAACCATCCCTTCAGACAGGATCAGAAGAACTTAGATCATTATATAATACAGTAGCAACCCTCTATTGTGTGCATCAAAGGATAGAGATAAAAGACACCAAGGAAGCTTTAGACAAGATAGAGGAAGAGCAAAACAAAAGTAAGAAAAAAGCACAGCAAGCAGCAGCTGACACAGGACACAGCAATCAGGTCAGCCAAAATTACCCTATAGTGCAGAACATCCAGGGGCAAATGGTACATCAGGCCATATCACCTAGAACTTTAAATGCATGGGTAAAAGTAGTAGAAGAGAAGGCTTTCAGCCCAGAAGTGATACCCATGTTTTCAGCATTATCAGAAGGAGCCACCCCACAAGATTTAAACACCATGCTAAACACAGTGGGGGGACATCAAGCAGCCATGCAAATGTTAAAAGAGACCATCAATGAGGAAGCTGCAGAATGGGATAGAGTGCATCCAGTGCATGCAGGGCCTATTGCACCAGGCCAGATGAGAGAACCAAGGGGAAGTGACATAGCAGGAACTACTAGTACCCTTCAGGAACAAATAGGATGGATGACAAATAATCCACCTATCCCAGTAGGAGAAATTTATAAAAGATGGATAATCCTGGGATTAAATAAAATAGTAAGAATGTATAGCCCTACCAGCATTCTGGACATAAGACAAGGACCAAAGGAACCCTTTAGAGACTATGTAGACCGGTTCTATAAAACTCTAAGAGCCGAGCAAGCTTCACAGGAGGTAAAAAATTGGATGACAGAAACCTTGTTGGTCCAAAATGCGAACCCAGATTGTAAGACTATTTTAAAAGCATTGGGACCAGCGGCTACACTAGAAGAAATGATGACAGCATGTCAGGGAGTAGGAGGACCCGGCCATAAGGCAAGAGTTTTGGCTGAAGCAATGAGCCAAGTAACAAATTCAGCTACCATAATGATGCAGAGAGGCAATTTTAGGAACCAAAGAAAGATTGTTAAGTGTTTCAATTGTGGCAAAGAAGGGCACACAGCCAGAAATTGCAGGGCCCCTAGGAAAAAGGGCTGTTGGAAATGTGGAAAGGAAGGACACCAAATGAAAGATTGTACTGAGAGACAGGCTAATTTTTTAGGGAAGATCTGGCCTTCCTACAAGGGAAGGCCAGGGAATTTTCTTCAGAGCAGACCAGAGCCAACAGCCCCACCAGAAGAGAGCTTCAGGTCTGGGGTAGAGACAACAACTCCCCCTCAGAAGCAGGAGCCGATAGACAAGGAACTGTATCCTTTAACTTCCCTCAGGTCACTCTTTGGCAACGACCCCTCGTCACAATAAAGATAGGGGGGCAACTAAAGGAAGCTCTATTAGATACAGGAGCAGATGATACAGTATTAGAAGAAATGAGTTTGCCAGGAAGATGGAAACCAAAAATGATAGGGGGAATTGGAGGTTTTATCAAAGTAAGACAGTATGATCAGATACTCATAGAAATCTGTGGACATAAAGCTATAGGTACAGTATTAGTAGGACCTACACCTGTCAACATAATTGGAAGAAATCTGTTGACTCAGATTGGTTGCACTTTAAATTTTCCCATTAGCCCTATTGAGACTGTACCAGTAAAATTAAAGCCAGGAATGGATGGCCCAAAAGTTAAACAATGGCCATTGACAGAAGAAAAAATAAAAGCATTAGTAGAAATTTGTACAGAGATGGAAAAGGAAGGGAAAATTTCAAAAATTGGGCCTGAAAATCCATACAATACTCCAGTATTTGCCATAAAGAAAAAAGACAGTACTAAATGGAGAAAATTAGTAGATTTCAGAGAACTTAATAAGAGAACTCAAGACTTCTGGGAAGTTCAATTAGGAATACCACATCCCGCAGGGTTAAAAAAGAAAAAATCAGTAACAGTACTGGATGTGGGTGATGCATATTTTTCAGTTCCCTTAGATGAAGACTTCAGGAAGTATACTGCATTTACCATACCTAGTATAAACAATGAGACACCAGGGATTAGATATCAGTACAATGTGCTTCCACAGGGATGGAAAGGATCACCAGCAATATTCCAAAGTAGCATGACAAAAATCTTAGAGCCTTTTAGAAAACAAAATCCAGACATAGTTATCTATCAATACATGGATGATTTGTATGTAGGATCTGACTTAGAAATAGGGCAGCATAGAACAAAAATAGAGGAGCTGAGACAACATCTGTTGAGGTGGGGACTTACCACACCAGACAAAAAACATCAGAAAGAACCTCCATTCCTTTGGATGGGTTATGAACTCCATCCTGATAAATGGACAGTACAGCCTATAGTGCTGCCAGAAAAAGACAGCTGGACTGTCAATGACATACAGAAGTTAGTGGGGAAATTGAATTGGGCAAGTCAGATTTACCCAGGGATTAAAGTAAGGCAATTATGTAAACTCCTTAGAGGAACCAAAGCACTAACAGAAGTAATACCACTAACAGAAGAAGCAGAGCTAGAACTGGCAGAAAACAGAGAGATTCTAAAAGAACCAGTACATGGAGTGTATTATGACCCATCAAAAGACTTAATAGCAGAAATACAGAAGCAGGGGCAAGGCCAATGGACATATCAAATTTATCAAGAGCCATTTAAAAATCTGAAAACAGGAAAATATGCAAGAATGAGGGGTGCCCACACTAATGATGTAAAACAATTAACAGAGGCAGTGCAAAAAATAACCACAGAAAGCATAGTAATATGGGGAAAGACTCCTAAATTTAAACTGCCCATACAAAAGGAAACATGGGAAACATGGTGGACAGAGTATTGGCAAGCCACCTGGATTCCTGAGTGGGAGTTTGTTAATACCCCTCCCTTAGTGAAATTATGGTACCAGTTAGAGAAAGAACCCATAGTAGGAGCAGAAACCTTCTATGTAGATGGGGCAGCTAACAGGGAGACTAAATTAGGAAAAGCAGGATATGTTACTAATAGAGGAAGACAAAAAGTTGTCACCCTAACTGACACAACAAATCAGAAGACTGAGTTACAAGCAATTTATCTAGCTTTGCAGGATTCGGGATTAGAAGTAAACATAGTAACAGACTCACAATATGCATTAGGAATCATTCAAGCACAACCAGATCAAAGTGAATCAGAGTTAGTCAATCAAATAATAGAGCAGTTAATAAAAAAGGAAAAGGTCTATCTGGCATGGGTACCAGCACACAAAGGAATTGGAGGAAATGAACAAGTAGATAAATTAGTCAGTGCTGGAATCAGGAAAGTACTATTTTTAGATGGAATAGATAAGGCCCAAGATGAACATGAGAAATATCACAGTAATTGGAGAGCAATGGCTAGTGATTTTAACCTGCCACCTGTAGTAGCAAAAGAAATAGTAGCCAGCTGTGATAAATGTCAGCTAAAAGGAGAAGCCATGCATGGACAAGTAGACTGTAGTCCAGGAATATGGCAACTAGATTGTACACATTTAGAAGGAAAAGTTATCCTGGTAGCAGTTCATGTAGCCAGTGGATATATAGAAGCAGAAGTTATTCCAGCAGAAACAGGGCAGGAAACAGCATATTTTCTTTTAAAATTAGCAGGAAGATGGCCAGTAAAAACAATACATACTGACAATGGCAGCAATTTCACCGGTGCTACGGTTAGGGCCGCCTGTTGGTGGGCGGGAATCAAGCAGGAATTTGGAATTCCCTACAATCCCCAAAGTCAAGGAGTAGTAGAATCTATGAATAAAGAATTAAAGAAAATTATAGGACAGGTAAGAGATCAGGCTGAACATCTTAAGACAGCAGTACAAATGGCAGTATTCATCCACAATTTTAAAAGAAAAGGGGGGATTGGGGGGTACAGTGCAGGGGAAAGAATAGTAGACATAATAGCAACAGACATACAAACTAAAGAATTACAAAAACAAATTACAAAAATTCAAAATTTTCGGGTTTATTACAGGGACAGCAGAAATCCACTTTGGAAAGGACCAGCAAAGCTCCTCTGGAAAGGTGAAGGGGCAGTAGTAATACAAGATAATAGTGACATAAAAGTAGTGCCAAGAAGAAAAGCAAAGATCATTAGGGATTATGGAAAACAGATGGCAGGTGATGATTGTGTGGCAAGTAGACAGGATGAGGATTAGT'\n",
    "print(get_counts(hiv_gag,3))\n"
   ]
  },
  {
   "cell_type": "markdown",
   "metadata": {},
   "source": [
    "# Modules\n",
    "\n",
    "- A module is a file consisting of Python code.\n",
    "- A module allows you to logically organize your Python code.\n",
    "     - To split it into several files for easier maintenance.\n",
    "     - To reuse that handy function that you’ve written in several programs, without copying it into every script.\n",
    "- Remember we wrote a function to count the number of times a codon is used. We can store such functions in file so that we can use them later. We can store get_counts and translate_dna into a file called **dna_tools.py** \n",
    "    - This is .txt file you can make with notepad. You can copy and paste the scripts for the \"get_counts\" and \"translate_dna\" in this file. Save and close and make sure the file is renamed to dna_tools.py.\n",
    "- You can import a module in Python using its file name.\n",
    "    - ```import filename``` where filename is the name of the file, to tell the interpreter we are using this file.\n",
    "    - You can call a function from the other file by using ```filename.function```, where function is the name of the function\n",
    "print get_counts(hiv_gag,3)\n"
   ]
  },
  {
   "cell_type": "code",
   "execution_count": null,
   "metadata": {},
   "outputs": [],
   "source": [
    "import dna_tools #This calls the file dna_tools.py stored in the same folder\n",
    "print (dna_tools.get_counts('ATCGATCATGAC'))"
   ]
  },
  {
   "cell_type": "code",
   "execution_count": null,
   "metadata": {},
   "outputs": [],
   "source": [
    "# You can also rename a module when you import it in Python and call the function inside the module.\n",
    "import dna_tools as tools\n",
    "\n",
    "print (tools.get_counts('ATCGATCATGAC'))\n",
    "print (tools.translate_dna('ATCGATCATGAC'))"
   ]
  },
  {
   "cell_type": "markdown",
   "metadata": {},
   "source": [
    "# Default modules\n",
    "- Python also has some default modules\n",
    "    - ```python\n",
    "    import math\n",
    "    import itertools\n",
    "    import random\n",
    "    import sys\n",
    "    import dir\n",
    "    ```\n",
    "\t- And many more: https://docs.python.org/3/library/index.html\n",
    "- You can use functions from these default modules\n",
    "    - i.e. ```math.log(5)``` ; ```random.rantint(0,5)```\n"
   ]
  },
  {
   "cell_type": "code",
   "execution_count": 12,
   "metadata": {},
   "outputs": [
    {
     "name": "stdout",
     "output_type": "stream",
     "text": [
      "120\n",
      "2.0\n",
      "7.0\n"
     ]
    }
   ],
   "source": [
    "import math\n",
    "\n",
    "print (math.factorial(5)) #prints 5!\n",
    "print (math.log(100,10)) #prints log10(100)\n",
    "print (math.sqrt(49)) #prints the square root of 49"
   ]
  },
  {
   "cell_type": "code",
   "execution_count": 15,
   "metadata": {},
   "outputs": [
    {
     "name": "stdout",
     "output_type": "stream",
     "text": [
      "0\n",
      "8\n",
      "2\n",
      "6.949799730294731\n"
     ]
    }
   ],
   "source": [
    "import random\n",
    "\n",
    "print (random.randint(0,5))  #prints a random integer between 0 and 5\n",
    "print (random.randint(0,10)) #prints a random integer between 0 and 5\n",
    "print (random.randint(0,15)) #prints a random integer between 0 and 5\n",
    "print (random.normalvariate(10,3)) #generates a number with a normal variation. 10 being the mean and 3 the standard deviation\n"
   ]
  },
  {
   "cell_type": "code",
   "execution_count": 22,
   "metadata": {},
   "outputs": [
    {
     "name": "stdout",
     "output_type": "stream",
     "text": [
      "0.6167562353798689\n"
     ]
    }
   ],
   "source": [
    "# Use random module to generate a random number between 0 and 1.\n",
    "import random\n",
    "print(random.random())"
   ]
  },
  {
   "cell_type": "code",
   "execution_count": 25,
   "metadata": {},
   "outputs": [
    {
     "data": {
      "text/plain": [
       "[14, 2, 10, 15, 6, 8, 4, 16, 18, 9]"
      ]
     },
     "execution_count": 25,
     "metadata": {},
     "output_type": "execute_result"
    }
   ],
   "source": [
    "# Use random module to generate 10 random integers between 0 and 20.\n",
    "# hint combine random.sample() and range()\n",
    "random.sample(range(0,20),10)"
   ]
  },
  {
   "cell_type": "markdown",
   "metadata": {},
   "source": [
    "# Built-in Modules Exercise I\n",
    "1. Import the math and random module\n",
    "2. Generate a number between 0 and 100\n",
    "3. If the square root of the number is larger than 6, print the number\n",
    "4. If the square root of the number is smaller or equal than 6, print the square root of the number\n",
    "5. Put this block of code in a for loop and make it loop 10 times."
   ]
  },
  {
   "cell_type": "code",
   "execution_count": 37,
   "metadata": {},
   "outputs": [
    {
     "name": "stdout",
     "output_type": "stream",
     "text": [
      "100\n",
      "5.656854249492381\n",
      "65\n",
      "76\n",
      "4.898979485566356\n",
      "2.449489742783178\n",
      "3.3166247903554\n",
      "4.47213595499958\n",
      "53\n",
      "47\n"
     ]
    }
   ],
   "source": [
    "import math\n",
    "import random\n",
    "for i in range(0,10):\n",
    "    k=random.randint(0,100)\n",
    "    a=math.sqrt(k)\n",
    "    if a>6:\n",
    "        print(k)\n",
    "    else:\n",
    "        print(a)\n",
    "    i=i+1\n",
    "    \n",
    "    "
   ]
  },
  {
   "cell_type": "markdown",
   "metadata": {},
   "source": [
    "# Built-in Modules: Exercise II (Assignment type)\n",
    "\n",
    "1. Generate a random number, **ran**. If **ran** is 0 then print 'A', if **ran** is 1 then print 'T', if **ran** is 2 then print 'G', and if **ran** is 3 then print 'C'.\n",
    "\n",
    "2. Can you use another built-in function in the random module to directly generate 'ATGC's?\n",
    "\n",
    "3. Generate a random dna sequence which is 500 bases long using the random module and store it in a variable.\n",
    "\n",
    "4. Use the **dna_tools** module created by you to generate a di-nucleotide profile (i.e. frequency of AA, AT, ….GG) and tri-nucleotide profile of the dna sequence.  \n"
   ]
  },
  {
   "cell_type": "code",
   "execution_count": 66,
   "metadata": {},
   "outputs": [
    {
     "name": "stdout",
     "output_type": "stream",
     "text": [
      "C\n"
     ]
    }
   ],
   "source": [
    "# Q1 and Q2.\n",
    "# You can check the https://docs.python.org/3/library/index.html to see how to generate random numbers\n",
    "# Import a module which you can use to create random numbers\n",
    "# Hint: use if elif conditions\n",
    "import random\n",
    "ran=str(random.randint(0,3))\n",
    "dir={'0':'A','1':'T','2':'G','3':'C'}\n",
    "#print(list(dir.values())[ran]) 第一种方法\n",
    "#以下是第二种方法 \n",
    "if ran in dir.keys():\n",
    "    print(dir[ran])\n",
    "else:\n",
    "    print('byebye')\n",
    "\n",
    "    #我的方法都比答案好~~~\n",
    "\n"
   ]
  },
  {
   "cell_type": "code",
   "execution_count": 86,
   "metadata": {},
   "outputs": [
    {
     "name": "stdout",
     "output_type": "stream",
     "text": [
      "CCGAGTTTCGCATACAGAGTCGTGTCGGTGAACAGACCCGGAGATATCGCAAAGAACACGCTGGAAAGGCGGGCTGGACCGTGTGTCTGGCTCCTCGGTCACTCCAGCAGATGTGAGATGAGGATGCGAGTCCGCTGATTGAGCGAACACAGGATGGTTGATAAGAAACATGCCACCTTACTGAACTCAGGACGAAAGCTAGTCGTAAATGAAAAGAGGACCCATCATCTGCGTGATTGGAGGGCGCCGACCTCACGAAGGAACGCCTCCATTCGTGAATCGGTCTATCGTTGTTGTCCTTTCCTGGTGGACTATCAAACGATTCCAATTTTAACTCGAATCAGTCCCCCCCCGGGTTCGTAATGCAACCCTCTGGGGGCTACAAAACTCTGTGGAGTCCCGCTAGTAATCAACGGCGTTGGCGGTCTAACACCCGACGACGGCCGACCTGTGCTACGGAGGGTTCCATTCTGTTACAAAAAGTCCCTAGCGGTCCGCTA\n"
     ]
    }
   ],
   "source": [
    "# Q3. Import a module which you can use to create random numbers\n",
    "# Use for loop to create random DNA sequence of length 500\n",
    "import random\n",
    "dir={'0':'A','1':'T','2':'G','3':'C'}\n",
    "DNA=''\n",
    "i=0\n",
    "for i in range(0,500):\n",
    "    ran=str(random.randint(0,3))\n",
    "    DNA=DNA+dir[ran]\n",
    "    i=i+1\n",
    "\n",
    "print(DNA)\n",
    "#答案更好"
   ]
  },
  {
   "cell_type": "code",
   "execution_count": null,
   "metadata": {},
   "outputs": [],
   "source": [
    "# 4. Import dna_tools and access the functions defined in dna_tools to create a di-nucletide profile and tri-nucleotide profile\n",
    "import dna_tools as tools\n",
    "\n",
    "\n"
   ]
  }
 ],
 "metadata": {
  "kernelspec": {
   "display_name": "Python 3",
   "language": "python",
   "name": "python3"
  },
  "language_info": {
   "codemirror_mode": {
    "name": "ipython",
    "version": 3
   },
   "file_extension": ".py",
   "mimetype": "text/x-python",
   "name": "python",
   "nbconvert_exporter": "python",
   "pygments_lexer": "ipython3",
   "version": "3.7.4"
  }
 },
 "nbformat": 4,
 "nbformat_minor": 1
}
