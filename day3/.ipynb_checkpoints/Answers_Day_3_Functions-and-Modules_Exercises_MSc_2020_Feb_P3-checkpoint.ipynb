{
 "cells": [
  {
   "cell_type": "markdown",
   "metadata": {},
   "source": [
    "# Functions\n",
    "\n",
    "- A function is a block of organized, reusable code that is used to perform a single, related action. \n",
    "- There are many prebuilt functions that you already know.\n",
    "   - for example: print\n",
    "   - Now we are going to create our own functions\n",
    "- def means that you are defining a function in this block. function_name is the name of the function and can be anything and the variables between the parenthesis are the parameters (input) for the function. For example:\n",
    "```python\n",
    "def function_name(parameter1, parameter2):   #in this line we define the function 'function_name' with two parameters\n",
    "    value = parameter1                        #we make a new variable that is equal to parameter 1\n",
    "    return value                              #this function returns the variable 'value'\n",
    "test = function_name(\"Hello\", ”Functions\")  #we create a variable 'test' that is equal to the return of the function. \n",
    "```\n",
    "- Try to figure out if you can guess what the output of the example is, then you can try it by running it in the codeblock below."
   ]
  },
  {
   "cell_type": "code",
   "execution_count": null,
   "metadata": {},
   "outputs": [],
   "source": [
    "def hello_functions():        #define a function named 'hello_functions' with no parameters\n",
    "    value = \"Hello World!\"    \n",
    "    return value              #return the variable 'value', which is equal to \"Hello World!\" in this case.\n",
    "\n",
    "hello = hello_functions()      #make a new variable that is equal to the return value of 'hello_functions', which is \"\"Hello World!\"\"\n",
    "print(hello)"
   ]
  },
  {
   "cell_type": "code",
   "execution_count": null,
   "metadata": {},
   "outputs": [],
   "source": [
    "# Define a function to print a list\n",
    "#A function does not have to return a value, it can also perform a function. The function below prints all the items in a list.\n",
    "def print_list(my_list):\n",
    "    for item in my_list:\n",
    "        print(item)\n",
    "\n",
    "test_list = [1,2,3]\n",
    "print_list(test_list)"
   ]
  },
  {
   "cell_type": "code",
   "execution_count": null,
   "metadata": {},
   "outputs": [],
   "source": [
    "# however ...\n",
    "# \"Return ...\" at the end of the function is pivotal for letting Python remember the output derived from the function\n",
    "# The code below underlines this. \n",
    "# What happens when running this piece of code now?\n",
    "\n",
    "\n",
    "def add_numbers(number = 5):\n",
    "    a = number+number\n",
    "    print (\"From witin function:\",a)\n",
    "    \n",
    "sum_numbers = add_numbers()     \n",
    "print(\"From variable:\",sum_numbers, \"\\n Python did not remember\")\n",
    "\n",
    "print (\"-------------------------------------\")\n",
    "\n",
    "def add_numbers(number = 5):\n",
    "    a = number+number\n",
    "    print (\"From witin function:\",a)\n",
    "    return (a)\n",
    "    \n",
    "sum_numbers = add_numbers()     \n",
    "print(\"From variable:\",sum_numbers, \"\\n Python does remember!\")\n",
    "\n",
    "print (\"\\n-------------------------------------\\n\")\n",
    "\n",
    "# why does the function below show two outputs?\n",
    "add_numbers(10)"
   ]
  },
  {
   "cell_type": "markdown",
   "metadata": {},
   "source": [
    "# Functions - Exercise I\n",
    "1. Define a function with 3 variables as input.\n",
    "    - Remember the syntax of a function: def + \"name of the function\" + (\"variable1\", \"variable2\")\n",
    "2. create a new variable in this function that contains all three variables added together\n",
    "3. return this variable\n",
    "4. create three new variables with random dna sequences (5-10 nt long)\n",
    "5. create three new variables with random numbers (pcr values)\n",
    "6. print the result of this function using the three dna sequences as input\n",
    "6. print the result of this function using the three numbers as input    \n",
    "    "
   ]
  },
  {
   "cell_type": "code",
   "execution_count": 1,
   "metadata": {},
   "outputs": [],
   "source": [
    "# 1. Define a function with 3 variables as input.\n",
    "def my_function(var1,var2,var3):\n",
    "# 2.create a new variable in this function that contains all three variables added together    \n",
    "    new_var = var1 + var2 + var3\n",
    "# 3. return this variable    \n",
    "    return new_var \n"
   ]
  },
  {
   "cell_type": "code",
   "execution_count": 2,
   "metadata": {},
   "outputs": [],
   "source": [
    "# 4 create three new variables with random dna sequences (5-10 nt long)\n",
    "seq1 = \"acgtac\"\n",
    "seq2 = \"cgtggg\"\n",
    "seq3 = \"aacacattg\""
   ]
  },
  {
   "cell_type": "code",
   "execution_count": 3,
   "metadata": {},
   "outputs": [],
   "source": [
    "# 5. create three new variables with random numbers (pcr values)\n",
    "pcr1 = 5\n",
    "pcr2 = 3\n",
    "pcr3 = 17"
   ]
  },
  {
   "cell_type": "code",
   "execution_count": 4,
   "metadata": {},
   "outputs": [
    {
     "name": "stdout",
     "output_type": "stream",
     "text": [
      "acgtaccgtgggaacacattg\n"
     ]
    }
   ],
   "source": [
    "# 6. print the result of this function using the three dna sequences as input\n",
    "print (my_function(seq1,seq2,seq3))"
   ]
  },
  {
   "cell_type": "code",
   "execution_count": 5,
   "metadata": {},
   "outputs": [
    {
     "name": "stdout",
     "output_type": "stream",
     "text": [
      "25\n"
     ]
    }
   ],
   "source": [
    "# 7. print the result of this function using the three numbers as input \n",
    "print (my_function(pcr1,pcr2,pcr3))"
   ]
  },
  {
   "cell_type": "markdown",
   "metadata": {},
   "source": [
    "# Functions - Exercise II\n",
    "1. Define a new list variable containing 5 random numbers.\n",
    "2. Define a function with 1 variable as input\n",
    "4. create a new variable in this function that calculates the average of these numbers\n",
    " - Add numbers together and then divide by the length of the list\n",
    "5. return this variable\n",
    "6. print the result of this function when entering the list made at 1."
   ]
  },
  {
   "cell_type": "code",
   "execution_count": 6,
   "metadata": {},
   "outputs": [],
   "source": [
    "# 1. Define a new list variable containing 5 random numbers.\n",
    "my_list = [3,6,8,1,90]"
   ]
  },
  {
   "cell_type": "code",
   "execution_count": 7,
   "metadata": {},
   "outputs": [],
   "source": [
    "# 2. Define a function with 1 variable as input \n",
    "def get_average(var1):\n",
    "# 3. create a new variable in this function that calculates the average of these numbers\n",
    "    average = float(sum(var1))/len(var1)\n",
    "# 4. return this variable\n",
    "    return average   "
   ]
  },
  {
   "cell_type": "code",
   "execution_count": 8,
   "metadata": {},
   "outputs": [
    {
     "name": "stdout",
     "output_type": "stream",
     "text": [
      "21.6\n"
     ]
    }
   ],
   "source": [
    "# 5. print the result of this function when entering the list made at 1.\n",
    "print(get_average(my_list))"
   ]
  },
  {
   "cell_type": "markdown",
   "metadata": {},
   "source": [
    "# Functions exercise III (Assignment type)\n",
    "\n",
    "Now lets try to write a function to get all codons from the sequence: 'ACGATCGATCGTACGATCGATACG'\n",
    "1. Start a function that can handle this sequence as input\n",
    "2. In th efunction start a new empty list for the codons\n",
    "3. Loop over the sequence to get all codons (steps of 3)\n",
    "4. Append the list after each codon\n",
    "5. Return the list\n",
    "6. Print the result of the function when the sequence is used as input\n",
    "\n"
   ]
  },
  {
   "cell_type": "code",
   "execution_count": 9,
   "metadata": {},
   "outputs": [
    {
     "name": "stdout",
     "output_type": "stream",
     "text": [
      "0\n",
      "3\n",
      "6\n",
      "9\n",
      "12\n",
      "15\n",
      "18\n",
      "21\n",
      "['ACG', 'ATC', 'GAT', 'CGT', 'ACG', 'ATC', 'GAT', 'ACG']\n"
     ]
    }
   ],
   "source": [
    "# Write your code here\n",
    "# 1.\n",
    "def get_codons(seq):\n",
    "# 2. Make an empty list that will contain codons\n",
    "    codons = []\n",
    "# 3. loop\n",
    "    for i in range(0,len(seq),3):\n",
    "        print (i)\n",
    "# 4. Append        \n",
    "        codons.append(seq[i:i+3])\n",
    "# 5. return the codon list\n",
    "    return codons\n",
    "    #Loop over the seq to get all codons\n",
    "    #for codon in range(?,len(seq),?):\n",
    "        # Append your list with the codon from seq\n",
    "        # You can return the list containing codons\n",
    "        #return #your list #make sure that the return function is indented properly!!\n",
    "# 6.\n",
    "sequence = 'ACGATCGATCGTACGATCGATACG'\n",
    "print (get_codons(sequence))\n"
   ]
  },
  {
   "cell_type": "code",
   "execution_count": 10,
   "metadata": {},
   "outputs": [
    {
     "name": "stdout",
     "output_type": "stream",
     "text": [
      "['ACGAT', 'CGATC', 'GTACG', 'ATCGA', 'TACG']\n"
     ]
    }
   ],
   "source": [
    "# alternative solution including variable codon length\n",
    "def get_codons(sequence, codon_length=3):\n",
    "    codon_list = []\n",
    "    # Loop throug sequence and find codons\n",
    "    for position in range(0, len(sequence), codon_length):\n",
    "        codon = sequence[position:position+codon_length]\n",
    "        codon_list.append(codon)\n",
    "\n",
    "    return(codon_list)\n",
    "\n",
    "sequence = 'ACGATCGATCGTACGATCGATACG'\n",
    "\n",
    "a = get_codons(sequence, 5)\n",
    "print(a)"
   ]
  },
  {
   "cell_type": "markdown",
   "metadata": {},
   "source": [
    "## Functions and Dictionaries - Exercise IV\n",
    "\n",
    "Write a function to count the number of times a codon is used in the sequence: 'ACGATCGATCGTACGATCGATACG’.\n",
    "\n",
    "Remember a dictionary can be defined as:\n",
    "\n",
    "my_var = {'key':'value'}"
   ]
  },
  {
   "cell_type": "code",
   "execution_count": 11,
   "metadata": {},
   "outputs": [
    {
     "name": "stdout",
     "output_type": "stream",
     "text": [
      "{'ACG': 3, 'ATC': 2, 'GAT': 2, 'CGT': 1}\n"
     ]
    }
   ],
   "source": [
    "# write your code here (hint use the codons as keys and the counts as values)\n",
    "def get_codon_counts(seq):\n",
    "    codon_count = {} #Empty dictionary for codons\n",
    "    for i in range(0,len(seq),3):\n",
    "        codon = seq[i:i+3]\n",
    "        #Check if codon is in dictionary\n",
    "        if codon in codon_count:\n",
    "            codon_count[codon] += 1 #Increase count\n",
    "        else:\n",
    "            codon_count[codon] = 1 #Add codon\n",
    "    return codon_count\n",
    "\n",
    "sequence = 'ACGATCGATCGTACGATCGATACG'\n",
    "print (get_codon_counts(sequence))\n"
   ]
  },
  {
   "cell_type": "markdown",
   "metadata": {},
   "source": [
    "## Functions: Exercise V\n",
    "\n",
    "1. Make a function **get_counts** and count the number of times each dinucleotide (AA, AC, AT, AG, …., GC, GG) occurs in a sequence.\n",
    "\n",
    "2. Use HIV_gag.fasta sequence given below to calculate nucleotide counts, dinucleotide counts and codon counts using the same function **get_counts**."
   ]
  },
  {
   "cell_type": "code",
   "execution_count": 1,
   "metadata": {},
   "outputs": [
    {
     "name": "stdout",
     "output_type": "stream",
     "text": [
      "{'ATG': 47, 'GGT': 7, 'GCG': 4, 'AGA': 41, 'TCA': 26, 'GTA': 24, 'TTA': 39, 'AGC': 22, 'GGG': 30, 'GGA': 39, 'GAA': 58, 'GAT': 14, 'CGA': 2, 'TGG': 23, 'AAA': 71, 'ATT': 26, 'CGG': 5, 'AGG': 27, 'CCA': 29, 'AAG': 69, 'TAT': 19, 'CAT': 21, 'ATA': 33, 'GCA': 23, 'GAG': 27, 'CTA': 20, 'TTC': 18, 'GTT': 8, 'AAT': 43, 'CCT': 16, 'GGC': 18, 'CTG': 19, 'ACA': 40, 'TGT': 13, 'CAA': 39, 'CAG': 72, 'TCC': 10, 'CTT': 7, 'ACC': 13, 'CTC': 10, 'GTG': 20, 'GAC': 19, 'GCT': 11, 'AAC': 29, 'AGT': 15, 'CAC': 17, 'GTC': 6, 'TAC': 21, 'ATC': 28, 'GCC': 10, 'ACT': 14, 'CCC': 10, 'TTT': 17, 'TTG': 15, 'TGC': 11, 'TCT': 8, 'CCG': 4, 'TCG': 1, 'TAA': 36, 'TAG': 60, 'TGA': 12}\n"
     ]
    }
   ],
   "source": [
    "#HIV-1 gag sequence\n",
    "hiv_gag = 'ATGGGTGCGAGAGCGTCAGTATTAAGCGGGGGAGAATTAGATCGATGGGAAAAAATTCGGTTAAGGCCAGGGGGAAAGAAAAAATATAAATTAAAACATATAGTATGGGCAAGCAGGGAGCTAGAACGATTCGCAGTTAATCCTGGCCTGTTAGAAACATCAGAAGGCTGTAGACAAATACTGGGACAGCTACAACCATCCCTTCAGACAGGATCAGAAGAACTTAGATCATTATATAATACAGTAGCAACCCTCTATTGTGTGCATCAAAGGATAGAGATAAAAGACACCAAGGAAGCTTTAGACAAGATAGAGGAAGAGCAAAACAAAAGTAAGAAAAAAGCACAGCAAGCAGCAGCTGACACAGGACACAGCAATCAGGTCAGCCAAAATTACCCTATAGTGCAGAACATCCAGGGGCAAATGGTACATCAGGCCATATCACCTAGAACTTTAAATGCATGGGTAAAAGTAGTAGAAGAGAAGGCTTTCAGCCCAGAAGTGATACCCATGTTTTCAGCATTATCAGAAGGAGCCACCCCACAAGATTTAAACACCATGCTAAACACAGTGGGGGGACATCAAGCAGCCATGCAAATGTTAAAAGAGACCATCAATGAGGAAGCTGCAGAATGGGATAGAGTGCATCCAGTGCATGCAGGGCCTATTGCACCAGGCCAGATGAGAGAACCAAGGGGAAGTGACATAGCAGGAACTACTAGTACCCTTCAGGAACAAATAGGATGGATGACAAATAATCCACCTATCCCAGTAGGAGAAATTTATAAAAGATGGATAATCCTGGGATTAAATAAAATAGTAAGAATGTATAGCCCTACCAGCATTCTGGACATAAGACAAGGACCAAAGGAACCCTTTAGAGACTATGTAGACCGGTTCTATAAAACTCTAAGAGCCGAGCAAGCTTCACAGGAGGTAAAAAATTGGATGACAGAAACCTTGTTGGTCCAAAATGCGAACCCAGATTGTAAGACTATTTTAAAAGCATTGGGACCAGCGGCTACACTAGAAGAAATGATGACAGCATGTCAGGGAGTAGGAGGACCCGGCCATAAGGCAAGAGTTTTGGCTGAAGCAATGAGCCAAGTAACAAATTCAGCTACCATAATGATGCAGAGAGGCAATTTTAGGAACCAAAGAAAGATTGTTAAGTGTTTCAATTGTGGCAAAGAAGGGCACACAGCCAGAAATTGCAGGGCCCCTAGGAAAAAGGGCTGTTGGAAATGTGGAAAGGAAGGACACCAAATGAAAGATTGTACTGAGAGACAGGCTAATTTTTTAGGGAAGATCTGGCCTTCCTACAAGGGAAGGCCAGGGAATTTTCTTCAGAGCAGACCAGAGCCAACAGCCCCACCAGAAGAGAGCTTCAGGTCTGGGGTAGAGACAACAACTCCCCCTCAGAAGCAGGAGCCGATAGACAAGGAACTGTATCCTTTAACTTCCCTCAGGTCACTCTTTGGCAACGACCCCTCGTCACAATAAAGATAGGGGGGCAACTAAAGGAAGCTCTATTAGATACAGGAGCAGATGATACAGTATTAGAAGAAATGAGTTTGCCAGGAAGATGGAAACCAAAAATGATAGGGGGAATTGGAGGTTTTATCAAAGTAAGACAGTATGATCAGATACTCATAGAAATCTGTGGACATAAAGCTATAGGTACAGTATTAGTAGGACCTACACCTGTCAACATAATTGGAAGAAATCTGTTGACTCAGATTGGTTGCACTTTAAATTTTCCCATTAGCCCTATTGAGACTGTACCAGTAAAATTAAAGCCAGGAATGGATGGCCCAAAAGTTAAACAATGGCCATTGACAGAAGAAAAAATAAAAGCATTAGTAGAAATTTGTACAGAGATGGAAAAGGAAGGGAAAATTTCAAAAATTGGGCCTGAAAATCCATACAATACTCCAGTATTTGCCATAAAGAAAAAAGACAGTACTAAATGGAGAAAATTAGTAGATTTCAGAGAACTTAATAAGAGAACTCAAGACTTCTGGGAAGTTCAATTAGGAATACCACATCCCGCAGGGTTAAAAAAGAAAAAATCAGTAACAGTACTGGATGTGGGTGATGCATATTTTTCAGTTCCCTTAGATGAAGACTTCAGGAAGTATACTGCATTTACCATACCTAGTATAAACAATGAGACACCAGGGATTAGATATCAGTACAATGTGCTTCCACAGGGATGGAAAGGATCACCAGCAATATTCCAAAGTAGCATGACAAAAATCTTAGAGCCTTTTAGAAAACAAAATCCAGACATAGTTATCTATCAATACATGGATGATTTGTATGTAGGATCTGACTTAGAAATAGGGCAGCATAGAACAAAAATAGAGGAGCTGAGACAACATCTGTTGAGGTGGGGACTTACCACACCAGACAAAAAACATCAGAAAGAACCTCCATTCCTTTGGATGGGTTATGAACTCCATCCTGATAAATGGACAGTACAGCCTATAGTGCTGCCAGAAAAAGACAGCTGGACTGTCAATGACATACAGAAGTTAGTGGGGAAATTGAATTGGGCAAGTCAGATTTACCCAGGGATTAAAGTAAGGCAATTATGTAAACTCCTTAGAGGAACCAAAGCACTAACAGAAGTAATACCACTAACAGAAGAAGCAGAGCTAGAACTGGCAGAAAACAGAGAGATTCTAAAAGAACCAGTACATGGAGTGTATTATGACCCATCAAAAGACTTAATAGCAGAAATACAGAAGCAGGGGCAAGGCCAATGGACATATCAAATTTATCAAGAGCCATTTAAAAATCTGAAAACAGGAAAATATGCAAGAATGAGGGGTGCCCACACTAATGATGTAAAACAATTAACAGAGGCAGTGCAAAAAATAACCACAGAAAGCATAGTAATATGGGGAAAGACTCCTAAATTTAAACTGCCCATACAAAAGGAAACATGGGAAACATGGTGGACAGAGTATTGGCAAGCCACCTGGATTCCTGAGTGGGAGTTTGTTAATACCCCTCCCTTAGTGAAATTATGGTACCAGTTAGAGAAAGAACCCATAGTAGGAGCAGAAACCTTCTATGTAGATGGGGCAGCTAACAGGGAGACTAAATTAGGAAAAGCAGGATATGTTACTAATAGAGGAAGACAAAAAGTTGTCACCCTAACTGACACAACAAATCAGAAGACTGAGTTACAAGCAATTTATCTAGCTTTGCAGGATTCGGGATTAGAAGTAAACATAGTAACAGACTCACAATATGCATTAGGAATCATTCAAGCACAACCAGATCAAAGTGAATCAGAGTTAGTCAATCAAATAATAGAGCAGTTAATAAAAAAGGAAAAGGTCTATCTGGCATGGGTACCAGCACACAAAGGAATTGGAGGAAATGAACAAGTAGATAAATTAGTCAGTGCTGGAATCAGGAAAGTACTATTTTTAGATGGAATAGATAAGGCCCAAGATGAACATGAGAAATATCACAGTAATTGGAGAGCAATGGCTAGTGATTTTAACCTGCCACCTGTAGTAGCAAAAGAAATAGTAGCCAGCTGTGATAAATGTCAGCTAAAAGGAGAAGCCATGCATGGACAAGTAGACTGTAGTCCAGGAATATGGCAACTAGATTGTACACATTTAGAAGGAAAAGTTATCCTGGTAGCAGTTCATGTAGCCAGTGGATATATAGAAGCAGAAGTTATTCCAGCAGAAACAGGGCAGGAAACAGCATATTTTCTTTTAAAATTAGCAGGAAGATGGCCAGTAAAAACAATACATACTGACAATGGCAGCAATTTCACCGGTGCTACGGTTAGGGCCGCCTGTTGGTGGGCGGGAATCAAGCAGGAATTTGGAATTCCCTACAATCCCCAAAGTCAAGGAGTAGTAGAATCTATGAATAAAGAATTAAAGAAAATTATAGGACAGGTAAGAGATCAGGCTGAACATCTTAAGACAGCAGTACAAATGGCAGTATTCATCCACAATTTTAAAAGAAAAGGGGGGATTGGGGGGTACAGTGCAGGGGAAAGAATAGTAGACATAATAGCAACAGACATACAAACTAAAGAATTACAAAAACAAATTACAAAAATTCAAAATTTTCGGGTTTATTACAGGGACAGCAGAAATCCACTTTGGAAAGGACCAGCAAAGCTCCTCTGGAAAGGTGAAGGGGCAGTAGTAATACAAGATAATAGTGACATAAAAGTAGTGCCAAGAAGAAAAGCAAAGATCATTAGGGATTATGGAAAACAGATGGCAGGTGATGATTGTGTGGCAAGTAGACAGGATGAGGATTAGT'\n",
    "\n",
    "def get_counts(seq, base=3):\n",
    "    counts = {}\n",
    "    for i in range(0,len(seq),base):\n",
    "        seqslice = seq[i:i+base]\n",
    "        if seqslice in counts:\n",
    "            counts[seqslice ] += 1\n",
    "        else:\n",
    "            counts[seqslice ] = 1\n",
    "    return counts\n",
    "\n",
    "print (get_counts(hiv_gag,3))\n",
    "#print (get_counts(hiv_gag,2))\n",
    "\n"
   ]
  },
  {
   "cell_type": "markdown",
   "metadata": {},
   "source": [
    "# Modules\n",
    "\n",
    "- A module is a file consisting of Python code.\n",
    "- A module allows you to logically organize your Python code.\n",
    "     - To split it into several files for easier maintenance.\n",
    "     - To reuse that handy function that you’ve written in several programs, without copying it into every script.\n",
    "- Remember we wrote a function to count the number of times a codon is used. We can store such functions in file so that we can use them later. We can store get_counts and translate_dna into a file called **dna_tools.py** \n",
    "    - This is .txt file you can make with notepad. You can copy and paste the scripts for the \"get_counts\" and \"translate_dna\" in this file. Save and close and make sure the file is renamed to dna_tools.py.\n",
    "- You can import a module in Python using its file name.\n",
    "    - ```import filename``` where filename is the name of the file, to tell the interpreter we are using this file.\n",
    "    - You can call a function from the other file by using ```filename.function```, where function is the name of the function\n",
    "print get_counts(hiv_gag,3)\n"
   ]
  },
  {
   "cell_type": "code",
   "execution_count": null,
   "metadata": {},
   "outputs": [],
   "source": [
    "import dna_tools #This calls the file dna_tools.py stored in the same folder\n",
    "print (dna_tools.get_counts('ATCGATCATGAC'))"
   ]
  },
  {
   "cell_type": "code",
   "execution_count": null,
   "metadata": {},
   "outputs": [],
   "source": [
    "# You can also rename a module when you import it in Python and call the function inside the module.\n",
    "import dna_tools as tools\n",
    "\n",
    "print (tools.get_counts('ATCGATCATGAC'))\n",
    "print (tools.translate_dna('ATCGATCATGAC'))"
   ]
  },
  {
   "cell_type": "markdown",
   "metadata": {},
   "source": [
    "# Default modules\n",
    "- Python also has some default modules\n",
    "    - ```python\n",
    "    import math\n",
    "    import itertools\n",
    "    import random\n",
    "    import sys\n",
    "    import dir\n",
    "    ```\n",
    "\t- And many more: https://docs.python.org/3/library/index.html\n",
    "- You can use functions from these default modules\n",
    "    - i.e. ```math.log(5)``` ; ```random.rantint(0,5)```\n"
   ]
  },
  {
   "cell_type": "code",
   "execution_count": null,
   "metadata": {},
   "outputs": [],
   "source": [
    "import math\n",
    "\n",
    "print (math.factorial(5)) #prints 5!\n",
    "print (math.log(100,10)) #prints log10(100)\n",
    "print (math.sqrt(49)) #prints the square root of 49"
   ]
  },
  {
   "cell_type": "code",
   "execution_count": null,
   "metadata": {},
   "outputs": [],
   "source": [
    "import random\n",
    "\n",
    "print (random.randint(0,5))  #prints a random integer between 0 and 5\n",
    "print (random.randint(0,10)) #prints a random integer between 0 and 5\n",
    "print (random.randint(0,15)) #prints a random integer between 0 and 5\n",
    "print (random.normalvariate(10,3)) #generates a number with a normal variation. 10 being the mean and 3 the standard deviation\n"
   ]
  },
  {
   "cell_type": "code",
   "execution_count": null,
   "metadata": {},
   "outputs": [],
   "source": [
    "# Use the math package and find the solutions to the following:\n",
    "\n",
    "# Square root of 10\n",
    "# Absolute value of -5.1\n",
    "# 2^10\n",
    "\n",
    "import math\n",
    "print(math.sqrt(10))\n",
    "print(math.fabs(-5.1))\n",
    "print(math.pow(2,10))\n"
   ]
  },
  {
   "cell_type": "code",
   "execution_count": null,
   "metadata": {},
   "outputs": [],
   "source": [
    "# Use random module to generate a random number between 0 and 1.\n",
    "import random\n",
    "print(random.random())"
   ]
  },
  {
   "cell_type": "code",
   "execution_count": null,
   "metadata": {},
   "outputs": [],
   "source": [
    "# Use random module to generate 10 random integers between 0 and 20.\n",
    "# hint combine random.sample() and range()\n",
    "import random\n",
    "print(random.sample(range(21), 10))"
   ]
  },
  {
   "cell_type": "markdown",
   "metadata": {},
   "source": [
    "# Built-in Modules Exercise I\n",
    "1. Import the math and random module\n",
    "2. Generate a number between 0 and 100\n",
    "3. If the square root of the number is larger than 6, print the number\n",
    "4. If the square root of the number is smaller or equal than 6, print the square root of the number\n",
    "5. Put this block of code in a for loop and make it loop 10 times."
   ]
  },
  {
   "cell_type": "code",
   "execution_count": 2,
   "metadata": {},
   "outputs": [
    {
     "name": "stdout",
     "output_type": "stream",
     "text": [
      "80\n",
      "39\n",
      "3.7416573867739413\n",
      "4.795831523312719\n",
      "76\n",
      "70\n",
      "4.0\n",
      "90\n",
      "4.358898943540674\n",
      "5.477225575051661\n",
      "98\n",
      "1.7320508075688772\n",
      "1.4142135623730951\n",
      "99\n",
      "78\n",
      "77\n",
      "4.898979485566356\n",
      "5.0\n",
      "91\n",
      "5.196152422706632\n",
      "90\n",
      "5.196152422706632\n",
      "83\n",
      "2.0\n",
      "96\n"
     ]
    }
   ],
   "source": [
    "import math\n",
    "import random\n",
    "\n",
    "for i in range(0,25):\n",
    "    number = random.randint(0,100)\n",
    "    if(math.sqrt(number) > 6):\n",
    "        print (number)\n",
    "    else:\n",
    "        print (math.sqrt(number))"
   ]
  },
  {
   "cell_type": "code",
   "execution_count": 3,
   "metadata": {},
   "outputs": [
    {
     "name": "stdout",
     "output_type": "stream",
     "text": [
      "0 48 48\n",
      "1 16 4.0\n",
      "2 38 38\n",
      "3 45 45\n",
      "4 91 91\n",
      "5 82 82\n",
      "6 23 4.795831523312719\n",
      "7 75 75\n",
      "8 43 43\n",
      "9 37 37\n",
      "10 51 51\n",
      "11 94 94\n",
      "12 45 45\n",
      "13 38 38\n",
      "14 19 4.358898943540674\n",
      "15 68 68\n",
      "16 12 3.4641016151377544\n",
      "17 70 70\n",
      "18 69 69\n",
      "19 28 5.291502622129181\n",
      "20 3 1.7320508075688772\n",
      "21 90 90\n",
      "22 0 0.0\n",
      "23 50 50\n",
      "24 74 74\n",
      "25 39 39\n",
      "26 25 5.0\n",
      "27 56 56\n",
      "28 29 5.385164807134504\n",
      "29 78 78\n",
      "30 94 94\n",
      "31 56 56\n",
      "32 52 52\n",
      "33 65 65\n",
      "34 39 39\n",
      "35 32 5.656854249492381\n",
      "36 36 6.0\n",
      "37 52 52\n",
      "38 82 82\n",
      "39 61 61\n",
      "40 65 65\n",
      "41 35 5.916079783099616\n",
      "42 26 5.0990195135927845\n",
      "43 3 1.7320508075688772\n",
      "44 74 74\n",
      "45 65 65\n",
      "46 59 59\n",
      "47 0 0.0\n",
      "48 100 100\n",
      "49 40 40\n",
      "50 60 60\n",
      "51 28 5.291502622129181\n",
      "52 100 100\n",
      "53 35 5.916079783099616\n",
      "54 91 91\n",
      "55 32 5.656854249492381\n",
      "56 57 57\n",
      "57 44 44\n",
      "58 52 52\n",
      "59 81 81\n",
      "60 56 56\n",
      "61 46 46\n",
      "62 25 5.0\n",
      "63 31 5.5677643628300215\n",
      "64 21 4.58257569495584\n",
      "65 85 85\n",
      "66 60 60\n",
      "67 50 50\n",
      "68 72 72\n",
      "69 37 37\n",
      "70 26 5.0990195135927845\n",
      "71 17 4.123105625617661\n",
      "72 88 88\n",
      "73 35 5.916079783099616\n",
      "74 20 4.47213595499958\n",
      "75 68 68\n",
      "76 100 100\n",
      "77 69 69\n",
      "78 71 71\n",
      "79 35 5.916079783099616\n",
      "80 6 2.449489742783178\n",
      "81 57 57\n",
      "82 55 55\n",
      "83 82 82\n",
      "84 61 61\n",
      "85 1 1.0\n",
      "86 9 3.0\n",
      "87 54 54\n",
      "88 17 4.123105625617661\n",
      "89 38 38\n",
      "90 97 97\n",
      "91 14 3.7416573867739413\n",
      "92 46 46\n",
      "93 58 58\n",
      "94 75 75\n",
      "95 70 70\n",
      "96 64 64\n",
      "97 23 4.795831523312719\n",
      "98 13 3.605551275463989\n",
      "99 60 60\n"
     ]
    }
   ],
   "source": [
    "## other solution\n",
    "for i in range(100):\n",
    "    randy = random.randint(0,100)\n",
    "    if math.sqrt(randy) > 6:\n",
    "        print(i,randy,randy)\n",
    "    elif math.sqrt(randy) <= 6:\n",
    "        print(i,randy,math.sqrt(randy))"
   ]
  },
  {
   "cell_type": "markdown",
   "metadata": {},
   "source": [
    "# Built-in Modules: Exercise II (Assignment type)\n",
    "\n",
    "1. Generate a random number, **ran**. If **ran** is 0 then print 'A', if **ran** is 1 then print 'T', if **ran** is 2 then print 'G', and if **ran** is 3 then print 'C'.\n",
    "\n",
    "2. Can you use another built-in function in the random module to directly generate 'ATGC's?\n",
    "\n",
    "3. Generate a random dna sequence which is 500 bases long using the random module and store it in a variable.\n",
    "\n",
    "4. Use the **dna_tools** module created by you to generate a di-nucleotide profile (i.e. frequency of AA, AT, ….GG) and tri-nucleotide profile of the dna sequence.  \n"
   ]
  },
  {
   "cell_type": "code",
   "execution_count": 9,
   "metadata": {},
   "outputs": [
    {
     "name": "stdout",
     "output_type": "stream",
     "text": [
      "T\n",
      "A\n"
     ]
    }
   ],
   "source": [
    "# Q1 and Q2.\n",
    "# You can check the https://docs.python.org/3/library/index.html to see how to generate random numbers\n",
    "# Import a module which you can use to create random numbers\n",
    "# Hint: use if elif conditions\n",
    "import random\n",
    "ran = random.randint(0,3)\n",
    "if ran == 0:\n",
    "    print ('A')\n",
    "elif ran == 1:\n",
    "    print ('T')\n",
    "elif ran == 2:\n",
    "    print ('G')\n",
    "elif ran == 3:\n",
    "    print ('C')\n",
    "\n",
    "print(random.choice(['A','T','G','C']))\n",
    "print(random.choice(\"ATCG\"))"
   ]
  },
  {
   "cell_type": "code",
   "execution_count": 8,
   "metadata": {},
   "outputs": [
    {
     "name": "stdout",
     "output_type": "stream",
     "text": [
      "CAGGGCATTTGCGTTCGCTTCAGTGAGAAGGGCGCGTACTTGGAGTGACGGAATCATACTATTGGCGTGTCCACCGTTCCGTGTGACGCCAGAGTACTGCAGATATTTAGTATACGAGTAGTCTGCCCTAAAGTTAGCTACAAGTGTGTATTGTTAATTTAACCGTGTGTTTTGGCTGTTGACAAGTTTATGCCGAGATGTGAAAACGCCTCGGTTCTTCCGAAGTTCGTGATTGCCAACGTAAAATTATGCTGCGCCTGCAAAGCGTATGGGTGCGCTCTCAAACATATGAAATTTAAGGGCGATAGTCCAACACACCCAATGTGGAGATCACAGAACGTTTGTAAGAGATATAAGGAATTGCGTGATATTAAGCGTTTAGCGAAACGGTTATTGTCCATTGAAGGACGCGAACCATTTATGTATATATCTTAAGTGGCCAGACTACATAGTGGATCCGACTAGGCCAATCGGTTGACTTGTAATAACACGAAGCGCAG\n"
     ]
    }
   ],
   "source": [
    "# Q3. Import a module which you can use to create random numbers\n",
    "# Use for loop to create random DNA sequence of length 500\n",
    "import random\n",
    "\n",
    "seq = ''\n",
    "#i=0\n",
    "#while (i <= 500):\n",
    "for i in range(500):\n",
    "    #i +=1\n",
    "    seq += random.choice(['A','T','G','C'])\n",
    "\n",
    "print (seq)"
   ]
  },
  {
   "cell_type": "code",
   "execution_count": 11,
   "metadata": {},
   "outputs": [
    {
     "name": "stdout",
     "output_type": "stream",
     "text": [
      "Nucleotide Profile:\t\t {'C': 96, 'A': 137, 'G': 128, 'T': 139}\n",
      "Di-nucleotide Profile:\t\t {'CA': 11, 'GG': 9, 'GC': 18, 'AT': 21, 'TT': 21, 'GT': 21, 'TC': 11, 'GA': 19, 'AG': 18, 'CG': 16, 'TA': 18, 'CT': 8, 'TG': 18, 'CC': 11, 'AC': 10, 'AA': 20}\n",
      "Tri-nucleotide Profile:\t\t {'CAG': 3, 'GGC': 4, 'ATT': 6, 'TGC': 6, 'GTT': 7, 'CGC': 3, 'TTC': 2, 'AGT': 4, 'GAG': 2, 'AAG': 9, 'GCG': 3, 'TAC': 2, 'TTG': 6, 'TGA': 1, 'CGG': 3, 'AAT': 3, 'CAT': 3, 'ACT': 2, 'GTG': 3, 'TCC': 3, 'ACC': 1, 'CCG': 4, 'TGT': 6, 'GAC': 3, 'GCC': 6, 'AGA': 5, 'GTA': 4, 'CTG': 1, 'ATA': 3, 'TTT': 4, 'CGA': 1, 'GTC': 1, 'CCT': 1, 'AAA': 6, 'AGC': 1, 'TTA': 4, 'TAA': 2, 'GCT': 2, 'ATG': 4, 'GAA': 4, 'AAC': 4, 'TCG': 1, 'CTT': 1, 'TAT': 3, 'GGG': 1, 'CTC': 1, 'GAT': 2, 'CCA': 3, 'ACA': 1, 'CAC': 1, 'TGG': 1, 'TCA': 1, 'CGT': 2, 'GGA': 2, 'TCT': 1, 'CTA': 1, 'TAG': 1, 'ACG': 1, 'AG': 1}\n"
     ]
    }
   ],
   "source": [
    "# 4. Import dna_tools and access the functions defined in dna_tools to create a di-nucletide profile and tri-nucleotide profile\n",
    "import dna_tools as tools\n",
    "print ('Nucleotide Profile:\\t\\t', tools.get_counts(seq,1))\n",
    "print ('Di-nucleotide Profile:\\t\\t', tools.get_counts(seq,2))\n",
    "print ('Tri-nucleotide Profile:\\t\\t', tools.get_counts(seq,3))"
   ]
  },
  {
   "cell_type": "code",
   "execution_count": null,
   "metadata": {},
   "outputs": [],
   "source": []
  },
  {
   "cell_type": "code",
   "execution_count": null,
   "metadata": {},
   "outputs": [],
   "source": []
  }
 ],
 "metadata": {
  "kernelspec": {
   "display_name": "Python 3",
   "language": "python",
   "name": "python3"
  },
  "language_info": {
   "codemirror_mode": {
    "name": "ipython",
    "version": 3
   },
   "file_extension": ".py",
   "mimetype": "text/x-python",
   "name": "python",
   "nbconvert_exporter": "python",
   "pygments_lexer": "ipython3",
   "version": "3.7.4"
  }
 },
 "nbformat": 4,
 "nbformat_minor": 1
}
