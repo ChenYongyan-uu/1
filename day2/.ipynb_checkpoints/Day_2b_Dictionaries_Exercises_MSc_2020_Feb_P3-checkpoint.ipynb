{
 "cells": [
  {
   "cell_type": "markdown",
   "metadata": {},
   "source": [
    "# Dictionary\n",
    "\n",
    "- A dictionary is a list, but with another value as index. This value is called the key. \n",
    "- A dictionary can be created by listing key-value pairs inside curly braces, the different dictionary items are separated by a ```,``` and the key - value pair are connected by a ```:```. \n",
    "    - For example ``` gene = { 'name' : \"P53\", 'function' : 'DNA-repair', 'length' : '20kb'}```\n",
    "        - Here gene is the name of the dictionary, and its three items can be accessed as following:\n",
    "        ```python\n",
    "        gene[\"name\"] = \"P53\"\n",
    "        gene[\"function\"] = \"DNA-repair\"\n",
    "        gene[\"length\"] = \"20kb\"```\n",
    "- The values of the dictionary can be changed after creation!\n"
   ]
  },
  {
   "cell_type": "code",
   "execution_count": 1,
   "metadata": {},
   "outputs": [
    {
     "name": "stdout",
     "output_type": "stream",
     "text": [
      "P53\n",
      "DNA-repair\n"
     ]
    }
   ],
   "source": [
    "# above example dictionary\n",
    "gene = { 'name' : \"P53\", 'function' : 'DNA-repair', 'length' : '20kb'}\n",
    "print(gene[\"name\"])\n",
    "print(gene[\"function\"])"
   ]
  },
  {
   "cell_type": "code",
   "execution_count": 2,
   "metadata": {},
   "outputs": [
    {
     "name": "stdout",
     "output_type": "stream",
     "text": [
      "20kb\n"
     ]
    }
   ],
   "source": [
    "# print the dictionary value at key \"length\" \n",
    "print(gene[\"length\"])"
   ]
  },
  {
   "cell_type": "code",
   "execution_count": 4,
   "metadata": {},
   "outputs": [
    {
     "name": "stdout",
     "output_type": "stream",
     "text": [
      "HIV\n"
     ]
    }
   ],
   "source": [
    "# the following code creates a dictionary where n'name', 'type' and 'cell' are the keys and 'HIV', 'RNA' and 'CD4' are the values\n",
    "# notice how the key and values are in pairs seperated by : ('name':'HIV' is the first pair)\n",
    "virus = {'name':'HIV', 'type':'RNA', 'cell':'CD4'} \n",
    "print (virus['name']) # calls the value for key 'name'"
   ]
  },
  {
   "cell_type": "code",
   "execution_count": 5,
   "metadata": {},
   "outputs": [
    {
     "name": "stdout",
     "output_type": "stream",
     "text": [
      "RNA\n"
     ]
    }
   ],
   "source": [
    "# print the dictionary value at key \"type\" \n",
    "print(virus['type'])"
   ]
  },
  {
   "cell_type": "code",
   "execution_count": 6,
   "metadata": {},
   "outputs": [
    {
     "name": "stdout",
     "output_type": "stream",
     "text": [
      "{'name': 'HIV', 'type': 'RNA', 'cell': 'CD4'}\n",
      "{'name': 'HCV', 'type': 'RNA', 'cell': 'CD4'}\n"
     ]
    }
   ],
   "source": [
    "# Change values of a dictionary\n",
    "print (virus) # prints what is in the dictionary virus\n",
    "virus['name'] = 'HCV' # changes the value of key 'name' into value 'HCV'\n",
    "print (virus) # prints what is in the dictionary virus"
   ]
  },
  {
   "cell_type": "markdown",
   "metadata": {},
   "source": [
    "## Dictionary – Exercise\n",
    "\n",
    "1. Make a dictionary nucleotides and assign A, T, G and C as the keys and corresponding nucleotide names as values.\n",
    "2. Print the value assigned to key 'G' in the dictionary nucleotides.\n",
    "\n",
    "3. Print the first item stored in nucleotides. \n",
    "    - Hint:\n",
    "    ```python\n",
    "    gene = { 'name' : \"P53\", 'function' : 'DNA-repair', 'length' : '20kb'}\n",
    "    list_values = list(gene.values())   #gene.values() returns a view of the values in gene, list() is used to put them in a list. gene.keys() returns a a view of the keys in gene, list() can be use to put them in a list.\n",
    "    ```\n",
    "\n",
    "4. Print all keys and values stored in nucleotides.\n",
    "\n",
    "5. Ask the user to input a sequence and print the nucleotide names using nucleotides."
   ]
  },
  {
   "cell_type": "code",
   "execution_count": 2,
   "metadata": {},
   "outputs": [],
   "source": [
    "# 1. Make a dictionary, think what will be the keys and the values (key:value)\n",
    "#nucleotides = {?}\n",
    "nucleotides={'A':'Adenosine','T':'Thymine','C':'Cytosine','G':'Guanine'}"
   ]
  },
  {
   "cell_type": "code",
   "execution_count": 3,
   "metadata": {},
   "outputs": [
    {
     "name": "stdout",
     "output_type": "stream",
     "text": [
      "Guanine\n"
     ]
    }
   ],
   "source": [
    "# 2. Print value stored with key 'G'\n",
    "#print (?)\n",
    "print(nucleotides[\"G\"])"
   ]
  },
  {
   "cell_type": "code",
   "execution_count": 4,
   "metadata": {},
   "outputs": [
    {
     "name": "stdout",
     "output_type": "stream",
     "text": [
      "A\n",
      "Adenosine\n"
     ]
    }
   ],
   "source": [
    "# 3. Print the first value in the dictionary \n",
    "#print (list(?))\n",
    "print(list(nucleotides)[0])\n",
    "print (list(nucleotides.values())[0])"
   ]
  },
  {
   "cell_type": "code",
   "execution_count": 5,
   "metadata": {},
   "outputs": [
    {
     "name": "stdout",
     "output_type": "stream",
     "text": [
      "['A', 'T', 'C', 'G']\n",
      "['Adenosine', 'Thymine', 'Cytosine', 'Guanine']\n"
     ]
    }
   ],
   "source": [
    "# 4. Print all keys\n",
    "print(list(nucleotides))\n",
    "# Print all values\n",
    "print(list(nucleotides.values()))\n",
    "# Print all keys and their corresponding values\n",
    "# for ? in ?\n",
    "#     print (?, ?)\n"
   ]
  },
  {
   "cell_type": "code",
   "execution_count": 21,
   "metadata": {},
   "outputs": [
    {
     "name": "stdout",
     "output_type": "stream",
     "text": [
      "Which nucleotide do you want to check its name?T\n",
      "Thymine\n"
     ]
    }
   ],
   "source": [
    "# 5. Ask the user to input a sequence and print the nucleotide names using  \n",
    "# the nucleotide dictionary\n",
    "nucleotides={'A':'Adenosine','T':'Thymine','C':'Cytosine','G':'Guanine'}\n",
    "# Ask user input\n",
    "a=input(\"Which nucleotide do you want to check its name?\")\n",
    "# Check for each nucl\n",
    "if a in nucleotides.keys():\n",
    "    print (nucleotides[a])\n",
    "\n",
    "else:\n",
    "    print(\"Can't check its name.\")\n",
    "            \n",
    "        \n",
    "# print value using the dictionary\n",
    "\n",
    "# print a message when the input is a non-nucleotide \n"
   ]
  },
  {
   "cell_type": "markdown",
   "metadata": {},
   "source": [
    "## Modifying a Dictionary\n",
    "\n",
    "- You can add entries to Python dictionaries. For example, the following code adds the keyvalue pair ```\"origin\":\"human\"``` to the dictionary\n",
    "```python\n",
    "gene = { 'name' : \"P53\", 'function' : 'DNA-repair', 'length' : '20kb'}\n",
    "gene[\"origin\"] = \"human\"\n",
    "```\n",
    "- You can also change a value of the dictionary just like a normal list\n",
    "```python\n",
    "gene = { 'name' : \"P53\", 'function' : 'DNA-repair', 'length' : '20kb'}\n",
    "gene[\"function\"] = \"tumor-supressor\"\n",
    "```\n",
    "- You can delete a value from a dictionary by using the del function\n",
    "```python\n",
    "gene = { 'name' : \"P53\", 'function' : 'DNA-repair', 'length' : '20kb'}\n",
    "del gene[\"function\"] \n",
    "```"
   ]
  },
  {
   "cell_type": "code",
   "execution_count": 22,
   "metadata": {},
   "outputs": [
    {
     "name": "stdout",
     "output_type": "stream",
     "text": [
      "{'name': 'P53', 'function': 'DNA-repair', 'length': '20kb', 'origin': 'human'}\n"
     ]
    }
   ],
   "source": [
    "## add to dictionary \n",
    "gene = { 'name' : \"P53\", 'function' : 'DNA-repair', 'length' : '20kb'}\n",
    "gene[\"origin\"] = \"human\"\n",
    "print (gene)"
   ]
  },
  {
   "cell_type": "code",
   "execution_count": 24,
   "metadata": {},
   "outputs": [],
   "source": [
    "# add your name as value to key observer\n",
    "gene['observer']=\"Yongyan\""
   ]
  },
  {
   "cell_type": "code",
   "execution_count": 25,
   "metadata": {},
   "outputs": [
    {
     "name": "stdout",
     "output_type": "stream",
     "text": [
      "{'name': 'P53', 'function': 'tumor-supressor', 'length': '20kb', 'origin': 'human', 'observer': 'Yongyan'}\n"
     ]
    }
   ],
   "source": [
    "## change value in dictionary\n",
    "gene[\"function\"] = \"tumor-supressor\"\n",
    "print (gene)"
   ]
  },
  {
   "cell_type": "code",
   "execution_count": 26,
   "metadata": {},
   "outputs": [],
   "source": [
    "# change the value at key observer to someone else\n",
    "gene['observer']=\"Huanghuang\""
   ]
  },
  {
   "cell_type": "code",
   "execution_count": 27,
   "metadata": {},
   "outputs": [
    {
     "name": "stdout",
     "output_type": "stream",
     "text": [
      "{'name': 'P53', 'length': '20kb', 'origin': 'human', 'observer': 'Huanghuang'}\n"
     ]
    }
   ],
   "source": [
    "## delete from a dictionary\n",
    "del gene[\"function\"]\n",
    "print (gene)"
   ]
  },
  {
   "cell_type": "code",
   "execution_count": 28,
   "metadata": {},
   "outputs": [],
   "source": [
    "# delete observer both the value and key \n",
    "del gene[\"observer\"]"
   ]
  },
  {
   "cell_type": "code",
   "execution_count": 29,
   "metadata": {},
   "outputs": [
    {
     "name": "stdout",
     "output_type": "stream",
     "text": [
      "{'name': 'HIV', 'type': 'RNA', 'cell': 'CD4'}\n",
      "{'name': 'HCMV', 'type': 'RNA', 'cell': 'CD4'}\n",
      "{'name': 'HCMV', 'type': 'RNA', 'cell': 'CD4', 'target': 'Human'}\n",
      "{'name': 'HCMV', 'type': 'RNA', 'target': 'Human'}\n"
     ]
    }
   ],
   "source": [
    "virus = {'name':'HIV', 'type':'RNA', 'cell':'CD4'}\n",
    "print (virus)         #prints the entire dictionary\n",
    "\n",
    "virus['name'] = \"HCMV\"    #changes the value at key 'name' from hiv to hcmv\n",
    "print (virus)\n",
    "\n",
    "virus['target'] = \"Human\"  #adds a new key target with the value Human\n",
    "print (virus)\n",
    "\n",
    "del virus['cell']       #deletes the key and value at key cell\n",
    "print (virus)"
   ]
  },
  {
   "cell_type": "markdown",
   "metadata": {},
   "source": [
    "# Adding to dictionary - Exercise\n",
    "\n",
    "1. Ask the user to input a virus load(e.g. 1000) and store it as a variable\n",
    "2. Add this variable as new entry under the key: ```load```\n",
    "3. Change the value of this entry by adding 500 to it\n",
    "4. Print this value and check if the addition worked\n",
    "4. Delete the key ```cell``` \n",
    "5. Print the entire dictionary and check if the deletion worked"
   ]
  },
  {
   "cell_type": "code",
   "execution_count": 30,
   "metadata": {},
   "outputs": [],
   "source": [
    "# start with dictionary\n",
    "virus = {'name':'HIV', 'type':'RNA', 'cell':'CD4'}"
   ]
  },
  {
   "cell_type": "code",
   "execution_count": 41,
   "metadata": {},
   "outputs": [
    {
     "name": "stdout",
     "output_type": "stream",
     "text": [
      "Enter a virus load(e.g. 1000).33\n"
     ]
    }
   ],
   "source": [
    "# 1. Ask the user to input a virus load(e.g. 1000) and store it as a variable\n",
    "load=int(input(\"Enter a virus load(e.g. 1000).\"))"
   ]
  },
  {
   "cell_type": "code",
   "execution_count": 45,
   "metadata": {},
   "outputs": [],
   "source": [
    "# 2. Add this variable as new entry under the key: load\n",
    "virus[\"load\"]=load"
   ]
  },
  {
   "cell_type": "code",
   "execution_count": 46,
   "metadata": {},
   "outputs": [
    {
     "name": "stdout",
     "output_type": "stream",
     "text": [
      "533\n"
     ]
    }
   ],
   "source": [
    "# 3. Change the value of entry load by adding 500 to it\n",
    "# and 4.Print this value and check if the addition worked\n",
    "virus[\"load\"]=virus[\"load\"]+500\n",
    "print(virus[\"load\"])"
   ]
  },
  {
   "cell_type": "code",
   "execution_count": 47,
   "metadata": {},
   "outputs": [
    {
     "name": "stdout",
     "output_type": "stream",
     "text": [
      "{'name': 'HIV', 'type': 'RNA', 'load': 533}\n"
     ]
    }
   ],
   "source": [
    "# 5. Delete the key cell \n",
    "# and 6. Print the entire dictionary and check if the deletion worked\n",
    "del virus[\"cell\"]\n",
    "print(virus)"
   ]
  },
  {
   "cell_type": "markdown",
   "metadata": {},
   "source": [
    "## Adding to a Dictionary - More Exercises\n",
    "\n",
    "1. You can add entries to Python dictionaries. Ask user to enter a new key and value for your virus dictionary. Show what is in the updated dictionary\n",
    "\n",
    "2. Create two dictionaries containing information about viruses. \n",
    "\n",
    "3. Can you create a database (using lists) containing the 2 dictionaries? \n",
    "\n",
    "4. Print names of all viruses stored in our database.\n"
   ]
  },
  {
   "cell_type": "code",
   "execution_count": 48,
   "metadata": {},
   "outputs": [
    {
     "name": "stdout",
     "output_type": "stream",
     "text": [
      "You can add what you like.mao\n",
      "{'name': 'HIV', 'type': 'RNA', 'cell': 'CD4', 'users': 'mao'}\n"
     ]
    }
   ],
   "source": [
    "# 1. Add new key and value entered by the user to a dictionary\n",
    "virus = {'name':'HIV', 'type':'RNA', 'cell':'CD4'}\n",
    "virus[\"users\"]=input('You can add what you like.')\n",
    "print(virus)"
   ]
  },
  {
   "cell_type": "code",
   "execution_count": 50,
   "metadata": {},
   "outputs": [],
   "source": [
    "# 2. Create two dictionaries containing information (cell, load, type, name) about viruses\n",
    "virus1 = {'cell':'A','load':'23','type':'severe','name':'maozai'} # creates dictionary virus1\n",
    "virus2 = {'cell':'B','load':'26','type':'soso','name':'gougou'} # creates dictionary virus2\n"
   ]
  },
  {
   "cell_type": "code",
   "execution_count": 53,
   "metadata": {},
   "outputs": [
    {
     "name": "stdout",
     "output_type": "stream",
     "text": [
      "[{'cell': 'A', 'load': '23', 'type': 'severe', 'name': 'maozai'}, {'cell': 'B', 'load': '26', 'type': 'soso', 'name': 'gougou'}]\n",
      "maozai\n",
      "gougou\n"
     ]
    }
   ],
   "source": [
    "# 3. Create a database/list containing 2 virus dictionaries. \n",
    "#and 4. Print all viruses in the dictionary\n",
    "database = [virus1, virus2] \n",
    "print(database)\n",
    "for a in database:\n",
    "    print(a['name'])"
   ]
  },
  {
   "cell_type": "markdown",
   "metadata": {
    "collapsed": true
   },
   "source": [
    "## Looping a Dictionary\n",
    "\n",
    "- **You can loop through a dictionary using its keys.**\n",
    "- By using ```for var in dictionary``` we loop trough each key of the dictionary\n",
    "- Try to see if you can understand the example below\n"
   ]
  },
  {
   "cell_type": "code",
   "execution_count": 54,
   "metadata": {},
   "outputs": [
    {
     "name": "stdout",
     "output_type": "stream",
     "text": [
      "33200\n",
      "dict_values([18000, 13000, 2200])\n"
     ]
    }
   ],
   "source": [
    "# Create dictionary that contains virus loads for three different patients\n",
    "\n",
    "viral_load = {'Pat1':18000, 'Pat2':13000, 'Pat3':2200}\n",
    "total_load = 0 # Assign a variable to store total virus load\n",
    "\n",
    "# Loop through the dictionary to calculate sum of all virus loads\n",
    "for name in viral_load: # name loops over the keys in dict viral_load\n",
    "    total_load += viral_load[name] # += adds the value at the key in name to the total_load\n",
    "\n",
    "# or use one-liners to calculate sum of all virus loads\n",
    "total_load = sum(viral_load.values()) # use the sum and .values() function to get the total_load\n",
    "print (total_load)\n",
    "\n",
    "print (viral_load.values())"
   ]
  },
  {
   "cell_type": "markdown",
   "metadata": {},
   "source": [
    "# Looping dictionaries - Exercise (Assignment type)\n",
    "\n",
    "1. Create a dictionary that contains virus data of multiple patients.\n",
    "    - This is a dictionary of dictionaries. First create the dictionaries of the different patients and then combine them in a dictionary of dictionaries\n",
    "2. Loop trough the dictionary of dictionaries\n",
    "    - You should get data of a new patient every loop\n",
    "3. Count the number of patients with HIV/HCV    \n",
    "4. For each patient, add the load of the virus to the corresponding virus (HIV or HCV)\n",
    "5. Print the average of both viral loads\n"
   ]
  },
  {
   "cell_type": "code",
   "execution_count": 66,
   "metadata": {},
   "outputs": [],
   "source": [
    "# 1. Create a dictionary of dictionaries to store patient specific data\n",
    "patient1= {'name':'HIV', 'type':'RNA', 'cell':'CD4', 'load':18000}\n",
    "patient2= {'name':'HIV', 'type':'RNA', 'cell':'CD4', 'load':13000}\n",
    "patient3= {'name':'HIV', 'type':'RNA', 'cell':'CD4', 'load':19000}\n",
    "patient4= {'name':'HCV', 'type':'RNA', 'cell':'Hepa', 'load':2200}\n",
    "patient5= {'name':'HCV', 'type':'RNA', 'cell':'Hepa', 'load':8200}\n",
    "\n",
    "# think of the keys\n",
    "patients = [patient1,patient2,patient3,patient4,patient5]\n"
   ]
  },
  {
   "cell_type": "code",
   "execution_count": 68,
   "metadata": {},
   "outputs": [
    {
     "name": "stdout",
     "output_type": "stream",
     "text": [
      "{'name': 'HIV', 'type': 'RNA', 'cell': 'CD4', 'load': 18000}\n",
      "{'name': 'HIV', 'type': 'RNA', 'cell': 'CD4', 'load': 13000}\n",
      "{'name': 'HIV', 'type': 'RNA', 'cell': 'CD4', 'load': 19000}\n",
      "{'name': 'HCV', 'type': 'RNA', 'cell': 'Hepa', 'load': 2200}\n",
      "{'name': 'HCV', 'type': 'RNA', 'cell': 'Hepa', 'load': 8200}\n"
     ]
    }
   ],
   "source": [
    "# 2. Loop trough the dictionary of dictionaries\n",
    "# for ? in ? :\n",
    "for a in patients:\n",
    "    print(a)"
   ]
  },
  {
   "cell_type": "code",
   "execution_count": 70,
   "metadata": {},
   "outputs": [
    {
     "name": "stdout",
     "output_type": "stream",
     "text": [
      "We have 3 HIV patients and 2 HCV patients.\n"
     ]
    }
   ],
   "source": [
    "# 3. Count the number of patients with HIV/HCV   \n",
    "i=0\n",
    "c=0\n",
    "for b in patients:\n",
    "    if b['name']==\"HIV\":\n",
    "        i=i+1\n",
    "    elif b['name']==\"HCV\":\n",
    "        c=c+1\n",
    "print('We have',i,'HIV patients and',c,'HCV patients.')\n",
    "        "
   ]
  },
  {
   "cell_type": "code",
   "execution_count": 72,
   "metadata": {},
   "outputs": [
    {
     "name": "stdout",
     "output_type": "stream",
     "text": [
      "The load of HIV patients is 50000 and for the HCV patients is 10400 .\n"
     ]
    }
   ],
   "source": [
    "# 4. For each patient, add the load of the virus to the corresponding virus (HIV or HCV)\n",
    "HIV_load=0\n",
    "HCV_load=0\n",
    "for b in patients:\n",
    "    if b['name']==\"HIV\":\n",
    "        HIV_load =HIV_load+b['load']\n",
    "    elif b['name']==\"HCV\":\n",
    "        HCV_load =HCV_load+b['load']\n",
    "print('The load of HIV patients is',HIV_load,'and for the HCV patients is',HCV_load,'.')\n"
   ]
  },
  {
   "cell_type": "code",
   "execution_count": 73,
   "metadata": {},
   "outputs": [
    {
     "name": "stdout",
     "output_type": "stream",
     "text": [
      "The average load of HIV patients is 16666.666666666668 and for the HCV patients is 5200.0 .\n"
     ]
    }
   ],
   "source": [
    "# 5. Print the average of both viral loads\n",
    "i=0\n",
    "c=0\n",
    "HIV_load=0\n",
    "HCV_load=0\n",
    "for b in patients:\n",
    "    if b['name']==\"HIV\":\n",
    "        HIV_load =HIV_load+b['load']\n",
    "        i=i+1\n",
    "    elif b['name']==\"HCV\":\n",
    "        HCV_load =HCV_load+b['load']\n",
    "        c=c+1\n",
    "a_HIV_load=HIV_load/i\n",
    "a_HCV_load=HCV_load/c\n",
    "print('The average load of HIV patients is',a_HIV_load,'and for the HCV patients is',a_HCV_load,'.')"
   ]
  },
  {
   "cell_type": "markdown",
   "metadata": {},
   "source": [
    "### Extra Dictionary Exercises"
   ]
  },
  {
   "cell_type": "code",
   "execution_count": 80,
   "metadata": {},
   "outputs": [
    {
     "name": "stdout",
     "output_type": "stream",
     "text": [
      "I occurs in 4 times.\n",
      "S occurs in 4 times.\n",
      "M occurs in 1 times.\n",
      "P occurs in 2 times.\n"
     ]
    }
   ],
   "source": [
    "# Q1: Count how often each letter occurs in the word \"MISSISSIPPI\"\n",
    "# hint use the different letters as keys and the values how often your find them\n",
    "\n",
    "letter_counts = \"MISSISSIPPI\"\n",
    "letters = {'M','I',\"S\",\"P\"}\n",
    "\n",
    "\n",
    "for a in letters:\n",
    "    i=0\n",
    "    for b in letter_counts:\n",
    "        if b.count(a)>0:\n",
    "            i=i+1\n",
    "    print(a,\"occurs in\",i,\"times.\")\n",
    "    \n"
   ]
  },
  {
   "cell_type": "code",
   "execution_count": null,
   "metadata": {},
   "outputs": [],
   "source": [
    "# Q2: Count how often each nucleotide occurs in the sequence \"GGTCCAGTCGTACCCATG\"\n"
   ]
  },
  {
   "cell_type": "markdown",
   "metadata": {},
   "source": [
    "## Challenge: DNA to Protein sequence (Assignment type)\n",
    "\n",
    "1. Translate the valid DNA sequences from **seqs** given in code below to protein sequences using the dictionary **codon_table**\n",
    "2. Did you take the reading frames into account? Translate codon for each reading frame.\n",
    "\n",
    "Start with the following bit of efficent code:"
   ]
  },
  {
   "cell_type": "code",
   "execution_count": 81,
   "metadata": {
    "scrolled": true
   },
   "outputs": [],
   "source": [
    "### make sure you understands what happens here.\n",
    "bases = ['T', 'C', 'A', 'G']\n",
    "codons = [a+b+c for a in bases for b in bases for c in bases]\n",
    "amino_acids = 'FFLLSSSSYY**CC*WLLLLPPPPHHQQRRRRIIIMTTTTNNKKSSRRVVVVAAAADDEEGGGG'\n",
    "codon_table = dict(zip(codons, amino_acids))\n",
    "\n",
    "\n",
    "# Loop over the seqs\n",
    "seqs = ['actgactgactgaattcgactg','caucgaucgcgauacacgaucagcuacg','augcagacgacguacgu','atcgatcgatcgatcacgt','atcgtagctactagctagc','acgatcgtagctacgta','cgaucagucgaucgauccagcga','cguacguagcacaugcagucaguauacguacggacgacgac','catgactgactgatcgatgctgactgactg','atcggatctgaactgactg','actgactgactgactg','caucgaucgcgauacacgaucagcuacg','augcagacgacguacgu','atcgatcgaattcgatcgatcacgt','atcgtagctactagctagc','acgatcgaattcgtagctacgta','cgaucagucgaucgauccagcga','cguacguagcacaugcagucaguauacguacggacgacgac','catgactgactgatcgatgaattcgctgactgactg','aucggauccgaaccgacag']\n"
   ]
  },
  {
   "cell_type": "code",
   "execution_count": null,
   "metadata": {},
   "outputs": [],
   "source": []
  }
 ],
 "metadata": {
  "kernelspec": {
   "display_name": "Python 3",
   "language": "python",
   "name": "python3"
  }
 },
 "nbformat": 4,
 "nbformat_minor": 1
}
