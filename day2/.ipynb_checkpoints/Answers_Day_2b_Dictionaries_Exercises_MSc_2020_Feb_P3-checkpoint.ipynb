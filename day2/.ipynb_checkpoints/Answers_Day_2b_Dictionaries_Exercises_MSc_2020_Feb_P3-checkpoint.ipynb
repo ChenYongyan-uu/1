{
 "cells": [
  {
   "cell_type": "markdown",
   "metadata": {},
   "source": [
    "# Dictionary\n",
    "\n",
    "- A dictionary is a list, but with another value as index. This value is called the key. \n",
    "- A dictionary can be created by listing key-value pairs inside curly braces, the different dictionary items are separated by a ```,``` and the key - value pair are connected by a ```:```. \n",
    "    - For example ``` gene = { 'name' : \"P53\", 'function' : 'DNA-repair', 'length' : '20kb'}```\n",
    "        - Here gene is the name of the dictionary, and its three items can be accessed as following:\n",
    "        ```python\n",
    "        gene[\"name\"] = \"P53\"\n",
    "        gene[\"function\"] = \"DNA-repair\"\n",
    "        gene[\"length\"] = \"20kb\"```\n",
    "- The values of the dictionary can be changed after creation!\n"
   ]
  },
  {
   "cell_type": "code",
   "execution_count": null,
   "metadata": {},
   "outputs": [],
   "source": [
    "# above example dictionary\n",
    "gene = { 'name' : \"P53\", 'function' : 'DNA-repair', 'length' : '20kb'}\n",
    "print(gene[\"name\"])\n",
    "print(gene[\"function\"])"
   ]
  },
  {
   "cell_type": "code",
   "execution_count": null,
   "metadata": {},
   "outputs": [],
   "source": [
    "# print the dictionary value at key \"length\" \n",
    "print(gene[\"length\"])"
   ]
  },
  {
   "cell_type": "code",
   "execution_count": null,
   "metadata": {},
   "outputs": [],
   "source": [
    "# the following code creates a dictionary where n'name', 'type' and 'cell' are the keys and 'HIV', 'RNA' and 'CD4' are the values\n",
    "# notice how the key and values are in pairs seperated by : ('name':'HIV' is the first pair)\n",
    "virus = {'name':'HIV', 'type':'RNA', 'cell':'CD4'} \n",
    "print (virus['name']) # calls the value for key 'name'"
   ]
  },
  {
   "cell_type": "code",
   "execution_count": null,
   "metadata": {},
   "outputs": [],
   "source": [
    "# print the dictionary value at key \"type\" \n",
    "print(virus[\"type\"])"
   ]
  },
  {
   "cell_type": "code",
   "execution_count": null,
   "metadata": {},
   "outputs": [],
   "source": [
    "# Change values of a dictionary\n",
    "print (virus) # prints what is in the dictionary virus\n",
    "virus['name'] = 'HCV' # changes the value of key 'name' into value 'HCV'\n",
    "print (virus) # prints what is in the dictionary virus"
   ]
  },
  {
   "cell_type": "markdown",
   "metadata": {},
   "source": [
    "## Dictionary – Exercise\n",
    "\n",
    "1. Make a dictionary nucleotides and assign A, T, G and C as the keys and corresponding nucleotide names as values.\n",
    "2. Print the value assigned to key 'G' in the dictionary nucleotides.\n",
    "\n",
    "3. Print the first item stored in nucleotides. \n",
    "    - Hint:\n",
    "    ```python\n",
    "    gene = { 'name' : \"P53\", 'function' : 'DNA-repair', 'length' : '20kb'}\n",
    "    list_values = list(gene.values())   #gene.values() returns a view of the values in gene, list() is used to put them in a list. gene.keys() returns a a view of the keys in gene, list() can be use to put them in a list.\n",
    "    ```\n",
    "\n",
    "4. Print all keys and values stored in nucleotides.\n",
    "\n",
    "5. Ask the user to input a sequence and print the nucleotide names using nucleotides."
   ]
  },
  {
   "cell_type": "code",
   "execution_count": null,
   "metadata": {},
   "outputs": [],
   "source": [
    "# 1. Make a dictionary, think what will be the keys and the values (key:value)\n",
    "#nucleotides = {?}\n",
    "\n",
    "# following code creates a dictionary called nucleotides with keys 'A', 'T', 'C' and 'G' \n",
    "    # with values 'Adenine', 'Thymine', 'Cytosine' and 'Guanine'\n",
    "nucleotides = {'A':'Adenine', 'T':'Thymine', 'C':'Cytosine', 'G': 'Guanine'}\n"
   ]
  },
  {
   "cell_type": "code",
   "execution_count": null,
   "metadata": {},
   "outputs": [],
   "source": [
    "# 2. Print value stored with key 'G'\n",
    "#print (?)\n",
    "\n",
    "print (nucleotides['G'])"
   ]
  },
  {
   "cell_type": "code",
   "execution_count": null,
   "metadata": {},
   "outputs": [],
   "source": [
    "# 3. Print the first value in the dictionary \n",
    "#print (list(?))\n",
    "\n",
    "print (list(nucleotides.values())[0]) # prints the frist value (index = 0) of dictionary called nucleotides\n"
   ]
  },
  {
   "cell_type": "code",
   "execution_count": null,
   "metadata": {},
   "outputs": [],
   "source": [
    "# 4. Print all keys\n",
    "print (nucleotides.keys()) # prints all the key in dictionary called nucleotides\n",
    "\n",
    "# Print all values\n",
    "print (nucleotides.values())  # prints all the values in dictionary called nucleotides\n",
    "\n",
    "# Print all keys and their corresponding values\n",
    "# for ? in ?\n",
    "#     print ?, ?\n",
    "for i in nucleotides.keys(): # starts a loop which for each key in dictionary nucleotides executes code\n",
    "    print (i, nucleotides[i]) # print what is in tem-loop-variable key and the value for that key from dictionary nucleotides"
   ]
  },
  {
   "cell_type": "code",
   "execution_count": null,
   "metadata": {},
   "outputs": [],
   "source": [
    "# 5. Ask the user to input a sequence and print the nucleotide names using  \n",
    "# the nucleotide dictionary\n",
    "# following code creates a dictionary called nucleotides with keys 'A', 'T', 'C' and 'G' \n",
    "    # with values 'Adenine', 'Thymine', 'Cytosine' and 'Guanine'\n",
    "nucleotides = {'A':'Adenine', 'T':'Thymine', 'C':'Cytosine', 'G': 'Guanine'}\n",
    "\n",
    "# Ask user input\n",
    "user_input = input(\"Please enter a nucleotide: \").upper()    # ask the user for input and make it upper case\n",
    "                                                                 # , store it in variable user_input\n",
    "# Check for each nucl\n",
    "if (user_input in nucleotides.keys()): # checks if user_input is one of the keys in dictionary nucleotides\n",
    "    print (\"Full name for \" + user_input + \" is \" + nucleotides[user_input]) # print the user input and \n",
    "                                                        # the dictionary value for that key/nucleotide\n",
    "# print validity using dictionary\n",
    "else: # What to do when above if statement is false\n",
    "    print (user_input + \" is not an existing nucleotide!\") # print that whatever the user input was is not a nucleotide"
   ]
  },
  {
   "cell_type": "markdown",
   "metadata": {},
   "source": [
    "## Modifying a Dictionary\n",
    "\n",
    "- You can add entries to Python dictionaries. For example, the following code adds the keyvalue pair ```\"origin\":\"human\"``` to the dictionary\n",
    "```python\n",
    "gene = { 'name' : \"P53\", 'function' : 'DNA-repair', 'length' : '20kb'}\n",
    "gene[\"origin\"] = \"human\"\n",
    "```\n",
    "- You can also change a value of the dictionary just like a normal list\n",
    "```python\n",
    "gene = { 'name' : \"P53\", 'function' : 'DNA-repair', 'length' : '20kb'}\n",
    "gene[\"function\"] = \"tumor-supressor\"\n",
    "```\n",
    "- You can delete a value from a dictionary by using the del function\n",
    "```python\n",
    "gene = { 'name' : \"P53\", 'function' : 'DNA-repair', 'length' : '20kb'}\n",
    "del gene[\"function\"] \n",
    "```"
   ]
  },
  {
   "cell_type": "code",
   "execution_count": null,
   "metadata": {},
   "outputs": [],
   "source": [
    "## add to dictionary \n",
    "gene = { 'name' : \"P53\", 'function' : 'DNA-repair', 'length' : '20kb'}\n",
    "gene[\"origin\"] = \"human\"\n",
    "print (gene)"
   ]
  },
  {
   "cell_type": "code",
   "execution_count": null,
   "metadata": {},
   "outputs": [],
   "source": [
    "# add your name as value to key observer\n",
    "gene[\"observer\"] = \"Basten\"\n",
    "print(gene[\"observer\"])"
   ]
  },
  {
   "cell_type": "code",
   "execution_count": null,
   "metadata": {},
   "outputs": [],
   "source": [
    "## change value in dictionary\n",
    "gene[\"function\"] = \"tumor-supressor\"\n",
    "print (gene)"
   ]
  },
  {
   "cell_type": "code",
   "execution_count": null,
   "metadata": {},
   "outputs": [],
   "source": [
    "# change the value at key observer to someone else\n",
    "gene[\"observer\"] = \"someone else\"\n",
    "print(gene[\"observer\"])"
   ]
  },
  {
   "cell_type": "code",
   "execution_count": null,
   "metadata": {},
   "outputs": [],
   "source": [
    "## delete from a dictionary\n",
    "del gene[\"function\"]\n",
    "print (gene)"
   ]
  },
  {
   "cell_type": "code",
   "execution_count": null,
   "metadata": {},
   "outputs": [],
   "source": [
    "# delete observer both the value and key \n",
    "del gene[\"observer\"]\n",
    "print(gene)"
   ]
  },
  {
   "cell_type": "code",
   "execution_count": null,
   "metadata": {},
   "outputs": [],
   "source": [
    "virus = {'name':'HIV', 'type':'RNA', 'cell':'CD4'}\n",
    "print (virus)         #prints the entire dictionary\n",
    "\n",
    "virus['name'] = \"HCMV\"    #changes the value at key 'name' from hiv to hcmv\n",
    "print (virus)\n",
    "\n",
    "virus['target'] = \"Human\"  #adds a new key target with the value Human\n",
    "print (virus)\n",
    "\n",
    "del virus['cell']       #deletes the key and value at key cell\n",
    "print (virus)"
   ]
  },
  {
   "cell_type": "markdown",
   "metadata": {},
   "source": [
    "# Adding to dictionary - Exercise\n",
    "\n",
    "1. Ask the user to input a virus load(e.g. 1000) and store it as a variable\n",
    "2. Add this variable as new entry under the key: ```load```\n",
    "3. Change the value of this entry by adding 500 to it\n",
    "4. Print this value and check if the addition worked\n",
    "4. Delete the key ```cell``` \n",
    "5. Print the entire dictionary and check if the deletion worked"
   ]
  },
  {
   "cell_type": "code",
   "execution_count": null,
   "metadata": {},
   "outputs": [],
   "source": [
    "# start with dictionary\n",
    "virus = {'name':'HIV', 'type':'RNA', 'cell':'CD4'}"
   ]
  },
  {
   "cell_type": "code",
   "execution_count": null,
   "metadata": {},
   "outputs": [],
   "source": [
    "# 1. Ask the user to input a virus load(e.g. 1000) and store it as a variable\n",
    "virus_load = float(input(\"Enter virus load: \"))\n",
    "print (virus_load)"
   ]
  },
  {
   "cell_type": "code",
   "execution_count": null,
   "metadata": {},
   "outputs": [],
   "source": [
    "# 2. Add this variable as new entry under the key: load\n",
    "virus[\"load\"] = virus_load\n",
    "print (virus)"
   ]
  },
  {
   "cell_type": "code",
   "execution_count": null,
   "metadata": {},
   "outputs": [],
   "source": [
    "# 3. Change the value of entry load by adding 500 to it\n",
    "# and 4.Print this value and check if the addition worked\n",
    "virus[\"load\"] = virus[\"load\"] + 500\n",
    "print (virus)\n",
    "print (virus[\"load\"])"
   ]
  },
  {
   "cell_type": "code",
   "execution_count": null,
   "metadata": {},
   "outputs": [],
   "source": [
    "# 5. Delete the key cell \n",
    "# and 6. Print the entire dictionary and check if the deletion worked\n",
    "del virus[\"cell\"]\n",
    "print (virus)"
   ]
  },
  {
   "cell_type": "markdown",
   "metadata": {},
   "source": [
    "## Adding to a Dictionary - More Exercises\n",
    "\n",
    "1. You can add entries to Python dictionaries. Ask user to enter a new key and value for your virus dictionary. Show what is in the updated dictionary\n",
    "\n",
    "2. Create two dictionaries containing information about viruses. \n",
    "\n",
    "3. Can you create a database (using lists) containing the 2 dictionaries? \n",
    "\n",
    "4. Print names of all viruses stored in our database.\n"
   ]
  },
  {
   "cell_type": "code",
   "execution_count": null,
   "metadata": {},
   "outputs": [],
   "source": [
    "# 1. Add new key and value entered by the user to a dictionary\n",
    "virus = {'name':'HIV', 'type':'RNA', 'cell':'CD4'}\n",
    "virus['load'] = 10000 # adds the key 'load' to dictionary virus and pairs it with value 10000\n",
    "print (virus)\n",
    "\n",
    "virus = {'name':'HIV', 'type':'RNA', 'cell':'CD4'}\n",
    "user_key = input(\"Please enter a key: \") # ask user for a key and put it in variable user_key\n",
    "user_val = input(\"Please enter a value: \") # aks user for a value and put it in variable user_val\n",
    "virus[user_key] = user_val # adds the user_key to the dictionary and pairs it with the user_val\n",
    "print (virus)\n"
   ]
  },
  {
   "cell_type": "code",
   "execution_count": null,
   "metadata": {},
   "outputs": [],
   "source": [
    "# 2. Create two dictionaries containing information (cell, load, type, name) about viruses\n",
    "virus1 = {'name':'HIV', 'type':'RNA', 'cell':'CD4', 'load':10000} # creates dictionary virus1\n",
    "virus2 = {'name':'HCV', 'type':'RNA', 'cell':'CD4', 'load':3000} # creates dictionary virus2\n",
    "print (virus1)\n",
    "print (virus2)"
   ]
  },
  {
   "cell_type": "code",
   "execution_count": null,
   "metadata": {},
   "outputs": [],
   "source": [
    "# 3. Create a database/list containing 2 virus dictionaries. \n",
    "#and 4. Print all viruses in the dictionary\n",
    "database = [virus1, virus2]\n",
    "print (database)# creates a database from dictionaries virus1 and virus2\n",
    "for virus in database: # start a loop which executes code for each entry in database\n",
    "    print (virus['name']) # shows what is the value for key 'name' in temp-loop-dictionary virus"
   ]
  },
  {
   "cell_type": "markdown",
   "metadata": {
    "collapsed": true
   },
   "source": [
    "## Looping a Dictionary\n",
    "\n",
    "- **You can loop through a dictionary using its keys.**\n",
    "- By using ```for var in dictionary``` we loop trough each key of the dictionary\n",
    "- Try to see if you can understand the example below\n"
   ]
  },
  {
   "cell_type": "code",
   "execution_count": null,
   "metadata": {},
   "outputs": [],
   "source": [
    "# Create dictionary that contains virus loads for three different patients\n",
    "\n",
    "viral_load = {'Pat1':18000, 'Pat2':13000, 'Pat3':2200}\n",
    "total_load = 0 # Assign a variable to store total virus load\n",
    "\n",
    "# Loop through the dictionary to calculate sum of all virus loads\n",
    "for name in viral_load: # name loops over the keys in dict viral_load\n",
    "    total_load += viral_load[name] # += adds the value at the key in name to the total_load\n",
    "\n",
    "# or use one-liners to calculate sum of all virus loads\n",
    "total_load = sum(viral_load.values()) # use the sum and .values() function to get the total_load\n",
    "print (total_load)\n",
    "\n",
    "print (viral_load.values())"
   ]
  },
  {
   "cell_type": "markdown",
   "metadata": {},
   "source": [
    "# Looping dictionaries - Exercise (Assignment type)\n",
    "\n",
    "1. Create a dictionary that contains virus data of multiple patients.\n",
    "    - This is a dictionary of dictionaries. First create the dictionaries of the different patients and then combine them in a dictionary of dictionaries\n",
    "2. Loop trough the dictionary of dictionaries\n",
    "    - You should get data of a new patient every loop\n",
    "3. Count the number of patients with HIV/HCV    \n",
    "4. For each patient, add the load of the virus to the corresponding virus (HIV or HCV)\n",
    "5. Print the average of both viral loads\n"
   ]
  },
  {
   "cell_type": "code",
   "execution_count": null,
   "metadata": {},
   "outputs": [],
   "source": [
    "# 1. Create a dictionary of dictionaries to store patient specific data\n",
    "patient1= {'name':'HIV', 'type':'RNA', 'cell':'CD4', 'load':18000}\n",
    "patient2= {'name':'HIV', 'type':'RNA', 'cell':'CD4', 'load':13000}\n",
    "patient3= {'name':'HIV', 'type':'RNA', 'cell':'CD4', 'load':19000}\n",
    "patient4= {'name':'HCV', 'type':'RNA', 'cell':'Hepa', 'load':2200}\n",
    "patient5= {'name':'HCV', 'type':'RNA', 'cell':'Hepa', 'load':8200}\n",
    "\n",
    "# think of the keys\n",
    "patients = {}\n",
    "patients[\"Pat1\"] = patient1\n",
    "patients[\"Pat2\"] = patient2\n",
    "patients[\"Pat3\"] = patient3\n",
    "patients[\"Pat4\"] = patient4\n",
    "patients[\"Pat5\"] = patient5\n",
    "\n",
    "print(patients)"
   ]
  },
  {
   "cell_type": "code",
   "execution_count": null,
   "metadata": {},
   "outputs": [],
   "source": [
    "#or \n",
    "patients = {}\n",
    "patients['Pat1']= {'name':'HIV', 'type':'RNA', 'cell':'CD4', 'load':18000} # adds this dictionary to key 'Pat1'\n",
    "patients['Pat2']= {'name':'HIV', 'type':'RNA', 'cell':'CD4', 'load':13000} # adds this dictionary to key 'Pat2'\n",
    "patients['Pat3']= {'name':'HIV', 'type':'RNA', 'cell':'CD4', 'load':19000} # adds this dictionary to key 'Pat3'\n",
    "patients['Pat4']= {'name':'HCV', 'type':'RNA', 'cell':'Hepa', 'load':2200} # adds this dictionary to key 'Pat4'\n",
    "patients['Pat5']= {'name':'HCV', 'type':'RNA', 'cell':'Hepa', 'load':8200} # adds this dictionary to key 'Pat5'\n",
    "\n",
    "print (patients)\n",
    "\n"
   ]
  },
  {
   "cell_type": "code",
   "execution_count": null,
   "metadata": {},
   "outputs": [],
   "source": [
    "# 2. Loop trough the dictionary of dictionaries\n",
    "# for ? in ? :\n",
    "    \n",
    "for patient_id in patients:\n",
    "    print (patient_id) \n",
    "    print (patients[patient_id])\n",
    "    "
   ]
  },
  {
   "cell_type": "code",
   "execution_count": null,
   "metadata": {},
   "outputs": [],
   "source": [
    "# 3. Count the number of patients with HIV/HCV    \n",
    "\n",
    "HIV_load = 0\n",
    "for patient in patients:\n",
    "    if patients[patient][\"name\"] == \"HIV\":\n",
    "        HIV_load = HIV_load + 1\n",
    "\n",
    "print (HIV_load, \"HIV patients\")\n",
    "\n",
    "HCV_load = 0\n",
    "for patient in patients:\n",
    "    if patients[patient][\"name\"] == \"HCV\":\n",
    "        HCV_load = HCV_load + 1\n",
    "\n",
    "print (HCV_load, \"HCV patients\")"
   ]
  },
  {
   "cell_type": "code",
   "execution_count": null,
   "metadata": {},
   "outputs": [],
   "source": [
    "# 4. For each patient, add the load of the virus to the corresponding virus (HIV or HCV)\n",
    "HIV_load = 0 # calls variable HIV_load and sets it to 0\n",
    "HCV_load = 0 # calls variable HCV_load and sets it to 0\n",
    "\n",
    "for patient_id in patients:\n",
    "    if patients[patient_id]['name'] == 'HIV':\n",
    "        HIV_load += patients[patient_id]['load']\n",
    "    else: #patients[patient_id]['name'] == 'HCV':\n",
    "        HCV_load += patients[patient_id]['load']\n",
    "\n",
    "print (HIV_load)\n",
    "print (HCV_load)"
   ]
  },
  {
   "cell_type": "code",
   "execution_count": null,
   "metadata": {},
   "outputs": [],
   "source": [
    "# 5. Print the average of both viral loads\n",
    "HIV_load = 0 # calls variable HIV_load and sets it to 0\n",
    "HCV_load = 0 # calls variable HCV_load and sets it to 0\n",
    "\n",
    "HIV_num = 0 # calls variable HIV_num and sets it to 0\n",
    "HCV_num = 0 # calls variable HCV_num and sets it to 0\n",
    "\n",
    "for patient_id in patients:\n",
    "    if patients[patient_id]['name'] == 'HIV':\n",
    "        HIV_load += patients[patient_id]['load']\n",
    "        HIV_num += 1\n",
    "    elif patients[patient_id]['name'] == 'HCV':\n",
    "        HCV_load += patients[patient_id]['load']\n",
    "        HCV_num += 1\n",
    "        \n",
    "print (\"Average HIV load = \", HIV_load/HIV_num)\n",
    "print (\"Average HCV load = \", HCV_load/HCV_num)"
   ]
  },
  {
   "cell_type": "markdown",
   "metadata": {},
   "source": [
    "### Extra Dictionaries Exercises"
   ]
  },
  {
   "cell_type": "code",
   "execution_count": null,
   "metadata": {},
   "outputs": [],
   "source": [
    "# Q1: Count how often each letter occurs in the word \"MISSISSIPPI\"\n",
    "# hint use the different letters as keys and the values how often your find them\n",
    "letter_counts = \"MISSISSIPPI\"\n",
    "letters = {}\n",
    "for letter in letter_counts:\n",
    "    if letter in letters:\n",
    "        letters[letter] = letters[letter] + 1\n",
    "    else:\n",
    "        letters[letter] = 1\n",
    "print (letters)"
   ]
  },
  {
   "cell_type": "code",
   "execution_count": null,
   "metadata": {},
   "outputs": [],
   "source": [
    "# Q2: Count how often each nucleotide occurs in the sequence \"GGTCCAGTCGTACCCATG\"\n",
    "sequence = \"GGTCCAGTCGTACCCATG\"\n",
    "nucleotides = {}\n",
    "for letter in sequence:\n",
    "    if letter in nucleotides:\n",
    "        nucleotides[letter] = nucleotides[letter] + 1\n",
    "    else:\n",
    "        nucleotides[letter] = 1\n",
    "print (nucleotides)"
   ]
  },
  {
   "cell_type": "markdown",
   "metadata": {},
   "source": [
    "## Challenge: DNA to Protein sequence (Assignment type)\n",
    "\n",
    "1. Translate the valid DNA sequences from **seqs** given in code below to protein sequences using the dictionary **codon_table**\n",
    "2. Did you take the reading frames into account? Translate codon for each reading frame.\n",
    "\n",
    "Start with the following bit of efficent code:"
   ]
  },
  {
   "cell_type": "code",
   "execution_count": null,
   "metadata": {
    "scrolled": true
   },
   "outputs": [],
   "source": [
    "### make sure you understands what happens here.\n",
    "bases = ['T', 'C', 'A', 'G']\n",
    "codons = [a+b+c for a in bases for b in bases for c in bases]\n",
    "amino_acids = 'FFLLSSSSYY**CC*WLLLLPPPPHHQQRRRRIIIMTTTTNNKKSSRRVVVVAAAADDEEGGGG'\n",
    "codon_table = dict(zip(codons, amino_acids))\n",
    "\n",
    "\n",
    "# Loop over the seqs\n",
    "seqs = ['actgactgactgaattcgactg','caucgaucgcgauacacgaucagcuacg','augcagacgacguacgu','atcgatcgatcgatcacgt','atcgtagctactagctagc','acgatcgtagctacgta','cgaucagucgaucgauccagcga','cguacguagcacaugcagucaguauacguacggacgacgac','catgactgactgatcgatgctgactgactg','atcggatctgaactgactg','actgactgactgactg','caucgaucgcgauacacgaucagcuacg','augcagacgacguacgu','atcgatcgaattcgatcgatcacgt','atcgtagctactagctagc','acgatcgaattcgtagctacgta','cgaucagucgaucgauccagcga','cguacguagcacaugcagucaguauacguacggacgacgac','catgactgactgatcgatgaattcgctgactgactg','aucggauccgaaccgacag']\n",
    "\n",
    "for sequence in seqs:\n",
    "    if sequence.upper().count('T') >= 0 :\n",
    "        for frame in range(3):\n",
    "            print (\"Frame \"+str(frame)) \n",
    "            protein = ''\n",
    "            for position in range(frame, len(sequence), 3):\n",
    "                triplet = sequence[position:position+3]\n",
    "                amino_acid = codon_table.get(triplet.upper(),'')\n",
    "                protein = protein+amino_acid\n",
    "            print (protein)\n",
    "            "
   ]
  }
 ],
 "metadata": {
  "kernelspec": {
   "display_name": "Python 3",
   "language": "python",
   "name": "python3"
  },
  "language_info": {
   "codemirror_mode": {
    "name": "ipython",
    "version": 3
   },
   "file_extension": ".py",
   "mimetype": "text/x-python",
   "name": "python",
   "nbconvert_exporter": "python",
   "pygments_lexer": "ipython3",
   "version": "3.7.4"
  }
 },
 "nbformat": 4,
 "nbformat_minor": 1
}
