{
 "cells": [
  {
   "cell_type": "markdown",
   "metadata": {},
   "source": [
    "# Lists\n",
    "- We already discussed the basics of lists in the previous notebook\n",
    "- A list is a variable that contains multiple items.\n",
    "- Each item has an index, revealing the location in the list\n",
    "    - **The index starts counting at 0**, so the first item has index 0 and the second item has index 1, etc etc.\n",
    "- A list is created between square brackets, the items are separated between commas."
   ]
  },
  {
   "cell_type": "code",
   "execution_count": null,
   "metadata": {},
   "outputs": [],
   "source": [
    "#Example lists\n",
    "dna_seqs = [\"actactacgat\", \"actatgcatcgatc\", \"actact\"]\n",
    "qPCR_values = [10.5, 10.2, 10.87, 11.33, 9.89]\n",
    "patient_ages = [20, 22, 27, 81, 76, 69]\n",
    "\n",
    "# use print to show the lists\n",
    "print (dna_seqs)\n",
    "print (qPCR_values)\n",
    "print (patient_ages)"
   ]
  },
  {
   "cell_type": "code",
   "execution_count": null,
   "metadata": {},
   "outputs": [],
   "source": [
    "#Lists can also be a list of lists and can be created using different variables\n",
    "cell1 = 5.4\n",
    "cell2 = 6.1\n",
    "cell3 = 7.4\n",
    "\n",
    "cells = [cell1, cell2, cell3]   #creates a list containing the variables cell1, cell2 and cell3, thus the same as [5.4, 6.1, 7.4]\n",
    "print (cells)"
   ]
  },
  {
   "cell_type": "code",
   "execution_count": null,
   "metadata": {},
   "outputs": [],
   "source": [
    "cells_seqs = [dna_seqs, cells]  #creates a list containing the list of DNA sequences and the list of cells.\n",
    "\n",
    "print (cells_seqs)\n",
    "print (cells_seqs[0])    #this is the item at index 0, thus the list dna_seqs\n",
    "print (cells_seqs[1])    #this is the item at index 1, thus the list cells"
   ]
  },
  {
   "cell_type": "code",
   "execution_count": null,
   "metadata": {},
   "outputs": [],
   "source": [
    "# Code to make an empty list\n",
    "my_list = [] # creates an empty list called my_list\n",
    "print (my_list)"
   ]
  },
  {
   "cell_type": "markdown",
   "metadata": {},
   "source": [
    "### Write your code to make lists: \n",
    "1. a new list called molecules containing elements: \"DNA\", \"RNA\", \"Protein\" and \"Lipid\"\n",
    "2. a new list called seqs containing 4 sequences\n",
    "3. a new list called mixed_list containing at least 1 string, 1 integer, and 1 boolean\n",
    "4. show/print what is in the created lists"
   ]
  },
  {
   "cell_type": "code",
   "execution_count": null,
   "metadata": {},
   "outputs": [],
   "source": [
    "# Write your code to make lists here\n",
    "# 1. a new list called molecules containing elements: \"DNA\", \"RNA\", \"Protein\" and \"Lipid\"\n",
    "\n",
    "my_list = [None]*4 # creates a list called my_list which can contain 4 entries\n",
    "molecules = ['DNA','RNA','Protein','Lipid'] # creates a list called molecules containing 4 entries 'DNA','RNA','Protein' and 'lipid\n",
    "print(my_list)\n",
    "print(molecules)"
   ]
  },
  {
   "cell_type": "code",
   "execution_count": null,
   "metadata": {},
   "outputs": [],
   "source": [
    "# 2. a new list called seqs containing 4 sequences\n",
    "\n",
    "seqs = ['ATCG','CATG','TACG','ACTG'] # creates a list called seqs containing 4 entries (4bp sequences)\n",
    "print(seqs)"
   ]
  },
  {
   "cell_type": "code",
   "execution_count": null,
   "metadata": {},
   "outputs": [],
   "source": [
    "# 3. a new list called mixed_list containing at least 1 string, 1 integer, and 1 boolean\n",
    "\n",
    "mixed_list = ['ATG', 5, True, '089'] # creates a list called mixed_list with 4 mixed (different types of) variables\n",
    "print(mixed_list)"
   ]
  },
  {
   "cell_type": "code",
   "execution_count": null,
   "metadata": {},
   "outputs": [],
   "source": [
    "# 4. show/print what is in the created lists\n",
    "\n",
    "print (molecules) # prints what is in list molecules\n",
    "print (seqs) # prints what is in list seqs\n",
    "print (mixed_list) # prints what is in list mixed_list\n"
   ]
  },
  {
   "cell_type": "markdown",
   "metadata": {},
   "source": [
    "## Accessing Lists\n",
    "\n",
    "1. Using the lists that you have created, print what is stored at index 1 of the list ```molecules```\n",
    "2. Print the index of \"Protein\" in the list proteins using \n",
    "```python\n",
    "molecules.index(\"Protein\")\n",
    "```"
   ]
  },
  {
   "cell_type": "code",
   "execution_count": null,
   "metadata": {},
   "outputs": [],
   "source": [
    "# 1. Using the lists that you have created, print what is stored at index 1 of the list molecules\n",
    "\n",
    "print (molecules[1]) # prints what is in index 1, so the second entry in list molecules\n",
    "print (molecules[0])  # prints what is in index 0, so the first entry in list molecules\n",
    "\n",
    "# 2. Print the index of \"Protein\" in the list proteins using \n",
    "# Try command list.index(object)\n",
    "\n",
    "print (molecules.index('Protein')) # shows the index for entry 'Protein'\n",
    "print (\"The index for Protein is: \" + str(molecules.index('Protein')))"
   ]
  },
  {
   "cell_type": "markdown",
   "metadata": {},
   "source": [
    "# Lists – Exercise\n",
    "\n",
    "1. Create the following 3 string variables with their restriction sites:\n",
    "    * eco_r1  : gaattc\n",
    "    * bam_h1  : ggatcc\n",
    "    * hind3   : aagctt\n",
    "2. Make a list called **restriction_enzymes** containing the 3 restriction sites.\n",
    "\n",
    "3. Using a single command print the restriction sites in the list on 3 different lines.\n",
    "\n",
    "4. Print the first letter of **eco_r1** using the list."
   ]
  },
  {
   "cell_type": "code",
   "execution_count": 1,
   "metadata": {},
   "outputs": [],
   "source": [
    "# Q1, 3 string variables with their restriction sites:\n",
    "\n",
    "# hint: eco_r1 = ? \n",
    "eco_r1 = 'gaattc' # assigns string 'gaattc' to variable eco_r1\n",
    "# bam_h1 = ?\n",
    "bam_h1 = 'ggatcc' # assigns string 'ggatcc'to variable bam_h1\n",
    "# hind3 =\n",
    "hind3 = 'aagctt' # assigns string 'aagctt' to variable hind3"
   ]
  },
  {
   "cell_type": "code",
   "execution_count": null,
   "metadata": {},
   "outputs": [],
   "source": [
    "# Q2, list called restriction_enzymes containing the 3 restriction sites \n",
    "# hint: restriction_enzymes = \n",
    "restriction_enzymes = [eco_r1, bam_h1, hind3] # creates a list wth variables eco_r1, bam_h1 and hind3\n"
   ]
  },
  {
   "cell_type": "code",
   "execution_count": null,
   "metadata": {},
   "outputs": [],
   "source": [
    "# Q3, single command print the restriction sites in the list on 3 different lines. \n",
    "# hint: print \"EcoRI: \", restriction_enzymes[?], ... \n",
    "print (\"EcoRI: \", restriction_enzymes[0], \"\\nBamHI: \", restriction_enzymes[1], \"\\nHindIII: \", restriction_enzymes[2])\n",
    "#  prints the strings and list entries using index (eg restriction_enzymes[0] is the first entry in the list)\n",
    "# \"\\n\" indicates a new line"
   ]
  },
  {
   "cell_type": "code",
   "execution_count": null,
   "metadata": {},
   "outputs": [],
   "source": [
    "# Q4, Print the first letter of eco_r1 using the list\n",
    "# hint: restriction_enzymes[?][?]\n",
    "print (restriction_enzymes[0][0]) # prints the first letter of the firts variable in list restriction_enzymes"
   ]
  },
  {
   "cell_type": "code",
   "execution_count": null,
   "metadata": {},
   "outputs": [],
   "source": [
    "# Bonus question: Change first letter of eco_r1 restriction site from g to G stored in the list 'restriction_enzymes'\n",
    "restriction_enzymes[0] = restriction_enzymes[0].capitalize() # chances the firts variable in list restriction_enzymes to \n",
    "# the capitalized form\n",
    "print (restriction_enzymes) # prints what is in list restriction_enzymes\n"
   ]
  },
  {
   "cell_type": "markdown",
   "metadata": {},
   "source": [
    "# Basic List operations\n",
    "\n",
    "- Lists can be modified just like strings\n",
    "- ```[\"l\", \"i\", \"p\"] + [\"i\", \"d\"]``` gives one list containing all 5 characters\n",
    "- ```len(dna_seqs)``` returns the amount of items in the list\n",
    "- ```max(dna_seqs)``` returns the largest item in the list\n",
    "- ```min(dna_seqs)``` returns the smallest item in the list\n",
    "- ```dna_seqs1==dna_seqs2``` compares two lists"
   ]
  },
  {
   "cell_type": "code",
   "execution_count": null,
   "metadata": {},
   "outputs": [],
   "source": [
    "# Try some list operations\n",
    "my_list = [1, 2, 5] + [3, 4, 6] # creates a list called my_list by combining two lists (list [1,2,5] and list [3,4,6])\n",
    "print (my_list) # prints what is in list called my_list\n"
   ]
  },
  {
   "cell_type": "code",
   "execution_count": null,
   "metadata": {},
   "outputs": [],
   "source": [
    "print (['A']*4) # prints list ['A','A','A','A']\n"
   ]
  },
  {
   "cell_type": "code",
   "execution_count": null,
   "metadata": {},
   "outputs": [],
   "source": [
    "print (len(restriction_enzymes)) # prints the number of variable/entries in list restriction_enzymes\n"
   ]
  },
  {
   "cell_type": "code",
   "execution_count": null,
   "metadata": {},
   "outputs": [],
   "source": [
    "print (max(my_list)) # prints the maximum value in list my_list\n",
    "print (min(my_list)) # prints the minimum values in list my_list"
   ]
  },
  {
   "cell_type": "code",
   "execution_count": null,
   "metadata": {},
   "outputs": [],
   "source": [
    "# compares two lists, returns True when the lists are the same, False when different\n",
    "print (([1,2,5]==[3,4,6])) \n",
    "print (([1,3,5]==[1,2,5])) \n",
    "print (([1,2,5]==[1,2,5])) \n"
   ]
  },
  {
   "cell_type": "markdown",
   "metadata": {},
   "source": [
    "## Basic List operations - Exercise\n",
    "1. Remember that we made a list of restriction enzymes as:\n",
    "*restriction_enzymes = [eco_r1, bam_h1, hind3]*. \n",
    "Create a new variable *my_enzyme = 'catgac’*\n",
    "\n",
    "2. Make a new list with **my_enzyme** added to the existing list of restriction enzymes. \n",
    "\n",
    "3. Make a new list containing 3 repetitions of *eco_r1*, 4 repetitions of *bam_h1*, and 2 repetitions of *hind3*.\n",
    "\n",
    "4. What is the length of the lists you just created?\n",
    "\n",
    "5. What is the maximum value of the list?\n",
    "\n",
    "6. What is the minimum value of the list? \n"
   ]
  },
  {
   "cell_type": "code",
   "execution_count": null,
   "metadata": {},
   "outputs": [],
   "source": [
    "# 1. and 2.\n",
    "# Create variable my_enzyme and concatenate it with restriction_enzyme list\n",
    "my_enzyme = 'catgac' # creates a variable storing string 'catgac'\n",
    "restriction_enzymes_v2 = [my_enzyme] + restriction_enzymes # creates a list calles restriction_enzymes_v2 by adding\n",
    "# variable my_enzyme as a list to list restriction_enzymes\n",
    "print (restriction_enzymes_v2) # prints the entries of list restriction_enzymes_v2\n"
   ]
  },
  {
   "cell_type": "code",
   "execution_count": null,
   "metadata": {},
   "outputs": [],
   "source": [
    "# 3. \n",
    "# Create list with repeated entries \n",
    "restriction_enzymes_v3 = [eco_r1]*3 + [bam_h1]*4 + [hind3]*2 # creates a list called restriction_enzymes_v3 by sticking together \n",
    "# (as lists) 3 times variable eco_r1, 4 times variable bam_h1 and 2 times variable hind3 \n",
    "# So here the 3 eco_r1 are 3 seperate entries in the list, 4 entries wth bam_h1 and 2 with hind3\n",
    "print (restriction_enzymes_v3) # print what is in list restriction_enzymes_v3\n",
    "restriction_enzymes_v3 = [eco_r1*3, bam_h1*4, hind3*2] # creates a list restriction_enzymes_v3 by concatenating \n",
    "# 3 times eco_r1, 4 times bam_h1 and 2 times hind3. \n",
    "# So here the 3 times eco_r1 are concatenated first and the put in to the list as 1 entry, same for bam_h1 and hind3\n",
    "print (restriction_enzymes_v3) # print what is in restriction_enzymes_v3\n"
   ]
  },
  {
   "cell_type": "code",
   "execution_count": null,
   "metadata": {},
   "outputs": [],
   "source": [
    "# 4. to 6. length, max and min\n",
    "print (len(restriction_enzymes_v3)) # print the number of enrties in list restriction_enzymes_v3\n",
    "print (max(restriction_enzymes_v3)) # print the maximum of list restriction_enzymes_v3\n",
    "# notice that in this case it takes the string with the most characters \n",
    "print (min(restriction_enzymes_v3)) # print the minimum of list restriction_enzymes_v3\n",
    "# notice that in this case it takes the string with the least number of characters \n"
   ]
  },
  {
   "cell_type": "markdown",
   "metadata": {},
   "source": [
    "# Looping Lists\n",
    "- As described in the previous notebook, we can loop trough each item in a list using\n",
    "```python\n",
    "dna_seqs = [\"agtcgtagctac\", \"agctagctaca\", \"cagtcgatcgat\", \"cgatcgatcag\"]\n",
    "for item in dna_seqs:\n",
    "    print (item)\n",
    "```\n",
    "- ```range(10)``` is a function that returns a list of 0 with in this case 10 items from 0,1,2,3,4,5,6,7,8,9\n",
    "- if we want to loop trough all the indices of the list we can combine ```len()``` and ```range()``` to get;\n",
    "```python\n",
    "dna_seqs = [\"agtcgtagctac\", \"agctagctaca\", \"cagtcgatcgat\", \"cgatcgatcag\"]\n",
    "for index in range(len(dna_seqs)):\n",
    "    print (index)\n",
    "```\n",
    "- If we want both the index and the value we can use ```enumerate()``` in the for loop\n",
    "```python\n",
    "dna_seqs = [\"agtcgtagctac\", \"agctagctaca\", \"cagtcgatcgat\", \"cgatcgatcag\"]\n",
    "for index, item in enumerate(dna_seqs):\n",
    "    print (index, item) \n",
    "```\n",
    "- You can try the results of the above examples in underlying code block\n"
   ]
  },
  {
   "cell_type": "code",
   "execution_count": null,
   "metadata": {},
   "outputs": [],
   "source": [
    "dna_seqs = [\"agtcgtagctac\", \"agctagctaca\", \"cagtcgatcgat\", \"cgatcgatcag\"]\n",
    "for item in dna_seqs:\n",
    "    print (item)"
   ]
  },
  {
   "cell_type": "code",
   "execution_count": null,
   "metadata": {},
   "outputs": [],
   "source": [
    "dna_seqs = [\"agtcgtagctac\", \"agctagctaca\", \"cagtcgatcgat\", \"cgatcgatcag\"]\n",
    "for index in range(len(dna_seqs)):\n",
    "    print (index)"
   ]
  },
  {
   "cell_type": "code",
   "execution_count": null,
   "metadata": {},
   "outputs": [],
   "source": [
    "dna_seqs = [\"agtcgtagctac\", \"agctagctaca\", \"cagtcgatcgat\", \"cgatcgatcag\"]\n",
    "for index, item in enumerate(dna_seqs):\n",
    "    print (index, item)"
   ]
  },
  {
   "cell_type": "markdown",
   "metadata": {
    "collapsed": true
   },
   "source": [
    "# Looping Lists - Exercise (Assignment type)\n",
    "\n",
    "1. Calculate the number of nucleotides (A, T, G, and C) used by each restriction enzyme. \n",
    "\n",
    "2. Calculate the total number of nucleotides used by all restriction enzymes taken together.\n",
    "\n",
    "3. Use the list entry **seqs** given in the worksheet. How many DNA and RNA sequences are given in seqs? (Hint: try for loop, if elif conditions and string find command)\n",
    "\n",
    "4. Remember EcoRI cuts at restriction site 'gaattc'. Can you check how many sequences given in list seqs have EcoRI motif?\n",
    "\n",
    "    **Bonus Question**: Make a list containing ['A', 'AA', 'AAA', 'AAAA', ….., 20 A]."
   ]
  },
  {
   "cell_type": "code",
   "execution_count": null,
   "metadata": {},
   "outputs": [],
   "source": [
    "# First try this\n",
    "my_list = [\"Python\",\"is\",\"great\"]"
   ]
  },
  {
   "cell_type": "code",
   "execution_count": null,
   "metadata": {},
   "outputs": [],
   "source": [
    "for item in my_list: # starts a loop which executes code for each item (entry) in list called my_list\n",
    "    print (item) # prints what  is in temporary-loop-variable called item "
   ]
  },
  {
   "cell_type": "code",
   "execution_count": null,
   "metadata": {},
   "outputs": [],
   "source": [
    "# range is a function that returns a list containing arithmetic progressions\n",
    "print (list(range(10))) # prints list [0, 1, 2, 3, 4, 5, 6, 7, 8, 9] as range\n"
   ]
  },
  {
   "cell_type": "code",
   "execution_count": null,
   "metadata": {},
   "outputs": [],
   "source": [
    "# show what is in range(10)\n",
    "for entry in range(10):\n",
    "    print(entry)"
   ]
  },
  {
   "cell_type": "code",
   "execution_count": null,
   "metadata": {},
   "outputs": [],
   "source": [
    "# If we need only the index\n",
    "for index in range(len(my_list)): # starts a loop which executes code for each index (number) in the list created by\n",
    "    # range(len())\n",
    "    print (index) # prints what is in temporary-loop-variable called index\n"
   ]
  },
  {
   "cell_type": "code",
   "execution_count": null,
   "metadata": {},
   "outputs": [],
   "source": [
    "# If we need both the index and the item\n",
    "for index, item in enumerate(my_list): # starts a loop which executes coed for each combination of index and item en enumerate(my_list)\n",
    "    print (index, item)   # prints what is in temporary-loop-variables index and item\n",
    "    "
   ]
  },
  {
   "cell_type": "code",
   "execution_count": null,
   "metadata": {},
   "outputs": [],
   "source": [
    "# Q1\n",
    "# Calculate number of nucleotides using a for loop\n",
    "restriction_enzymes = [eco_r1.upper(), bam_h1.upper(), hind3.upper()] # makes a list 3 entries, the upper case strings of the \n",
    "# variables eco_r1, bam.h1 and hind3\n",
    "\n",
    "i=0 # assigns 0 to variable 1\n",
    "# for ? in ?:\n",
    "for enzyme in restriction_enzymes: # starts a loop in which for each entry in restrcition_enzymes executes a code\n",
    "    i+=1 # updates variable i by adding 1\n",
    "    print (\"\\nChecking enzyme\", i) # print the enzyme being checked\n",
    "    A = enzyme.count('A') # count the numer of 'A' in temp-loop-variable enzyme (this is an entry of list restriction_enzymes) and store it in variable A\n",
    "    T = enzyme.count('T') # count the numer of 'T' in temp-loop-variable enzyme (this is an entry of list restriction_enzymes) and store it in variable T\n",
    "    G = enzyme.count('G') # count the numer of 'G' in temp-loop-variable enzyme (this is an entry of list restriction_enzymes) and store it in variable G\n",
    "    C = enzyme.count('C') # count the numer of 'C' in temp-loop-variable enzyme (this is an entry of list restriction_enzymes) and store it in variable C\n",
    "    print (\"A T G C\") # print the string 'A T G C'\n",
    "    print (A, T, G, C) # Print what is in variables A, T, G and C"
   ]
  },
  {
   "cell_type": "code",
   "execution_count": 2,
   "metadata": {},
   "outputs": [
    {
     "name": "stdout",
     "output_type": "stream",
     "text": [
      "0\n",
      "\n",
      "Checking enzyme eco_r1\n",
      "A T G C\n",
      "2 2 1 1\n",
      "1\n",
      "\n",
      "Checking enzyme bam_h1\n",
      "A T G C\n",
      "1 1 2 2\n",
      "2\n",
      "\n",
      "Checking enzyme hind3\n",
      "A T G C\n",
      "2 2 1 1\n"
     ]
    }
   ],
   "source": [
    "# A more elegant way to redo the same excercise\n",
    "# Calculate number of nucleotides using for loop\n",
    "restriction_enzymes = [eco_r1.upper(), bam_h1.upper(), hind3.upper()] # List containing the restriction sites\n",
    "enzyme_name = ['eco_r1','bam_h1','hind3'] # List containing the enzyme names\n",
    "\n",
    "nucs = \"ATGC\" # This contains nucleotides that we will check later\n",
    "\n",
    "for index in range(len(restriction_enzymes)): # Loop through the list using the index\n",
    "    print (index) # Its always a good idea to print the variables in a loop to see how they change in each iteration\n",
    "    print (\"\\nChecking enzyme\", enzyme_name[index]) # Get names of the enzymes using the index\n",
    "    counts = [] # Empty list to store counts from each nucleotide\n",
    "    \n",
    "    for nu in nucs: # Loop to get one nucleotide in each iteration\n",
    "        counts += [restriction_enzymes[index].count(nu)] # Count how many times a nucleotide occurs in a restriction site\n",
    "    print (\"A T G C\") # Print the results\n",
    "    print (counts[0], counts[1], counts[2], counts[3])\n",
    "    \n",
    "# Everytime the for loop is called you will redefine counts as an empty list!!"
   ]
  },
  {
   "cell_type": "code",
   "execution_count": null,
   "metadata": {},
   "outputs": [],
   "source": [
    "# Q2\n",
    "# Calculate number of nucleotides using a for loop\n",
    "restriction_enzymes = [eco_r1.upper(), bam_h1.upper(), hind3.upper()] # makes a list 3 entries, the upper case strings of the \n",
    "# variables eco_r1, bam.h1 and hind3\n",
    "A=0 # stores 0 in variable A\n",
    "T=0 # stores 0 in variable T\n",
    "G=0 # stores 0 in variable G\n",
    "C=0 # stores 0 in variable C\n",
    "# for ? in ?:\n",
    "#    x = x + count\n",
    "for enzyme in restriction_enzymes: # starts a loop whihc executes code for each enzyme/item in restriction_enzymes\n",
    "    A = A + enzyme.count('A') # counts the number of 'A' in enzyme and adds it to variable A\n",
    "    T = T + enzyme.count('T') # counts the number of 'T' in enzyme and adds it to variable T\n",
    "    G = G + enzyme.count('G') # counts the number of 'G' in enzyme and adds it to variable G\n",
    "    C = C + enzyme.count('C') # counts the number of 'C' in enzyme and adds it to variable C\n",
    "print (\"Total Nucleotide usage:\\nA T G C\") # prints the string 'Total Nucleotide usage:' and on a new line (\"\\n\") A T G C\n",
    "print (A, T, G, C) # prints what is in variables A, T, G and C\n"
   ]
  },
  {
   "cell_type": "code",
   "execution_count": 3,
   "metadata": {},
   "outputs": [
    {
     "name": "stdout",
     "output_type": "stream",
     "text": [
      "DNA seqs = 11 \n",
      "RNA seqs = 9\n"
     ]
    }
   ],
   "source": [
    "# Q3\n",
    "# Hint: try a for loop, if elif conditions and string find command\n",
    "seqs = ['actgactgactgaattcgactg','caucgaucgcgauacacgaucagcuacg','augcagacgacguacgu','atcgatcgatcgatcacgt','atcgtagctactagctagc','acgatcgtagctacgta','cgaucagucgaucgauccagcga','cguacguagcacaugcagucaguauacguacggacgacgac','catgactgactgatcgatgctgactgactg','atcggatctgaactgactg','actgactgactgactg','caucgaucgcgauacacgaucagcuacg','augcagacgacguacgu','atcgatcgaattcgatcgatcacgt','atcgtagctactagctagc','acgatcgaattcgtagctacgta','cgaucagucgaucgauccagcga','cguacguagcacaugcagucaguauacguacggacgacgac','catgactgactgatcgatgaattcgctgactgactg','aucggauccgaaccgacag']\n",
    "# makes list called seqs with sequences as strings\n",
    "dna_sequence_count = 0 # stores 0 in variable dna_sequence\n",
    "rna_sequence_count = 0 # stores 0 in variable rna_sequence\n",
    "for sequence in seqs: # starts a loop in which for each sequence/item in list seqs code is executed\n",
    "    if sequence.find('t') >= 0: # test if 't' can be found in sequence\n",
    "        dna_sequence_count = dna_sequence_count + 1 # add 1 to variable dna_sequence_count\n",
    "    elif sequence.find('u') >= 0: # tests if 'u' can be found in sequence\n",
    "        rna_sequence_count = rna_sequence_count + 1 # add 1 to variable rna_sequence_count\n",
    "print (\"DNA seqs =\", dna_sequence_count, \"\\nRNA seqs =\", rna_sequence_count) \n",
    "# prints what is in the two sequence_count variables in a nice way\n"
   ]
  },
  {
   "cell_type": "code",
   "execution_count": 4,
   "metadata": {},
   "outputs": [
    {
     "name": "stdout",
     "output_type": "stream",
     "text": [
      "You've neither entered an RNA sequence nor a DNA sequence\n",
      "This is RNA\n",
      "This is RNA\n",
      "This is DNA\n",
      "This is DNA\n",
      "This is DNA\n",
      "This is RNA\n",
      "This is RNA\n",
      "This is DNA\n",
      "This is DNA\n",
      "This is DNA\n",
      "This is RNA\n",
      "This is RNA\n",
      "This is DNA\n",
      "This is DNA\n",
      "This is DNA\n",
      "This is RNA\n",
      "This is RNA\n",
      "This is DNA\n",
      "This is RNA\n",
      "10 total DNA counts\n",
      "9 total RNA counts\n"
     ]
    }
   ],
   "source": [
    "# Q3 or like this, combining code writen before\n",
    "seqs = ['actgactgactgaattOcgactg','caucgaucgcgauacacgaucagcuacg','augcagacgacguacgu','atcgatcgatcgatcacgt','atcgtagctactagctagc','acgatcgtagctacgta','cgaucagucgaucgauccagcga','cguacguagcacaugcagucaguauacguacggacgacgac','catgactgactgatcgatgctgactgactg','atcggatctgaactgactg','actgactgactgactg','caucgaucgcgauacacgaucagcuacg','augcagacgacguacgu','atcgatcgaattcgatcgatcacgt','atcgtagctactagctagc','acgatcgaattcgtagctacgta','cgaucagucgaucgauccagcga','cguacguagcacaugcagucaguauacguacggacgacgac','catgactgactgatcgatgaattcgctgactgactg','aucggauccgaaccgacag']\n",
    "\n",
    "DNA_counts = 0\n",
    "RNA_counts = 0\n",
    "\n",
    "for code in seqs:\n",
    "    if (len(code) == code.count(\"a\") + code.count(\"t\") + code.count(\"c\") + code.count(\"g\")):\n",
    "        print (\"This is DNA\")\n",
    "        DNA_counts = DNA_counts + 1\n",
    "    elif (len(code) == code.count(\"a\") + code.count(\"u\") + code.count(\"c\") + code.count(\"g\")):\n",
    "        print (\"This is RNA\")\n",
    "        RNA_counts = RNA_counts + 1\n",
    "    else:\n",
    "        print (\"You've neither entered an RNA sequence nor a DNA sequence\")\n",
    "    #print (DNA_counts, \"DNA counts\")\n",
    "    #print (RNA_counts, \"RNA counts\")\n",
    "    \n",
    "print (DNA_counts, \"total DNA counts\")\n",
    "print (RNA_counts, \"total RNA counts\")"
   ]
  },
  {
   "cell_type": "code",
   "execution_count": 6,
   "metadata": {},
   "outputs": [
    {
     "name": "stdout",
     "output_type": "stream",
     "text": [
      "No can do\n",
      "No can do\n",
      "No can do\n",
      "No can do\n",
      "No can do\n",
      "No can do\n",
      "No can do\n",
      "No can do\n",
      "No can do\n",
      "No can do\n",
      "No can do\n",
      "No can do\n",
      "No can do\n",
      "Restriction site!\n",
      "No can do\n",
      "Restriction site!\n",
      "No can do\n",
      "No can do\n",
      "Restriction site!\n",
      "No can do\n",
      "Total number of restriction sites: 3\n"
     ]
    }
   ],
   "source": [
    "# Q4\n",
    "EcoR1_cuts = 0\n",
    "\n",
    "for code in seqs:\n",
    "    if ((code.count(\"gaattc\")) == 0):\n",
    "        print (\"No can do\")\n",
    "    elif ((code.count(\"gaattc\") > 0)):\n",
    "        print (\"Restriction site!\")\n",
    "        EcoR1_cuts = EcoR1_cuts + 1   \n",
    "\n",
    "print (\"Total number of restriction sites:\", EcoR1_cuts)\n"
   ]
  },
  {
   "cell_type": "code",
   "execution_count": null,
   "metadata": {},
   "outputs": [],
   "source": [
    "# Bonus Question: Make a list containing ['A', 'AA', 'AAA', 'AAAA', ….., 20 A].\n",
    "# Hint: try a for loop and append list\n",
    "my_list = [] # creats an empty lists called my_list\n",
    "for i in range(20): # starts a loop in which for each i/entry in the list generated by range(20) code is executed\n",
    "    my_list = my_list + ['A'*(i+1)] # concatenates i number of 'A' and adds it as an entry to list called my_list\n",
    "print (my_list) # print what is in my_list\n",
    "\n",
    "### or using append\n",
    "my_list = [] # creats an empty lists called my_list\n",
    "for i in range(20): # starts a loop in which for each i/entry in the list generated by range(20) code is executed\n",
    "    my_list.append(\"A\"*(i+1))  # concatenates i number of 'A' and adds it as an entry to list called my_list\n",
    "print (my_list) # print what is in my_list"
   ]
  },
  {
   "cell_type": "code",
   "execution_count": 1,
   "metadata": {},
   "outputs": [
    {
     "name": "stdout",
     "output_type": "stream",
     "text": [
      "[2, 3, 1, 45, 15]\n",
      "[1, 2, 3, 15, 45]\n"
     ]
    }
   ],
   "source": [
    "# Extra 1\n",
    "# Sort a list of integers in ascending order\n",
    "# Hint: Use a for-loop within a for-loop, combined with an if-command\n",
    "a = [2,3,1,45,15]\n",
    "print(a)\n",
    "for i in range(0,len(a)):\n",
    "    for j in range(i+1,len(a)):\n",
    "        if a[i]>a[j]:\n",
    "            a[i],a[j] = a[j],a[i]\n",
    "print (a)"
   ]
  },
  {
   "cell_type": "code",
   "execution_count": null,
   "metadata": {},
   "outputs": [],
   "source": [
    "###### Extra 2\n",
    "# Take 20 integer inputs from user and print the following:\n",
    "# number of positive numbers\n",
    "# number of negative numbers\n",
    "# number of odd numbers\n",
    "# number of even numbers\n",
    "# number of 0s\n",
    "i = 20\n",
    "a = []\n",
    "while i>0:\n",
    "    print (\"Enter number\")\n",
    "    num = int(input()) # Simpel om te vergeten, dus ook weer goed om te herhalen\n",
    "    a.append(num) # Append weer herhalen\n",
    "    i = i-1\n",
    "odd = 0\n",
    "even = 0\n",
    "zero = 0\n",
    "positive = 0\n",
    "negative = 0\n",
    "for i in range(len(a)):\n",
    "    if a[i] == 0:\n",
    "        zero = zero+1\n",
    "    elif a[i]>0:\n",
    "        positive = positive + 1\n",
    "        if a[i]%2 == 0:\n",
    "            even = even + 1\n",
    "        else:\n",
    "            odd = odd + 1\n",
    "    else:\n",
    "        negative = negative + 1\n",
    "        if a[i]%2 == 0:\n",
    "            even = even + 1\n",
    "        else:\n",
    "            odd = odd + 1\n",
    "print (\"EVEN :\",even,\"ODD :\",odd,\"ZERO :\",zero,\"POSITIVE :\",positive,\"NEGATIVE :\",negative)"
   ]
  },
  {
   "cell_type": "markdown",
   "metadata": {
    "collapsed": true
   },
   "source": [
    "## Modifying Lists\n",
    "1. Take list **dna_seqs** and add 3 random DNA/RNA sequences at the end of the list\n",
    "\n",
    "2. Take list **dna_seqs** and add 'atcg' as the third sequence of the list\n",
    " - You can use ```list.insert(index, value)```\n",
    " - Remember python starts counting at index 0\n",
    "\n",
    "3. Create a new sorted variable **seq_sort** from **dna_seqs**\n",
    " - You can use ```list.sort()``` which returns a sorted list"
   ]
  },
  {
   "cell_type": "code",
   "execution_count": 4,
   "metadata": {},
   "outputs": [
    {
     "name": "stdout",
     "output_type": "stream",
     "text": [
      "['actgactgactgaattcgactg', 'caucgaucgcgauacacgaucagcuacg', 'augcagacgacguacgu', 'atcgatcgatcgatcacgt', 'atcgtagctactagctagc', 'acgatcgtagctacgta', 'cgaucagucgaucgauccagcga', 'cguacguagcacaugcagucaguauacguacggacgacgac', 'catgactgactgatcgatgctgactgactg', 'atcggatctgaactgactg', 'actgactgactgactg', 'caucgaucgcgauacacgaucagcuacg', 'augcagacgacguacgu', 'atcgatcgaattcgatcgatcacgt', 'atcgtagctactagctagc', 'acgatcgaattcgtagctacgta', 'cgaucagucgaucgauccagcga', 'cguacguagcacaugcagucaguauacguacggacgacgac', 'catgactgactgatcgatgaattcgctgactgactg', 'aucggauccgaaccgacag', 'cagtcagt', 'agctcgat', 'tacgtagc']\n"
     ]
    }
   ],
   "source": [
    "# 1.\n",
    "# Use list functions\n",
    "seqs.extend(['cagtcagt','agctcgat','tacgtagc']) # extends the list called seqs by the three sequences\n",
    "print (seqs) # print what is in list seqs"
   ]
  },
  {
   "cell_type": "code",
   "execution_count": 5,
   "metadata": {},
   "outputs": [
    {
     "name": "stdout",
     "output_type": "stream",
     "text": [
      "['actgactgactgaattcgactg', 'caucgaucgcgauacacgaucagcuacg', 'atcg', 'augcagacgacguacgu', 'atcgatcgatcgatcacgt', 'atcgtagctactagctagc', 'acgatcgtagctacgta', 'cgaucagucgaucgauccagcga', 'cguacguagcacaugcagucaguauacguacggacgacgac', 'catgactgactgatcgatgctgactgactg', 'atcggatctgaactgactg', 'actgactgactgactg', 'caucgaucgcgauacacgaucagcuacg', 'augcagacgacguacgu', 'atcgatcgaattcgatcgatcacgt', 'atcgtagctactagctagc', 'acgatcgaattcgtagctacgta', 'cgaucagucgaucgauccagcga', 'cguacguagcacaugcagucaguauacguacggacgacgac', 'catgactgactgatcgatgaattcgctgactgactg', 'aucggauccgaaccgacag', 'cagtcagt', 'agctcgat', 'tacgtagc']\n"
     ]
    }
   ],
   "source": [
    "# 2.\n",
    "seqs.insert(2,'atcg') # Inserts string 'atcg' at index 2 (so position 3) in the list called seqs\n",
    "print (seqs) # # print what is in list seqs"
   ]
  },
  {
   "cell_type": "code",
   "execution_count": 6,
   "metadata": {},
   "outputs": [
    {
     "name": "stdout",
     "output_type": "stream",
     "text": [
      "['acgatcgaattcgtagctacgta', 'acgatcgtagctacgta', 'actgactgactgaattcgactg', 'actgactgactgactg', 'agctcgat', 'atcg', 'atcgatcgaattcgatcgatcacgt', 'atcgatcgatcgatcacgt', 'atcggatctgaactgactg', 'atcgtagctactagctagc', 'atcgtagctactagctagc', 'aucggauccgaaccgacag', 'augcagacgacguacgu', 'augcagacgacguacgu', 'cagtcagt', 'catgactgactgatcgatgaattcgctgactgactg', 'catgactgactgatcgatgctgactgactg', 'caucgaucgcgauacacgaucagcuacg', 'caucgaucgcgauacacgaucagcuacg', 'cgaucagucgaucgauccagcga', 'cgaucagucgaucgauccagcga', 'cguacguagcacaugcagucaguauacguacggacgacgac', 'cguacguagcacaugcagucaguauacguacggacgacgac', 'tacgtagc']\n"
     ]
    }
   ],
   "source": [
    "# 3.\n",
    "# This method sorts lists and stores them back\n",
    "#seqs.sort()\n",
    "#print seqs\n",
    "\n",
    "# To assign a new sorted list use sorted()\n",
    "seq_sorted = sorted(seqs) # stores the sotrted strings/sequences in list calle seqs in new list seq_sorted\n",
    "print (seq_sorted) # prnt what is in list called seq_sorted"
   ]
  },
  {
   "cell_type": "markdown",
   "metadata": {},
   "source": [
    "### Modifying Lists\n",
    "\n",
    "1. Remove 'atcg' sequence of the list **seqs**\n",
    " - You can use ```list.remove(value)``` to remove a value from a list\n",
    "2. Print 5th to 10th sequence entry from the lists **seqs** and **seq_sort**"
   ]
  },
  {
   "cell_type": "code",
   "execution_count": null,
   "metadata": {},
   "outputs": [],
   "source": [
    "# 1.\n",
    "# Use list functions\n",
    "print (seqs)\n",
    "seqs.remove('atcg') # removes entry 'atcg' from list called seqs\n",
    "print (seqs)\n"
   ]
  },
  {
   "cell_type": "code",
   "execution_count": null,
   "metadata": {},
   "outputs": [],
   "source": [
    "# 2.\n",
    "print (seqs[4:10]) # prints the 5th to 10th entry of the list called seqs (so index 4 to index 10)\n",
    "print (seq_sorted[4:10]) # prints the 5th to 10th entry of the list called seq_sorted\n"
   ]
  },
  {
   "cell_type": "markdown",
   "metadata": {},
   "source": [
    "### Converting Strings to Lists and Lists to Strings \n",
    "\n",
    "Two essential command of list conversion are:\n",
    "- Create a list from a string: ```\"the mitochondrion is the powerhouse of the cell\".split(' ')``` results in a list containing an item of each word. We splitted the sentences with the <i>separator</i> ```' '```.\n",
    "- Create a string from lists: ```' '.join(dna_seqs)```. This adds all the items of the list together, joined by the seperator ```' '```\n"
   ]
  },
  {
   "cell_type": "code",
   "execution_count": 7,
   "metadata": {},
   "outputs": [
    {
     "data": {
      "text/plain": [
       "['the', 'mitochondrion', 'is', 'the', 'powerhouse', 'of', 'the', 'cell']"
      ]
     },
     "execution_count": 7,
     "metadata": {},
     "output_type": "execute_result"
    }
   ],
   "source": [
    "\"the mitochondrion is the powerhouse of the cell\".split(' ')"
   ]
  },
  {
   "cell_type": "code",
   "execution_count": 8,
   "metadata": {},
   "outputs": [
    {
     "ename": "NameError",
     "evalue": "name 'dna_seqs' is not defined",
     "output_type": "error",
     "traceback": [
      "\u001b[1;31m---------------------------------------------------------------------------\u001b[0m",
      "\u001b[1;31mNameError\u001b[0m                                 Traceback (most recent call last)",
      "\u001b[1;32m<ipython-input-8-f46c8f4d9587>\u001b[0m in \u001b[0;36m<module>\u001b[1;34m\u001b[0m\n\u001b[1;32m----> 1\u001b[1;33m \u001b[1;34m' '\u001b[0m\u001b[1;33m.\u001b[0m\u001b[0mjoin\u001b[0m\u001b[1;33m(\u001b[0m\u001b[0mdna_seqs\u001b[0m\u001b[1;33m)\u001b[0m\u001b[1;33m\u001b[0m\u001b[1;33m\u001b[0m\u001b[0m\n\u001b[0m",
      "\u001b[1;31mNameError\u001b[0m: name 'dna_seqs' is not defined"
     ]
    }
   ],
   "source": [
    "' '.join(dna_seqs)"
   ]
  },
  {
   "cell_type": "code",
   "execution_count": 9,
   "metadata": {},
   "outputs": [
    {
     "name": "stdout",
     "output_type": "stream",
     "text": [
      "['Ala', 'Cys', 'Phe', 'Val', 'Glu']\n",
      "Ala Cys Phe Val Glu\n"
     ]
    }
   ],
   "source": [
    "# Try split and join command\n",
    "amino = 'Ala Cys Phe Val Glu'.split(' ')  # splits the string by ' ' (whitespace) an puts it as a list in amino\n",
    "print (amino) # print what is in the list called amino\n",
    "print (' '.join(amino)) # print the what is in list amino after combining it by .join"
   ]
  },
  {
   "cell_type": "markdown",
   "metadata": {},
   "source": [
    "### Converting string to Lists - Exercise\n",
    "\n",
    "1. Create a list by splitting *'atgcatgcatgc'* sequence using ```'t'```as the separator.\n",
    "2. Join this list together with seperator ```'u'```"
   ]
  },
  {
   "cell_type": "code",
   "execution_count": 13,
   "metadata": {},
   "outputs": [
    {
     "name": "stdout",
     "output_type": "stream",
     "text": [
      "['atgcatgcatgc']\n"
     ]
    }
   ],
   "source": [
    "# 1.\n",
    "print ('atgcatgcatgc'.split()) # print just the string a a list entry \n"
   ]
  },
  {
   "cell_type": "code",
   "execution_count": 11,
   "metadata": {},
   "outputs": [
    {
     "name": "stdout",
     "output_type": "stream",
     "text": [
      "['a', 'gca', 'gca', 'gc']\n"
     ]
    }
   ],
   "source": [
    "# 2.\n",
    "print ('atgcatgcatgc'.split('t')) # prints a list of the stirng split by \"t\"\n"
   ]
  },
  {
   "cell_type": "markdown",
   "metadata": {},
   "source": [
    "# Extra Tuples\n",
    "\n",
    "#### Tuples are Python sequences (like lists) but unlike lists they are immutable. Tuples use parentheses and lists use square brackets.\n",
    "\n",
    "tup1 = ('physics', 'chemistry', 1997, 2000)\n",
    "\n",
    "tup2 = (1, 2, 3, 4, 5 )\n",
    "\n",
    "tup3 = ('a', 'b', 'c', 'd')\n",
    "\n",
    "#### Accessing tuples:\n",
    "\n",
    "print \"tup1[0]: \", tup1[0]\n",
    "\n",
    "print \"tup2[1:5]: \", tup2[1:5]\n",
    "\n",
    "#### Try to assign tuples:\n",
    "\n",
    "tup1[2] = 2015\n",
    "\n",
    "tup4 = tup2 + tup3"
   ]
  },
  {
   "cell_type": "code",
   "execution_count": 14,
   "metadata": {},
   "outputs": [
    {
     "name": "stdout",
     "output_type": "stream",
     "text": [
      "tup1[0]:  physics\n",
      "tup2[1:5]:  (2, 3, 4, 5)\n",
      "(1, 2, 3, 4, 5, 'a', 'b', 'c', 'd')\n"
     ]
    }
   ],
   "source": [
    "# Make tuples with different items\n",
    "tup1 = ('physics', 'chemistry', 1997, 2000)\n",
    "tup2 = (1, 2, 3, 4, 5 )\n",
    "tup3 = ('a', 'b', 'c', 'd')\n",
    "\n",
    "# Access different elements from tuples\n",
    "print (\"tup1[0]: \", tup1[0])\n",
    "print (\"tup2[1:5]: \", tup2[1:5])\n",
    "\n",
    "# Assign different values to tuples\n",
    "#tup1[2] = 2015 # This will throw an exception. Why? --> tuples are immutable\n",
    "tup4 = tup2 + tup3\n",
    "print (tup4)"
   ]
  },
  {
   "cell_type": "markdown",
   "metadata": {},
   "source": [
    "## Tuples Exercise\n",
    "\n",
    "Suppose you want to find distance between Carbon\n",
    "atoms in a protein sequence.\n",
    "\n",
    "Assign 4 tuples each containing the 3D co-ordinates:\n",
    "\n",
    "\n",
    "||X|Y|Z|\n",
    "|---|---|---|---|\n",
    "|C29|0.55|1.256|-1.153|\n",
    "|C103|1.28|-1.72|1.24|\n",
    "|C115|1.59|1.73|1.04|\n",
    "|C118|1.36|-1.86|-1.74|\n",
    "\n",
    "Calculate square distance between different carbon atoms. Hint use: (x1-x2)^2+(y1-y2)^2+(z1-z2)^2\n"
   ]
  },
  {
   "cell_type": "code",
   "execution_count": null,
   "metadata": {},
   "outputs": [],
   "source": [
    "# Hint: make a list\n",
    "# Each element of the list can contain a tuples with coordinates of a carbon atom\n",
    "c_atoms = [None]*4\n",
    "print (c_atoms)\n",
    "c_atoms[0]=(0.55,1.256,-1.153)\n",
    "c_atoms[1]=(1.28,-1.72,1.24)\n",
    "c_atoms[2]=(1.59,1.73,1.04)\n",
    "c_atoms[3]=(1.36,-1.86,-1.74)\n",
    "\n",
    "\n",
    "# use two for loops to calculate distance between their X, Y and Z\n",
    "for i in range(len(c_atoms)):\n",
    "    for j in range(i+1,len(c_atoms)):\n",
    "        distance = 0\n",
    "        distance = distance + (c_atoms[i][0]-c_atoms[j][0])*(c_atoms[i][0]-c_atoms[j][0])\n",
    "        distance = distance + (c_atoms[i][1]-c_atoms[j][1])*(c_atoms[i][1]-c_atoms[j][1])\n",
    "        distance = distance + (c_atoms[i][2]-c_atoms[j][2])*(c_atoms[i][2]-c_atoms[j][2])\n",
    "        print (\"Distance between \",i+1, \"th Carbon and\", j+1, \"th Carbon is:\", distance)      \n"
   ]
  },
  {
   "cell_type": "code",
   "execution_count": null,
   "metadata": {},
   "outputs": [],
   "source": [
    "# A different more clean way of doing things\n",
    "for i in range(len(c_atoms)):\n",
    "    for j in range(i+1,len(c_atoms)):\n",
    "        # You can assign each element of a list to individual\n",
    "        # variables in a list of the same length.\n",
    "        (X1,Y1,Z1) = c_atoms[i]\n",
    "        # X1 will contain the first element of c_atoms[i],\n",
    "        # Y1 will contain the second element of c_atoms[i], etc.\n",
    "        (X2,Y2,Z2) = c_atoms[j]\n",
    "        distance = (X1-X2)**2 + (Y1-Y2)**2 + (Z1-Z2)**2\n",
    "        print (\"Distance between \",i+1, \"th Carbon and\", j+1, \"th Carbon is:\", distance)"
   ]
  }
 ],
 "metadata": {
  "kernelspec": {
   "display_name": "Python 3",
   "language": "python",
   "name": "python3"
  },
  "language_info": {
   "codemirror_mode": {
    "name": "ipython",
    "version": 3
   },
   "file_extension": ".py",
   "mimetype": "text/x-python",
   "name": "python",
   "nbconvert_exporter": "python",
   "pygments_lexer": "ipython3",
   "version": "3.7.4"
  }
 },
 "nbformat": 4,
 "nbformat_minor": 1
}
